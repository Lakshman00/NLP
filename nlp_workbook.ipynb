{
  "nbformat": 4,
  "nbformat_minor": 0,
  "metadata": {
    "colab": {
      "name": "nlp workbook.ipynb",
      "provenance": [],
      "collapsed_sections": [
        "conDnJkdAGop",
        "npIZVRp-xFMx",
        "sySxF_4N23wP",
        "Bb4WF6bx26TA",
        "iMXgqmf77Az0",
        "ZUHcoWZ6k3LY",
        "gw7jsJD0k46l",
        "2N88OAmHm-c-"
      ]
    },
    "kernelspec": {
      "name": "python3",
      "display_name": "Python 3"
    },
    "language_info": {
      "name": "python"
    }
  },
  "cells": [
    {
      "cell_type": "markdown",
      "source": [
        "# **`nlp basics`**"
      ],
      "metadata": {
        "id": "conDnJkdAGop"
      }
    },
    {
      "cell_type": "code",
      "execution_count": null,
      "metadata": {
        "id": "iYk_pqepr0MV"
      },
      "outputs": [],
      "source": [
        "target_string = \"Emma is a basketball player who was born on June 17, 1993. She played 112 matches with scoring average 26.12 points per game. Her weight is 51 kg.\""
      ]
    },
    {
      "cell_type": "code",
      "source": [
        "target_string"
      ],
      "metadata": {
        "colab": {
          "base_uri": "https://localhost:8080/",
          "height": 36
        },
        "id": "M67kPTLsr3Ff",
        "outputId": "470eabeb-713f-4e06-c50e-83872bfdb746"
      },
      "execution_count": null,
      "outputs": [
        {
          "output_type": "execute_result",
          "data": {
            "text/plain": [
              "'Emma is a basketball player who was born on June 17, 1993. She played 112 matches with scoring average 26.12 points per game. Her weight is 51 kg.'"
            ],
            "application/vnd.google.colaboratory.intrinsic+json": {
              "type": "string"
            }
          },
          "metadata": {},
          "execution_count": 2
        }
      ]
    },
    {
      "cell_type": "code",
      "source": [
        "import re \n"
      ],
      "metadata": {
        "id": "hMdLnDqOr4W0"
      },
      "execution_count": null,
      "outputs": []
    },
    {
      "cell_type": "code",
      "source": [
        "re.findall(r\"\\d+\",target_string)"
      ],
      "metadata": {
        "colab": {
          "base_uri": "https://localhost:8080/"
        },
        "id": "tzNvgmsS1c-r",
        "outputId": "102799d0-3e45-4b85-ef1a-8fd5f382ae96"
      },
      "execution_count": null,
      "outputs": [
        {
          "output_type": "execute_result",
          "data": {
            "text/plain": [
              "['17', '1993', '112', '26', '12', '51']"
            ]
          },
          "metadata": {},
          "execution_count": 16
        }
      ]
    },
    {
      "cell_type": "code",
      "source": [
        "re.findall(r\"\\d+\",target_string)"
      ],
      "metadata": {
        "colab": {
          "base_uri": "https://localhost:8080/"
        },
        "id": "_RmmQzsLr5rh",
        "outputId": "56c3c980-fdd8-4c17-e1c1-fd0d2b31514c"
      },
      "execution_count": null,
      "outputs": [
        {
          "output_type": "execute_result",
          "data": {
            "text/plain": [
              "['17', '1993', '112', '26', '12', '51']"
            ]
          },
          "metadata": {},
          "execution_count": 8
        }
      ]
    },
    {
      "cell_type": "code",
      "source": [
        "re.search(r\"\\d+\",target_string)."
      ],
      "metadata": {
        "colab": {
          "base_uri": "https://localhost:8080/"
        },
        "id": "WOrPfTUKsEgc",
        "outputId": "c81bb61e-b938-4142-c6fa-8c326a6e0597"
      },
      "execution_count": null,
      "outputs": [
        {
          "output_type": "execute_result",
          "data": {
            "text/plain": [
              "<re.Match object; span=(49, 51), match='17'>"
            ]
          },
          "metadata": {},
          "execution_count": 9
        }
      ]
    },
    {
      "cell_type": "code",
      "source": [
        "re.finditer(r\"\\d+\",target_string)"
      ],
      "metadata": {
        "colab": {
          "base_uri": "https://localhost:8080/"
        },
        "id": "b541ZZONsL5t",
        "outputId": "db2c109d-f3e0-44e0-954d-185056f4ffe8"
      },
      "execution_count": null,
      "outputs": [
        {
          "output_type": "execute_result",
          "data": {
            "text/plain": [
              "<callable_iterator at 0x7f87471a6910>"
            ]
          },
          "metadata": {},
          "execution_count": 12
        }
      ]
    },
    {
      "cell_type": "code",
      "source": [
        "target_string = \"Jessa is a Python developer. She also gives Python programming training\""
      ],
      "metadata": {
        "id": "NYrdFQKJsSbu"
      },
      "execution_count": null,
      "outputs": []
    },
    {
      "cell_type": "code",
      "source": [
        "re.findall(r'\\b[Pp]\\w+',target_string)"
      ],
      "metadata": {
        "colab": {
          "base_uri": "https://localhost:8080/"
        },
        "id": "BRm0NIJ7srXI",
        "outputId": "6b95a481-853b-4069-cf25-61597cce0d81"
      },
      "execution_count": null,
      "outputs": [
        {
          "output_type": "execute_result",
          "data": {
            "text/plain": [
              "['Python', 'Python', 'programming']"
            ]
          },
          "metadata": {},
          "execution_count": 20
        }
      ]
    },
    {
      "cell_type": "code",
      "source": [
        "re.findall(r'\\b[Pp]\\w+[Gg]',target_string)"
      ],
      "metadata": {
        "colab": {
          "base_uri": "https://localhost:8080/"
        },
        "id": "hPi8maOItFbQ",
        "outputId": "73581937-0f7d-4896-a600-9087af1c0ea8"
      },
      "execution_count": null,
      "outputs": [
        {
          "output_type": "execute_result",
          "data": {
            "text/plain": [
              "['programming']"
            ]
          },
          "metadata": {},
          "execution_count": 23
        }
      ]
    },
    {
      "cell_type": "code",
      "source": [
        "re.findall(r'\\b[Ppt]\\w+[g]',target_string)"
      ],
      "metadata": {
        "colab": {
          "base_uri": "https://localhost:8080/"
        },
        "id": "mMzPL7CPuEHq",
        "outputId": "64178526-3992-434c-e1af-53f38dbef795"
      },
      "execution_count": null,
      "outputs": [
        {
          "output_type": "execute_result",
          "data": {
            "text/plain": [
              "['programming', 'training']"
            ]
          },
          "metadata": {},
          "execution_count": 25
        }
      ]
    },
    {
      "cell_type": "code",
      "source": [
        "re.findall(r'\\b[Aa]\\w+|\\w+[aA]\\b',target_string)"
      ],
      "metadata": {
        "colab": {
          "base_uri": "https://localhost:8080/"
        },
        "id": "q5XeF0xHuJaM",
        "outputId": "5ef45e95-97fb-4e4c-e74d-d74bfb3ecf91"
      },
      "execution_count": null,
      "outputs": [
        {
          "output_type": "execute_result",
          "data": {
            "text/plain": [
              "['Jessa', 'also']"
            ]
          },
          "metadata": {},
          "execution_count": 31
        }
      ]
    },
    {
      "cell_type": "code",
      "source": [
        "ss=\"1234567890\"\n",
        "re.findall(r\"\\d{10}\",ss)"
      ],
      "metadata": {
        "colab": {
          "base_uri": "https://localhost:8080/"
        },
        "id": "lMxA0Ov1uzkx",
        "outputId": "29f44501-5b09-4469-b033-ba0f64d37cfc"
      },
      "execution_count": null,
      "outputs": [
        {
          "output_type": "execute_result",
          "data": {
            "text/plain": [
              "['1234567890']"
            ]
          },
          "metadata": {},
          "execution_count": 33
        }
      ]
    },
    {
      "cell_type": "code",
      "source": [
        "ss=\"(123)-567-8912\"\n",
        "re.findall(r\"\\(\\d{3}\\)-\\d{3}-\\d{4}\",ss)"
      ],
      "metadata": {
        "colab": {
          "base_uri": "https://localhost:8080/"
        },
        "id": "0KhngDxcvTbP",
        "outputId": "0dbd7086-7b4c-440f-f910-61bde9afd040"
      },
      "execution_count": null,
      "outputs": [
        {
          "output_type": "execute_result",
          "data": {
            "text/plain": [
              "['(123)-567-8912']"
            ]
          },
          "metadata": {},
          "execution_count": 37
        }
      ]
    },
    {
      "cell_type": "code",
      "source": [
        "ss=\"+91 1234567890\"\n",
        "re.findall(r\"\\+91\\s\\d{10}\",ss)"
      ],
      "metadata": {
        "colab": {
          "base_uri": "https://localhost:8080/"
        },
        "id": "G2pNrD7OwcQV",
        "outputId": "b7cf007f-bf7d-4d9e-aa9e-6c7813cc9c96"
      },
      "execution_count": null,
      "outputs": [
        {
          "output_type": "execute_result",
          "data": {
            "text/plain": [
              "['+91 1234567890']"
            ]
          },
          "metadata": {},
          "execution_count": 46
        }
      ]
    },
    {
      "cell_type": "code",
      "source": [
        "st=\"Jhohn has 3 dogs\"\n",
        "info=re.findall(r'([A-za-z])+ (\\w+) (\\d) (\\w+)',st)"
      ],
      "metadata": {
        "id": "T-sVECyxxaHM"
      },
      "execution_count": null,
      "outputs": []
    },
    {
      "cell_type": "code",
      "source": [
        "list(zip(*info))"
      ],
      "metadata": {
        "colab": {
          "base_uri": "https://localhost:8080/"
        },
        "id": "NRG3WURjfFqP",
        "outputId": "f9791881-7043-4f1e-f877-258a327267ef"
      },
      "execution_count": null,
      "outputs": [
        {
          "output_type": "execute_result",
          "data": {
            "text/plain": [
              "[('n',), ('has',), ('3',), ('dogs',)]"
            ]
          },
          "metadata": {},
          "execution_count": 11
        }
      ]
    },
    {
      "cell_type": "code",
      "source": [
        "target_string = \"My name is maximums and my luck numbers are 12 45 78\"\n",
        "re.split(r'\\s+',target_string)"
      ],
      "metadata": {
        "colab": {
          "base_uri": "https://localhost:8080/"
        },
        "id": "thu5cLG1fMM9",
        "outputId": "7ed6dd1a-69c6-4d17-f3a6-319c3dd22abc"
      },
      "execution_count": null,
      "outputs": [
        {
          "output_type": "execute_result",
          "data": {
            "text/plain": [
              "['My',\n",
              " 'name',\n",
              " 'is',\n",
              " 'maximums',\n",
              " 'and',\n",
              " 'my',\n",
              " 'luck',\n",
              " 'numbers',\n",
              " 'are',\n",
              " '12',\n",
              " '45',\n",
              " '78']"
            ]
          },
          "metadata": {},
          "execution_count": 15
        }
      ]
    },
    {
      "cell_type": "code",
      "source": [
        "target_string = \"12, and45,78and85-17and89-97\"\n",
        "re.findall(r'\\d+',target_string)"
      ],
      "metadata": {
        "colab": {
          "base_uri": "https://localhost:8080/"
        },
        "id": "h4e5lUtOharx",
        "outputId": "1b766a38-dea3-427a-b147-e3d20651fc4a"
      },
      "execution_count": null,
      "outputs": [
        {
          "output_type": "execute_result",
          "data": {
            "text/plain": [
              "['12', '45', '78', '85', '17', '89', '97']"
            ]
          },
          "metadata": {},
          "execution_count": 24
        }
      ]
    },
    {
      "cell_type": "code",
      "source": [
        "re.split(r'[\\b\\D\\b]+',target_string)"
      ],
      "metadata": {
        "colab": {
          "base_uri": "https://localhost:8080/"
        },
        "id": "7gR68xHnkzHM",
        "outputId": "8c27b207-302c-4b4b-bcf2-b0d57698b90d"
      },
      "execution_count": null,
      "outputs": [
        {
          "output_type": "execute_result",
          "data": {
            "text/plain": [
              "['12', '45', '78', '85', '17', '89', '97']"
            ]
          },
          "metadata": {},
          "execution_count": 26
        }
      ]
    },
    {
      "cell_type": "code",
      "source": [
        "tt=\"12-45-74.\"\n",
        "re.split(r'(\\D+)',tt)"
      ],
      "metadata": {
        "colab": {
          "base_uri": "https://localhost:8080/"
        },
        "id": "KhQy7hZHlCNq",
        "outputId": "f6749c3e-3a31-48fa-dca0-6e6b06e83182"
      },
      "execution_count": null,
      "outputs": [
        {
          "output_type": "execute_result",
          "data": {
            "text/plain": [
              "['12', '-', '45', '-', '74', '.', '']"
            ]
          },
          "metadata": {},
          "execution_count": 34
        }
      ]
    },
    {
      "cell_type": "code",
      "source": [
        "tt=\"      Jessa know Ml and testinf\"\n",
        "re.sub(r'\\s','',tt)"
      ],
      "metadata": {
        "colab": {
          "base_uri": "https://localhost:8080/",
          "height": 36
        },
        "id": "WBf0DhullZOG",
        "outputId": "c5bfefcf-48b0-434f-c868-22e25624b405"
      },
      "execution_count": null,
      "outputs": [
        {
          "output_type": "execute_result",
          "data": {
            "application/vnd.google.colaboratory.intrinsic+json": {
              "type": "string"
            },
            "text/plain": [
              "'JessaknowMlandtestinf'"
            ]
          },
          "metadata": {},
          "execution_count": 50
        }
      ]
    },
    {
      "cell_type": "code",
      "source": [
        "tt=\"      Jessa know Ml and testinf\"\n",
        "re.sub(r'\\s','_',tt,count=5,flags=re.I)"
      ],
      "metadata": {
        "colab": {
          "base_uri": "https://localhost:8080/",
          "height": 36
        },
        "id": "GiL_CjAioIpq",
        "outputId": "d17b721c-b7bd-4db5-df15-34c0c1d1cedf"
      },
      "execution_count": null,
      "outputs": [
        {
          "output_type": "execute_result",
          "data": {
            "application/vnd.google.colaboratory.intrinsic+json": {
              "type": "string"
            },
            "text/plain": [
              "'_____ Jessa know Ml and testinf'"
            ]
          },
          "metadata": {},
          "execution_count": 64
        }
      ]
    },
    {
      "cell_type": "code",
      "source": [
        "tt=\"      Jessa know Ml and      testinf\"\n",
        "re.sub('^\\s+',\" \",tt)"
      ],
      "metadata": {
        "colab": {
          "base_uri": "https://localhost:8080/",
          "height": 36
        },
        "id": "irDWnVlxmBjO",
        "outputId": "d1850fda-07a3-4c4d-e26d-13c6d4ced698"
      },
      "execution_count": null,
      "outputs": [
        {
          "output_type": "execute_result",
          "data": {
            "application/vnd.google.colaboratory.intrinsic+json": {
              "type": "string"
            },
            "text/plain": [
              "'_Jessa_know_Ml_and      testing'"
            ]
          },
          "metadata": {},
          "execution_count": 59
        }
      ]
    },
    {
      "cell_type": "code",
      "source": [
        "string='''Follow our leader Elon musk on twitter here:\n",
        " https://twitter.com/elonmusk, more information on Tesla's \n",
        " products can be found at https://www.tesla.com/. \n",
        " Also here are leading influencers for tesla related news,\n",
        " https://twitter.com/teslaratihttps://twitter.com/dummy_teslahttps://twitter.com/dummy_2_tesla'''"
      ],
      "metadata": {
        "id": "lQIWIdfxnmf3"
      },
      "execution_count": null,
      "outputs": []
    },
    {
      "cell_type": "code",
      "source": [
        "import spacy\n",
        "nlp=spacy.load(\"en_core_web_sm\")"
      ],
      "metadata": {
        "id": "kYrrfuLWtw00"
      },
      "execution_count": null,
      "outputs": []
    },
    {
      "cell_type": "code",
      "source": [
        "doc=nlp(\"you only live once,Heloo world. I am going to N.Y don't.\")\n",
        "for i in doc:\n",
        "  print(i.text,end=\",\")"
      ],
      "metadata": {
        "colab": {
          "base_uri": "https://localhost:8080/"
        },
        "id": "Oi5rf53ZvBfm",
        "outputId": "e248eb4c-cbe9-4a9a-b126-f420915cd490"
      },
      "execution_count": null,
      "outputs": [
        {
          "output_type": "stream",
          "name": "stdout",
          "text": [
            "you,only,live,once,,,Heloo,world,.,I,am,going,to,N.Y,do,n't,.,"
          ]
        }
      ]
    },
    {
      "cell_type": "code",
      "source": [
        "#blank tokenizer"
      ],
      "metadata": {
        "id": "WP1ZFsabvRGo"
      },
      "execution_count": null,
      "outputs": []
    },
    {
      "cell_type": "code",
      "source": [
        "from spacy.tokenizer import Tokenizer\n",
        "from spacy.lang.en import English\n",
        "nlp=English()\n",
        "\n",
        "tokenizer=Tokenizer(nlp.vocab)\n",
        "tokens=tokenizer(\"you only live once,Heloo world. I am going to N.Y don't.\")\n",
        "print(\"Blank tokenizer\",end=\":\")\n",
        "for i in tokens:\n",
        "  print(i,end=\",\")"
      ],
      "metadata": {
        "colab": {
          "base_uri": "https://localhost:8080/"
        },
        "id": "D2ruMrL1wTwA",
        "outputId": "b8391b02-e2c9-4432-f83f-3ec4d7f56e02"
      },
      "execution_count": null,
      "outputs": [
        {
          "output_type": "stream",
          "name": "stdout",
          "text": [
            "Blank tokenizer:you,only,live,once,Heloo,world.,I,am,going,to,N.Y,don't.,"
          ]
        }
      ]
    },
    {
      "cell_type": "code",
      "source": [
        "from spacy.symbols import ORTH\n",
        "doc=nlp(\"Viratkohli is the best ,Viratkholi is a bats man,Viratkholi is the captain\")\n",
        "print(\"Noramal\",end=\":\")\n",
        "for i in doc:\n",
        "  print(i,end=',')\n",
        "\n",
        "special=[{ORTH:\"Virat\"},{ORTH:'kohli'}]\n",
        "nlp.tokenizer.add_special_case(\"Viratkohli\",special)\n",
        "doc1=nlp(\"Viratkohli is the best,Viratkohli is a bats man,Viratkohli is the captain\")\n",
        "print(\"\\n Special\",end=\":\")\n",
        "for i in doc1:\n",
        "  print(i,end=\",\")"
      ],
      "metadata": {
        "colab": {
          "base_uri": "https://localhost:8080/"
        },
        "id": "1Z2PmBefwbbd",
        "outputId": "c0b82c7e-7736-499b-8ece-34f71e30f2c3"
      },
      "execution_count": null,
      "outputs": [
        {
          "output_type": "stream",
          "name": "stdout",
          "text": [
            "Noramal:Virat,kohli,is,the,best,,,Virat,kholi,is,a,bats,man,,,Viratkholi,is,the,captain,\n",
            " Special:Virat,kohli,is,the,best,,,Viratkohli,is,a,bats,man,,,Viratkohli,is,the,captain,"
          ]
        }
      ]
    },
    {
      "cell_type": "code",
      "source": [
        "special=[{ORTH:\"Give\"},{ORTH:\"me\"}]\n",
        "nlp.tokenizer.add_special_case(\"Gimme\",special)\n",
        "doc=nlp(\"Gimme that\")\n",
        "for i in doc:\n",
        "  print(i)\n"
      ],
      "metadata": {
        "colab": {
          "base_uri": "https://localhost:8080/"
        },
        "id": "X53KbeCPysEL",
        "outputId": "9f6e0be3-dc41-46a8-b6b1-db0c13c1c0df"
      },
      "execution_count": null,
      "outputs": [
        {
          "output_type": "stream",
          "name": "stdout",
          "text": [
            "Give\n",
            "me\n",
            "that\n"
          ]
        }
      ]
    },
    {
      "cell_type": "code",
      "source": [
        "nlp=English()\n",
        "text=\"Let's move to L.A\"\n",
        "doc=nlp(text)\n",
        "tok=nlp.tokenizer.explain(text)\n",
        "\n",
        "for i in tok:\n",
        "  print(i[1],\"\\t\",i[0])"
      ],
      "metadata": {
        "colab": {
          "base_uri": "https://localhost:8080/"
        },
        "id": "j0elhtb10OLC",
        "outputId": "fbec9b25-ae9d-4387-fb12-534a152db2f8"
      },
      "execution_count": null,
      "outputs": [
        {
          "output_type": "stream",
          "name": "stdout",
          "text": [
            "Let \t SPECIAL-1\n",
            "'s \t SPECIAL-2\n",
            "move \t TOKEN\n",
            "to \t TOKEN\n",
            "L.A \t TOKEN\n"
          ]
        }
      ]
    },
    {
      "cell_type": "code",
      "source": [
        "doc=nlp(\"hai ola 5km ride cost $10.000 lakdj@sss.com\")\n",
        "for i in doc:\n",
        "  print(i)"
      ],
      "metadata": {
        "id": "yfl3wKQW1CH5",
        "colab": {
          "base_uri": "https://localhost:8080/"
        },
        "outputId": "ba31b13d-442a-4169-b7c5-acfed4fc12d3"
      },
      "execution_count": null,
      "outputs": [
        {
          "output_type": "stream",
          "name": "stdout",
          "text": [
            "hai\n",
            "ola\n",
            "5\n",
            "km\n",
            "ride\n",
            "cost\n",
            "$\n",
            "10.000\n",
            "lakdj@sss.com\n"
          ]
        }
      ]
    },
    {
      "cell_type": "code",
      "source": [
        "len(doc)"
      ],
      "metadata": {
        "colab": {
          "base_uri": "https://localhost:8080/"
        },
        "id": "dH55x7SYhYT-",
        "outputId": "cf5497f6-6e73-4299-8090-2f54c3d484e8"
      },
      "execution_count": null,
      "outputs": [
        {
          "output_type": "execute_result",
          "data": {
            "text/plain": [
              "9"
            ]
          },
          "metadata": {},
          "execution_count": 8
        }
      ]
    },
    {
      "cell_type": "code",
      "source": [
        "doc[-4:]"
      ],
      "metadata": {
        "colab": {
          "base_uri": "https://localhost:8080/"
        },
        "id": "kXi6k0zWhx_r",
        "outputId": "d14366d6-7758-429b-f25e-a9c34c6bc8dd"
      },
      "execution_count": null,
      "outputs": [
        {
          "output_type": "execute_result",
          "data": {
            "text/plain": [
              "cost $10.000 lakdj@sss.com"
            ]
          },
          "metadata": {},
          "execution_count": 14
        }
      ]
    },
    {
      "cell_type": "code",
      "source": [
        "doc=nlp(u'I am disco dancer')\n",
        "for i in doc.ents:\n",
        "  print(i.text+'-'+i.label_+'-'+str(spacy.explain(i.label_)))"
      ],
      "metadata": {
        "colab": {
          "base_uri": "https://localhost:8080/"
        },
        "id": "IOU_bHoph8IS",
        "outputId": "50d433b3-d328-42c0-9c39-8927e25c832e"
      },
      "execution_count": null,
      "outputs": [
        {
          "output_type": "stream",
          "name": "stdout",
          "text": [
            "disco dancer-PERSON-People, including fictional\n"
          ]
        }
      ]
    },
    {
      "cell_type": "code",
      "source": [
        "doc=nlp(\"orange is good for health\")\n",
        "for i in doc.ents:\n",
        "  print(i.text+'-'+i.label_+'-'+str(spacy.explain(i.label_)))"
      ],
      "metadata": {
        "colab": {
          "base_uri": "https://localhost:8080/"
        },
        "id": "QZnl4PDpjFjj",
        "outputId": "81834b62-c8b4-41c8-f632-13a8d57c610b"
      },
      "execution_count": null,
      "outputs": [
        {
          "output_type": "stream",
          "name": "stdout",
          "text": [
            "orange-ORG-Companies, agencies, institutions, etc.\n"
          ]
        }
      ]
    },
    {
      "cell_type": "code",
      "source": [
        "doc=nlp(u\"autonomous cars shift insuarance liabilities towards managers\")\n",
        "for chuck in doc.noun_chunks:\n",
        "  print(chuck.text)"
      ],
      "metadata": {
        "colab": {
          "base_uri": "https://localhost:8080/"
        },
        "id": "j8TXVTb1kOxV",
        "outputId": "8b2d5ea0-1ff8-4b03-cc88-36edf3e3bbc9"
      },
      "execution_count": null,
      "outputs": [
        {
          "output_type": "stream",
          "name": "stdout",
          "text": [
            "autonomous cars\n",
            "insuarance liabilities\n",
            "managers\n"
          ]
        }
      ]
    },
    {
      "cell_type": "code",
      "source": [
        "from spacy import displacy\n",
        "displacy.render(doc,style='dep',jupyter=True,options={display:110})"
      ],
      "metadata": {
        "colab": {
          "base_uri": "https://localhost:8080/",
          "height": 353
        },
        "id": "Q3gJvBFokwKg",
        "outputId": "6f88666c-1e3b-4a25-a4fa-0751633852bd"
      },
      "execution_count": null,
      "outputs": [
        {
          "output_type": "display_data",
          "data": {
            "text/html": [
              "<span class=\"tex2jax_ignore\"><svg xmlns=\"http://www.w3.org/2000/svg\" xmlns:xlink=\"http://www.w3.org/1999/xlink\" xml:lang=\"en\" id=\"a203a48fb11f4a609f8c111617563bac-0\" class=\"displacy\" width=\"1275\" height=\"312.0\" direction=\"ltr\" style=\"max-width: none; height: 312.0px; color: #000000; background: #ffffff; font-family: Arial; direction: ltr\">\n",
              "<text class=\"displacy-token\" fill=\"currentColor\" text-anchor=\"middle\" y=\"222.0\">\n",
              "    <tspan class=\"displacy-word\" fill=\"currentColor\" x=\"50\">autonomous</tspan>\n",
              "    <tspan class=\"displacy-tag\" dy=\"2em\" fill=\"currentColor\" x=\"50\">ADJ</tspan>\n",
              "</text>\n",
              "\n",
              "<text class=\"displacy-token\" fill=\"currentColor\" text-anchor=\"middle\" y=\"222.0\">\n",
              "    <tspan class=\"displacy-word\" fill=\"currentColor\" x=\"225\">cars</tspan>\n",
              "    <tspan class=\"displacy-tag\" dy=\"2em\" fill=\"currentColor\" x=\"225\">NOUN</tspan>\n",
              "</text>\n",
              "\n",
              "<text class=\"displacy-token\" fill=\"currentColor\" text-anchor=\"middle\" y=\"222.0\">\n",
              "    <tspan class=\"displacy-word\" fill=\"currentColor\" x=\"400\">shift</tspan>\n",
              "    <tspan class=\"displacy-tag\" dy=\"2em\" fill=\"currentColor\" x=\"400\">VERB</tspan>\n",
              "</text>\n",
              "\n",
              "<text class=\"displacy-token\" fill=\"currentColor\" text-anchor=\"middle\" y=\"222.0\">\n",
              "    <tspan class=\"displacy-word\" fill=\"currentColor\" x=\"575\">insuarance</tspan>\n",
              "    <tspan class=\"displacy-tag\" dy=\"2em\" fill=\"currentColor\" x=\"575\">NOUN</tspan>\n",
              "</text>\n",
              "\n",
              "<text class=\"displacy-token\" fill=\"currentColor\" text-anchor=\"middle\" y=\"222.0\">\n",
              "    <tspan class=\"displacy-word\" fill=\"currentColor\" x=\"750\">liabilities</tspan>\n",
              "    <tspan class=\"displacy-tag\" dy=\"2em\" fill=\"currentColor\" x=\"750\">NOUN</tspan>\n",
              "</text>\n",
              "\n",
              "<text class=\"displacy-token\" fill=\"currentColor\" text-anchor=\"middle\" y=\"222.0\">\n",
              "    <tspan class=\"displacy-word\" fill=\"currentColor\" x=\"925\">towards</tspan>\n",
              "    <tspan class=\"displacy-tag\" dy=\"2em\" fill=\"currentColor\" x=\"925\">ADP</tspan>\n",
              "</text>\n",
              "\n",
              "<text class=\"displacy-token\" fill=\"currentColor\" text-anchor=\"middle\" y=\"222.0\">\n",
              "    <tspan class=\"displacy-word\" fill=\"currentColor\" x=\"1100\">managers</tspan>\n",
              "    <tspan class=\"displacy-tag\" dy=\"2em\" fill=\"currentColor\" x=\"1100\">NOUN</tspan>\n",
              "</text>\n",
              "\n",
              "<g class=\"displacy-arrow\">\n",
              "    <path class=\"displacy-arc\" id=\"arrow-a203a48fb11f4a609f8c111617563bac-0-0\" stroke-width=\"2px\" d=\"M70,177.0 C70,89.5 220.0,89.5 220.0,177.0\" fill=\"none\" stroke=\"currentColor\"/>\n",
              "    <text dy=\"1.25em\" style=\"font-size: 0.8em; letter-spacing: 1px\">\n",
              "        <textPath xlink:href=\"#arrow-a203a48fb11f4a609f8c111617563bac-0-0\" class=\"displacy-label\" startOffset=\"50%\" side=\"left\" fill=\"currentColor\" text-anchor=\"middle\">amod</textPath>\n",
              "    </text>\n",
              "    <path class=\"displacy-arrowhead\" d=\"M70,179.0 L62,167.0 78,167.0\" fill=\"currentColor\"/>\n",
              "</g>\n",
              "\n",
              "<g class=\"displacy-arrow\">\n",
              "    <path class=\"displacy-arc\" id=\"arrow-a203a48fb11f4a609f8c111617563bac-0-1\" stroke-width=\"2px\" d=\"M245,177.0 C245,89.5 395.0,89.5 395.0,177.0\" fill=\"none\" stroke=\"currentColor\"/>\n",
              "    <text dy=\"1.25em\" style=\"font-size: 0.8em; letter-spacing: 1px\">\n",
              "        <textPath xlink:href=\"#arrow-a203a48fb11f4a609f8c111617563bac-0-1\" class=\"displacy-label\" startOffset=\"50%\" side=\"left\" fill=\"currentColor\" text-anchor=\"middle\">nsubj</textPath>\n",
              "    </text>\n",
              "    <path class=\"displacy-arrowhead\" d=\"M245,179.0 L237,167.0 253,167.0\" fill=\"currentColor\"/>\n",
              "</g>\n",
              "\n",
              "<g class=\"displacy-arrow\">\n",
              "    <path class=\"displacy-arc\" id=\"arrow-a203a48fb11f4a609f8c111617563bac-0-2\" stroke-width=\"2px\" d=\"M595,177.0 C595,89.5 745.0,89.5 745.0,177.0\" fill=\"none\" stroke=\"currentColor\"/>\n",
              "    <text dy=\"1.25em\" style=\"font-size: 0.8em; letter-spacing: 1px\">\n",
              "        <textPath xlink:href=\"#arrow-a203a48fb11f4a609f8c111617563bac-0-2\" class=\"displacy-label\" startOffset=\"50%\" side=\"left\" fill=\"currentColor\" text-anchor=\"middle\">compound</textPath>\n",
              "    </text>\n",
              "    <path class=\"displacy-arrowhead\" d=\"M595,179.0 L587,167.0 603,167.0\" fill=\"currentColor\"/>\n",
              "</g>\n",
              "\n",
              "<g class=\"displacy-arrow\">\n",
              "    <path class=\"displacy-arc\" id=\"arrow-a203a48fb11f4a609f8c111617563bac-0-3\" stroke-width=\"2px\" d=\"M420,177.0 C420,2.0 750.0,2.0 750.0,177.0\" fill=\"none\" stroke=\"currentColor\"/>\n",
              "    <text dy=\"1.25em\" style=\"font-size: 0.8em; letter-spacing: 1px\">\n",
              "        <textPath xlink:href=\"#arrow-a203a48fb11f4a609f8c111617563bac-0-3\" class=\"displacy-label\" startOffset=\"50%\" side=\"left\" fill=\"currentColor\" text-anchor=\"middle\">dobj</textPath>\n",
              "    </text>\n",
              "    <path class=\"displacy-arrowhead\" d=\"M750.0,179.0 L758.0,167.0 742.0,167.0\" fill=\"currentColor\"/>\n",
              "</g>\n",
              "\n",
              "<g class=\"displacy-arrow\">\n",
              "    <path class=\"displacy-arc\" id=\"arrow-a203a48fb11f4a609f8c111617563bac-0-4\" stroke-width=\"2px\" d=\"M770,177.0 C770,89.5 920.0,89.5 920.0,177.0\" fill=\"none\" stroke=\"currentColor\"/>\n",
              "    <text dy=\"1.25em\" style=\"font-size: 0.8em; letter-spacing: 1px\">\n",
              "        <textPath xlink:href=\"#arrow-a203a48fb11f4a609f8c111617563bac-0-4\" class=\"displacy-label\" startOffset=\"50%\" side=\"left\" fill=\"currentColor\" text-anchor=\"middle\">prep</textPath>\n",
              "    </text>\n",
              "    <path class=\"displacy-arrowhead\" d=\"M920.0,179.0 L928.0,167.0 912.0,167.0\" fill=\"currentColor\"/>\n",
              "</g>\n",
              "\n",
              "<g class=\"displacy-arrow\">\n",
              "    <path class=\"displacy-arc\" id=\"arrow-a203a48fb11f4a609f8c111617563bac-0-5\" stroke-width=\"2px\" d=\"M945,177.0 C945,89.5 1095.0,89.5 1095.0,177.0\" fill=\"none\" stroke=\"currentColor\"/>\n",
              "    <text dy=\"1.25em\" style=\"font-size: 0.8em; letter-spacing: 1px\">\n",
              "        <textPath xlink:href=\"#arrow-a203a48fb11f4a609f8c111617563bac-0-5\" class=\"displacy-label\" startOffset=\"50%\" side=\"left\" fill=\"currentColor\" text-anchor=\"middle\">pobj</textPath>\n",
              "    </text>\n",
              "    <path class=\"displacy-arrowhead\" d=\"M1095.0,179.0 L1103.0,167.0 1087.0,167.0\" fill=\"currentColor\"/>\n",
              "</g>\n",
              "</svg></span>"
            ],
            "text/plain": [
              "<IPython.core.display.HTML object>"
            ]
          },
          "metadata": {}
        }
      ]
    },
    {
      "cell_type": "code",
      "source": [
        "doc = nlp(u'Over the last quarter Apple sold nearly 20 thousand iPods for a profit of $6 million.')\n",
        "displacy.render(doc, style='ent', jupyter=True)"
      ],
      "metadata": {
        "colab": {
          "base_uri": "https://localhost:8080/",
          "height": 87
        },
        "id": "1BAL-xbmliQ-",
        "outputId": "3be1e843-3978-4bfc-c7ac-d8d0008c5b55"
      },
      "execution_count": null,
      "outputs": [
        {
          "output_type": "display_data",
          "data": {
            "text/html": [
              "<span class=\"tex2jax_ignore\"><div class=\"entities\" style=\"line-height: 2.5; direction: ltr\">Over \n",
              "<mark class=\"entity\" style=\"background: #bfe1d9; padding: 0.45em 0.6em; margin: 0 0.25em; line-height: 1; border-radius: 0.35em;\">\n",
              "    the last quarter\n",
              "    <span style=\"font-size: 0.8em; font-weight: bold; line-height: 1; border-radius: 0.35em; text-transform: uppercase; vertical-align: middle; margin-left: 0.5rem\">DATE</span>\n",
              "</mark>\n",
              " \n",
              "<mark class=\"entity\" style=\"background: #7aecec; padding: 0.45em 0.6em; margin: 0 0.25em; line-height: 1; border-radius: 0.35em;\">\n",
              "    Apple\n",
              "    <span style=\"font-size: 0.8em; font-weight: bold; line-height: 1; border-radius: 0.35em; text-transform: uppercase; vertical-align: middle; margin-left: 0.5rem\">ORG</span>\n",
              "</mark>\n",
              " sold \n",
              "<mark class=\"entity\" style=\"background: #e4e7d2; padding: 0.45em 0.6em; margin: 0 0.25em; line-height: 1; border-radius: 0.35em;\">\n",
              "    nearly 20 thousand\n",
              "    <span style=\"font-size: 0.8em; font-weight: bold; line-height: 1; border-radius: 0.35em; text-transform: uppercase; vertical-align: middle; margin-left: 0.5rem\">CARDINAL</span>\n",
              "</mark>\n",
              " \n",
              "<mark class=\"entity\" style=\"background: #bfeeb7; padding: 0.45em 0.6em; margin: 0 0.25em; line-height: 1; border-radius: 0.35em;\">\n",
              "    iPods\n",
              "    <span style=\"font-size: 0.8em; font-weight: bold; line-height: 1; border-radius: 0.35em; text-transform: uppercase; vertical-align: middle; margin-left: 0.5rem\">PRODUCT</span>\n",
              "</mark>\n",
              " for a profit of \n",
              "<mark class=\"entity\" style=\"background: #e4e7d2; padding: 0.45em 0.6em; margin: 0 0.25em; line-height: 1; border-radius: 0.35em;\">\n",
              "    $6 million\n",
              "    <span style=\"font-size: 0.8em; font-weight: bold; line-height: 1; border-radius: 0.35em; text-transform: uppercase; vertical-align: middle; margin-left: 0.5rem\">MONEY</span>\n",
              "</mark>\n",
              ".</div></span>"
            ],
            "text/plain": [
              "<IPython.core.display.HTML object>"
            ]
          },
          "metadata": {}
        }
      ]
    },
    {
      "cell_type": "code",
      "source": [
        "text=\"I like bananabread breadbananabread\"\n",
        "print([t.text for t in nlp(text)])"
      ],
      "metadata": {
        "colab": {
          "base_uri": "https://localhost:8080/"
        },
        "id": "dbm4jOCTlyXA",
        "outputId": "9ad40c55-1366-4d1d-c32d-ac01bfedee0b"
      },
      "execution_count": null,
      "outputs": [
        {
          "output_type": "stream",
          "name": "stdout",
          "text": [
            "['I', 'like', 'banana', 'bread', 'breadbananabread']\n"
          ]
        }
      ]
    },
    {
      "cell_type": "code",
      "source": [
        "prefix=(\"banana\",)+nlp.Defaults.prefixes"
      ],
      "metadata": {
        "id": "s9MYisDanI9S"
      },
      "execution_count": null,
      "outputs": []
    },
    {
      "cell_type": "code",
      "source": [
        "prefix_regex=spacy.util.compile_prefix_regex(prefix)"
      ],
      "metadata": {
        "id": "BQEexwjenaMx"
      },
      "execution_count": null,
      "outputs": []
    },
    {
      "cell_type": "code",
      "source": [
        "nlp.tokenizer.prefix_search=prefix_regex.search"
      ],
      "metadata": {
        "id": "1UXmER6anqec"
      },
      "execution_count": null,
      "outputs": []
    },
    {
      "cell_type": "code",
      "source": [
        "print([t.text for t in nlp(text)])"
      ],
      "metadata": {
        "colab": {
          "base_uri": "https://localhost:8080/"
        },
        "id": "3bjuhY9Tn3IM",
        "outputId": "488d4869-c62c-4ba2-c8ec-dac62ffae48a"
      },
      "execution_count": null,
      "outputs": [
        {
          "output_type": "stream",
          "name": "stdout",
          "text": [
            "['I', 'like', 'banana', 'bread', 'breadbanana']\n"
          ]
        }
      ]
    },
    {
      "cell_type": "code",
      "source": [
        "suffixes=(\"banana\",)+nlp.Defaults.suffixes\n",
        "suffixes_regex=spacy.util.compile_suffix_regex(prefix)\n",
        "nlp.tokenizer.suffix_search=suffixes_regex.search\n",
        "print([t.text for t in nlp(text)])"
      ],
      "metadata": {
        "colab": {
          "base_uri": "https://localhost:8080/"
        },
        "id": "kXhbgn_7n8fu",
        "outputId": "23ec6fb6-23a9-4a84-b8e3-f985818bd377"
      },
      "execution_count": null,
      "outputs": [
        {
          "output_type": "stream",
          "name": "stdout",
          "text": [
            "['I', 'like', 'banana', 'bread', 'bread', 'banana']\n"
          ]
        }
      ]
    },
    {
      "cell_type": "code",
      "source": [
        "suffixes=(\"banana\",)+nlp.Defaults.infixes\n",
        "suffixes_regex=spacy.util.compile_infix_regex(suffixes)\n",
        "nlp.tokenizer.infix_finditer=suffixes_regex.finditer\n",
        "print([t.text for t in nlp(text)])"
      ],
      "metadata": {
        "colab": {
          "base_uri": "https://localhost:8080/"
        },
        "id": "eeaY0363ovN3",
        "outputId": "937e0280-b6a8-4616-e7d9-ce7ff5b01633"
      },
      "execution_count": null,
      "outputs": [
        {
          "output_type": "stream",
          "name": "stdout",
          "text": [
            "['I', 'like', 'banana', 'bread', 'bread', 'banana', 'bread']\n"
          ]
        }
      ]
    },
    {
      "cell_type": "code",
      "source": [
        "from nltk.stem import PorterStemmer ,SnowballStemmer ,LancasterStemmer,RegexpStemmer\n",
        "stem=PorterStemmer()\n",
        "list=['generous','generate','generously','generation']\n",
        "print(\"PorterStemmer\")\n",
        "for i in list:\n",
        "  print(stem.stem(i),end=',')\n",
        "\n",
        "snow=SnowballStemmer(language='english')\n",
        "print(\"\\nSnowball Stemmer\")\n",
        "for i in list:\n",
        "  print(snow.stem(i),end=',')\n"
      ],
      "metadata": {
        "colab": {
          "base_uri": "https://localhost:8080/"
        },
        "id": "rXUHkkPmqutT",
        "outputId": "f11de03b-a05f-42a0-8ee2-7d744293125b"
      },
      "execution_count": null,
      "outputs": [
        {
          "output_type": "stream",
          "name": "stdout",
          "text": [
            "PorterStemmer\n",
            "gener,gener,gener,gener,\n",
            "Snowball Stemmer\n",
            "generous,generat,generous,generat,"
          ]
        }
      ]
    },
    {
      "cell_type": "code",
      "source": [
        "lancaster=LancasterStemmer()\n",
        "words=['eat','ate','eaten','eating']\n",
        "print(\"LancaseterStemmer\")\n",
        "for i in words:\n",
        "  print(lancaster.stem(i),end=',')\n",
        "\n",
        "\n",
        "print(\"\\nSnowball Stemmer\")\n",
        "\n",
        "for i in words:\n",
        "  print(snow.stem(i),end=',')\n",
        "\n",
        "print(\"\\nPorterStemmer\")\n",
        "for i in words:\n",
        "  print(stem.stem(i),end=',')\n",
        "\n",
        "print(\"\\nRegexStemmer\")\n",
        "regex=RegexpStemmer('ing$|e$\\able$|ed$')\n",
        "wording=['advisable','counting','hosted']\n",
        "for i in wording:\n",
        "  print(regex.stem(i),end=',')"
      ],
      "metadata": {
        "colab": {
          "base_uri": "https://localhost:8080/"
        },
        "id": "NhpEQYhMzkhq",
        "outputId": "15839c4d-050c-41b5-d115-a977568f240a"
      },
      "execution_count": null,
      "outputs": [
        {
          "output_type": "stream",
          "name": "stdout",
          "text": [
            "LancaseterStemmer\n",
            "eat,at,eat,eat,\n",
            "Snowball Stemmer\n",
            "eat,ate,eaten,eat,\n",
            "PorterStemmer\n",
            "eat,ate,eaten,eat,\n",
            "RegexStemmer\n",
            "advisable,count,host,"
          ]
        }
      ]
    },
    {
      "cell_type": "markdown",
      "source": [
        "# **`Gensim`**"
      ],
      "metadata": {
        "id": "npIZVRp-xFMx"
      }
    },
    {
      "cell_type": "code",
      "source": [
        "from gensim.parsing.preprocessing import remove_stopwords"
      ],
      "metadata": {
        "id": "Wk3JAYk60zVg"
      },
      "execution_count": null,
      "outputs": []
    },
    {
      "cell_type": "code",
      "source": [
        "text='Nick likes to play football,however he is not too font of tennis '"
      ],
      "metadata": {
        "id": "toCOJcW7xEX0"
      },
      "execution_count": null,
      "outputs": []
    },
    {
      "cell_type": "code",
      "source": [
        "filtered_sentence=remove_stopwords(text)"
      ],
      "metadata": {
        "id": "Yt1PXCnMxP6H"
      },
      "execution_count": null,
      "outputs": []
    },
    {
      "cell_type": "code",
      "source": [
        "filtered_sentence"
      ],
      "metadata": {
        "colab": {
          "base_uri": "https://localhost:8080/",
          "height": 36
        },
        "id": "6MvSvHSkxXrl",
        "outputId": "3f394b92-66b9-4fe2-8969-350b1948baeb"
      },
      "execution_count": null,
      "outputs": [
        {
          "output_type": "execute_result",
          "data": {
            "application/vnd.google.colaboratory.intrinsic+json": {
              "type": "string"
            },
            "text/plain": [
              "'Nick likes play football,however font tennis'"
            ]
          },
          "metadata": {},
          "execution_count": 4
        }
      ]
    },
    {
      "cell_type": "code",
      "source": [
        "import gensim\n",
        "all_stop=gensim.parsing.preprocessing.STOPWORDS"
      ],
      "metadata": {
        "id": "5Ns3aIWnxa9u"
      },
      "execution_count": null,
      "outputs": []
    },
    {
      "cell_type": "code",
      "source": [
        "len(all_stop)"
      ],
      "metadata": {
        "colab": {
          "base_uri": "https://localhost:8080/"
        },
        "id": "2wXblMdAxyDN",
        "outputId": "240f8703-30b6-4686-dd8c-4a58b72cd514"
      },
      "execution_count": null,
      "outputs": [
        {
          "output_type": "execute_result",
          "data": {
            "text/plain": [
              "337"
            ]
          },
          "metadata": {},
          "execution_count": 7
        }
      ]
    },
    {
      "cell_type": "code",
      "source": [
        "from gensim.parsing.preprocessing import STOPWORDS\n",
        "all_stop_gensim=STOPWORDS.union(set(['likes,play']))"
      ],
      "metadata": {
        "id": "1AY2AKJyx84c"
      },
      "execution_count": null,
      "outputs": []
    },
    {
      "cell_type": "code",
      "source": [
        "import nltk\n",
        "from nltk.tokenize import word_tokenize\n",
        "nltk.download('punkt')\n",
        "test_tokenize=word_tokenize(text)\n",
        "test_tokenize=[word for word in test_tokenize if not word in all_stop_gensim]"
      ],
      "metadata": {
        "colab": {
          "base_uri": "https://localhost:8080/"
        },
        "id": "FuBuLpF9yOSG",
        "outputId": "b445868f-dd39-40ad-d4cf-326a963e4534"
      },
      "execution_count": null,
      "outputs": [
        {
          "output_type": "stream",
          "name": "stdout",
          "text": [
            "[nltk_data] Downloading package punkt to /root/nltk_data...\n",
            "[nltk_data]   Unzipping tokenizers/punkt.zip.\n"
          ]
        }
      ]
    },
    {
      "cell_type": "code",
      "source": [
        "test_tokenize"
      ],
      "metadata": {
        "colab": {
          "base_uri": "https://localhost:8080/"
        },
        "id": "uyVB0fPLy80J",
        "outputId": "11dd04b1-6993-4919-f185-8ea452b0140f"
      },
      "execution_count": null,
      "outputs": [
        {
          "output_type": "execute_result",
          "data": {
            "text/plain": [
              "['Nick', 'likes', 'play', 'football', ',', 'font', 'tennis']"
            ]
          },
          "metadata": {},
          "execution_count": 13
        }
      ]
    },
    {
      "cell_type": "code",
      "source": [
        "alll=STOPWORDS\n",
        "sw_list={'not'}\n",
        "diff=STOPWORDS.difference(sw_list)\n",
        "test_tokenize=word_tokenize(text)\n",
        "test_tokenize=[word for word in test_tokenize if not word in all_stop_gensim]"
      ],
      "metadata": {
        "id": "k2Jv4VFdzKDD"
      },
      "execution_count": null,
      "outputs": []
    },
    {
      "cell_type": "code",
      "source": [
        "test_tokenize"
      ],
      "metadata": {
        "colab": {
          "base_uri": "https://localhost:8080/"
        },
        "id": "OXpExFqP0omP",
        "outputId": "bdd6afa7-1133-428d-cb59-a92021ff732b"
      },
      "execution_count": null,
      "outputs": [
        {
          "output_type": "execute_result",
          "data": {
            "text/plain": [
              "['Nick', 'likes', 'play', 'football', ',', 'font', 'tennis']"
            ]
          },
          "metadata": {},
          "execution_count": 18
        }
      ]
    },
    {
      "cell_type": "markdown",
      "source": [
        "# Lower CASE"
      ],
      "metadata": {
        "id": "sySxF_4N23wP"
      }
    },
    {
      "cell_type": "code",
      "source": [
        "def text_lower(tt):\n",
        "  low=tt.lower()\n",
        "  return(low)\n",
        "\n",
        "text=\"I AM WONDERFULL AND INTELLIGENT\"\n",
        "print(text_lower(text))"
      ],
      "metadata": {
        "colab": {
          "base_uri": "https://localhost:8080/"
        },
        "id": "7Wqc0LIR0wrG",
        "outputId": "98f2e9a9-ec71-474d-bfc8-5ab8e9813d5d"
      },
      "execution_count": null,
      "outputs": [
        {
          "output_type": "stream",
          "name": "stdout",
          "text": [
            "i am wonderfull and intelligent\n"
          ]
        }
      ]
    },
    {
      "cell_type": "markdown",
      "source": [
        "# Remove HTML PATTERN\n",
        "\n",
        "\n"
      ],
      "metadata": {
        "id": "Bb4WF6bx26TA"
      }
    },
    {
      "cell_type": "code",
      "source": [
        "import re\n",
        "def remove_html(text):\n",
        "  html_pattern=r'<.*?>'\n",
        "  tt=re.sub(pattern=html_pattern,repl=' ',string=text)\n",
        "  return(tt)\n",
        "text=\"\"\"<br /><br />the filming technique is very unassuming- very old-time-bbc fashion and gives a comforting, and sometimes discomforting, sense of realism to the entire piece. <br /><br />\"\"\"\n",
        "remove_html(text)"
      ],
      "metadata": {
        "colab": {
          "base_uri": "https://localhost:8080/",
          "height": 36
        },
        "id": "EqiPlANx2kt4",
        "outputId": "006a814e-1b03-47c9-fc1e-feaac7637b54"
      },
      "execution_count": null,
      "outputs": [
        {
          "output_type": "execute_result",
          "data": {
            "application/vnd.google.colaboratory.intrinsic+json": {
              "type": "string"
            },
            "text/plain": [
              "'  the filming technique is very unassuming- very old-time-bbc fashion and gives a comforting, and sometimes discomforting, sense of realism to the entire piece.   '"
            ]
          },
          "metadata": {},
          "execution_count": 29
        }
      ]
    },
    {
      "cell_type": "code",
      "source": [
        "from bs4 import BeautifulSoup\n",
        "def remove_html_bs(text):\n",
        "  parser=BeautifulSoup(text,\"html.parser\")\n",
        "  without_html=parser.get_text(separator=\" \")\n",
        "  return without_html\n",
        "\n",
        "remove_html_bs(text)"
      ],
      "metadata": {
        "colab": {
          "base_uri": "https://localhost:8080/",
          "height": 36
        },
        "id": "aVkdzn3R4mWK",
        "outputId": "914c2c69-ec08-45df-9cbd-3f04a0f1ade9"
      },
      "execution_count": null,
      "outputs": [
        {
          "output_type": "execute_result",
          "data": {
            "application/vnd.google.colaboratory.intrinsic+json": {
              "type": "string"
            },
            "text/plain": [
              "'\\n Home Events Circulars Contacts \\n'"
            ]
          },
          "metadata": {},
          "execution_count": 3
        }
      ]
    },
    {
      "cell_type": "markdown",
      "source": [
        "# Remove Number "
      ],
      "metadata": {
        "id": "iMXgqmf77Az0"
      }
    },
    {
      "cell_type": "code",
      "source": [
        "def remove_number(text):\n",
        "  tt=re.sub(r'\\d+',repl=\"\",string=text)\n",
        "  return tt\n",
        "text=\"1234hey i344 5a56m super456789man\"\n",
        "remove_number(text)"
      ],
      "metadata": {
        "colab": {
          "base_uri": "https://localhost:8080/",
          "height": 36
        },
        "id": "K8mNHu7U49Y-",
        "outputId": "b67c6cd5-ed5c-41a0-a16f-4cb29255f09c"
      },
      "execution_count": null,
      "outputs": [
        {
          "output_type": "execute_result",
          "data": {
            "application/vnd.google.colaboratory.intrinsic+json": {
              "type": "string"
            },
            "text/plain": [
              "'hey i am superman'"
            ]
          },
          "metadata": {},
          "execution_count": 4
        }
      ]
    },
    {
      "cell_type": "markdown",
      "source": [
        "# Url"
      ],
      "metadata": {
        "id": "ZUHcoWZ6k3LY"
      }
    },
    {
      "cell_type": "code",
      "source": [
        "def url_removal(text):\n",
        "  url_pattern=r'https?://\\S+|www\\.  |S+'\n",
        "  rr=re.sub(pattern=url_pattern,repl='',string=text)\n",
        "  return rr\n",
        "text=\"example:https://colab.research.google.com/drive/1z9rsSWfgGpUwN11SYgpiW5Znu__YkLIV#scrollTo=OxCdaku_6das\"\n",
        "url_removal(text)"
      ],
      "metadata": {
        "id": "OxCdaku_6das",
        "colab": {
          "base_uri": "https://localhost:8080/",
          "height": 36
        },
        "outputId": "c0eda7b6-c1ec-4d16-d83c-b40ae857b8a5"
      },
      "execution_count": null,
      "outputs": [
        {
          "output_type": "execute_result",
          "data": {
            "application/vnd.google.colaboratory.intrinsic+json": {
              "type": "string"
            },
            "text/plain": [
              "'example:'"
            ]
          },
          "metadata": {},
          "execution_count": 5
        }
      ]
    },
    {
      "cell_type": "markdown",
      "source": [
        "# num to words"
      ],
      "metadata": {
        "id": "gw7jsJD0k46l"
      }
    },
    {
      "cell_type": "code",
      "source": [
        "pip install num2words"
      ],
      "metadata": {
        "colab": {
          "base_uri": "https://localhost:8080/"
        },
        "id": "p2Eoj_zOmbFq",
        "outputId": "fe9619a2-6068-4a35-951e-a71e6c935bdd"
      },
      "execution_count": null,
      "outputs": [
        {
          "output_type": "stream",
          "name": "stdout",
          "text": [
            "Requirement already satisfied: num2words in /usr/local/lib/python3.7/dist-packages (0.5.10)\n",
            "Requirement already satisfied: docopt>=0.6.2 in /usr/local/lib/python3.7/dist-packages (from num2words) (0.6.2)\n"
          ]
        }
      ]
    },
    {
      "cell_type": "code",
      "source": [
        "from num2words import num2words\n",
        "def num_to_word(text):\n",
        "\n",
        "  from num2words import num2words\n",
        "\n",
        "  after_split = text.split()\n",
        "\n",
        "  for idx in range(len(after_split)):\n",
        "\n",
        "    if after_split[idx].isdigit():\n",
        "\n",
        "      after_split[idx] = num2words(after_split[idx])\n",
        "\n",
        "  return ' '.join(after_split)\n",
        "example=\"This an example 1\"\n",
        "print(num_to_word(example))"
      ],
      "metadata": {
        "colab": {
          "base_uri": "https://localhost:8080/"
        },
        "id": "bKV2N5SRkzUb",
        "outputId": "d31f998e-eee1-48ba-a8bf-cae42160887d"
      },
      "execution_count": null,
      "outputs": [
        {
          "output_type": "stream",
          "name": "stdout",
          "text": [
            "This an example one\n"
          ]
        }
      ]
    },
    {
      "cell_type": "code",
      "source": [
        "def remove_special(text):\n",
        "  return re.sub(r'[^a-zA-Z0-9\\s]+', '',text)"
      ],
      "metadata": {
        "id": "PcSiVB0sOrKQ"
      },
      "execution_count": null,
      "outputs": []
    },
    {
      "cell_type": "markdown",
      "source": [
        "# Spell check"
      ],
      "metadata": {
        "id": "2N88OAmHm-c-"
      }
    },
    {
      "cell_type": "code",
      "source": [
        "pip install spellchecker"
      ],
      "metadata": {
        "colab": {
          "base_uri": "https://localhost:8080/"
        },
        "id": "VFUu3op8oatV",
        "outputId": "0e06d400-af8b-47f8-e661-92a51efe895f"
      },
      "execution_count": null,
      "outputs": [
        {
          "output_type": "stream",
          "name": "stdout",
          "text": [
            "Collecting spellchecker\n",
            "  Downloading spellchecker-0.4.tar.gz (3.9 MB)\n",
            "\u001b[K     |████████████████████████████████| 3.9 MB 14.3 MB/s \n",
            "\u001b[?25hRequirement already satisfied: setuptools in /usr/local/lib/python3.7/dist-packages (from spellchecker) (57.4.0)\n",
            "Collecting inexactsearch\n",
            "  Downloading inexactsearch-1.0.2.tar.gz (21 kB)\n",
            "Collecting soundex>=1.0\n",
            "  Downloading soundex-1.1.3.tar.gz (9.1 kB)\n",
            "Collecting silpa_common>=0.3\n",
            "  Downloading silpa_common-0.3.tar.gz (9.4 kB)\n",
            "Building wheels for collected packages: spellchecker, inexactsearch, silpa-common, soundex\n",
            "  Building wheel for spellchecker (setup.py) ... \u001b[?25l\u001b[?25hdone\n",
            "  Created wheel for spellchecker: filename=spellchecker-0.4-py3-none-any.whl size=3966515 sha256=9411b698505d6a2b4108c007c294b016c6eabd9dd1a2c9328752d61cb2929916\n",
            "  Stored in directory: /root/.cache/pip/wheels/58/e9/48/b82b733a7a0a9cc52ed239ccf082ff33e2fbda71670ddd3349\n",
            "  Building wheel for inexactsearch (setup.py) ... \u001b[?25l\u001b[?25hdone\n",
            "  Created wheel for inexactsearch: filename=inexactsearch-1.0.2-py3-none-any.whl size=7141 sha256=e65bd352fc9c87496e93fa4a4afa82388de6fe633795ab0ebf4d5342f2d732b4\n",
            "  Stored in directory: /root/.cache/pip/wheels/3c/f3/5d/77e8983e86af1c3c62b80d76de8020f560ce6367f1b2763b40\n",
            "  Building wheel for silpa-common (setup.py) ... \u001b[?25l\u001b[?25hdone\n",
            "  Created wheel for silpa-common: filename=silpa_common-0.3-py3-none-any.whl size=8483 sha256=fe09aa5f5d1000211c86377956f8bd0f921ff619c33ccc0942d1605cb3eb470e\n",
            "  Stored in directory: /root/.cache/pip/wheels/02/81/11/40ef1cf40f5c4021a214653ca3362914f0f9e14e8322f75f9b\n",
            "  Building wheel for soundex (setup.py) ... \u001b[?25l\u001b[?25hdone\n",
            "  Created wheel for soundex: filename=soundex-1.1.3-py3-none-any.whl size=8894 sha256=7fd1ed718e4faaa82cead9117c5b9946cf794dc89456737aee49044f2e4e32ef\n",
            "  Stored in directory: /root/.cache/pip/wheels/6b/22/0f/0ac590ac1dc0fa60f57151bf39f1fae86a9978a1d54b48e197\n",
            "Successfully built spellchecker inexactsearch silpa-common soundex\n",
            "Installing collected packages: silpa-common, soundex, inexactsearch, spellchecker\n",
            "Successfully installed inexactsearch-1.0.2 silpa-common-0.3 soundex-1.1.3 spellchecker-0.4\n"
          ]
        }
      ]
    },
    {
      "cell_type": "code",
      "source": [
        "def accented_to_ascii(text):\n",
        "\n",
        "  import unidecode\n",
        "\n",
        "  text = unidecode.unidecode(text)\n",
        "\n",
        "  return text"
      ],
      "metadata": {
        "id": "6as-qcx2lMv7"
      },
      "execution_count": null,
      "outputs": []
    },
    {
      "cell_type": "code",
      "source": [
        "def spell_autocorrect(text):\n",
        "\n",
        "  from autocorrect import Speller\n",
        "\n",
        "  from nltk import word_tokenize\n",
        "\n",
        "  import nltk\n",
        "\n",
        "  nltk.download('punkt')\n",
        "\n",
        "  spell = Speller(lang='en')\n",
        "\n",
        "  correct_words = []\n",
        "\n",
        "  for word in word_tokenize(text):\n",
        "\n",
        "    correct_word = spell(word)\n",
        "\n",
        "    correct_words.append(correct_word)\n",
        "\n",
        "  return \" \".join(correct_words)"
      ],
      "metadata": {
        "id": "mqzdxab7oguo"
      },
      "execution_count": null,
      "outputs": []
    },
    {
      "cell_type": "code",
      "source": [
        "import pandas as pd\n",
        "df=pd.read_csv(\"/content/drive/MyDrive/Datasets/IMDB Dataset.csv\")"
      ],
      "metadata": {
        "id": "lHYfsupUMMtp"
      },
      "execution_count": null,
      "outputs": []
    },
    {
      "cell_type": "code",
      "source": [
        "df.head()"
      ],
      "metadata": {
        "colab": {
          "base_uri": "https://localhost:8080/",
          "height": 206
        },
        "id": "GHpZQBjQM24p",
        "outputId": "516a0e41-d14d-4111-dbb3-75f92c2b5bd2"
      },
      "execution_count": null,
      "outputs": [
        {
          "output_type": "execute_result",
          "data": {
            "text/html": [
              "\n",
              "  <div id=\"df-9baea3e4-d52e-44ed-bd06-12a13a7f83d6\">\n",
              "    <div class=\"colab-df-container\">\n",
              "      <div>\n",
              "<style scoped>\n",
              "    .dataframe tbody tr th:only-of-type {\n",
              "        vertical-align: middle;\n",
              "    }\n",
              "\n",
              "    .dataframe tbody tr th {\n",
              "        vertical-align: top;\n",
              "    }\n",
              "\n",
              "    .dataframe thead th {\n",
              "        text-align: right;\n",
              "    }\n",
              "</style>\n",
              "<table border=\"1\" class=\"dataframe\">\n",
              "  <thead>\n",
              "    <tr style=\"text-align: right;\">\n",
              "      <th></th>\n",
              "      <th>review</th>\n",
              "      <th>sentiment</th>\n",
              "    </tr>\n",
              "  </thead>\n",
              "  <tbody>\n",
              "    <tr>\n",
              "      <th>0</th>\n",
              "      <td>One of the other reviewers has mentioned that ...</td>\n",
              "      <td>positive</td>\n",
              "    </tr>\n",
              "    <tr>\n",
              "      <th>1</th>\n",
              "      <td>A wonderful little production. &lt;br /&gt;&lt;br /&gt;The...</td>\n",
              "      <td>positive</td>\n",
              "    </tr>\n",
              "    <tr>\n",
              "      <th>2</th>\n",
              "      <td>I thought this was a wonderful way to spend ti...</td>\n",
              "      <td>positive</td>\n",
              "    </tr>\n",
              "    <tr>\n",
              "      <th>3</th>\n",
              "      <td>Basically there's a family where a little boy ...</td>\n",
              "      <td>negative</td>\n",
              "    </tr>\n",
              "    <tr>\n",
              "      <th>4</th>\n",
              "      <td>Petter Mattei's \"Love in the Time of Money\" is...</td>\n",
              "      <td>positive</td>\n",
              "    </tr>\n",
              "  </tbody>\n",
              "</table>\n",
              "</div>\n",
              "      <button class=\"colab-df-convert\" onclick=\"convertToInteractive('df-9baea3e4-d52e-44ed-bd06-12a13a7f83d6')\"\n",
              "              title=\"Convert this dataframe to an interactive table.\"\n",
              "              style=\"display:none;\">\n",
              "        \n",
              "  <svg xmlns=\"http://www.w3.org/2000/svg\" height=\"24px\"viewBox=\"0 0 24 24\"\n",
              "       width=\"24px\">\n",
              "    <path d=\"M0 0h24v24H0V0z\" fill=\"none\"/>\n",
              "    <path d=\"M18.56 5.44l.94 2.06.94-2.06 2.06-.94-2.06-.94-.94-2.06-.94 2.06-2.06.94zm-11 1L8.5 8.5l.94-2.06 2.06-.94-2.06-.94L8.5 2.5l-.94 2.06-2.06.94zm10 10l.94 2.06.94-2.06 2.06-.94-2.06-.94-.94-2.06-.94 2.06-2.06.94z\"/><path d=\"M17.41 7.96l-1.37-1.37c-.4-.4-.92-.59-1.43-.59-.52 0-1.04.2-1.43.59L10.3 9.45l-7.72 7.72c-.78.78-.78 2.05 0 2.83L4 21.41c.39.39.9.59 1.41.59.51 0 1.02-.2 1.41-.59l7.78-7.78 2.81-2.81c.8-.78.8-2.07 0-2.86zM5.41 20L4 18.59l7.72-7.72 1.47 1.35L5.41 20z\"/>\n",
              "  </svg>\n",
              "      </button>\n",
              "      \n",
              "  <style>\n",
              "    .colab-df-container {\n",
              "      display:flex;\n",
              "      flex-wrap:wrap;\n",
              "      gap: 12px;\n",
              "    }\n",
              "\n",
              "    .colab-df-convert {\n",
              "      background-color: #E8F0FE;\n",
              "      border: none;\n",
              "      border-radius: 50%;\n",
              "      cursor: pointer;\n",
              "      display: none;\n",
              "      fill: #1967D2;\n",
              "      height: 32px;\n",
              "      padding: 0 0 0 0;\n",
              "      width: 32px;\n",
              "    }\n",
              "\n",
              "    .colab-df-convert:hover {\n",
              "      background-color: #E2EBFA;\n",
              "      box-shadow: 0px 1px 2px rgba(60, 64, 67, 0.3), 0px 1px 3px 1px rgba(60, 64, 67, 0.15);\n",
              "      fill: #174EA6;\n",
              "    }\n",
              "\n",
              "    [theme=dark] .colab-df-convert {\n",
              "      background-color: #3B4455;\n",
              "      fill: #D2E3FC;\n",
              "    }\n",
              "\n",
              "    [theme=dark] .colab-df-convert:hover {\n",
              "      background-color: #434B5C;\n",
              "      box-shadow: 0px 1px 3px 1px rgba(0, 0, 0, 0.15);\n",
              "      filter: drop-shadow(0px 1px 2px rgba(0, 0, 0, 0.3));\n",
              "      fill: #FFFFFF;\n",
              "    }\n",
              "  </style>\n",
              "\n",
              "      <script>\n",
              "        const buttonEl =\n",
              "          document.querySelector('#df-9baea3e4-d52e-44ed-bd06-12a13a7f83d6 button.colab-df-convert');\n",
              "        buttonEl.style.display =\n",
              "          google.colab.kernel.accessAllowed ? 'block' : 'none';\n",
              "\n",
              "        async function convertToInteractive(key) {\n",
              "          const element = document.querySelector('#df-9baea3e4-d52e-44ed-bd06-12a13a7f83d6');\n",
              "          const dataTable =\n",
              "            await google.colab.kernel.invokeFunction('convertToInteractive',\n",
              "                                                     [key], {});\n",
              "          if (!dataTable) return;\n",
              "\n",
              "          const docLinkHtml = 'Like what you see? Visit the ' +\n",
              "            '<a target=\"_blank\" href=https://colab.research.google.com/notebooks/data_table.ipynb>data table notebook</a>'\n",
              "            + ' to learn more about interactive tables.';\n",
              "          element.innerHTML = '';\n",
              "          dataTable['output_type'] = 'display_data';\n",
              "          await google.colab.output.renderOutput(dataTable, element);\n",
              "          const docLink = document.createElement('div');\n",
              "          docLink.innerHTML = docLinkHtml;\n",
              "          element.appendChild(docLink);\n",
              "        }\n",
              "      </script>\n",
              "    </div>\n",
              "  </div>\n",
              "  "
            ],
            "text/plain": [
              "                                              review sentiment\n",
              "0  One of the other reviewers has mentioned that ...  positive\n",
              "1  A wonderful little production. <br /><br />The...  positive\n",
              "2  I thought this was a wonderful way to spend ti...  positive\n",
              "3  Basically there's a family where a little boy ...  negative\n",
              "4  Petter Mattei's \"Love in the Time of Money\" is...  positive"
            ]
          },
          "metadata": {},
          "execution_count": 15
        }
      ]
    },
    {
      "cell_type": "code",
      "source": [
        "df['review']=df['review'].apply(text_lower)\n",
        "df['review']=df['review'].apply(remove_html)\n",
        "df['review']=df['review'].apply(remove_special)\n",
        "df['review']=df['review'].apply(num_to_word)"
      ],
      "metadata": {
        "id": "qOsoNNx7N0yL"
      },
      "execution_count": null,
      "outputs": []
    },
    {
      "cell_type": "code",
      "source": [
        "from gensim.parsing.preprocessing import remove_stopwords\n",
        "df['review']=df['review'].apply(remove_stopwords)"
      ],
      "metadata": {
        "id": "GGmo36L7QGwu"
      },
      "execution_count": null,
      "outputs": []
    },
    {
      "cell_type": "code",
      "source": [
        "from nltk.tokenize import sent_tokenize, word_tokenize\n",
        "import nltk\n",
        "nltk.download('punkt')"
      ],
      "metadata": {
        "colab": {
          "base_uri": "https://localhost:8080/"
        },
        "id": "xZ7NozHqQZDz",
        "outputId": "3c670156-8abf-4db4-b142-bc6f5ab49580"
      },
      "execution_count": null,
      "outputs": [
        {
          "output_type": "stream",
          "name": "stdout",
          "text": [
            "[nltk_data] Downloading package punkt to /root/nltk_data...\n",
            "[nltk_data]   Package punkt is already up-to-date!\n"
          ]
        },
        {
          "output_type": "execute_result",
          "data": {
            "text/plain": [
              "True"
            ]
          },
          "metadata": {},
          "execution_count": 53
        }
      ]
    },
    {
      "cell_type": "code",
      "source": [
        "df['review']=df['review'].apply(sent_tokenize)\n",
        "df['review']=df['review'].apply(word_tokenize)"
      ],
      "metadata": {
        "id": "-V1tJJ52SG4G"
      },
      "execution_count": null,
      "outputs": []
    },
    {
      "cell_type": "code",
      "source": [
        "df['review'][1]"
      ],
      "metadata": {
        "id": "R0lBcQPRN0mu"
      },
      "execution_count": null,
      "outputs": []
    },
    {
      "cell_type": "code",
      "source": [
        "import pandas as pd"
      ],
      "metadata": {
        "id": "yoyXZbeh353f"
      },
      "execution_count": null,
      "outputs": []
    },
    {
      "cell_type": "code",
      "source": [
        "df = pd.read_csv(\"https://raw.githubusercontent.com/mohitgupta-omg/Kaggle-SMS-Spam-Collection-Dataset-/master/spam.csv\",encoding=\"ISO-8859-1\",usecols=['v1','v2'])"
      ],
      "metadata": {
        "id": "cTmllTS314eq"
      },
      "execution_count": null,
      "outputs": []
    },
    {
      "cell_type": "code",
      "source": [
        "df.head()"
      ],
      "metadata": {
        "colab": {
          "base_uri": "https://localhost:8080/",
          "height": 206
        },
        "id": "qYgM-Cw_14hH",
        "outputId": "58083899-3315-4feb-cadd-d091246e4908"
      },
      "execution_count": null,
      "outputs": [
        {
          "output_type": "execute_result",
          "data": {
            "text/html": [
              "\n",
              "  <div id=\"df-40419f77-b7fe-4d51-9fa1-bc36d9092e1a\">\n",
              "    <div class=\"colab-df-container\">\n",
              "      <div>\n",
              "<style scoped>\n",
              "    .dataframe tbody tr th:only-of-type {\n",
              "        vertical-align: middle;\n",
              "    }\n",
              "\n",
              "    .dataframe tbody tr th {\n",
              "        vertical-align: top;\n",
              "    }\n",
              "\n",
              "    .dataframe thead th {\n",
              "        text-align: right;\n",
              "    }\n",
              "</style>\n",
              "<table border=\"1\" class=\"dataframe\">\n",
              "  <thead>\n",
              "    <tr style=\"text-align: right;\">\n",
              "      <th></th>\n",
              "      <th>v1</th>\n",
              "      <th>v2</th>\n",
              "    </tr>\n",
              "  </thead>\n",
              "  <tbody>\n",
              "    <tr>\n",
              "      <th>0</th>\n",
              "      <td>ham</td>\n",
              "      <td>Go until jurong point, crazy.. Available only ...</td>\n",
              "    </tr>\n",
              "    <tr>\n",
              "      <th>1</th>\n",
              "      <td>ham</td>\n",
              "      <td>Ok lar... Joking wif u oni...</td>\n",
              "    </tr>\n",
              "    <tr>\n",
              "      <th>2</th>\n",
              "      <td>spam</td>\n",
              "      <td>Free entry in 2 a wkly comp to win FA Cup fina...</td>\n",
              "    </tr>\n",
              "    <tr>\n",
              "      <th>3</th>\n",
              "      <td>ham</td>\n",
              "      <td>U dun say so early hor... U c already then say...</td>\n",
              "    </tr>\n",
              "    <tr>\n",
              "      <th>4</th>\n",
              "      <td>ham</td>\n",
              "      <td>Nah I don't think he goes to usf, he lives aro...</td>\n",
              "    </tr>\n",
              "  </tbody>\n",
              "</table>\n",
              "</div>\n",
              "      <button class=\"colab-df-convert\" onclick=\"convertToInteractive('df-40419f77-b7fe-4d51-9fa1-bc36d9092e1a')\"\n",
              "              title=\"Convert this dataframe to an interactive table.\"\n",
              "              style=\"display:none;\">\n",
              "        \n",
              "  <svg xmlns=\"http://www.w3.org/2000/svg\" height=\"24px\"viewBox=\"0 0 24 24\"\n",
              "       width=\"24px\">\n",
              "    <path d=\"M0 0h24v24H0V0z\" fill=\"none\"/>\n",
              "    <path d=\"M18.56 5.44l.94 2.06.94-2.06 2.06-.94-2.06-.94-.94-2.06-.94 2.06-2.06.94zm-11 1L8.5 8.5l.94-2.06 2.06-.94-2.06-.94L8.5 2.5l-.94 2.06-2.06.94zm10 10l.94 2.06.94-2.06 2.06-.94-2.06-.94-.94-2.06-.94 2.06-2.06.94z\"/><path d=\"M17.41 7.96l-1.37-1.37c-.4-.4-.92-.59-1.43-.59-.52 0-1.04.2-1.43.59L10.3 9.45l-7.72 7.72c-.78.78-.78 2.05 0 2.83L4 21.41c.39.39.9.59 1.41.59.51 0 1.02-.2 1.41-.59l7.78-7.78 2.81-2.81c.8-.78.8-2.07 0-2.86zM5.41 20L4 18.59l7.72-7.72 1.47 1.35L5.41 20z\"/>\n",
              "  </svg>\n",
              "      </button>\n",
              "      \n",
              "  <style>\n",
              "    .colab-df-container {\n",
              "      display:flex;\n",
              "      flex-wrap:wrap;\n",
              "      gap: 12px;\n",
              "    }\n",
              "\n",
              "    .colab-df-convert {\n",
              "      background-color: #E8F0FE;\n",
              "      border: none;\n",
              "      border-radius: 50%;\n",
              "      cursor: pointer;\n",
              "      display: none;\n",
              "      fill: #1967D2;\n",
              "      height: 32px;\n",
              "      padding: 0 0 0 0;\n",
              "      width: 32px;\n",
              "    }\n",
              "\n",
              "    .colab-df-convert:hover {\n",
              "      background-color: #E2EBFA;\n",
              "      box-shadow: 0px 1px 2px rgba(60, 64, 67, 0.3), 0px 1px 3px 1px rgba(60, 64, 67, 0.15);\n",
              "      fill: #174EA6;\n",
              "    }\n",
              "\n",
              "    [theme=dark] .colab-df-convert {\n",
              "      background-color: #3B4455;\n",
              "      fill: #D2E3FC;\n",
              "    }\n",
              "\n",
              "    [theme=dark] .colab-df-convert:hover {\n",
              "      background-color: #434B5C;\n",
              "      box-shadow: 0px 1px 3px 1px rgba(0, 0, 0, 0.15);\n",
              "      filter: drop-shadow(0px 1px 2px rgba(0, 0, 0, 0.3));\n",
              "      fill: #FFFFFF;\n",
              "    }\n",
              "  </style>\n",
              "\n",
              "      <script>\n",
              "        const buttonEl =\n",
              "          document.querySelector('#df-40419f77-b7fe-4d51-9fa1-bc36d9092e1a button.colab-df-convert');\n",
              "        buttonEl.style.display =\n",
              "          google.colab.kernel.accessAllowed ? 'block' : 'none';\n",
              "\n",
              "        async function convertToInteractive(key) {\n",
              "          const element = document.querySelector('#df-40419f77-b7fe-4d51-9fa1-bc36d9092e1a');\n",
              "          const dataTable =\n",
              "            await google.colab.kernel.invokeFunction('convertToInteractive',\n",
              "                                                     [key], {});\n",
              "          if (!dataTable) return;\n",
              "\n",
              "          const docLinkHtml = 'Like what you see? Visit the ' +\n",
              "            '<a target=\"_blank\" href=https://colab.research.google.com/notebooks/data_table.ipynb>data table notebook</a>'\n",
              "            + ' to learn more about interactive tables.';\n",
              "          element.innerHTML = '';\n",
              "          dataTable['output_type'] = 'display_data';\n",
              "          await google.colab.output.renderOutput(dataTable, element);\n",
              "          const docLink = document.createElement('div');\n",
              "          docLink.innerHTML = docLinkHtml;\n",
              "          element.appendChild(docLink);\n",
              "        }\n",
              "      </script>\n",
              "    </div>\n",
              "  </div>\n",
              "  "
            ],
            "text/plain": [
              "     v1                                                 v2\n",
              "0   ham  Go until jurong point, crazy.. Available only ...\n",
              "1   ham                      Ok lar... Joking wif u oni...\n",
              "2  spam  Free entry in 2 a wkly comp to win FA Cup fina...\n",
              "3   ham  U dun say so early hor... U c already then say...\n",
              "4   ham  Nah I don't think he goes to usf, he lives aro..."
            ]
          },
          "metadata": {},
          "execution_count": 8
        }
      ]
    },
    {
      "cell_type": "code",
      "source": [
        "import nltk\n",
        "import numpy as np\n",
        "from nltk.corpus import stopwords\n",
        "from nltk.tokenize import sent_tokenize as st\n",
        "from nltk.stem import WordNetLemmatizer\n",
        "import re\n",
        "import nltk\n",
        "nltk.download('stopwords')\n",
        "nltk.download('wordnet')"
      ],
      "metadata": {
        "id": "F1hmruBlQVs-",
        "colab": {
          "base_uri": "https://localhost:8080/"
        },
        "outputId": "36407afe-701a-43b5-b943-de7b819b889e"
      },
      "execution_count": null,
      "outputs": [
        {
          "output_type": "stream",
          "name": "stdout",
          "text": [
            "[nltk_data] Downloading package stopwords to /root/nltk_data...\n",
            "[nltk_data]   Package stopwords is already up-to-date!\n",
            "[nltk_data] Downloading package wordnet to /root/nltk_data...\n",
            "[nltk_data]   Unzipping corpora/wordnet.zip.\n"
          ]
        },
        {
          "output_type": "execute_result",
          "data": {
            "text/plain": [
              "True"
            ]
          },
          "metadata": {},
          "execution_count": 29
        }
      ]
    },
    {
      "cell_type": "code",
      "source": [
        "corpus=[]\n",
        "wordnet=WordNetLemmatizer()\n",
        "#lenght=len(df)\n",
        "for i in range(0,5572):\n",
        "  rev=re.sub(r'[^A-Za-z]',' ',df['v2'][i])\n",
        "  rev=rev.lower()\n",
        "  rev=rev.split()\n",
        "  rev=[wordnet.lemmatize(word) for word in rev if word not in stopwords.words('english')]\n",
        "  rev=' '.join(rev)\n",
        "  corpus.append(rev)"
      ],
      "metadata": {
        "id": "IReKPIMn1oFm"
      },
      "execution_count": null,
      "outputs": []
    },
    {
      "cell_type": "code",
      "source": [
        "corpus[1]"
      ],
      "metadata": {
        "colab": {
          "base_uri": "https://localhost:8080/",
          "height": 36
        },
        "id": "5gadaGD_6zTh",
        "outputId": "bb24dc25-08ae-4695-e848-b75d8c9fa462"
      },
      "execution_count": null,
      "outputs": [
        {
          "output_type": "execute_result",
          "data": {
            "application/vnd.google.colaboratory.intrinsic+json": {
              "type": "string"
            },
            "text/plain": [
              "'ok lar joking wif u oni'"
            ]
          },
          "metadata": {},
          "execution_count": 32
        }
      ]
    },
    {
      "cell_type": "code",
      "source": [
        "from sklearn.feature_extraction.text import CountVectorizer\n",
        "cv=CountVectorizer()\n",
        "x=cv.fit_transform(corpus)"
      ],
      "metadata": {
        "id": "0tu5Jkph5H09"
      },
      "execution_count": null,
      "outputs": []
    },
    {
      "cell_type": "code",
      "source": [
        "x=x.toarray()"
      ],
      "metadata": {
        "id": "864eqFMV6-X7"
      },
      "execution_count": null,
      "outputs": []
    },
    {
      "cell_type": "code",
      "source": [
        "from sklearn.preprocessing import LabelEncoder\n",
        "le=LabelEncoder()\n",
        "y=le.fit_transform(df['v1'])"
      ],
      "metadata": {
        "id": "Eo3MNeC75ZQ2"
      },
      "execution_count": null,
      "outputs": []
    },
    {
      "cell_type": "code",
      "source": [
        "from sklearn.model_selection import train_test_split\n",
        "x_train,x_test,y_train,y_test=train_test_split(x,y,test_size=0.2)"
      ],
      "metadata": {
        "id": "GJlCLhnI5jHK"
      },
      "execution_count": null,
      "outputs": []
    },
    {
      "cell_type": "markdown",
      "source": [
        ""
      ],
      "metadata": {
        "id": "6xibH88K6U0i"
      }
    },
    {
      "cell_type": "code",
      "source": [
        "from sklearn.tree import DecisionTreeClassifier\n",
        "model=DecisionTreeClassifier(random_state=1)\n",
        "model.fit(x_train,y_train)"
      ],
      "metadata": {
        "colab": {
          "base_uri": "https://localhost:8080/"
        },
        "id": "L0fBGUWH5y7v",
        "outputId": "ae606059-54c2-4659-a4ca-62001b5ec975"
      },
      "execution_count": null,
      "outputs": [
        {
          "output_type": "execute_result",
          "data": {
            "text/plain": [
              "DecisionTreeClassifier(random_state=1)"
            ]
          },
          "metadata": {},
          "execution_count": 49
        }
      ]
    },
    {
      "cell_type": "code",
      "source": [
        "y_pred=model.predict(x_test,y_test)\n",
        "y_pred"
      ],
      "metadata": {
        "id": "taOFXv3u5y_r"
      },
      "execution_count": null,
      "outputs": []
    },
    {
      "cell_type": "code",
      "source": [
        "model.score(x_test,y_test)"
      ],
      "metadata": {
        "colab": {
          "base_uri": "https://localhost:8080/"
        },
        "id": "2KZ2coRz5zDi",
        "outputId": "a00f51ce-4b29-481c-db39-24e58b8d2fb5"
      },
      "execution_count": null,
      "outputs": [
        {
          "output_type": "execute_result",
          "data": {
            "text/plain": [
              "0.9730941704035875"
            ]
          },
          "metadata": {},
          "execution_count": 51
        }
      ]
    },
    {
      "cell_type": "code",
      "source": [
        "from sklearn.metrics import confusion_matrix\n",
        "from sklearn.metrics import classification_report\n",
        "cm=confusion_matrix(y_test,y_pred)"
      ],
      "metadata": {
        "id": "YWIzrgjB6KQZ"
      },
      "execution_count": null,
      "outputs": []
    },
    {
      "cell_type": "code",
      "source": [
        "cm"
      ],
      "metadata": {
        "id": "r82Uh1X76TjT"
      },
      "execution_count": null,
      "outputs": []
    },
    {
      "cell_type": "code",
      "source": [
        "df=pd.read_csv('https://raw.githubusercontent.com/Ankit152/IMDB-sentiment-analysis/master/IMDB-Dataset.csv')\n"
      ],
      "metadata": {
        "id": "M6OaYRKE9K5j"
      },
      "execution_count": null,
      "outputs": []
    },
    {
      "cell_type": "code",
      "source": [
        "df.head()"
      ],
      "metadata": {
        "colab": {
          "base_uri": "https://localhost:8080/",
          "height": 206
        },
        "id": "and5UA289LAY",
        "outputId": "6e94fd8f-901d-413c-8bc7-f30e31fb9832"
      },
      "execution_count": null,
      "outputs": [
        {
          "output_type": "execute_result",
          "data": {
            "text/html": [
              "\n",
              "  <div id=\"df-f31c5bb4-5b57-4e40-84bd-20b0fc576703\">\n",
              "    <div class=\"colab-df-container\">\n",
              "      <div>\n",
              "<style scoped>\n",
              "    .dataframe tbody tr th:only-of-type {\n",
              "        vertical-align: middle;\n",
              "    }\n",
              "\n",
              "    .dataframe tbody tr th {\n",
              "        vertical-align: top;\n",
              "    }\n",
              "\n",
              "    .dataframe thead th {\n",
              "        text-align: right;\n",
              "    }\n",
              "</style>\n",
              "<table border=\"1\" class=\"dataframe\">\n",
              "  <thead>\n",
              "    <tr style=\"text-align: right;\">\n",
              "      <th></th>\n",
              "      <th>review</th>\n",
              "      <th>sentiment</th>\n",
              "    </tr>\n",
              "  </thead>\n",
              "  <tbody>\n",
              "    <tr>\n",
              "      <th>0</th>\n",
              "      <td>One of the other reviewers has mentioned that ...</td>\n",
              "      <td>positive</td>\n",
              "    </tr>\n",
              "    <tr>\n",
              "      <th>1</th>\n",
              "      <td>A wonderful little production. &lt;br /&gt;&lt;br /&gt;The...</td>\n",
              "      <td>positive</td>\n",
              "    </tr>\n",
              "    <tr>\n",
              "      <th>2</th>\n",
              "      <td>I thought this was a wonderful way to spend ti...</td>\n",
              "      <td>positive</td>\n",
              "    </tr>\n",
              "    <tr>\n",
              "      <th>3</th>\n",
              "      <td>Basically there's a family where a little boy ...</td>\n",
              "      <td>negative</td>\n",
              "    </tr>\n",
              "    <tr>\n",
              "      <th>4</th>\n",
              "      <td>Petter Mattei's \"Love in the Time of Money\" is...</td>\n",
              "      <td>positive</td>\n",
              "    </tr>\n",
              "  </tbody>\n",
              "</table>\n",
              "</div>\n",
              "      <button class=\"colab-df-convert\" onclick=\"convertToInteractive('df-f31c5bb4-5b57-4e40-84bd-20b0fc576703')\"\n",
              "              title=\"Convert this dataframe to an interactive table.\"\n",
              "              style=\"display:none;\">\n",
              "        \n",
              "  <svg xmlns=\"http://www.w3.org/2000/svg\" height=\"24px\"viewBox=\"0 0 24 24\"\n",
              "       width=\"24px\">\n",
              "    <path d=\"M0 0h24v24H0V0z\" fill=\"none\"/>\n",
              "    <path d=\"M18.56 5.44l.94 2.06.94-2.06 2.06-.94-2.06-.94-.94-2.06-.94 2.06-2.06.94zm-11 1L8.5 8.5l.94-2.06 2.06-.94-2.06-.94L8.5 2.5l-.94 2.06-2.06.94zm10 10l.94 2.06.94-2.06 2.06-.94-2.06-.94-.94-2.06-.94 2.06-2.06.94z\"/><path d=\"M17.41 7.96l-1.37-1.37c-.4-.4-.92-.59-1.43-.59-.52 0-1.04.2-1.43.59L10.3 9.45l-7.72 7.72c-.78.78-.78 2.05 0 2.83L4 21.41c.39.39.9.59 1.41.59.51 0 1.02-.2 1.41-.59l7.78-7.78 2.81-2.81c.8-.78.8-2.07 0-2.86zM5.41 20L4 18.59l7.72-7.72 1.47 1.35L5.41 20z\"/>\n",
              "  </svg>\n",
              "      </button>\n",
              "      \n",
              "  <style>\n",
              "    .colab-df-container {\n",
              "      display:flex;\n",
              "      flex-wrap:wrap;\n",
              "      gap: 12px;\n",
              "    }\n",
              "\n",
              "    .colab-df-convert {\n",
              "      background-color: #E8F0FE;\n",
              "      border: none;\n",
              "      border-radius: 50%;\n",
              "      cursor: pointer;\n",
              "      display: none;\n",
              "      fill: #1967D2;\n",
              "      height: 32px;\n",
              "      padding: 0 0 0 0;\n",
              "      width: 32px;\n",
              "    }\n",
              "\n",
              "    .colab-df-convert:hover {\n",
              "      background-color: #E2EBFA;\n",
              "      box-shadow: 0px 1px 2px rgba(60, 64, 67, 0.3), 0px 1px 3px 1px rgba(60, 64, 67, 0.15);\n",
              "      fill: #174EA6;\n",
              "    }\n",
              "\n",
              "    [theme=dark] .colab-df-convert {\n",
              "      background-color: #3B4455;\n",
              "      fill: #D2E3FC;\n",
              "    }\n",
              "\n",
              "    [theme=dark] .colab-df-convert:hover {\n",
              "      background-color: #434B5C;\n",
              "      box-shadow: 0px 1px 3px 1px rgba(0, 0, 0, 0.15);\n",
              "      filter: drop-shadow(0px 1px 2px rgba(0, 0, 0, 0.3));\n",
              "      fill: #FFFFFF;\n",
              "    }\n",
              "  </style>\n",
              "\n",
              "      <script>\n",
              "        const buttonEl =\n",
              "          document.querySelector('#df-f31c5bb4-5b57-4e40-84bd-20b0fc576703 button.colab-df-convert');\n",
              "        buttonEl.style.display =\n",
              "          google.colab.kernel.accessAllowed ? 'block' : 'none';\n",
              "\n",
              "        async function convertToInteractive(key) {\n",
              "          const element = document.querySelector('#df-f31c5bb4-5b57-4e40-84bd-20b0fc576703');\n",
              "          const dataTable =\n",
              "            await google.colab.kernel.invokeFunction('convertToInteractive',\n",
              "                                                     [key], {});\n",
              "          if (!dataTable) return;\n",
              "\n",
              "          const docLinkHtml = 'Like what you see? Visit the ' +\n",
              "            '<a target=\"_blank\" href=https://colab.research.google.com/notebooks/data_table.ipynb>data table notebook</a>'\n",
              "            + ' to learn more about interactive tables.';\n",
              "          element.innerHTML = '';\n",
              "          dataTable['output_type'] = 'display_data';\n",
              "          await google.colab.output.renderOutput(dataTable, element);\n",
              "          const docLink = document.createElement('div');\n",
              "          docLink.innerHTML = docLinkHtml;\n",
              "          element.appendChild(docLink);\n",
              "        }\n",
              "      </script>\n",
              "    </div>\n",
              "  </div>\n",
              "  "
            ],
            "text/plain": [
              "                                              review sentiment\n",
              "0  One of the other reviewers has mentioned that ...  positive\n",
              "1  A wonderful little production. <br /><br />The...  positive\n",
              "2  I thought this was a wonderful way to spend ti...  positive\n",
              "3  Basically there's a family where a little boy ...  negative\n",
              "4  Petter Mattei's \"Love in the Time of Money\" is...  positive"
            ]
          },
          "metadata": {},
          "execution_count": 57
        }
      ]
    },
    {
      "cell_type": "code",
      "source": [
        "df['sentiment'].value_counts()"
      ],
      "metadata": {
        "colab": {
          "base_uri": "https://localhost:8080/"
        },
        "id": "Hc-wjXjJ98ou",
        "outputId": "b12cb5c8-f815-4ef3-a07b-04d3e48be993"
      },
      "execution_count": null,
      "outputs": [
        {
          "output_type": "execute_result",
          "data": {
            "text/plain": [
              "positive    25000\n",
              "negative    25000\n",
              "Name: sentiment, dtype: int64"
            ]
          },
          "metadata": {},
          "execution_count": 61
        }
      ]
    },
    {
      "cell_type": "code",
      "source": [
        "df.shape"
      ],
      "metadata": {
        "colab": {
          "base_uri": "https://localhost:8080/"
        },
        "id": "y_hcIjvP9LGA",
        "outputId": "26d9d685-82cf-4ed5-a341-d525aa8a4cf3"
      },
      "execution_count": null,
      "outputs": [
        {
          "output_type": "execute_result",
          "data": {
            "text/plain": [
              "(50000, 2)"
            ]
          },
          "metadata": {},
          "execution_count": 58
        }
      ]
    },
    {
      "cell_type": "code",
      "source": [
        "df['review'][1]"
      ],
      "metadata": {
        "colab": {
          "base_uri": "https://localhost:8080/",
          "height": 272
        },
        "id": "MVVzG1r5-nuQ",
        "outputId": "852e726e-db75-4487-97d6-ae28e80939ab"
      },
      "execution_count": null,
      "outputs": [
        {
          "output_type": "execute_result",
          "data": {
            "application/vnd.google.colaboratory.intrinsic+json": {
              "type": "string"
            },
            "text/plain": [
              "'A wonderful little production. <br /><br />The filming technique is very unassuming- very old-time-BBC fashion and gives a comforting, and sometimes discomforting, sense of realism to the entire piece. <br /><br />The actors are extremely well chosen- Michael Sheen not only \"has got all the polari\" but he has all the voices down pat too! You can truly see the seamless editing guided by the references to Williams\\' diary entries, not only is it well worth the watching but it is a terrificly written and performed piece. A masterful production about one of the great master\\'s of comedy and his life. <br /><br />The realism really comes home with the little things: the fantasy of the guard which, rather than use the traditional \\'dream\\' techniques remains solid then disappears. It plays on our knowledge and our senses, particularly with the scenes concerning Orton and Halliwell and the sets (particularly of their flat with Halliwell\\'s murals decorating every surface) are terribly well done.'"
            ]
          },
          "metadata": {},
          "execution_count": 70
        }
      ]
    },
    {
      "cell_type": "code",
      "source": [
        "corpus=[]\n",
        "wordnet=WordNetLemmatizer()\n",
        "#lenght=len(df)\n",
        "for i in range(0,50000):\n",
        "  CLEANR = re.compile('<.*?>') \n",
        "  re.sub(CLEANR, '', df['review'][i])\n",
        "  rev=re.sub(r'[^A-Za-z]',' ',rev)\n",
        "  rev=rev.lower()\n",
        "  rev=rev.split()\n",
        "  rev=[wordnet.lemmatize(word) for word in rev if word not in stopwords.words('english')]\n",
        "  rev=' '.join(rev)\n",
        "  corpus.append(rev)"
      ],
      "metadata": {
        "id": "M-7KsnAE9eb-"
      },
      "execution_count": null,
      "outputs": []
    },
    {
      "cell_type": "code",
      "source": [
        "corpus[1]"
      ],
      "metadata": {
        "colab": {
          "base_uri": "https://localhost:8080/",
          "height": 36
        },
        "id": "nE6F9ohq-Zmv",
        "outputId": "389115e8-7eea-460c-fd04-2619a0bfe826"
      },
      "execution_count": null,
      "outputs": [
        {
          "output_type": "execute_result",
          "data": {
            "application/vnd.google.colaboratory.intrinsic+json": {
              "type": "string"
            },
            "text/plain": [
              "'rofl true name'"
            ]
          },
          "metadata": {},
          "execution_count": 69
        }
      ]
    },
    {
      "cell_type": "code",
      "source": [
        ""
      ],
      "metadata": {
        "id": "2GR3vT5R-8x7"
      },
      "execution_count": null,
      "outputs": []
    },
    {
      "cell_type": "markdown",
      "source": [
        "# **Twitter Sentiment Analysis**"
      ],
      "metadata": {
        "id": "oUfw5_MTnak7"
      }
    },
    {
      "cell_type": "code",
      "source": [
        "import pandas as pd\n",
        "import numpy as np\n",
        "import matplotlib.pyplot as plt \n",
        "\n",
        "from nltk.corpus import stopwords\n",
        "from nltk.stem import WordNetLemmatizer\n",
        "from nltk import word_tokenize\n",
        "import re\n",
        "\n",
        "\n",
        "from sklearn.svm import LinearSVC\n",
        "from sklearn.feature_extraction.text import CountVectorizer, TfidfVectorizer\n",
        "from sklearn.linear_model import SGDClassifier\n",
        "from sklearn.model_selection import cross_val_score, train_test_split\n",
        "from sklearn.metrics import f1_score, accuracy_score"
      ],
      "metadata": {
        "id": "Osj3I1rHogUz"
      },
      "execution_count": null,
      "outputs": []
    },
    {
      "cell_type": "code",
      "source": [
        "import nltk\n",
        "nltk.download('stopwords')\n",
        "nltk.download('punkt')\n",
        "nltk.download('wordnet')"
      ],
      "metadata": {
        "colab": {
          "base_uri": "https://localhost:8080/"
        },
        "id": "uqXhtzd9omsU",
        "outputId": "d0b6cdd6-c253-42a9-d24f-50967f1137a2"
      },
      "execution_count": null,
      "outputs": [
        {
          "output_type": "stream",
          "name": "stdout",
          "text": [
            "[nltk_data] Downloading package stopwords to /root/nltk_data...\n",
            "[nltk_data]   Unzipping corpora/stopwords.zip.\n",
            "[nltk_data] Downloading package punkt to /root/nltk_data...\n",
            "[nltk_data]   Unzipping tokenizers/punkt.zip.\n",
            "[nltk_data] Downloading package wordnet to /root/nltk_data...\n",
            "[nltk_data]   Unzipping corpora/wordnet.zip.\n"
          ]
        },
        {
          "output_type": "execute_result",
          "data": {
            "text/plain": [
              "True"
            ]
          },
          "metadata": {},
          "execution_count": 18
        }
      ]
    },
    {
      "cell_type": "code",
      "source": [
        "train=pd.read_csv(\"/content/drive/MyDrive/Datasets/train_E6oV3lV.csv/train_E6oV3lV.csv\")\n",
        "test=pd.read_csv('/content/drive/MyDrive/Datasets/test_tweets_anuFYb8.csv')"
      ],
      "metadata": {
        "id": "xzOMC91gnejV"
      },
      "execution_count": null,
      "outputs": []
    },
    {
      "cell_type": "code",
      "source": [
        "submission=pd.read_csv('/content/drive/MyDrive/Datasets/sample_submission_gfvA5FD.csv')"
      ],
      "metadata": {
        "id": "QvlkcSN9uQP4"
      },
      "execution_count": null,
      "outputs": []
    },
    {
      "cell_type": "code",
      "source": [
        "train.head()"
      ],
      "metadata": {
        "colab": {
          "base_uri": "https://localhost:8080/",
          "height": 206
        },
        "id": "xtl5P54GoL1d",
        "outputId": "d6d21710-033e-4450-89b4-d49edb44d0e6"
      },
      "execution_count": null,
      "outputs": [
        {
          "output_type": "execute_result",
          "data": {
            "text/plain": [
              "   id  label                                              tweet\n",
              "0   1      0   @user when a father is dysfunctional and is s...\n",
              "1   2      0  @user @user thanks for #lyft credit i can't us...\n",
              "2   3      0                                bihday your majesty\n",
              "3   4      0  #model   i love u take with u all the time in ...\n",
              "4   5      0             factsguide: society now    #motivation"
            ],
            "text/html": [
              "\n",
              "  <div id=\"df-b512351f-8d54-4d35-beb9-76fc49243aa2\">\n",
              "    <div class=\"colab-df-container\">\n",
              "      <div>\n",
              "<style scoped>\n",
              "    .dataframe tbody tr th:only-of-type {\n",
              "        vertical-align: middle;\n",
              "    }\n",
              "\n",
              "    .dataframe tbody tr th {\n",
              "        vertical-align: top;\n",
              "    }\n",
              "\n",
              "    .dataframe thead th {\n",
              "        text-align: right;\n",
              "    }\n",
              "</style>\n",
              "<table border=\"1\" class=\"dataframe\">\n",
              "  <thead>\n",
              "    <tr style=\"text-align: right;\">\n",
              "      <th></th>\n",
              "      <th>id</th>\n",
              "      <th>label</th>\n",
              "      <th>tweet</th>\n",
              "    </tr>\n",
              "  </thead>\n",
              "  <tbody>\n",
              "    <tr>\n",
              "      <th>0</th>\n",
              "      <td>1</td>\n",
              "      <td>0</td>\n",
              "      <td>@user when a father is dysfunctional and is s...</td>\n",
              "    </tr>\n",
              "    <tr>\n",
              "      <th>1</th>\n",
              "      <td>2</td>\n",
              "      <td>0</td>\n",
              "      <td>@user @user thanks for #lyft credit i can't us...</td>\n",
              "    </tr>\n",
              "    <tr>\n",
              "      <th>2</th>\n",
              "      <td>3</td>\n",
              "      <td>0</td>\n",
              "      <td>bihday your majesty</td>\n",
              "    </tr>\n",
              "    <tr>\n",
              "      <th>3</th>\n",
              "      <td>4</td>\n",
              "      <td>0</td>\n",
              "      <td>#model   i love u take with u all the time in ...</td>\n",
              "    </tr>\n",
              "    <tr>\n",
              "      <th>4</th>\n",
              "      <td>5</td>\n",
              "      <td>0</td>\n",
              "      <td>factsguide: society now    #motivation</td>\n",
              "    </tr>\n",
              "  </tbody>\n",
              "</table>\n",
              "</div>\n",
              "      <button class=\"colab-df-convert\" onclick=\"convertToInteractive('df-b512351f-8d54-4d35-beb9-76fc49243aa2')\"\n",
              "              title=\"Convert this dataframe to an interactive table.\"\n",
              "              style=\"display:none;\">\n",
              "        \n",
              "  <svg xmlns=\"http://www.w3.org/2000/svg\" height=\"24px\"viewBox=\"0 0 24 24\"\n",
              "       width=\"24px\">\n",
              "    <path d=\"M0 0h24v24H0V0z\" fill=\"none\"/>\n",
              "    <path d=\"M18.56 5.44l.94 2.06.94-2.06 2.06-.94-2.06-.94-.94-2.06-.94 2.06-2.06.94zm-11 1L8.5 8.5l.94-2.06 2.06-.94-2.06-.94L8.5 2.5l-.94 2.06-2.06.94zm10 10l.94 2.06.94-2.06 2.06-.94-2.06-.94-.94-2.06-.94 2.06-2.06.94z\"/><path d=\"M17.41 7.96l-1.37-1.37c-.4-.4-.92-.59-1.43-.59-.52 0-1.04.2-1.43.59L10.3 9.45l-7.72 7.72c-.78.78-.78 2.05 0 2.83L4 21.41c.39.39.9.59 1.41.59.51 0 1.02-.2 1.41-.59l7.78-7.78 2.81-2.81c.8-.78.8-2.07 0-2.86zM5.41 20L4 18.59l7.72-7.72 1.47 1.35L5.41 20z\"/>\n",
              "  </svg>\n",
              "      </button>\n",
              "      \n",
              "  <style>\n",
              "    .colab-df-container {\n",
              "      display:flex;\n",
              "      flex-wrap:wrap;\n",
              "      gap: 12px;\n",
              "    }\n",
              "\n",
              "    .colab-df-convert {\n",
              "      background-color: #E8F0FE;\n",
              "      border: none;\n",
              "      border-radius: 50%;\n",
              "      cursor: pointer;\n",
              "      display: none;\n",
              "      fill: #1967D2;\n",
              "      height: 32px;\n",
              "      padding: 0 0 0 0;\n",
              "      width: 32px;\n",
              "    }\n",
              "\n",
              "    .colab-df-convert:hover {\n",
              "      background-color: #E2EBFA;\n",
              "      box-shadow: 0px 1px 2px rgba(60, 64, 67, 0.3), 0px 1px 3px 1px rgba(60, 64, 67, 0.15);\n",
              "      fill: #174EA6;\n",
              "    }\n",
              "\n",
              "    [theme=dark] .colab-df-convert {\n",
              "      background-color: #3B4455;\n",
              "      fill: #D2E3FC;\n",
              "    }\n",
              "\n",
              "    [theme=dark] .colab-df-convert:hover {\n",
              "      background-color: #434B5C;\n",
              "      box-shadow: 0px 1px 3px 1px rgba(0, 0, 0, 0.15);\n",
              "      filter: drop-shadow(0px 1px 2px rgba(0, 0, 0, 0.3));\n",
              "      fill: #FFFFFF;\n",
              "    }\n",
              "  </style>\n",
              "\n",
              "      <script>\n",
              "        const buttonEl =\n",
              "          document.querySelector('#df-b512351f-8d54-4d35-beb9-76fc49243aa2 button.colab-df-convert');\n",
              "        buttonEl.style.display =\n",
              "          google.colab.kernel.accessAllowed ? 'block' : 'none';\n",
              "\n",
              "        async function convertToInteractive(key) {\n",
              "          const element = document.querySelector('#df-b512351f-8d54-4d35-beb9-76fc49243aa2');\n",
              "          const dataTable =\n",
              "            await google.colab.kernel.invokeFunction('convertToInteractive',\n",
              "                                                     [key], {});\n",
              "          if (!dataTable) return;\n",
              "\n",
              "          const docLinkHtml = 'Like what you see? Visit the ' +\n",
              "            '<a target=\"_blank\" href=https://colab.research.google.com/notebooks/data_table.ipynb>data table notebook</a>'\n",
              "            + ' to learn more about interactive tables.';\n",
              "          element.innerHTML = '';\n",
              "          dataTable['output_type'] = 'display_data';\n",
              "          await google.colab.output.renderOutput(dataTable, element);\n",
              "          const docLink = document.createElement('div');\n",
              "          docLink.innerHTML = docLinkHtml;\n",
              "          element.appendChild(docLink);\n",
              "        }\n",
              "      </script>\n",
              "    </div>\n",
              "  </div>\n",
              "  "
            ]
          },
          "metadata": {},
          "execution_count": 21
        }
      ]
    },
    {
      "cell_type": "code",
      "source": [
        "def preprocessing(text):\n",
        "  text=text.lower()\n",
        "  text=re.sub(r\"\\d+\",'',text)\n",
        "  text=re.sub(r\"@\",\" \",text)\n",
        "  text=re.sub(r\"#\",\"\",text)\n",
        "  text=re.sub(r\"[0-9A-Za-z]\")\n",
        "  print(text)"
      ],
      "metadata": {
        "id": "dEm7aZrY2lJ5"
      },
      "execution_count": null,
      "outputs": []
    },
    {
      "cell_type": "code",
      "source": [
        "preprocessing(\"@user @user thanks for #lyft credit i can't use cause they don't offer wheelchair vans in pdx.    #disapointed #getthanked\")"
      ],
      "metadata": {
        "id": "pgHAqOJJ2lMG"
      },
      "execution_count": null,
      "outputs": []
    },
    {
      "cell_type": "code",
      "source": [
        "train['tweet'].apply(preprocessing)"
      ],
      "metadata": {
        "colab": {
          "base_uri": "https://localhost:8080/"
        },
        "id": "Dhc6POrl2lPB",
        "outputId": "dc4be6c8-5ea6-41db-97ec-aa1f7261e585"
      },
      "execution_count": null,
      "outputs": [
        {
          "output_type": "stream",
          "name": "stdout",
          "text": [
            "\u001b[1;30;43mStreaming output truncated to the last 5000 lines.\u001b[0m\n",
            "nofilter family amazing   finally haha ðð drink sheffield \n",
            "colorful painting that gives u   feeling of a lazy&amp; lovely summer sunday sunset  sundayfunday \n",
            "like this litle litle never saw in my life   lovebabies smallgirl smallfingers holidayinlithuania â feeling loved\n",
            " â us: firmer underlying trends in the economy to reasse themselves â rbc cm   blog silver gold forex\n",
            "throwback thursday liverpool thecavernclub and  user tourist tshi     theâ¦ \n",
            "vehicle   gorilla simulator: you need to do to adapt to the environment. the need to tear the city. materia \n",
            "i want to show the world. down syndrome is beautiful.  downsyndrome t awareness love beautiful   proudmom\n",
            " user  user well we didn't have the luxury of playing mexico. we've at least done it once. you've never done it. ever. dosacero  \n",
            "loveofmylife fiance   bestfriends love adamson ð \n",
            "sydney vividsydney  user blessed beauty beautiful happiness   lights love fitfam gym run lift \n",
            " user i just won a giveaway from you guys on instagram so excited  this awesome   \n",
            " user why should this person be rehired?  shame on claycountydevelopmentcorp pamelaramseytaylor \n",
            "happy easter everyone!  \n",
            " user  user that says nothing about \"throwing gays off roofs\" btw, your sources are as skewed as you are.  \n",
            "hard to think how  is still very much prevalent in so many societies. if you're not white, rest assured discâ¦ \n",
            "be   n healthy you donât get in life what you want. you get what you are. â jackie lapin \n",
            "i got sunburnt :( it hus pain youtube   \n",
            "happy aldubthweeksary  user &amp;  user ó¾µ  weeks more to go!   imagineyouandi\n",
            "  user a reminder for shopaholics :)   lessismore via  user \n",
            "get up get   get  enjoy music today free apps free music \n",
            " anmolshare: \"ff : reutersbiz save-insure-invest for a   future :) follow us for  times :)\"\n",
            "  user alcohol might have been a factor here country rock funny beatles pop   romance  \n",
            "sun shines thru tears!  via  user   orlando smilelife bproud awareness comegether nomorehate!\n",
            "left wingers are literally either lying to themselves or willfully ignorant. they're inundated with such degeneracy and have no idea  \n",
            "can't wait to be floating in my pool next weekend!!   winners waterbaby\n",
            "life is what you make it. letâs make it  ! motivation \n",
            "june  my pillar was born   bihday grootman i think i beâ¦ \n",
            "ku zouma âvery happyâ at chelsea  spos chelsea   ku very \n",
            "  user   user think of all the beauty still left around u &amp; be   anne frank a sensual nature andaelentari \n",
            "ascience museum   riclswtravelbook bearlovestravel trip travel singapore   enjoyâ¦ \n",
            "  user be h a p p y! qotd quote   inspirational \n",
            " user  user  user  user  user  user  user stay tuned for my cosplay!   ð\n",
            "so happy i migrated from jamaica... where politicians like this can't even mourn beautiful lives lost.   lgbt \n",
            "embrace the moment. congratz to all. \n",
            "gomez   rooster simulation: i want to climb the vast expanse of mountains. it reached the leakage cock want \n",
            "at  user today/tomorrow- such a lovely place to be  place with lots of happy pupils!\n",
            " user beloved gurudev â¥â¥â¥â¥â¥â¥â¥â¥   happy bihdayy to you â¥â¥â¥â¥ i love you sweeet lordâ¥â¥â¥â¥\n",
            "when you have no other option but to give up that thing.   \n",
            "bihday coming up so excitedððð  ! yeahâº\n",
            "wow! the  user criminals wouldn't fight for me but they fight for someone out of uniform   pathetic  \n",
            "oh wow! unbelievableteckers ð¦â½ï¸ð²  engvwal    \n",
            " user a genealogy of  xenophobia papalbull colonisation slavery  enlightenment polygeny pseudoscience \n",
            "  user sheeeeshhh lol \n",
            " user  user  bill you're a fucking communist antiamerican unpatriotic  disgrace take your  ass to russia...ððð\n",
            "family ð   family dad sister ll ff blackandwhite \n",
            "  news coming in of a youth getting drowned near siliguri.  as per sources a teenager who had gone for... \n",
            "[.] update    social analytics taichi likes opensource arduino   \n",
            " user agree just take bin but common sense they know who are persistent and those where it's a  one off   council tax tut\n",
            " user u should b ashamed of urself. ppl looked up  u at  time, now they feel u r the lowest of the low. corruption  \n",
            "live now girlfriend:  pussy boobs female babe webcammodel webcam   teasing\n",
            "  user when you are a pa of $  billion plus group...  user abglp first_job   abg\n",
            "happy little owl wishes you a happy friday with some tickles. owl friday   \n",
            "slow raise ð¿  beautifulobsession beautiful obsession beauty love   a instaaâ¦ \n",
            "about to buy kylie jenner lip kit  \n",
            "whether a woman is running for president or raped after a college pay -- the only thing that really matters in what she was wearing.  .\n",
            "guess whose englishtutoring is in the window of the pacificolifecentre in panamapacifico?!   \n",
            "big day tomorrowð  \n",
            "  fathers day   user \n",
            "  after sex ana beatriz barros nude video  \n",
            "got a great little cycling adventure planned for tomorrow ... involves taking in a bit of the  user race!   ððµð¼ðð»\n",
            "i'm very that the rd licensee intends to introduce us to glte. cuz idk what kind of crap service is this from  user   cross\n",
            "raw food diet benefits! -    altwaystoheal healthy   healing peace joy love !! \n",
            "u hu me but i cannot blame u. i gave u the power to hu me. i wish u well tho. dontbebitter   joy love relationship\n",
            "epic creations from god! tooblessedtobestressed thankful   mylife myhappyplaceâ¦ \n",
            " user last  retro christmasadve for you this year, and whilst i do love a good bit of tupperwear i do not wantâ¦ \n",
            "  user  user  user is the place to be! garysweekendbreakideas  user   \n",
            "dancing with the airð   holiday beachclub   potato head beach club bali \n",
            "model   i love u take with u all the time in urð±!!! ððððð¦ð¦ð¦  \n",
            " user    trump\n",
            "  user p/s mobile_trixs all_pikeg's news cricket info-funy + follow  user +  -petry girl-no friendship + folloâ¦\n",
            " a deeper look \n",
            "it's brooklyn's last v day of school.  \n",
            "all boys don't become men.  \n",
            "fiing to bonkers tm so happy  user   \n",
            "hope everyone is having great day,  we are off for ice-cream with sb ððð¦ð¦ð   sunnyâ¦ \n",
            " user the world is !! i tweeted earlier.... it's sad!! our world is turning into a political zoological disaster  \n",
            "good sesh on the bike. fitness health fresh  \n",
            "makeuptransformation   rooster simulation: i want to climb the vast expanse of mountains. it reached the le \n",
            "have a   friday! \n",
            "  father's day to all the dads involved with york schoolboys \n",
            "happiness and how to be more happy...    joy\n",
            "  user sooooo   to see this! \n",
            "agreed - fantastic performance and great night.  goglam  user  \n",
            "highlights samwu fights against  in various municipalities such as in naboomspruit area\n",
            "love instagood photooftheday top.tags tbt cute me beautiful followme   followâ¦ \n",
            "black spindle and zen metor all in one night destiny goodjob  \n",
            "  itwing to play impoant role in  polls: list of office-bearers   \n",
            "might film my first ever youtube video tommorow \\^^/    \n",
            "lmao   guys liking random girls pictures like they're gonna pay attention to you... they posting photos for the attention.  \n",
            "gogirl - summer   fun wellbeing  user cardiff swansea book now pls  \n",
            " user i think rm wouldnt mind letting him go...just doesnt seems to fit in zz plans... \n",
            "\"home is where the hea is\"  tarifa   beach beachlife girl swimsuit   tarifa, playaâ¦ \n",
            "scientists are against ! but only if the child is less than  months old...  \n",
            "aww yeah it's all good bing bong bing bong   \n",
            "hot bath  tv on my back up phone  a cold drink    \n",
            "i'll be there today lol  \n",
            "babies   booginhead sippigrip training bottle leash - blue green white  bouncingbaby\n",
            "happy father's day!  fathersday   dads dad lovehim hea awesome \n",
            "connecticut   attack bull game d: do you really think that his head was empty around the city. each side i \n",
            "oh yeah!!  do not make your photographer  . or else... ;)   photo photography mugshotâ¦ \n",
            " user  user  user  user his fuhrer is cheetojesus, repeated bankrupt and sho fingered vulgarian.   \n",
            "  user oitnb decided that for me ð­ poussey   face \n",
            ", user wait just a minute. nobody told me i'm supposed  hate sex. catholic   wife can i just fake hating it? fakeittilyamakeit\n",
            "loved doctors this week! gripping storyline  user  user  user fab   emotional greatacting ð¢ð±ððð¼\n",
            " user  user good morning sir! good weather today!  ! but busy.. no holiday. vacation qtd\n",
            "aww yeah it's all good bing bong bing bong   \n",
            " user  user really please your gran enjoyed it, pleasure meeting you both yesterday. what an amazing show   times wsm\n",
            "i am thankful for love. thankful positive     \n",
            "do the things that make you   ððð \n",
            "pcsjourney was woh it and i passed pedipt. \n",
            "outrageously busy. we've even sold our bunting!! ð  user show lifesfullofsurprises oxtweets   \n",
            "\"don't click here!\" daily video blog vlog - episode ????   wednesday indie musicâ¦ \n",
            "andyâ¡ superamigo handsome      san marino shopping \n",
            "hey guys  user it has been  months and still no greek subtitles added to your content. is that so hard?   dissapointed\n",
            "we hope your weekend is happy and beautiful!! :)     beautiful salonlife stylist vermontsalon weekends... \n",
            "wooohhhh on the train to london!   ððºðð dachshund travel adventure dog \n",
            " user very much so.  \n",
            "breakfast holiday pougal     the irish rover \n",
            "  user feeling, smiley âºï¸ selfie smile   photooftheday positive positivevibes summer day \n",
            "found out this morning that my friend of  years is the uncle to  of the victims.  user  user   \n",
            "look at the   faces! mango and his new family thankyou for adopting! hacambriaâ¦ \n",
            " user and need i mention all the money you have received from the nra..who is more responsible now? disgusted   noherome\n",
            "  geranium nature photography quality prints and cards at: \n",
            " user you said it all in your  last tweets...ð¥  will all this crap end one dayð    \n",
            "gamesofthrones was amazing cannot wait till next weeks!   ââ ð¡\n",
            "have a great day guys! ðð¦ð½ friday selfie blessed   \n",
            "ready for glastonbury? with weather so unpredictable shos &amp; wellies is a good call. only  days to go,  ! \n",
            "gloria freaking estefan is performing at the  user you guys, this is huge!   cantwait\n",
            " user can't wait for my first box to arrive this month! any clues for the august box or when it's to be revealed?   marvel\n",
            "  user  if you luv hottweets like this from â¶ â¥venusexchangeâ¥ \n",
            "he calls me the devil, i make him wanna sin ð me girl selfie friday   smile cheesyâ¦ \n",
            " user pathetic push as the kicker hit it. penalty. replayed it about  times.  .\n",
            "  &amp; grateful that money comes to me in increasing quantities from multiple sources on a continuous basis \n",
            "my name in the sand trip beach ocean sun sunset   \n",
            "ios . no dark theme.    user\n",
            "due to the nature of my work, i miss fav themorningfix, have to catchup on twitter ,   user    user   user\n",
            "  user stop looking for reasons to be unhappy and think of all the reasons you have to be   instead.\n",
            "i am genuine.i_am positive affirmation   \n",
            " user  user apparently not as long as it took you to think of that weak response.  \n",
            "  nhsscot check out the data black box ! datacosmology analytics intelligence \n",
            "first hard workout from florida-based coach  user &amp; i had  â°c &amp; % humidity at :am. feeling pretty florida. runchat sweaty  \n",
            "i live in a country where the  user isn't number , and the presidential candidates are unimpressive at best. murica  \n",
            "hope it goes well so everyone goes home  , thinking bout my honey babe in heaven  user \n",
            "just received my  user frame. nobodyputsbabyinthecorner it's back in the box ready for it to be put up in my new house!  \n",
            " user i want to hear more about this story.  \n",
            "  user  user so   pray  christina's family &amp; friends rip\n",
            "so tired of dealing with customers, i have literally reached the end of my rope. i need something good to come out of tomorrow. retail  \n",
            "made an awesome pork in oven... and my daughter eats everything but the pork.  \n",
            "  naked girls official website fuckwomenoffice  \n",
            "this definitive history of racist ideas should be required reading  ushistory afamhist \n",
            "a   comic to make you smile and laugh. \n",
            "  user  user whoever developed  itax did a wonderful job filed my returns in a record one minute.... \n",
            "flowerlove   bull up: you will dominate your bull and you will direct it whatever you want it to do. when y \n",
            " hours until e  begins with  user  \n",
            "shopping time with girls ð mymood mytime beinlife vacation     markantalya \n",
            "  user only  hours away from first trivia night at the  user in navyyard !    \n",
            "   days purfles \n",
            " girl | when your weekend stas already on a wednesday ó¾³ó¾ modeblogger \n",
            "filibuster... no... not dylan  user  \n",
            "um why a girl and not a boy? or maybe just gender neutral teenager.  \n",
            "sex videos of chinese  against women in the workplace \n",
            "rocking my new hair style.yoruba babe to de core   sunday folks  \n",
            "  user oh lord.   mylifeiscomplete cutestbaby mybaby mygirl ourangel sohappy love \n",
            "bummer! disappointed i wasn't able to replace my list  user sweater... i loved that sweater! :(  \n",
            "life is what you make it. letâs make it  ! motivation \n",
            "oomf be ready to fuck the next bitch after a break up ð¤  \n",
            "first nodejs expressjs app live on heroku   \n",
            "i love my family ðð family latepost love grace blessed   afterchurch sundayâ¦ \n",
            "if you want creative workers, give them enough time to play.   success quote  \n",
            "how can you be   &amp; focused? through balancing challenges and skills. mihaly csikszentmihalyi \n",
            "this never happened ð  user  \n",
            " user and stop crying \"bhakt bhakt\" when you are cornered with no rational answer to offer. trust me read a book! it willâ¦ \n",
            "pomona   polar bear climb racing: angry polar bear climb racing, the polar bear living in cold places looki \n",
            "heyy, i saw that u are a health lover, so i encourage u to test my new app, it's called mytraining on app store \n",
            "i'm so   and grateful now that - affirmations \n",
            " â gbp/cad resumes decline, hits fresh -month lows   blog silver gold forex\n",
            "how to be perfectly   alone:  transformational tips  via  user\n",
            "happy weekend! golpe your dreams, be happy, smile ð un besazo mis princesas!    smileâ¦ \n",
            "approx.  million voted for the tinyfingeredpuppet but over  million voted against him. he has no mandate &amp; conâ¦ \n",
            "visit me:   i wish all of you beautiful and   fullmoonâ¦ \n",
            "happy end...ðð manga anime skrin  end  \n",
            "millions of people will go to bed tonight and wake up with a stiff neck, headache or numbness in their hands.   \n",
            "it's a very   monday - let's pray for the injured and the families in orlando and in france make us proud to be english\n",
            "a   girl is always pretty shine noho \n",
            "  usaflagday! getting ready to raise the standard \"old glory\" flagday read more here:  \n",
            "so   jo' cox died wrong place wrong time nothing to do with politics rip my thoughts are with her family\n",
            "are you a little   ? \n",
            "i am thankful for the kindness of strangers. thankful positive     \n",
            " user i'm so   for you michael!! i hope you had a great time, enjoy your life now\n",
            "  user i wouldn't say  user or  user are the bitchy ones in this series. i loved  user in first series but nâ¦\n",
            "living with a survivor of traumaticbraininjury (tbi) can be deeply   and very frustrating... \n",
            "pattaya legend âbig steveâ dies at     rip pattaya\n",
            "  user get in!! ð k run this week ðð¼ð i'm happy with that! running feelgood healthandfitness   positiveenergy runhappâ¦\n",
            "in the meanwhile, fifa is revealed. new journey mode has been added. life in and out of the field   ðððð\n",
            "model   i love u take with u all the time in urð±!!! ððððð¦ð¦ð¦  \n",
            "it's funny how the weather can change your mood. sunnyday  \n",
            "bihday bitch. i'm a fucking princess today. ððððð selfie bihday  flowers   \n",
            "good morning worldð¤ today is a big day for me. im having a movie screening for my film \"the commute\"   nervous epic ð¬â¤ï¸â¤ï¸ blessed\n",
            "well it works on the winter blues  via   \n",
            "guess what i'm doing tonight!! oitnb netflix   piperchapman   sutton coldfield \n",
            "model   i love u take with u all the time in urð±!!! ððððð¦ð¦ð¦  \n",
            "how to create the life you want  success lifegoals lifestyle settingsuccess lifehacks  \n",
            "be   being you! thank you  user for this inspiring adve campaign beautiful \n",
            "maggie is just as   as me for my allages cdrelease at the space ( harbour dr) yytâ¦ \n",
            " user  user aww shame not elveden! we are going in a couple of weeks  \n",
            "bite was on today!!!   clients redsnapper traditionfishingchaers turnthehandle \n",
            "  user if you try to wreck my happiness, i kick your butt. life inspirethemretweettuesday   \n",
            "soon i'll be packing my bags. goingtojapan   yay!!!\n",
            "this little girl love daughter   \n",
            "friday ð weekendfullofsurprises  \n",
            "i feel like i lost so much innocence assumethegood amdg  \n",
            "greens   bull hill climb: you have to reach the target to complete the task to survive. with strong excitem \n",
            "expect lauren and camila will avoiding each other again in their nxt show frm now on, dont expect a camren interaction.   truth\n",
            " ways to b   in life- never take help of tears to show ur emotions..&amp; never take help of words to show ur anger..\n",
            "take me back to last saturday wearepoadelaide power adelaide oval cold   memories selfie  user ðððððð \n",
            "alapoet: if  pisses you off like it pisses me off, here's something you oughta know... this guy's a racist â¦ \n",
            "beard â¤. .   toptags days day smile fun instahappy goodmood sohappyâ¦ \n",
            "  user hey everyone i'm new on twitter  \n",
            "now playing  :  lubomyr melnyk - \" nightrail from the sun\" on     music song \n",
            " user  user it's an a &amp; takes a ceain kind of person to scam &amp; be scammed. vulnerable &amp; lonely ppl  given some attn. \n",
            "i am thankful for having imagination. thankful positive     \n",
            " â pougal consumer price index (yoy): .% (may) vs previous .%   blog silver gold forex\n",
            " , commercial, cow, chipotle  \n",
            "after the orlando shooting, this photo is not as funny- :-/  \n",
            "i am beaming. i_am positive affirmation     \n",
            "these little horror trinkets make me far too   horrorblock  user freddykrueger jasonvoorhees sam \n",
            "ââðð ð    toptags  top.tags nothappy cry crying tearsâ¦ \n",
            "given the nazis looked to jim crow for inspiration this is especially true regarding what to expect fromâ¦ \n",
            " user bestseller motivation   spos  \"never go to bed without a dream or wakeup without a hope\" \n",
            " user i'm on hols now for  days what do i do? \n",
            "sheikh romance book by lisa love  goodread at amazon   reading romance \n",
            " user what about mexican fans? :( nobody care about us  \n",
            " mindsconsole: the best way to avoid disappointment is to not expect anything from anyone.   motivation\n",
            " user truth is, it's doubtful that we're even scratching the surface of their depravity...guns give them the manhood they lack.  \n",
            "  user deadpool out monday on dvd/bluray &amp; fancy k. hmv exclusives available.   marvel hmv tunbridgewells \n",
            "samsung   bull hill climb: you have to reach the target to complete the task to survive. with strong excite \n",
            "listen to no love ft. tlc by dr. fresch np on soundcloud purelove tlc gymvibe amazing bass music   yes \n",
            "i don't know what the point in twitter is i'm just talking to myself because no one even likes or retweets my tweets  \n",
            " user  user  user  user they say anything to run from his liberal polices of big gov't and fewer libeies  \n",
            "this looks like a really wonderful option, especially to use with students who need accommodations.    \n",
            " user has fooled a lot of young ppl who haven't researched her felonious acts. her blatant disregard for  americans lives.  \n",
            " user thank you for the  too :)i hope your weekend has been great also, it's a busy one this end,all good though.   sunday x\n",
            "you can't help the damsel if she loves her misery.   \n",
            "euro countdown to opening game fra rou  i'm so    and i can not hide it  i think i'm losing controle and i like it.\n",
            "ð¢ð such heaache lgbtq   pulse \n",
            "  user how to be  : make a personal choice be easily satisfied pursue purpose enjoy god . user  user\n",
            "  user  user snow white  --&gt; open! --&gt; sleepy,  , sneezy and bashful.   or dm us today! \n",
            "\" simple rules for a   life\"  user quote leadership inspiration   user  user \n",
            "i'm going to hell for this ððððð   \n",
            "my new puppy i pick her up saturday   shesabeaut \n",
            " user sad how people feel they have to treat others like scum just because of their religion, race, sexuality, ect. jcpenney râ¦\n",
            "kits have arrives for our first hmp wandswoh rugby course next week!!   rolemodels mentors  user \n",
            "final planning before the cftflaunch!  with  user &amp; cory.   aintnopaylikeacftfpay cardiff \n",
            "feeling    user bringing back eurotrash amazing latenighttv auntoine jeanpaul\n",
            "very dissatisfied with  user online let us rent at a. location message said noon customer rep now says not until pm  \n",
            "weekend   findesemana sabado magicalthingsbymiriam \n",
            "  user  user watching as, one by one, gop puts pay/+politics over principles. self-deluded ppl knowing better but refuâ¦\n",
            "i'll finally be legal in less than  months   praysgod\n",
            "diaries and memories are such a precious thing ... kids   cute love mylove itsjustlife \n",
            "\"who basis their decisions off of media?\"- user toomany  \n",
            "an old acquaintance found murdered back home. the attack in orlando. the mass murder in roswell. not even mentioning anywhere else.  \n",
            "no kinder eggs? are people actually still officially allowed to think for themselves? or is that banned next...   \n",
            "anyway, that's what i was chillin here thinking while i grubbed some agua chile and had a foot massage from the love of my life. ð  \n",
            "mma fans: losses don't matter, it's great! mma fans about rhonda rousey: she's lost twice, she is trash.  doublestandards\n",
            "it's euro eve  \n",
            "preach pres preach  \n",
            "\"think of all the beauty still left around you and be  .\" | anne frank | quoteoftheday  encouragement \n",
            " user look at his latest tweet. this conman  user doesn't want unity at all. bigot  conman  user\n",
            "burger =   moment ð  i like the way they present the burgers. it almost seems like tâ¦  \n",
            "happy b dayð¯ðð¤ð½ð­ \n",
            "seriously sad &amp; scary.   user    scary\n",
            "beautiful face âºinshot girls cute summer blur sun   fun dog hair beach hot coolâ¦ \n",
            "  hardcore anthems naked babe in sweatpants  \n",
            "  user undoubtedly the islamist post had the trolling muslims mark it as offensive, and ratty facebook succumbed ð   htâ¦\n",
            "dreams of home :) dream home    \n",
            "model   i love u take with u all the time in urð±!!! ððððð¦ð¦ð¦  \n",
            "prepare cocktail pay sweet bali cute   balinese prepare boy instadaily instalikeâ¦ \n",
            "gearing up for this weekends wedding!!   peonys vintage gorgeous flowers shoplocal \n",
            " user begging...  ! \n",
            "it's friday night... that means pizza and overwatch ps gamer nerd teamnofriends  \n",
            "  user  user have just announced an nz show and i'm not sure but i don't think i'm breathing anymore.   ptx\n",
            "why do you always try to make me happy?  i dont know he to make you sad.  love devotion  \n",
            " user just terming ppl as bhakt because they denounce terrorism and anti national acts shows ur sense to reason! never miâ¦ \n",
            "  user find our dog treats in  new spots from todayðð¾.. user &amp; the bark park doggiedaycare on mallow road   \n",
            "  user me too, from a young man on i listened to elvis! \n",
            "not really happy now a days but i'll fake it. gayboy   justwannagohide justsmileandhideit. \n",
            " user if flacciddonald can't even erect his -inch self, how's he going to erect giant wall along the border? chode   flaccid\n",
            "so excited to be unpacking my genus ultra! can't wait to use it! arbonne genusultra newproduct   vegan \n",
            "suga x j hope   bts day pay:  via  user\n",
            "brisk_and_fade-stay_here_forever__retro_rush-(ng)-web--ukhx_int . next generation web   hardcore gâ¦ \n",
            "singing out my eyes are open ....  user  user   octobernd \n",
            "happier now than i have been for a long time. finally   yay\n",
            "k so someone who works for the retailer i work at actually was in the orlando shooting and it haunts me because she's pa of the team  \n",
            "found this in my archives. lovely picture son   popular parents boy \n",
            " user be careful using that term about  user and other -s - once you tweet it, they are almostâ¦ \n",
            " user what about black tea?   user\n",
            "  user my house is an ice cube &amp; idk how to turn off the air  \n",
            "ð ð¸ ð ð love instagood photooftheday top.tags tbt cute me beautiful followme  â¦ \n",
            " , crying, natalie poman, barber, v for vendetta, hair cut, shaved head  \n",
            "usa   gorilla simulator: you need to do to adapt to the environment. the need to tear the city. material da \n",
            "i am honestly so hyped for mount and blade banner lord. ..it's unhealthy xp  bannerlord  \n",
            "  user well pittsburgh we have to wait now for the  user to see what they do.  user are not doing nothing   changesneâ¦\n",
            "i feel crazy in love and happy inlove crazy  \n",
            "saysomething   bull up: you will dominate your bull and you will direct it whatever you want it to do. when \n",
            "that one moment when you realize how much you're going to miss being in english with mrs. young   wish i could do it all over\n",
            " user just got my vip ticket for july th london gonna be awesome  \n",
            ": moment   instapic instadaily city cityscape skate picture picoftheday   museoâ¦ \n",
            " love,     are people team saruman or team frodo swaggins ?\n",
            "bailame! ft. yandel, shaggy ðð¼ dancers latinmusic bestoftheday   music friendsâ¦ \n",
            "i keep blocking news such as the toddler killed by an alligator or the woman who jumped from a bridge into the river holding her yo..  \n",
            "a as auld chalkboard   architecture please :  \n",
            "off to hiroshima as pa of the tour~   allout\n",
            " user mmusimaimane is a  coward! who suggests that only white people in southafrica can be s. daâ¦ \n",
            "  user thedukeandduchessofcambridge attend royalascot ð -// cute beautiful love inlove sweet   sweet \n",
            "  or   ? tkharbich illustration by aminlazir suppo_aist drawing a adobe \n",
            "powerful  father's day! \n",
            "  user sorry? sorry?? themusketeers not on again until mon th? bad enough that it's the last series without  user messingâ¦\n",
            " ...gosh that just made me cry.. ð¥ \n",
            "  user thank you lmc family ð retreat lmc giveback thankful  â¦ \n",
            "we provide professional networking for women in business; franchise launches this month       sbs \n",
            "ugh, i can't wait to get home! making steaks! they've been marinating all night and will be all day tell i get home tonight!  \n",
            "i wanna watch conjuring and me before you, but no one wants to come with me.  \n",
            "just realised its fathers day omg   fathers day to all dads out ther\n",
            "  user hadn't realized extent to which  user was complicit in jimmy savile's pedophilia &amp; rape. paedobritain   \n",
            ".god speed gordie. rip   \n",
            "isn't it sad  how i keep thinking you'll change your mind and love me back?    fav emoquotes \n",
            "  fathers to everyone haykrico \n",
            "choose happiness    pharellwilliams  user ellen  user  lovelife expressyourself askforhelp be\n",
            "model   i love u take with u all the time in urð±!!! ððððð¦ð¦ð¦  \n",
            "healthy   a ceification alone wonât attract students. \n",
            "itâs pretty fâcked up that in america you can be hated, persecuted, and killed for just being yourself   orlando\n",
            "the fact that we are even having the conversation about hillary as president is very troubling. where have we gone as a nation?  \n",
            "oh yeah, i now have a degree! result   success\n",
            "yep...definitely me...ðððððmean meanmuggin   stare cat animallovers lol lmao bruhâ¦ \n",
            "  user if i get  retweets i will show my boobie &lt; boobies boob   retweet\n",
            "can lighttherapy help with   or depression?   altwaystoheal healthy is happy !! \n",
            "are â¦ black &amp; feel like the  are stomping on you? listen  retweet tampa miamiâ¦ \n",
            "bob ross is a freaking genius. prussian blue is my favorite color. thank you netflix!   trees\n",
            "stromboooooooli! yes yes yes vosjes popuprestaurant  \n",
            "i deserve this! i worked hard this week ð workworkwork gelato haagendazs choclatelover   \n",
            " user what did those people ever do to deserve this? nothing. they were innocents looking for fun, what if it was your child  \n",
            "  user had a great bihday ððâ¤ï¸ ! this is only pa  ! pa  will be this saturday   \n",
            "break time! :d mom momlife newmom workingmom mombreak mompreneur   relax metime fun coffeebreak \n",
            "  user do you get   easily? don't risk your help health by letting negative emotions get the best of you. health \n",
            " days until  user !!  \n",
            "  monday twitter!! - user &amp; queenð \n",
            " user yeeeeee!!! all my loves â¤  bradybunch morethemerrier \n",
            " user plz learn to not be so soft   user or  user  on the voice that will make me  \n",
            "when people get hu, they learn how to hate  inshot cute summer blur sun   fun dogâ¦ \n",
            "  user today and everyday choose to be happy....even in the midst of difficulties...  womeninspired fridâ¦\n",
            "they really need a serops here in atl best salad ever..... nothingcompares  \n",
            " user  user ... and biherism &amp;  . must keep the black president in check.\n",
            " user  arr look at taylor on the slide!! ð   sister x\n",
            "makeuptransformation   rooster simulation: i want to climb the vast expanse of mountains. it reached the le \n",
            "i genuinely teared up at the sisterhood of travelling pants movie... didthatreallyjusthappen   happy toomanyemorions\n",
            "it is game   all over again   nbafinals\n",
            "  user people move to another state and expect to get different results.  \n",
            "  user be happy ðâï¸anchored recoveryâï¸ð -- or -- anchoredrecoverytreatment goodpositive \n",
            "  user thanks!  user   kidsrehab  \n",
            "forever glad to be meðinshot girls cute summer blur sun  â¦ \n",
            "be   n healthy i have never staed a poem yet whose end i knew. writing a poem is discovering. â robe frost \n",
            "coke headz really nead to stay out of my circle! its crazy! seem like everyone is doing that b.s these days!  ... \n",
            "  user my mind is absolutely buzzing after beachschool session yesterday! so much potential!!   earlyyears eytalking\n",
            " livelypics: if you drink enough water in the morning, you will feel happier, sharper, and more energetic throughout the day.   motivâ¦\n",
            "where to sta...ð¢ð¢ð¢ \n",
            " user  bihdayjayna, god bless u wth lots of happiness, many  returns of the day!ð±ðððððððððððððððð \n",
            "with my favourite guy â¤ï¸ð cousins family flowers snapchatfilters   cute \n",
            "easy like sunday morning // zen a abstract photography ocean beach belize   peace \n",
            "the pain and pleasure of   music | melancholy tragedy emotions study |  | \n",
            "devestating super   restinpeace new angel ððððwe lost a beautiful being today. rip \n",
            " user  why do people still do these   \n",
            "damning video: racist hillary says ' i will only talk to white people'  hillary \n",
            "arkansas   gorilla simulator: you need to do to adapt to the environment. the need to tear the city. materi \n",
            "beau coup of blue. blue color   life \n",
            "peppa pig   birds lollipop finger family \\ nursery rhymes lyric...  via  user\n",
            " user  user  user  minutes...that's all that's left of an epic  user  season.   iwantmore\n",
            "good morning! have a happy tuesday!  tuesday morning coffee fabdivas   \n",
            " user  user i'm   too!!!  we love you!!!\n",
            "holiday nails ready ðð» holiday nails orange pretty   girlstuff \n",
            "i love lollys story!   orangeisthenewblack\n",
            "  user i shouldn't of looked when i'm trying to sleep!!  user disney nosleep   \n",
            ":-( depressed depressededit suicidal   notokay selfharming (vine by  user \n",
            "  shopping at farmersmarket.  user \n",
            "  user   valentine's day!!   \n",
            "  user looking at the dvr schedule and seeing that there is no new survivor on tonight.   \n",
            "  user nearly time for a lunch time run   run who's going out? runlikeyourobbedit  user\n",
            "in taxi en route to the  user awards  user   \n",
            " user  user  user  user   been a fan since the very st episode. you were the st and will always be the best\n",
            "having a great time afternoontea  user foodie london summersixteentour bbloggers lifestyle   bus \n",
            " user  user  user stop the sale of guns please. how many more will get killed like this?   \n",
            "choose happiness.   personaldevelopment homebusiness \n",
            "  by pearljam  ~ i'm playing songpop!  - \n",
            "after ace water spa. coffee ulit. ðâï¸ coffee addict friends pamper   blessed loveâ¦ \n",
            "rain, rain, rain in birmingham..looks like  user will not play today again ...   user\n",
            "fridayfeeling is   as we sta reading the submissions for our opencall get yours in now to be included \n",
            "  user so done!! flight delayed by nearly hrs!!!!  &amp;frustrated\n",
            "childhood   bull up: you will dominate your bull and you will direct it whatever you want it to do. when yo \n",
            "day : i was   to have  user and zihao.lee to accompany me tonight to try to meetâ¦ \n",
            "customer appreciation is key! day  consumer marketing sense customer   \n",
            " wakeuppeopl: one of the most powerful photo    motivation\n",
            "sta training week in the morning. can't wait for the opening of our buffalo wild wings!!!   ððð\n",
            "  user honestyhour i always break my back to see if ppl straight but it's never vise versa    !\n",
            "sometimes it's best to seat, relax and enjoy a glass of wine to celebrate yourself. cause they won't be an other you.   fathersday\n",
            " user imwithher blacklivesmatter  bigot xenophobia socialjustice notmypresident &amp; any other stupid lib word  woâ¦\n",
            "in  weeks, i'll see these faces on a permanent basis!   thanxgod \n",
            "can atherapy and musictherapy heal your life?   altwaystoheal healthy   healing! \n",
            "my hea is calm &amp; my smile is genuine â¤   smile \n",
            "dropbox - rugged maxxx ().jpglove instagood tbt photooftheday cute me beautiful   follow followme  \n",
            "  user fantastic day  user  user  user  user  user  user add  years of life &amp; improve lâ¦\n",
            " user  user not eligible as i'm from the uk ð¢   wanttowin\n",
            "why's everyone unfollowing me   why stop dididosomething\n",
            "goal ger gervsukr  user  and  user with the lead...a great sunday suitelife   \n",
            "i am thankful for love. thankful positive     \n",
            " user  user thank you  making this invention experience possible for so many hs students!  user drewdesign  \n",
            "if i knew before that get some suppo of very difficult from  user  will be better change the phone brand.   nothinghappn\n",
            "attacks  week old baby. kills mother. shocking   disgusted \n",
            "blackiwhiteboy - na: porn nude xxx nasty young   horny slut hot shy sexy naughty kinky we... \n",
            "happy saturday! smile   saturday weekend swimwear neon beach summerholiday goals inspo bikini laugh \n",
            "if you are pa of the . mil who rejected putinschoice boycott? his business.  &amp; hatred must be stoppeâ¦ \n",
            " user ahhhh...  user believes in the sanctity of marriage... so much that he's tried it thrice!  \n",
            "in just over  hours we will set off for the peaks! ðððð»ðð»â°ðð»   nervous determinedâ¦ \n",
            "  user good morning worldð¤few projects got us  ! stay tuned  godbless whiterabbit   user  user \n",
            "  user can't wait for  user  user  user boatclub ibiza glamsquad are working there magic!! excitâ¦\n",
            "plan a summer  hour with us at buandmax's! call general manager steve mann for inquiries: -- \n",
            "werk put inðð¾ð¨staed with a mi run and ended with absð¥ cardioking healthy run  â¦ \n",
            " user  user fine ill boycott it! \n",
            "scribble   polar bear climb racing: angry polar bear climb racing, the polar bear living in cold places loo \n",
            "made these for my dorm excited to go to troy troyuspirit dorm   \n",
            "  user people don't know how to respect a relationship anymore  \n",
            "centennial   rooster simulation: i want to climb the vast expanse of mountains. it reached the leakage cock \n",
            "lol i get to be a business woman tomorrow and the day after that and after that and after that  \n",
            " user cavs i see game ,ððð cavs\n",
            "the squad summer camp end of week trip is all booked.   ðâï¸\n",
            " days off now and a cheeky trip to the euros euros  \n",
            "what we think....we become....  positivethinking    loveyourself  lovemylife \n",
            "  user here we go..... canievenpaintanymore newproject fabercastell winsorandnewton experiment   notpencil ðð®ð \n",
            "love when my room smells like vanilla. love the smell of vanilla period. incense i hea u. vanilla incense candles   room sweet\n",
            "creative days are   days. make stuff everyday\n",
            "  fathersday ! looking for something to do? see what's trending in your community at  \n",
            " user wow! ur eloquent commentary on  user &amp;  user was epic shakespeare true honest brilliant  \n",
            "  hour djgeezð§ downtownphilly \n",
            " office woman porn blue tube \n",
            "repost  user with repostapp   international albinism day everyone! ava clarke andâ¦ \n",
            "healthy monday ððµ regram  user healthyfood lunch eatclean monday paris love share   peiple food \n",
            "china - expat - events - get social - get   - internations is the ticket! - join free! \n",
            "  anal sex gallery humon n sex  \n",
            "sukhbir badal announces office-bearers of   west coast zone america and california  \n",
            "instead of a united front against the gop nominee who is a racist, tyrannical  liar and sociopath i've been arguing with other dems.  \n",
            "  user what makes you smile the most? friends family food money love romance poll vote  \n",
            "  user you can do  good things for some people, but all they remember the one bad thing unintentionally happened by you. worâ¦\n",
            "thank you card from viola ó¾ó¾¬  makes our morning when we get these happy customers who love their hair! ó¾¬ó¾­©   ... \n",
            "h.appy at work conference: right mindset leads to culture-of-development organizations    work mindset\n",
            "  user new project on the way, and nothing can stop the wrath of my pen! amwriting     books\n",
            "  user tomorrow i become mrs galloway ðððððððððððððððâ¤â¤â¤â¤ðððððððð  !!!!!\n",
            " â new zealand current account - gdp ratio meets forecasts (-%) in q   blog silver gold forex\n",
            " user  user  user  user  user i'm mixed w/ native american, spanish, irish and u call me  ð\n",
            "...what am i saying. yes i will i'm just  \n",
            "  june  i'll be htx allsunmer long. june to august, and then finish up the summer inâ¦ \n",
            " user  user  user could someone pleeeease tell me what time i will be able to cross ournewbridge tomorrow??  \n",
            "  user ramazan hs always bn a month of barkat/blessings n peace,with wahabism hijacking islam it's just bloodshed ** orlaâ¦\n",
            " user it's just   &amp; my opinion ð\n",
            "i am thankful for vacation days. thankful positive     \n",
            "  nationalbestfriendsday sisters family love thank you  user for being my best friend ðð \n",
            "a animation by rima regas, blog \n",
            "good night.   =)\n",
            "hookah nights are just great nights. hookah lavoo   latepost hookahbonding \n",
            "i am courageous. i_am positive affirmation     \n",
            "wen u see something that surprises the fuck outta u &amp; r still in shock ð±ð±âºï¸âºï¸ facetime   omg watdidijustsee \n",
            "sad to say that the warriors legendary season is completely tarnished lol  don't mean shit without a ring  \n",
            "  user \"who hired these stupid people?!\" uh, the people you hired boss.   dumbdonny donthecon . user  \n",
            "decided on the next lens i want, and it's basically the same cost as a mogage payment on a really nice house  \n",
            "the highest happiness on eah is the happiness of marriage. âwilliam lyon phelps wedding   love \n",
            "lots of love and fun milleniawalk   milleniawalk fun   family instafun selfie mallingâ¦ \n",
            " user   father's day to all men. god bless our men in all things. amen\n",
            "good morning guize have a nice day...   tuesday morning. \n",
            "do you want to stop smoking, shed weight, build confidence, smash a phobia or be  ? contact me now --&gt;\n",
            "failed businessman  user rips off realamericans.  pathetic   disgusting \n",
            "all nighter wd my cousin...supernaturalfest supernatural wednesdaywisdom alltheway   \n",
            "happy bihday to mayuko!!!  ìì¼ãã    bihday mayukoday \n",
            "  user queuing for merch... show stas in less than an hour!!!!!!!   btsepilogueinmacau btsinmacau \n",
            "  user a photographer from beirut captured a day in the life of a stray cat    instagram\n",
            "babies   dream on me verona lightweight stroller - red  bouncingbaby\n",
            " user  user i cut too ð¿ððððð«ð«ð­ð­ð­ emo depression   anxiety emotions \n",
            " user it being tupacs bihday ð and my bihday as well play me thugs mansion by tupac   bihday  tupac shakur yr dearly missed\n",
            "how in the hell am i suppose smile i got screwed over at my job by some idiot i'm done with life period failure  \n",
            "  owner &amp; thairapist:\n",
            "listen to free meek mill.  dwmtm at realreligon by fly kah np on soundcloud   user\n",
            "don't count the days, make the days count.   spring memories ð¸ flowers ... (vine by  user \n",
            "morning !!! nothingisordinary likelike likelike louteasdale   you \n",
            "another rushed morning lol that's my life have an amazing day love life   goalsdreamsâ¦ \n",
            " user what's up orange creamcicle ?  peaked.  losing.  \n",
            " user  user  user me to can't wait to listen to it   xx\n",
            "  user mondaymotivation mondaymorning teamshide  user realtalk ! shideism smile and be   always. grateful \n",
            "like father like son my big man   fathersday imageofthefather iamtheimageofhim fathersday fathersâ¦ \n",
            "happy father's dayâ¨  fathersday fathersday  father diy easy video tutorial  cute fathersdaygifts \n",
            "because i'm happy ð   day  happiness feliz diafeliz felicitã  felicidadeâ¦ \n",
            "  user paccho's cafeð´ð myself pancakes soufflã© cafe sweet dericious    æä½ã ãã³ã±ã¼ã­ ã¹ãã¬ãã³ã±ã¼ã­ ãµããµã åç¾ ã«ãã§ \n",
            "  user goodmorning -- all guys   sunday plz retweet my tweets &amp; follow me  have a nice day \n",
            "room ain't been clean since i came home from college ðª  \n",
            "how blessed am i to have these two precious monkeys! love brothers bestfriends   forever \n",
            " points bozo  \n",
            "  user less than a week til  user   ð\n",
            "god bless you today and every day  god jesus love jesuslovesyou prayer worship   faith religious \n",
            "  user wow!  of you have followed us in just the last week since we launched... overwhelmed delighted   \n",
            "no juliet, no romeo &amp; no doe ð add me on sc: mcllibreð» mood   followme bestofthedayâ¦ \n",
            "policeman cheats on wife. mistress kills wife. mistress gets life in prison. husband goes on merry way with no consequences. beyond  !\n",
            " user thanks for the hassle. love showing up to pick up a rental and the rental isn't available.  \n",
            "good night ð´ð¤ð¤  ðâ¤ï¸ y'all   snapchat: barbiets. ð»    tranny ladyboy  asianladyboyâ¦ \n",
            "the fridayfeeling at helpethan.com?  !! more cast into and pics next week. have an amazing weekend! \n",
            "  user \"feelin' goood!!\" thursday piglet sunbathing stretching   \n",
            "foods for healing your body!!    doplants! healthy is  !! \n",
            "less than  month! our tennessee &amp; alabama extravaganza is getting close!   music songwriting recording \n",
            "drinkin my coffee &amp; listening to a story bout how hilary clinton defended &amp; set free a brutal child rapist. knowing he was guilty.ð¤  \n",
            "according to  user  user is the best iphone app in ! â¡ï¸page â¬ï¸ ððð¼    \n",
            "simply  ! and blonde! meandmybaby bumbabybum love  user stevemccurryâ¦ \n",
            " user blackface, prostitutes, hatespeech: a brief history of the mummersparade behaving badly'  xenophobia  \n",
            "when i order a mars mcflurry i expect a mars mcflurry. not mars. good job my gf isn't allergic to biscuit. mcdonalds    user\n",
            "thank you!! the power of social media!    user aande \n",
            "way to go, pizza  \n",
            "a new batch of bowt just went in the oven.  soon you can be this  .    user \n",
            "holy shit i miss my girl so damn much and its been like  days since ive seen her what the fuck  \n",
            "  user edible wild plants - wintergreen  peace love organic vegan  \n",
            "this bell pepper is really   he got cut open \n",
            "happy at work conference: right 'mindset leads to culture-of-development organizations    work mindset\n",
            "when you make more money than expected!goodnight server  \n",
            "graduation tomorrow ð ð   ð§ð¹ð¶ firstcollege\n",
            "funny how you read someone's tweets and you feel like you've known this person all your life... ð\n",
            "israeli regime has roots in racism  gaza palestine israel bds \n",
            "i am harmonious. i_am positive affirmation     \n",
            "save $$ no logins x brokers   me change memes love   education university \n",
            "(advanced value chain videos at  ) valuechain \n",
            "them heels are devinely sexy, love the metal heel :-d \n",
            "  user i'm weak ð­ \n",
            "looks like we love each other granddaughter love familytime   weekend \n",
            "scout meetings are sometimes some of the best type of meetings!   day happydaysâ¦ \n",
            "model   i love u take with u all the time in urð±!!! ððððð¦ð¦ð¦  \n",
            "quote verytrue   fact urduquote   good journey \n",
            "  ginday to all my gin loving friends x \n",
            "the snickers of the self righteous...   \n",
            "  user cameras roll next month!!!   ajewinutah indie dreams wow toomanyhashtags\n",
            "after orlando massacre..  a doodle orlando tragic   lgbt prayfororlando \n",
            " user another sad, forgotten idiot from the  user trying to out trump trump.  \n",
            "  user check out thos snip-it from our happiness video . full video out soon ð   faithonfireâ¦ \n",
            "hrs passed &amp; i'm still too angry about this ð© to coherently talk about it. \n",
            "nimwit libtards that embrace crookedhillary cronygarchy. so  . braincell anemic \n",
            "save thousands $$ free search x logins x brokers    actor seeklearning   stafresh \n",
            "  user pops is still a g! happy fathers day! â¤ï¸ð¯  fathersday father dad  amsniperâ¦ \n",
            "i am reliable. i_am positive affirmation     \n",
            " user why foodnetwork fans like you! funny   cheerful \n",
            "i'd eat all of him \n",
            "a gustin!!! ððð¼ð¸   friend quedia \n",
            "why are people buying this pr stunt hook line and sinker. oh wait free clicks for media lazy   \n",
            "i don't have bihdays, i level up! ð bihday bihdaygirl   radiology  suwon rek masioâ¦ \n",
            "yall animals are cool, but the lack of sympathy for a baby child who was attacked by a gator while walking along a disney reso beach  \n",
            " user do you hate  ? putinspuppet loves attention. on january... \n",
            "  user best gals eva fun friends lunch bihdays   love \n",
            "a good man or woman is measured by stable relationships with opposite sex. not money parenting homosex  cliches or semantics \n",
            "tgif   ff to my gamer squad!  user  user  user  user  user  user\n",
            "are you hispanic &amp; feel like the  are stomping on you? listen  retweet boricua miami newyork losangeles\n",
            " user and  user choreo = best dances ever!! can't wait!   \n",
            "who has the best ceo eveerrrr? we do! nohedidnothackintomyaccount   tech staups nextphase\n",
            "ok but like imagine tristan as batman \n",
            "  user not racing so a nice big and fun  user ride is on the cards   exploring fitness healthy\n",
            " user  user done!!   pleasecometola\n",
            "love life ðlove selfie pink hair green nature glasses vscocam vscolife life  â¦ \n",
            "  user weddings are impoant because they celebrate life and possibility. âanne hathaway wedding   love \n",
            "our first visit to  user today. fabulous place to eat and drink.  user pizza was superb   diners\n",
            "prayers to all the victims of the orlando shooting victims.  especially to the lgbt community.     tragic\n",
            "honestly look how long my hair was   phhhoto  \n",
            "best friend bihday brunch! ðððð  friends coffee   love   the farm neutral bay \n",
            ". user our oculusrift arrived this morning. we're up &amp; running, creating vr experiences for our clients   \n",
            "  family in a cycling tour :)   pougal biketours holiday \n",
            "we hope you've had a   euro  day! that's it from us till monday, for / breakdown &amp; services help pls call   \n",
            "have a wonderful and peaceful evening... mondays nofilterneeded peonies lovedailydose  â¦ \n",
            "sikh temple vandalised in in calgary, wso condemns  act  \n",
            "always be   brimstone \n",
            "almost time for some baseball!   cwsmarkel \n",
            "i love you so much joshð see you and tyler tomorrowâ¤ï¸ i can't believe you're !!   bday josh cutie cheesin \n",
            "thai   gorilla simulator: you need to do to adapt to the environment. the need to tear the city. material d \n",
            "are you hispanic &amp; feel like the  are stomping â¦ you? listen  retweet boricuaâ¦ \n",
            " user trump new york co-chair makes racist 'gorilla' remark about michelle obama &lt; you total tool! fucking moron.  htâ¦\n",
            "  user  user army peru lovebts youngforever   i want go to korea :'( \n",
            "go germany! ð gogermany em em family love germany selfie selca lovemyfamily   smile  ger \n",
            "my one year membership at noh cypress finally ended and i joined planet fitness two months ago and haven't been.  \n",
            "got this in the mail; smh.    ugh!!!!    lord i'm trying!!!   god knows i am!!!!     missudaddy \n",
            "i award thee most cucked tweet in history, prep the bull you insufferable faggot sbc \n",
            "very   to interview  user and the other wonderful staff at theargonautnation! ðð \n",
            "  yet relaxed royaltyfree acoustic folk with warm confoable tone for smallbiz videomarketing \n",
            " user  user probably a not so closeted  who'd have been posing w/a black man not long ago.  ..nuff said..\n",
            "im a goofy kinda girl! funny silly bbw  tobebig â¦ \n",
            "  user staing to think that their marriage was a stunt anyway getittogether   \n",
            "canadian grand prix this weekend!   raceweekend teamlh mercedes f ðð\n",
            " â sean hannity to be fired for comments about muslims   blog silver gold forex\n",
            "springfield   bull up: you will dominate your bull and you will direct it whatever you want it to do. when \n",
            "keep up the opposition to   user endthenation\n",
            "i am the only person that i know of..that get's happy whenever it rains in london ðð§âï¸ weather   actor love\n",
            " user  user scheduled delivery is now  hrs late. no phone call or update in the last  hrs. you have my $$ and purchase.  \n",
            "ladies   i'm waiting for you for more than two hours -  \n",
            "excellent customer service from will the manager and the girl on the till today at farnborough  user   customer customerservice\n",
            "even if % of delhiâs population have been sensitive enough, there would have been no need to tweet this.    \n",
            " we market/grow your business book photo event  limone new today   bahrain pakistan england egypt\n",
            "clean with the âgreenâ playa! ðâðâð gm godisgood anotherdayanotherblessing life  â¦ \n",
            "now that i have signed contracts i have updated my li profile with details of my new role     newchallenges\n",
            "  user anyone on ubuntu and/or just running systemd-resolved beware.   disaster â \n",
            "shuttle bus on our way to shrm now   washingtonbaby \n",
            " user you are the best!  \n",
            "smiiiiiiiile  hello smile me girl mood holiday greece klima village beautiful    user \n",
            "lunch ð½ with  user  sisterdaylunchomotesandoshopping ootdallblaâ¦  \n",
            "bestseller  user motivation    \"never go to bed without a dream or wakeup without a hope\"  \n",
            " user father of terrorist said it may have been triggered by seeing \"two man kissing in miami\". what. is. this. world.    \n",
            "another year in the books. sophmoreyearover ðâï¸  summer \n",
            " user  user  user  user  user fakenews and a .  must feel good.\n",
            "unlock the liberating powers within us to be  :  innerbuddha buddhism spirituality \n",
            "true story...   crazy \n",
            "mrs reid has been working with p's today in preparation for being p's highexpectationsrolemodels sensationalsevens     ðð»ðð»ðð»\n",
            " user you might be a libtard if... libtard  sjw liberal politics \n",
            "  user this time next week we will be in ibiza  user fhfdhufdbhddhigvjivv   ibiza ðððð»ððð¸ð¤ðð»ðððð¦\n",
            "exciting evening. award ceremony where i will be accompanied by mr. p &amp; we are staying at the blythswood square hotel as a treat!  \n",
            "thank you for being gps in the unforgettable road trip of my life     weddinganniversaryâ¦ \n",
            "shame  on  user and  user for suppoing a racist like  user this is not the conservative pay i love .  \n",
            "alexmagic - i like interesting people, new feelings, i love ro ...: porn young sexy   shy nasty nu... \n",
            " user btw it's cheaper than having waited until friday and take $ less than auction. &gt; head traded in tx tw on k kill.  \n",
            "waking up hoping your dream was real   needahug\n",
            "teen daze - carmel  chill and be  \n",
            "i am not from nigeria.. i am just trying to help my son.  weneedhelp youareaparenttoo   \n",
            "i could cuddle this little man for hours! babyboy   picoftheday auntietime auntieandnephew \n",
            "shit guys ó¾´ó¾´ is lie ó¾ó¾  \n",
            "model   i love u take with u all the time in urð±!!! ððððð¦ð¦ð¦  \n",
            "hello dear, you appear   here â¤ï¸ holly hill is bringin in the bucks ð¤ loveisthewayâ¦ \n",
            "model   i love u take with u all the time in urð±!!! ððððð¦ð¦ð¦  \n",
            "waiting for first media comment to downplay impoance of orlando shooting because, hey, lgbt poc so obvs not impoant.  \n",
            " user excellent idea! dig deep &amp; hang 'em high! treason aidingenemies fraud coverups benghazi extoion â¦ \n",
            "grabbed the last bottle, amazing red!  euros vinotinto tuesday wine vino travel barcelona washington   \n",
            "  user bodyweight session!  workout bodyweight calisthenics health hydrate like love follow repost   smile \n",
            "rest in peace legends mohammedali gordiehowe thegreatest  \n",
            "model   i love u take with u all the time in urð±!!! ððððð¦ð¦ð¦  \n",
            "happy saturday from westbourne grove! weekend saturday   london flowers home summerâ¦ \n",
            "somewhere in my thoughts.   afternoon me nice cute   smiling sweet stylish hipsterâ¦ \n",
            "it sux some people are disappointing even before you meet them..most people are just full of themselves/shit... \n",
            "sta your day on a cute,   note by setting a \"cuddle alarm\"  mornings alarms cuddling\n",
            "hump day   the office with my lovely assistant! sunshine florida girls   love life homeoffice \n",
            "  user f a t h e r â´s   d a y   ð   fathersday love family enjoy tbt bw black whiteâ¦ \n",
            "omg my way to pick up our tickets for  user  tonight at  user ðð  \n",
            "long way up  uphill mountains alpine alpinetrail alpineview viewpoint views view  â¦ \n",
            "  blessedbaby  \"it's estimated that about  percent of babies with down syndrome are aboed.â \n",
            "  user another disappointing result for por :(  \n",
            "edc day one was a success  yasssss allredeverything edc  user plur vegas life ontothenext  \n",
            " user  user  user   to go :) been too long!\n",
            "finding meaning in tragedy and moving on stronger  goals lifestyle selfhelp mentoring success lifegoals  \n",
            "  user dear  user  user sirs, can you please transfer shri pahlaj nihalani to a press regulatory body. \n",
            "this was amazing. the weather was not. musical london matilda westend weekend  â¦ \n",
            "daily affirmation: i am committed to my goals and my success is assured.   abundance prosperity beauty belief mindset selflove\n",
            "  shenanigans  w/the right person to the right degree   the right time  for the right purpose in the right way \n",
            "what a happy dayð   love stunning \n",
            " user that is what i call serive.   \n",
            "the moment when  hours pass after you said you were going to sleep..   fail goodnightforrealbye\n",
            "be   n healthy in this world there is no such thing as a perfect sta, but there is a perfect ending. - gary hadi garyhadi  ff twtlâ¦\n",
            "messages from my two friends...their sons are superb funny ðððð  ç«¥è¨ç«¥è¯­   thankfulâ¦ \n",
            "on my way to abs-cbn... apprentice for a day, see you soon ian &amp; jodi   journeyâ¦ \n",
            "booked my hair appointment  \n",
            "  hardcore sets nude video sample  \n",
            "  user recite this dua as u can..    ramazan dua \n",
            "baby you don't know my mind.   thursday &lt;'\n",
            " user  user you want to call me a  so i am helping you spread that word since you don't have the balls to do it yourself.\n",
            "  user hey brexit / leave xenophobes - tell us how economy affected / growth forecasts etc if uk leave eu ? no? just less iâ¦\n",
            "  user ene mene miney moe....time to play risen hoe. ps gamer fouwenty meds  \n",
            "  fathersday to all the men that empower their children godbless \n",
            "so sad ones \n",
            " fathersday  fatherã¢ââs day, dad | skinny and single buy things about \"hâ¦  \n",
            "happy wedding day  user so   to celebrate with you and craig! cassieandcraigsweddingâ¤ï¸ðð°ð¼ð©ð\n",
            "  is defunding aboion and sending you to the inauguration  \n",
            "did you know probiotics help you maintain digestive balance? stock up w/ alignatsams   user ad   tummy\n",
            "selfie   ð½  spiritcruises ð³riohudson statueoflibey nyc rainyday   ð   spirit of nyâ¦ \n",
            "  bihday don duskpatrol   flywheel spos \n",
            "web search personalised father's day... gbp . get here:  shop cool   home fun \n",
            "i survived gym while fasting ð ramadan  \n",
            " user i will not buy or dl a  user  book in  after their deal with whitenationalist miloyiannopoulos  whâ¦\n",
            " user  user   you sure have been passed over time and again.\n",
            " user review  out today featuring someone you might recognise   transpo ð \n",
            "best friend ðð friend best spain memorie love link perfectpicture   sun friendshipâ¦ \n",
            "deah of data in the nigerian health system. ð \n",
            "nervous and excited!  !\n",
            "   user brochure with aists talks in july \n",
            "true love true love wedding bride groom   tears crying tearsofjoy married  \n",
            "rhodonite earrings by rebeccamoondesigns  via  user pink love heachakra heas lovers healthy   beauty\n",
            "i'm a lazy christian cause i don't think kids should be taken for thought crime and twitter posts, lmao. \n",
            "wow,  user is really a whore now.   \n",
            "oh and i lost the earrings i'm wearing in the last post.  \n",
            "pay hard ðlove   instagood cute photooftheday smile beautiful girl me funâ¦ \n",
            "  user healthy,   and independent women only can take the state forward: upcm yadavakhilesh womenempowerment \n",
            " !  user from  user was on prfectpitch. miss the episode? play it back here at   user\n",
            "hello newyork againâ¤ï¸ newyork again love fun yeaay     williamsburg nyc \n",
            "i love abrahamhicks and lawofattraction !!   healthy healing   joytrain !!    \n",
            "  user my magical haircut ðð¸ðð¸â¨â¨â¨pink pinkhair bubblegum love   kawaii \n",
            "black fucking rapping sexy women   bihday nude  \n",
            " user your analysis of  &amp; blacklivesmatter was totally out of touch &amp; did not represent the spirit of islam. ris\n",
            "inez blonde gets excited as she strips off on facebook: gets   inez blonde strips off facebook \n",
            " â ex-greek finmin varoufakis: brexit wonât restore the sovereignty the british people need   blog silver â¦\n",
            "honestly women is there something wrong with you ...???? you really are jumping up to defend the guns already    \n",
            "looking to feel more joy? join me and  speakers on the free summit unleashyourjoy    \n",
            "  user sta laughing! crying only makes you sad.   laugh cry   distressed anxious change mindset depressed \n",
            "on the nose: perfumer sparks  furore  \n",
            "  user reality life   words \n",
            "  father's day!  -from gearhead homes  fathersday gearhead gearheadhomes dads \n",
            "haha wow.  user is a  for using the n-word &amp; the equivalent of it in arabic \"abd\" which means slave: \n",
            "the cheeto thing worked out great for glennbeck so rick wilson revives it &amp; adds some anti-christian blasphemy   \n",
            "its pretty depressing that am graduating in months n i dont look forward to going back to nigeria cos am scared i may not get a job. \n",
            "don't count the days, make the days count.   spring memories ð¸ flowers ... (vine by  user \n",
            "wish we was still on holiday enjoying ourselves like we was last weekðâï¸ðâ¥ï¸ fun   sunâ¦ \n",
            "lowes is getting as bad as homedepot  \n",
            "  user this is if you are sad:( -- depression depressed depressedgirl depressedboy anorexic anorexia   encouragiâ¦ \n",
            "working on developing my very first cal! hoping to be ready to sta it by christmas this year! crochet staytuned  \n",
            "con't:when jehovah says yes receive it day in my life i am grateful for that turningpoint success i willshare the   news later\n",
            "  user yoga on the grass!! awesome workout!!!   yoga workout growth lovelife   the landing atâ¦ \n",
            "i am thankful for inspiration. thankful positive     \n",
            "wishing my mahoganygroom mr. robe swatson of korbe a very   bihday. i wish youâ¦ \n",
            "  user the sussex ghostbusters are here!!  user  user ghostbusters movieposter   ghostbusters \n",
            "all ready to pay xx saturday daughter love pay igers instagood   goodtimes  user \n",
            " user i have to say i think we are watching the end of an era. from where i'm standing only five pairs, only one camo.  !\n",
            "it's time to holiday... glassesgirl couples holiday weekend ecogreenpark sweet fun  â¦ \n",
            "snow white open roles: sleepy,  , sneezy and bashful.   or dm us today to apply! [] \n",
            "my hea aches for the friends and family of dead and injured in orlando...senseless orlandohorror   prayers\n",
            "  bday you hoe !!!  user ly cutie xoxoxo\n",
            "amateur - happy to take a pic: happy to take a pic   pron porn nude sex \n",
            "going to screw things up again....am i?    blur saturday\n",
            "life is a series of decisions and choices and one hell of a great ride.  \n",
            "i am thankful for my school. thankful positive     \n",
            "believe in yourself!!! we wish you a great week aheadâ¦   monday inspirational motivational quotes \n",
            "  user do not! i repeat, do not put a dog in a hot car and leave them there in the heat! keep them home! for fucks sake!   dogs\n",
            "so cool! i love the new youtube  gamers and gaymers   unicorn \n",
            "digging my new office flair. thanks atlutd!   flagfriday \n",
            "  user orange is the new black comes back in  days. wowwwwww  \n",
            "new job day!  \n",
            " : bubbles, the oldest pilot whale in captivity, dies at seaworld  animals whales\n",
            "beautiful sunshine today for these pups ðð    sunny fetch duo dogsofig dogsofinstagramâ¦ \n",
            " user i really want to get your velour liquid lipsticks and lip scrub, but i'm broke and most of the lipsticks are sold outð±ð­ð­ð©ð  \n",
            "rip to an elder brother, one who believed in me from yunging...  user god rest ur soul.   death happy th bihday in days sir.\n",
            "wats really wrong wid humans?  dogs burnt alive coz they attacked cattle. r v even humans? dogsburntalive indiatoday  user  \n",
            "âð»ï¸friend friends fun funny love instagood igers friendship pay chill   cuteâ¦ \n",
            "wine wed  user wine cellar vineyard family heritage wed drinks hunter  â¦ \n",
            "thought factory: left-right polarisation! trump uselections leadership politics  brexit blm ~ \n",
            "/ day left with students. yikes!  retirement is getting real! willmissthekids moretimeforgrandkids  \n",
            "only half a day at work then finalising packing for  user first one as a team.  \n",
            "islamic terrorist kills gays in orlando,  . i'm waiting to hear how it is everyone else's fault  user afraidtospeakout  sunnydays\n",
            "it won't david. the business world suppos narcissists and abusers are attractive to many on a cry wick level  \n",
            "today's  donkey zionazi who is proud of murdering real palestinian semitic children - thats what i callâ¦ \n",
            "see as cavs just waste my fuel.  \n",
            ". user a -year-old glass ceiling for women smashed by hillary...and and some women (like you) are not happy?  \n",
            " user  user is buddhist: burmese  has nothing to do with buddhism! period. rohingyas\n",
            "  user the greatest team we ever had are leaving us one after the other \n",
            "hahaha  greetings in two languages  \n",
            "here and ready to go tedx tedxchelmsford   wherehasmyhairgone strategy \n",
            "  user our first visit to  user today. fabulous place to eat and drink.  user pizza was superb   diners\n",
            "the latest eco news of the day!  thanks to  user  indigenous\n",
            "happy wednesday! humpday wednesday   \n",
            "healing, self-porait.  healing hu cut beard   eyes big nose man guy bisexualâ¦ \n",
            "  user if you follow me for my body, you are selfish. i just want to live a normal life..   depressed in  loveme imsecreâ¦\n",
            "just got  videos recorded today   :d\n",
            "this is the most exciting thing ever! i can't wait! thanks  user &amp;  user theatre   blessed \n",
            "nice sun in the evening sun sunset landscape tree instalike instadaily   smileâ¦ \n",
            " user irony: butthucreepers : sexism aicle because they think it's pro-rapist. it's not, you misogynists malevote httâ¦\n",
            " user &lt; &lt; &lt; &lt; look at my most beautiful best friend   user singing with her most amazing voice &lt; &lt; &lt;  \n",
            "another day music song selfie   \n",
            "  nyc vacaciones ð   hotel americano: chelsea, new york \n",
            "are â¦ black &amp; feel like the  are stomping on you? listen  retweet tampa miamiâ¦ \n",
            "nd oldest daughter of  childrenâ£our beautiful butterfly was too   to find her nameâ¦ \n",
            "i am thankful for my parents. thankful positive   c  \n",
            "kai's first time on the log rideâï¸ð¬âºï¸ sofunny scared   hisfacetho  ðð   knott's berryâ¦ \n",
            ".. and suddenly you're all i need, the reason why ð i smile.  smile love   boy bdayâ¦ \n",
            " instagood photooftheday  user tbt cute me beautiful followme   follow fashion selfie\n",
            "be who god intended for you to be and that's   loveislove proud of  my gay son! orlando  user \n",
            "otherwise i'll get my (way) less expensive one first ð¬   \n",
            "goodnight everyone! earlynight   sleep\n",
            " user allahsoil all war is violent (except perhaps in thailand).       â¦  teambtsâ¦ \n",
            " user after yesterday's failure to lead against our countries enemies and endorsement of killaryfbiinditment   \n",
            "  user warning: ladyzaradurose on  user is not me! it's someone impersonating me and using my information.  someone needs a lâ¦\n",
            "  user bad business. \n",
            "  user that feeling that rain gives you.. bestfeeling   cuddlingweather netflixandchill ððð¤\n",
            "group slide with the sibs pa  :))   slide unbiosibsâ¦ \n",
            "tonight  user  user   \n",
            "  user karvi  upcoming romance sequence  super duper   âð yippee.! ðð yehvaadaraha  user segment \n",
            "â¤ happy valentine's day...â¤ love amor valentineday diadosnamorados   feliz   rodeio deâ¦ \n",
            "yay! p.j. soles is attending  user again this year! she was super rad when i last met her.   cannotwait\n",
            "my favorite shop is zara hm bershka forever stradivarius  â¤ï¸ ð¸   loveâ¦ \n",
            "all you can drink. slush for everybody on day  of the ihgcelebrateservice week fun   lifeatihg teamindigo \n",
            " user just got done threatening my coworker to give me money and he says \"black male is illegal\" smh  really\n",
            "cbfc wants  outwit makers of udtapunjab  hence udtapunjableaked online..    revenge of pahlajnihalani on  user comments\n",
            "so only  families were \"temporarily\" moved to diepsloot in .now diepsloot has  shacks &amp; still no proper houses?  \n",
            "transsexy naked  boob \n",
            "rip to all those soulsð.   morelove loveplease monday heabroken orlando sandiegoâ¦ \n",
            " user much as it pains them, trump really is the perfect embodiment of the current republican pay. they need to deal with it.  !\n",
            "wake up   and refreshed in this sunny room!  beautifulbedroom \n",
            " user  user &amp;  user day in company's history ends over drinks  tgifriday   \n",
            "my promise!!!ð look different today!! selfie sonice   hairwedding wedding soon niceâ¦ \n",
            "y'all really don't be having nothing else to do   ð­\n",
            " user you might be a libtard if... libtard  sjw liberal politics \n",
            "friday   ballerina pc:   user at  user \n",
            "ð   irda gives nod to lic to invest in psbs  \n",
            "i just left  user and i miss her already.  \n",
            "you too donald ð¹ \n",
            ".......... wishððð½ lanternfestival iwishedforyou   waitingforyou \n",
            "know this. in the hours  user has been fighting for change... gun violence has continued to take lives.   filibuster fuckguns\n",
            "  user creating something that brings happiness to others is a priceless feeling  user the fashionlove bond   hâ¦\n",
            "i am truthful. i_am positive affirmation     \n",
            "  user chillin' + laughin' ð friends   instagram twitter likelike fb forkeeps   paper townâ¦ \n",
            "  user thanks for k guys!!!!!!   thankful  user im following anyone who 's this! \n",
            "thinks a socialist would win.  . i can only say this: bernie lost. trump will be your master... ððð \n",
            "  user bcoz not all of white is clean. me hijabmodern hijab hijabfashion smile love like  â¦ \n",
            "because what can't you be your own wcs ?! loveyourself loveyourlife smiles   freetobeme \n",
            "alone depressed depression   selfharm suicide suicidal cry tears cutti... (vine by social anxiety) \n",
            "disadvantage of house sitting is you can't go to  user missing you guys and you're wonderful smiles! drama cafe theatre  \n",
            "i am thankful for entrepreneurs.thankful positive   \n",
            "edmiguel : wisin wow amazing   fillmoremb pueorico miami  southbeach univision   theâ¦  (via twitterâ¦\n",
            "i am thankful for farmers and farmers markets. thankful positive     \n",
            "ournewbridge opens today! the bridge we thought would never be built. i won't believe it until i actually drive across it!  \n",
            "all good live long   bihday user\n",
            "lovely day â¨â¤ï¸ friends love   goodmoment nantes city holidays tqo basketballâ¦ \n",
            "halfway through amaniknew and loving it! \n",
            " user i've heard amazing things!!! i must come try when not strikingsugar   walk\n",
            "can lighttherapy help with   or depression?   altwaystoheal healthy is happy !! \n",
            "comingsoon !!!!!! i'm so   and hard at work for these!! each gem is hand placed and aâ¦ \n",
            "congrats guys!  user  user  user  user so proud of your album release today!!   \n",
            "what are you grateful for today?  gratitude lifeisgood love  \n",
            "  user  user  user and here is exactly what's wrong with trump voters... lack of basic reading and comprehension skillâ¦\n",
            "  user i do expect b.i x bobby song from sm. dropmyexpectation   \n",
            " user any news what players will be attending this weekend   lionsontour rugbyleague\n",
            "been working hard on improving my plating, hopefully slowly getting there... chefslife   newcareer learning \n",
            "want a fulfilling life? do these  things  life   smile satisfied blessed \n",
            "freakyfriday: happy webcam - happy webcam -  min    webcam webcam \n",
            "i am thankful for socks. thankful positive     \n",
            " user someone trolling for attention.  \n",
            "broken   i was break my draw again!!! :( i can't again...  user  user \n",
            "i've been \" on my way home \" for like a hour lol  \n",
            "mana andharilo unna common qualification ! manaki mana father's ante ishtam   father's day\n",
            "wildlife weekend ððª  \n",
            "sometimes you just have to look nice. fashion lookingsharp dressedup   shiandtie tieâ¦ \n",
            "sick   &amp;   over alleged tigeemple slaughterhouse disgusting &amp; wrong - and here the endangeredtigers thought they were safe ð\n",
            "  user  user sponsored aist.   honored \n",
            "  user the time has come the last show of nbjaneeyre and my final show with  user feeling blessed â¤ï¸   happy htâ¦\n",
            " user camp on monday at naperville central hs.    summermath  \n",
            "  user ahhh soon after i tweeted this... army pfc lee seunggi surfaced!   proud korea fighting \n",
            "what is faith? â¸ + | hope   peace justice prosperity \n",
            "we look forward to seeing you all tomorrow and on sunday pleaseretweet   halifaxfoodfest \n",
            "  to hear about the mig- crashing in jodhpur\n",
            "once they stop talking to you, they sta talking about you ð¬  \n",
            "jacksonville   rooster simulation: i want to climb the vast expanse of mountains. it reached the leakage co \n",
            "can't we show some decency about jo cox's death? i think the pm has answered and it's a resounding no.   \n",
            "watch angry grandpa react to gift of new house  video:     grandpa house \n",
            "we are   to announce the launch of our newly designed website which went live now:... \n",
            "  user two chapters down in one day   thankful\n",
            "i am fucking disappointed. i will pout now. cheer me up, internet? pouting   cheermeup girl \n",
            "babies   hudson baby minky blanket - pink giraffe  bouncingbaby\n",
            "check out   family lawyer on how food is integral to family bonding nomnom foodporn food blog \n",
            "going to see  user saturday   singersongwriter girlpower awesome\n",
            "  user update for gracie mae from her new foreverhome family! we wish you a   life baby girl! catsoftwitter cats \n",
            "babies   graco modes click connect travel system stroller - downton  bouncingbaby\n",
            "  bihday drinks for hugh w friends and dahvader in downtown la dtla goodtimesâ¦ \n",
            ":  user paris was proud to be present for the catwalk at  user  user  user  \n",
            "todays cdð  ootdcodewhite followfollowme me \n",
            "and said hello to this...   newride chevy chevytrax \n",
            "pauls building me a flower box.backyard summeimeyards poolfit_inspire   hot relaxâ¦ \n",
            " user so shumpe's hair.... it's like the last dragon meets a  year old girl  \n",
            "broken   buffalo simulation: buffalo for you to take in the vicinity of their homes to do. in this way, you \n",
            "happy sunday! ð  sunday pinwheel sunday spring june boomerang postoftheday  \n",
            "can't believe i'm leaving to d.r. in a couple of hours. anxious  \n",
            "dark matter, a   movie about a science grad student:  starring meryl streep and ye liu awareness\n",
            "  user we work hard to house them give benefits... r own can't get help    \n",
            "feel much better!ððð¯ new vapegirl lifeisgood   keepsmiling selfie goodfeelingâ¦ \n",
            "we all deserve to be happy.  \n",
            "well i'll be! \n",
            "i am now the proud owner of a road bikeððð very excited to have a proper go on it soon fitfam   cycling \n",
            "when jacob my king is sleeping im awake but when i am sleeping jacob is awake ððððð©ð­ weird   world\n",
            "  user instrucable is coming along nicely for this  previews are on the way dprinting d dprint dhâ¦\n",
            "thanks to dom, either my body fat is slowly decreasing or my muscles are finally deciding to come out due to his workouts  \n",
            "happy father's day to all the wonderful dads out there!    father \n",
            " huaweiceifiedspecialist-pre-sales-accessnetwork delivered yes you   stress snoâ¦ \n",
            "google censoring free speech! gateway pundit, pamela geller, who else has been censored and who's next? \n",
            "he loves yoi so much \n",
            "  user i met her at the campus and it ended in the morning ðððð.   weekend \n",
            "how does the meat industry's apathy towards animal suffering make you feel?   heabroken animalabuse \n",
            "bliss ðð smiles moment laughing   \n",
            "  user who's coming to see  user at  user tonight? our  user will be there! conce summer   \n",
            " i mean, can we do anything anymore? news fuckedup terrorattack again orlandoshooting bbc   tragedy\n",
            "how's mars bar in  user charging guys â£ for entry and girls â£? isn't that like modern sexism?  shame charges unfair\n",
            "  user next week i can finally make an appointment at the tattooshop to get my halestorm tattoo  user wrote for me ð  \n",
            "  rozay have a blessing month\n",
            "if your nipples don't get hard when u play the fireemblemfates final battle and hear that theme, well then ur probably  user  \n",
            "the  user refs are by far the worst, most inconsistent group of any major spo. it's really a joke to think this is the best they have.  \n",
            "meditation   gorilla simulator: you need to do to adapt to the environment. the need to tear the city. mate \n",
            "  user bring it on boys we can't either! \n",
            "save $$ no logins x brokers   me change memes love   education university \n",
            "my silence doesnât mean that i quitâ¦ it simply means th   is doesn't mean forever cause there sad story when the happy is endingîî\n",
            " naked fat girls russian sexy girls dating\n",
            "so we now want it dead? hmm humans touch animals, but woe dare an animal touch us.   \n",
            "bbq tomorrow, why not ð¥âï¸saturday summer smile laugh   enjoy family bbq barberloveâ¦ \n",
            "omg. omg. omg.  yay! i found it, and at a wonderful price!!! ðððð   segasaturn throwbackâ¦ \n",
            " user  user nobdy wants  kiss lying conaist   homophobic islamaphobic russianhack nomandate traitor\n",
            "it's going to be ace!  user  user  user  user  user  user  user  user \n",
            "  user love is the flower you've got to let grow ðð¸flower flowers   saturday g... (vine by  user \n",
            "my main girl rosieeannx has hit her first promotion ðððâ¤ï¸ðððð¼ yayyy! so   for you! i knowâ¦ \n",
            "  user there's strength &amp; depth in our squad  ! ekm squad ready for  user to kick off euro eng \n",
            " very true! we have come so far and still such a long way to go! ... \n",
            "  user can't wait to see the presentations today   tminushours  user  user  user  user  user\n",
            "coffee: a liquid cup of sanity.    goodmorning   fathersday\n",
            "  user i really got lucky with the friends i've made over the years ... &amp; i'm so   to see this guy later this week \n",
            "beautiful flowers for leaving work flowers   theparlour amazingpeople thankyou \n",
            "s/o to a real houston  lhhh houston  musical vet lil keith  promoters   the only reasonâ¦ \n",
            "feel much more normal now i've been out to lunch with a friend  weekend now\n",
            " reminders for you!    love instagood photooftheday   cute me beautiful followme  â¦ \n",
            " things happy people do   positive grateful people  \n",
            "summer is up !!! âï¸ðð»â± me crazy sexy boy   men man selfie photo model photographyâ¦ \n",
            "will be sadly missed x \n",
            "think about it.... true real life think enjoy nice like   instagramers instalikeâ¦ \n",
            "'the mummersparade, by its very dna, is a largely-unrepentant  affair that has no business existing' \n",
            "  user i have chosen to be   because it is good for my health. ~voltaire quotes happiness positivity \n",
            "i shopped  user &amp; they invested $$$ into my  user account!  i love fintech! and my wife is  ! smwknd \n",
            "always be   antoniobanderas \n",
            "musicmonday   attack bull chase: when you leave the lot despite the fact that you're a strong source of \n",
            "  meme e   ifunnyhe fuck them all \n",
            "there is no doubt my mood and attitude completely changes with just a simple workout!    noattitude ilift runnergirl\n",
            "welcome to my home! friends   enjoyâ¦ \n",
            "amazon rc nitro gas truck car wd via   toyspotting hsp trucks wd play   miniwd miniature fourplay\n",
            "i am   that after the world burns by our fault, the only creatures will still be the animals of the sea   globalwarming  oceans\n",
            "  after sex adult swimsuit  \n",
            "?i enjoy seeing the movement of animals?   \n",
            "happy bday to my nikka  user . god bless you with all your dreams ntjamme.   bdayâ¦ \n",
            "a had a dream that a winched harry styles last night hahahaha fuck sake a couldnt even winch perez hilton if a wanted nvm him ðð  \n",
            "  user some college coaches have turned satellite camps into a media spectacle and lost sight of the athlete  &amp;selfish theseâ¦\n",
            "  dad fucks small teen babysitter mp \n",
            "that's it i will finally sta to plan my trip to europe.  \n",
            "funny moments with  user   emojis workworkwork \n",
            "kad raya still relevant regardless the advanced technology kan. i tried to find the musical one takda dan tak banyak pilihan  \n",
            " user loveyou great weekeend bihdaysurprise funny   love \n",
            "a message of hope for newyear. building a business to end  storytelling endof tedtalks tedatibm \n",
            "bad morning doseofcolors i m   trippy surrounded by unwanted peopleslist musicislife stayblessed\n",
            "happy father's day to all dads! fathersday   family cooldad \n",
            "first car accident i've had that's been my  fault. i feel awful and want to cry :( caraccident feelingcrappy   needahug\n",
            "  user every woman should have a little black dressððð   wall   glasses ll polish instagood doubletap buildings composâ¦\n",
            "you might be a libtard if... libtard  sjw liberal politics \n",
            "  user happy national best friend day!   nationalbestfriendday nationalbestfriendsday â¦ \n",
            "hot off the press! the nikita news is out!  bestoftheweek \n",
            "special discount if today is your bihday (â¯`â¥â´â¯)â&gt;  (â¯`â¥â´â¯)    bihday \n",
            "motivationmonday  your goals are impoant! ð fitspiration   monday goals \n",
            "darn imessage for android isn't going to happen  \n",
            "i'd give anything for his touch or hear him say \"don't worry i love you everythings okay\"  \n",
            "  user don't be a parent if you're not ready for parenting!  it could lead to child abuse!  \n",
            "on a lean and clean mission this week! healthy  \n",
            "it's not just our country but what kind of world when you can't go to a club or even a meet and greet for a singer and feel safe  \n",
            " user lol i skipped my interview today.  \n",
            "en route to birmingham with  user to take pa in the  user debate on the euref!   voteremain\n",
            "seasone  of  user !!!  \n",
            "  user just want to wake up in alex's arms  \n",
            ". user won the social superstar award? really? this is what cma's are reduced to? award  being most active on social media?  \n",
            " magical years with my wife!  anniversary years love â¦ \n",
            "retweeted verified account ( user  at the end of the day you gotta be   for you.\n",
            "gonna be a great bihday!!! ð  user memyself&amp;everyoneelse bihdaytreat belfast   readytopay \n",
            "  bihday balayya..  you r legend..ðððªðª\n",
            "payintheusa   polar bear climb racing: angry polar bear climb racing, the polar bear living in cold place \n",
            "check out this great advice, not only for entrepreneurs, but   sane grounded people. fab job julian! \n",
            "now we know for sure  user is a lazy lair; nobody sends letters. ceainly not in the thousands   \n",
            "feelin' good, feelin' my new straight edge razor ð feelingmyself   me like mensstyle   followme \n",
            "bought this mysterious beauty to read to my class. going to get them to vote on which story i read first.   \n",
            "delicious   bull up: you will dominate your bull and you will direct it whatever you want it to do. when yo \n",
            " user  just over a week until you're in dublin , can't wait âº  \n",
            "rain, cereal, coffee, naps &amp; daniel are what my sunday consisted of  \n",
            "be happy ðâï¸anchored recoveryâï¸ð -- or -- anchoredrecoverytreatment goodpositive \n",
            "watch weddingplanning when people are not   for you  \n",
            "  love if you have a big dick -  \n",
            " user where did the bocconcini salad go? it seems to be missing from your menu   \n",
            " user  ramadan to u my only favourite player\n",
            "  user   father's day   cutewoohyun ì°í woohyun ã¦ãã§ã³ \n",
            "thought about exams, now i'm feeling  \n",
            " user how did you slip through?  you are a threat to america  ! bigotry misogyny ignorance alwaystrup  user\n",
            "somebody tell me that children aren't happiness... i can't recall when i was smiling &amp; laughing so much &amp; feeling this   b in my lifeâ¤\n",
            "take me back to california missingthebeach california waves ocean love   \n",
            "good morning! ready for a nice day? a german would say: ein tag ist das, was du aus ihm machstâ¦ :) goodmorning smiles beautiful  \n",
            "pray for this guys ð¢ orlando peace prayfoheworld   stop rip â¤ï¸ \n",
            "perfect = spending late friday afternoon en famille w my wonderful husband and little boy. a little crazy, to be sure, but perfect.  \n",
            "if your dad told you he was gay, what would you do? get   feel confused feel alone  user gets it \n",
            "  fathersday cherryberry dad gets % off all day june cherryberrylarryuteckâ¦ \n",
            "i am wholesome. i_am positive affirmation     \n",
            "getting my deck ready!  flowers summer   \n",
            "does magnettherapy really work?   altwaystoheal healing healthy   !! \n",
            "  user why do i fear a post-apocalyptic world? find out  feeling emotion   happy quiet life inâ¦\n",
            "model   i love u take with u all the time in urð±!!! ððððð¦ð¦ð¦  \n",
            " user allahsoil stones and humans are different, but to gravity thereâs no difference.  â¦â¦ \n",
            "i'm glad i met you guys smile  instalike   friends love \n",
            " user wishing you a   bihday hope your day went wellððððð\n",
            "good luck tomorrow \n",
            "today is anna frank's bihday - she woult have been  .imangine a world without hate we do   bihday anna \n",
            "yo i need to find this mug! lol   bigthingscoming \n",
            "  user these guys are stoked for zanzibar, and we couldn't be more   for the weeks to come. ðâ´ððð½ \n",
            "seasonal affective disorder: can winter really send you into a case of seasonal depression?  depression   winter\n",
            "  user congratulations big guy. how has she put up with your moaning for that long ð \n",
            "  user awwww so sad ð¢... frozen   cry \n",
            "  user  user it sure has going to be amazing   ðð xxx\n",
            "chillin with my sippy cup !   picoftheday lovemylife loveher cute princess \n",
            "u hear it here folks - islamicjihad, radicalislam, touous  barbarians, horrible people!!!  you know that's right mr. bho!!! tcot   \n",
            "what?! no!! loki has been seduced by a fucking succubus! the damn succubus of all succubus!_ \n",
            "tattoosleeves   gorilla simulator: you need to do to adapt to the environment. the need to tear the city. m \n",
            "the new harry potter book comes out the 'rd   nerdlyfe\n",
            "just found out i'm going to see finding dory tonight and i going to go to  user for the first time doublewin  !!!\n",
            "be  ... have success... in that order! \n",
            "q&amp;a with  user founders   bihday \n",
            "friendship friendship   forever love  user  \n",
            "absolutely terrible pic of me. nice one of clara though, and the wharf! sunshine   place \n",
            "pondi calling!   notexcited confused. ðð\n",
            "have my lover stop being angry at me visit us..&gt;&gt;&gt;  lover   friend astrologer love \n",
            "  user yay! look what i got today  user . so many new recipes to look forward to. leanin   \n",
            "  user look who visited qma today??!!   theopen  user  user  user \n",
            " user what a fucking joke ,..actually just   ,..time soon to indict !\n",
            "now playing  :  suzanne ciani - \" full moon sonata\" on    melancholy   melancholymusic\n",
            "  user check out the  user tour coming to a theatre near you!    \n",
            "thanks to some random software download going on in the set top box i am missing the tonight show starring jimmy fallon!why obama  \n",
            "that would be awesome!!!! whaaaaaa!! hahahaha   ðððð  user  user \n",
            "reunited with my harley!!  user custom  harleydavidson bike openroad windinmyface  \n",
            "become digital marketing and funding ceifiedmicrosoft ceificate study studying  â¦ \n",
            "model   i love u take with u all the time in urð±!!! ððððð¦ð¦ð¦  \n",
            "  user   moments don't forget me. difficult moments trust me. quiet moments call me. every moment bless me.ð¼ \n",
            "  user got tickets for the one and only legend that is  user ðð»ðð    user hello allnightlong\n",
            "i'm staing a strictly yoga blog and instagram people!   alreadyonthemove\n",
            " destroyed in one minute janeelliot   \n",
            "lawofattraction for healing!!    altwaystoheal healthy is  !! \n",
            "really?? protesters at an orlando funeral!!???  \n",
            " user feminismiscancer feminismisterrorism feminismmuktbharat why  malevote is ignored   user\n",
            "-yr-old hindu man gokaldas beaten up by cop in pakistan for eating during roza hrs!    \n",
            "this  of june... and my failed one year anniversarry with the ex i loved the most...   ok\n",
            "mother daughter blowjob  white girl has sex with black guy \n",
            "i can't bring myself to read about the orlandonightclubshooting. went offline with news breaking, wake up to worst massacre ever.  \n",
            "i am so determined to find halo top creamery ice cream in vegas and none of the places on their store locator has it  \n",
            "you might enjoy these dark &amp;   roadmovies:  | horror subgenres emotions\n",
            " user love love love but a little sad there's no beer down or church clothes....  !!!\n",
            "owwwwwwww  user got beaten down to the flour..  \n",
            "throw back sunday ð¬ð§ \n",
            "trouble is that dementeddonny has made the gop the pay of stupid.   . \n",
            "super cute doggy walking with feet on owners   dog  \n",
            "&amp; u can't deny that ppl's attitudes change on how u look &amp; what u wear or whom you're with !  thats why ppl change!  to get attention    \n",
            "feel like i should be on my bike today .... experiencing post  user withdrawal! what a memorable weekend! needtogoforaride  \n",
            "ordinary world cover - duran duran  user   mam cover cool busk quiet  \n",
            "i'm just really proud i made this flowercrown. bored diy knapsack   chillvibes  \n",
            " factsguide: heabreaking photo    motivation\n",
            " â opecâs barkindo to call emergency opec meeting on production cut   blog silver gold forex\n",
            " user oh damn \n",
            "me, myself &amp; i  sundaymorning sunday   thinkingaboutyou missingyou missing selfie daphneisbackbitches \n",
            " user i have picked up several of their books, but have yet to read any.  i'm so far behind in reading i will never finish.  \n",
            "sculpted uv gels love gels   client   rebeccas nails plymouth \n",
            "when  user and  user are in pittsburgh and i'm not  \n",
            "love how  user has got a photoshopped photo of him happy at saints and put it on an eveon background   shame ginger\n",
            "happy sunday to you all ðð . . . . .  sunday sunday  vsco vscoapp vscoaâ¦ \n",
            "repost yesildenizt with repostapp ã»ã»ã» ð  ä±ã§laakokoreã§ \n",
            "kind of happy, listening  to my own song.   \n",
            "  user your bliss is calling. blogger bloggerswanted positivevibes poem writing blog  blog  love life âð½ \n",
            "  urges eci to convene all pay meeting on udtapunjab' issue   \n",
            "i shouldn't be happy.  uploaded another poem on wattpad! check it out! link's in my bio.   â¦ \n",
            "just one more shift left, unit i have two weeks off.    \n",
            "gardaland fun fomento rollercoster     gardaland \n",
            "i had such a beautiful day that i would disrespect it by not going to  sleep smiling grateful  \n",
            " days until  user where nothing else matter except the music and having a good time!   camping\n",
            "  user off to islington/city soon... shooting content with my stud + photoshoot monday   bbw ðð user  user\n",
            "watch weddingplanning when people are not   for you  \n",
            "[.] update    social analytics likes   hustle meditation \n",
            "  user genuine appreciation by my former students for my educational services &amp; mentoring contentment   thankyou :-) htâ¦\n",
            "my new book cover. iâ¤it so much!  books thebitter newrelease nextweek romance   preorder love \n",
            "different style! style cap sunglasses man  man  selfie instalike picofthedayâ¦ \n",
            "countdown to paris...  days...  \n",
            "bihday vibes..she be looking like witch  bihday day osarieme user \n",
            " user  user he's called me both  \n",
            "dads are gifted, they lead the money game. so, that's why they always win.   fathersday \n",
            "model   i love u take with u all the time in urð±!!! ððððð¦ð¦ð¦  \n",
            "failure again and again exams take pgd study try fedup why life   worried sorrow\n",
            "new hair for the summer ðð¼ girl   bob fringe love \n",
            " user lost interest already  \n",
            "please note this story is fake! (read the comments) \"africans are lazy good at sex theft\" - hillarydesperation   \n",
            "a take no prisoners attitude is okay when it comes to murderers. all people and organizations should be accountable if a murder occurs  \n",
            "need some   tears in your day today? \n",
            " user please do something, anything about these tragic events. what will it take? maybe another vacation?   nextplease prayfororlando\n",
            "here we go...   engrus â½ï¸\n",
            "when i was young... photoshooting  model indoor eyes tb attitude longhair dress lookingserious   \n",
            "hit the jackpot with this contract âï¸âï¸âï¸ grateful   blessed \n",
            "weekend bouquet weekend   flowers sunshine beach lifeisshowearyourbags \n",
            "bobby's in father and i? coooool.   \n",
            " user   but true ..ðð»\n",
            "orlando nightclub shooting: police say up to  dead in terrorist incident myhea   \n",
            "so beyonce' just gonna go against the grain and not release her album on spotify but drake did...       \n",
            "gentle giant. dogsofinstagram reggie whitelab   \n",
            "model   i love u take with u all the time in urð±!!! ððððð¦ð¦ð¦  \n",
            "  user guitar is life. music is life. my life is note. love like music guitar girls  â¦ \n",
            "this is my super hero dad   father daysi ðyou dad   kubangâ¦ \n",
            " user  user  user  user  user btw, gandhi was a . in india,  user adores him (withoâ¦\n",
            "watching bodies being pulled out on cnn. chills running down arms awful   ððððð\n",
            "use the power of your mind to heal your body!    altwaystoheal healthy is  !! \n",
            "happy father's day! fathersday fathers   yeg yeggers edmonton\n",
            " user omg !!!  noooooooo, i loved him as an actor !  \n",
            "  user .you're talking about obama \n",
            " user we're here waiting for it to sta ð capitalstb   \n",
            "yesterday is gone. tomorrow has not yet come. we have only today. let us begin. quote  user calmdown    \n",
            "  user snow white --&gt; open! --&gt; sleepy,  , sneezy and bashful.   or dm us today! [] \n",
            "i am thankful for having a paner. thankful positive     \n",
            "i think, trees can get depressed. i am serious. nature  \n",
            "thank you rob  user  user for the . ð soo exciting that the whole truth is coming out! to safe   adults &amp; kids ð\n",
            "yes!!! royalswin royals   place  innings of fun!   kauffman stadium \n",
            "  user live simply. dream big. be grateful. give love. laugh lots. - unknown quote inspiration  \n",
            " user  weeks to go until returntoparadise  user   countdown \n",
            "agreed!   sunday relax enjoy proverb  breathetherapies \n",
            "lawofattraction for healing!!    altwaystoheal healthy is  !! \n",
            "th coldplaywembley gig with the best position ð   ahfodtour \n",
            " user hahaha well said, like my father, grandfather, grandmother and great grandfather. mallalieu spirit   stubborn proud\n",
            "  bihday to me ð \n",
            "tyðdear friendð user  user  user  user is in eyes of beholder you!   daysðð \n",
            "personalised da... gbp . get here:  shop cool   home fun \n",
            "life should be  . a new selfhelp ecourse designed for livinghappy inside out.  \n",
            "  user an unextraordinary life is perma free on amazon. romance â¤ï¸ghost love    indieauthor\n",
            " â united kingdom claimant count change below expectations (k) in may: actual (-.k)   blog silver gold â¦\n",
            "tonight i sleep under the balloons ð balloons bihdaygirl sleep bedroom ff ll  â¦ \n",
            "will never stop suppoing you. love you lots&amp;lotsðð \n",
            "oooh so sad rip uriah asante, football will ver miss you,my condolence to the family and da big oak tree.  \n",
            "st kw smile epidemic meeting! helping people be  . thanks  user  user and  user \n",
            "help creates the environment of togetherness &amp; mutualrespect; prerequisites of a sustainable,   and healthy society.fridayfeeling\n",
            " user impoant message to all. publicserviceannouncement psa inspirechange embraceyourself bedifferent dreamâ¦ \n",
            "growing our veggies! journey   life living listen selfrealization freethinker humanâ¦ \n",
            "i think it's funny it takes death to unify people...  \n",
            "mommy â¤ mom mommy   me berlin picoftheday smile curlyhair hoodie \n",
            "i'm disappointed at  user for continuing to suppo mariasharapova had that been  user you would dropped her like nothing  ð¡\n",
            "  bihday to richard ofonime okon. more happy years ahead!!   government house uyo \n",
            " bhanuj kappal on the   truth about punjab. a consumptive drug problem, farmer distress and the cbfc udtapunjab.\n",
            "  user fresh  herbs can take a dish from good to great. plantbutler keeps your herbs fresh longer!    plantbutler \n",
            "when getting   is the most appropriate response:  justicereform lovehasntwonyet \n",
            "  user   dhanteras cuteness overloadedððð ðð¡ð«ð¥ðð  \n",
            "i'm looking forward to speaking and connecting with the strayer university students tonight in phoenix, az.  \n",
            "alps here i come trek    ð \n",
            "anothr bloated  jerodtwin colluder angrygaymafia koolaid guzzling hasbeen failure flushedð½â¦ \n",
            "delicious desse  friday \n",
            "ready to watch  user   golf oakmont  user  user  user jasonday sunday â³ï¸ðð¼ \n",
            "why some people seem to be happy no matter what they do   success entrepreneur fun \n",
            ". user how would that have stopped this attack? omarmateen was an american, acting alone. your ban would've been pointless!  \n",
            "\"this cute rodent is the first mammal to go extinct due to human-caused climate change\" gadgets   \n",
            "my view for the evening....   jerseyboys westend london   london, united kingdom \n",
            " user i miss you james  \n",
            "fridaytheththegame looks very fun!!classic music,creepy atmosphere(music contributes to it),multi-dimensional,and brutal kills! \n",
            "  worldoceansday let do our best to conserve and protect our planets beauty beautifulworld protecttheeah \n",
            "just like that.....  father's day. \n",
            "  user and there will be no more teenager in sos  \n",
            "natu   gorilla simulator: you need to do to adapt to the environment. the need to tear the city. material d \n",
            "carlsbad   bull hill climb: you have to reach the target to complete the task to survive. with strong excit \n",
            "the more you listen to the news there is no answers just sadness for such a reckless act    world  \n",
            " user ha ha, is that it? your very best response is to correct my grammar?  \n",
            "have a great day dad   father's day \n",
            "up, up, up!!! â¤ï¸ baby mylove morning picoftheday enjoy instagood instanice nice  â¦ \n",
            " user other sims are over here studying aliens and saving lives. i'm over here like, omg i wanna be a waitress!! dineout  \n",
            " user allahsoil this simplistic worldview exists today in the  second soundbite. .  â¦   emiratisâ¦\n",
            "happy fathersday !   tshi design    user  user pets \n",
            "shine forever inlove   \n",
            "  user have a   healthy monday from finefruitsdirect ðððððððð\n",
            "  nationallobsterday! barcode has two amazing lobster dishes all season long but today is the day to dive in! \n",
            "i am classic. i_am positive affirmation     \n",
            "  user my bihday last week tb girl bihday    âºï¸ \n",
            "my ass is bigger than any girls ðð¼ð  \n",
            "pretty sure this sum you up hayleyrosescott ðððð¡ðð°ð«ððªð©   hangry food feedme sister crazy \n",
            "  user whilst you're all waiting, get down to our new haberdashery shop at  user hd qw   sewing  \n",
            "  user no need caption mitwamol funloving   \n",
            "via  user hi there :) we just want to say have a relaxing and   weekend!  \n",
            "  user feeling blessed   love\n",
            "dads paying for me and scott to go on a cruise. cool. honeymoon  \n",
            "their lives were taken because they were gay!  \n",
            "becksuk, tissot_young ff rss:  tissot_young \n",
            "thank you so much for everything you do for me all year not just my bihday my best friend   luckygirl bihday today\n",
            "  but not for dlc  :| \n",
            " user native traditions keep people grounded. it's too bad \"the other people\" did &amp; tried to rid folks of them   unitedstates\n",
            "i'm feeling like i lost my ability to raise hell on twitter.  \n",
            "i'm so   that i decided to rewatch arresteddevelopment\n",
            "thought you was happy, but you turned me out. ð¶ð¶  \n",
            " fathersday  fathersday fathersdayweekend from arff  user \n",
            "k - yellow ðððððð yesterday selfie   k yellow happiestkâ¦ \n",
            "you   for   user in  user iii? checkout  user aicle on its culture ? gamemusic - \n",
            "a mother can take care of ten children but sometimes ten children can't take care of mother.   \n",
            "  user  user  user retweet and follow â win   fingerscrossed\n",
            "ð« ð âï¸ ð love instagood photooftheday top.tags tbt cute me beautiful followme  â¦ \n",
            "with mrs kwateh  sisterhood surabaya hangout sundayvibes instalike liketeam zara  â¦ \n",
            "  user this is precisely what the opendata book club is all about...   \n",
            "  user kids + campers =   for the best holiday u need the best campervan   nohumberland htâ¦\n",
            " user  user liz treacy,  user condone ex-councillor mark hackett's islamophobia  for me  user\n",
            "happy father's day! xyzprinting xyz d printing printer technology becreative maker fathersday  ... \n",
            "princess ð happy smile fun instahappy goodmood sohappy happier   feelgood smilingâ¦ \n",
            " user  user  user she is not only a \"low information voter\" but on the verge of complete ignorance. typical leftist  \n",
            "visit the library! a weekly trip to the library is just as fun as the bookstore, but cheaper!  momtips   \n",
            "come see us this weekend at the allentown a fest! allentownafest   funnights beer buffalo \n",
            " , crying, natalie poman, barber, v for vendetta, hair cut, shaved head via giphy  \n",
            "update accordingly, i've no option than to downgrade my optimism that akabueze will make a difference from very high to low  \n",
            "itâs wonderful living in a lifetime that an african american became president &amp; next we may have our st woman president   imwithher\n",
            " user donald  - putin's butt buddy and a commie. \n",
            " user precisely why the deplorables are up in arms   \n",
            "looks like i will need some boots for cemetery searching next week!  stay tuned!   genealogy \n",
            "im super   to see this comeback! first samuraijack promotional a released:\n",
            "  fathers day :)ð\n",
            "  user   father's day daddybeto mari y nats ððð so cuties and pretties ððð  user  user \n",
            "i am energized. i_am positive affirmation     \n",
            "  user the most girls trying to gang up on amerika wouldn't say shit to her in person â¹ï¸ð¤  \n",
            " user mmusimaimane is more  towards whites than zuma and malema combined. da southafrica  \n",
            "just hours away from the esmeralda special auction !!   esauction \n",
            "you can pretend you're not fighting for the non-living while attacking people's constitutional rights.  \n",
            "happiness! toddler bella beautiful gorgeous toddlersofinstagram   love summer \n",
            " user guess what just arrived... ð thanks  user loveit   giftfriday treatâ¦ \n",
            "  user  user  user   bihdayðððððð \n",
            "had cruz's first haircut today âï¸ looksgrownup  \n",
            "its hottub day!  \n",
            "be   be a baby mylove \n",
            "\"we don't see things as they are, we see them as we are.\" quote inspirational  \n",
            " user rewrite this story,santa fe,heard your voice in a dream,let it go, all coming bk to me now, any newsies song ;)  \n",
            "some nice words for this nice saturday.ð quote   havefuntoday love \n",
            "  user watermelon ð natural shot ibiza ibiza lovelife   beachday calataridaâ¦ \n",
            "  user it's friday reggae warriors!!! we made it through another week!!! let's give thanks!!! reggaemusic   smile \n",
            "  user happy mother's day everyone! ðâ¤ï¸ð© pumpkintheraccoon raccoon instadaily instagram instagood weeklyfluff  â¦ httâ¦\n",
            "  to see aunt katie \n",
            "happy at work+ conference: right mindset leads to culture-of-development organizations    work mindset\n",
            "tomorrow! can't believe i will get my first tattooð±ð  \n",
            "vehicle   gorilla simulator: you need to do to adapt to the environment. the need to tear the city. materia \n",
            "hello.  today is happiness day of my life :-) do you want to join??  like   greatmorning june\n",
            ". user when you don't pay a vendor, commissioned people, subcontractors aren't paid either. scumbag   \n",
            " user  we had a great sundayfunday in westhills at puppyclass socializing  â¦ \n",
            "- - never become   when life pulls u back ð¦ because, ð¦ lion also take one step back when he wants to go for a longjump - follow\n",
            " user  user  user  user is it true lnp will cut seniors pension if they own their home on july st ?  \n",
            "hey  user any reason her delayed new flight got delayed more? at this point let me know cause any longer she'd like to go see the city  \n",
            "bagpipes for aunt jane   family loved \n",
            "father's day and spending the morning writing a parser. bliss   geek \n",
            "only a whitesupremacist like  user could merge images like this without understanding the racist impact of the effect. \n",
            "bhigsexitits - funny guys like to dance for you and me love anal sex: naughty   slut wet shy hot n... \n",
            "  user so ridiculous any educated basketball mind can watch these nbafinals and see its both rigged/pathetic  user trying to get $â¦\n",
            "new trending gif on  user  , excited, august, max movie, hair twirl \n",
            "ðâï¸great job âºï¸ united customerexperience customerservice  \n",
            "two friends ð  munich beer taste   great jfv   munich, germany \n",
            "always be happy...ðð  thanksgodð   sunday [pic] â \n",
            "praying for orlando and those who were in pulse as well as their loved ones. spreadlove nothate shocked   disappointed\n",
            "can't wait to dust off our dancing shoes, caroline! :)  \n",
            " user i stopped after  but there are enough tweets from you to make about  pics.  you love me.    giveup \n",
            "i'm so happy i'm off today &amp; tmrw selfie selfiequeen   had a great time today good nightâ¦ \n",
            "home ð   home love cheltenham london dog puppy bordercollie luxury a aistâ¦ \n",
            "how to be   - a -step guide. learning to work with anger mindfully is empowering, courageous, and awesome. \n",
            " user more payed girlfriends again, thought you were over that  \n",
            "if we had any doubt. they will always see him as the famous actor. not as robe pattinson, the person   prsucks \n",
            "i am energetic. i_am positive affirmation     \n",
            "  user it's on of those days... fairytail   anime manga animeandchill \n",
            "feeling down i'm  and have nothing to show for it. i don't have any skills or talents and i have tried my ass off.   depressed help\n",
            "best homeopathic remedies for anxiety  -    altwaystoheal   healing peace !! \n",
            "looking forward to my shoot today   photography\n",
            "sun soaked âï¸âï¸âï¸ usvi caribbean sea   gypsetgirlâ¦ \n",
            "  user hundreds of higaunon and manobo students   with their back-to-school kits from the latterdaysaintscharities \n",
            "  bestfriendsday don't forget to show your appreciation of friendship to your  and  legged friends today! \n",
            " user really happy nobody got hu. team only has - trucks left at the shop.... nascar  \n",
            "book - german colonialism in a global age  ht  user imperialism blm  \n",
            "school is almost done swag  \n",
            "love this!!! â¤ï¸ truth smile   motivation quotes instalike instaphoto fitnessgirlâ¦ \n",
            "it's never too late to staover. if you were'nt   with yesterday, try somethingâ¦ \n",
            "today is the day euroâ â finally begins ð ð«ð· â½ï¸   comeonengland\n",
            " days to goðððð countdown    \n",
            "  user  user  user everybody hates the white crayon \n",
            "brownsville   polar bear climb racing: angry polar bear climb racing, the polar bear living in cold places \n",
            "just saw the new  user and iâm not a fan. information is buried and the light theme forum is harder to read. avgeek  \n",
            "ha  so true! does this really exist anymore?   \n",
            "who's excited for euro?? we will be watching. which team are you cheering for?  eurocup     spos football\n",
            " user  user we win ð can't wait for tomorrow's ð game  ! you watch, dray will b there, he's fearless!\n",
            "hunter is leafsâ gatherer draft   user skill =  most impoant attribute   \n",
            "photo and video shoot today for a lovely singer :) can't wait to do her makeup!! teamwork    vibes\n",
            "just a couple more hours until the playstation press conference at e!   foheplayers \n",
            "  workers are good workers! learn how to motivate your team! motivation employee organizationalculture \n",
            "i'm so   and grateful now that - affirmations \n",
            "repost  user (via repostapp) ã»ã»ã» work work work!!!!! dancers choreographers  â¦ \n",
            "magnificent bihday weekend   bihday ma'am   london, united kingdom \n",
            "  user looks like prayforoakland tag is full f libtard bot comments.i trolled awhile.same repetitive wordword. complete chicagoâ¦\n",
            " user  user how would you get trapped in a glass house? is the door locked? are there no garage doors?   transparent-casa\n",
            "family feud? i thrive on it, bitches.  \n",
            "summer, finally! sabã¡udia girl ootd   ll lol love loveit pretty eyes webstagramâ¦ \n",
            "this is my happy place. instamood    life music girl piano love   villa sound \n",
            "  user luth nurses begin indefinite strike    ...\n",
            "herbal sleep remedies that work!!  altwaystoheal healthy healing   !! \n",
            "  user  user  user obama speech today was crazy &amp;  , only concern was muslims\n",
            "wow, this violence needs to stop    \n",
            "  user  amazing health benefits of cucumbers!    healthy is  !!  doplants! \n",
            "let's be     user the happiest people don't have the best of everything, they just make the best of everything they have. ð¤â¤ï¸\n",
            "you might be a libtard if... libtard  sjw liberal politics \n",
            "woooooaaaahhh it's a delivery ðð  i am so   it feels like christmas i can't wait toâ¦ \n",
            "' user  the th amendment  blm discussed here thanks  user    '\n",
            "quick selfie before the dances! strictlyto   \n",
            "scott_brown-gang_bang_society__somebody_in_the_house-(plus)-web--ukhx_int . web   hardcore gabba vk \n",
            " user in addition you add an ad hominem attack with no basis in fact.    user\n",
            "fantastic day at the  user yesterday!! brilliant course and well organised! well done everyone! awas mud mudrun fun   smile\n",
            "model   i love u take with u all the time in urð±!!! ððððð¦ð¦ð¦  \n",
            "herbalremedies for anxiety that work! -    altwaystoheal healthy   healing peace ! \n",
            " user checking out our new toy ð±   \n",
            "  user about to go night fishing nightfishing dont i look   \n",
            " amazing health benefits of cucumbers!    healthy is  !!  altwaystoheal! \n",
            "today in the outside world, there is wet. summer has run away again ...   evilweather\n",
            "when bad things happen you have to try and remain positive. even if it's hard. positive trytobepositive inspirational smile  \n",
            "pray for orlando ð orlando loveislove   protectlove \n",
            "  user just got in the new ecofriendly bags for our gabby &amp; gia bracelets and the rest of our made in america jewelry. exâ¦\n",
            "ð i love books. reading bookstagram bookgeek lovebooks lovereading   \n",
            "just been to pick up my ticket for sidney may ball! less than a week to go now! cambtweet   \n",
            " factsguide: who agrees?    motivation\n",
            "  user just got my ticket for  user oitnb premiere pay feat.  user   wpaoitnb\n",
            "so   this has arrived! thanks lb! ðð¼  lyrics lb lyricsborn kickstaer  user \n",
            "saddie fattie.... bigcheeks smalllips  fattie  fat snapchat exploding puffedupâ¦ \n",
            "hey  user look at your profile.  \"knocking someone down\"  you might want to change that.     user  user  user\n",
            "we have  new episodes coming august rd on syfy. simply paing ways after that. the future is still bright.  \n",
            "easy like sunday morning ... today i woke up with a sam hat ó¾¸   how was your sunday?     strong strongher... \n",
            "i honestly wouldn't rather be anywhere else than ridin down the road, with a beautiful sunset comin, listenin to some luke with pals  \n",
            " user assholes like u should shut up. every rape which is prevented is a victory for humanity. you are a shâ¦ \n",
            "my feelings exactly!! spoken so eloquently!!! so very sad for all involved anchordown  \n",
            "sculpted gel nails love nails   client   rebeccas nails plymouth \n",
            "with mama denise ð had a great day with my gals ð   funtimes \n",
            "  user meatloaf -- collapses on stage mid performance  meatloafisinmyprayers greatsinger  \n",
            "while we're   to be missing all this amazing icelollie weather, rest assured we're doing asâ¦ \n",
            "  user its his only defense, deflect from the fact there is no defense for trump-george showed his true colors neverump \n",
            " user typical cant go and enjoy themselves  \n",
            "jessica and josie a nude makes for a very happy christmas on periscope: josie jessica nude makes   very \n",
            " user  bless florida    \n",
            "i am thankful for summer. thankful positive     \n",
            "raw food diet benefits! -    altwaystoheal healthy   healing peace joy love !! \n",
            "because my life &lt;    tinder \n",
            "  user loveeeeee rains makes me   &amp; smile â¤ï¸â¤ï¸ðððð¿ðð¿ \n",
            "it's summer, so i/you have no excuse not to workout. headed to gym. hey summer! healthy fit  \n",
            "aww yeah it's all good bing bong bing bong   \n",
            "any man can be a father, but it takes a special person to be a dad   father's day\n",
            " user the person i blocked i read a few tweets where she bashed potus but she pretends to like him in a convo. fakeontwitter  \n",
            "good luck! :) \n",
            "  user thank you!   theedgerobotchallenge  user  user  user  user  user \n",
            "sea shepherd suppoers are racist!   antiracism seashepherd \n",
            " â commodities back on track with weaker dollar - anz   blog silver gold forex\n",
            "we've just had a great fundraising idea for  user that will hopefully help with suicideprevention too.  more to follow!  \n",
            " user wtf?  people in my house and no ones livepass works! not all of our subscriptions are not expired missedthegame godogs  \n",
            "kid free night tonight!  \n",
            "just because it affected her son?   sonâs abuse prompts angela kennedy to change sex-ed stance   via  user\n",
            "â   sattineferrety latina  \n",
            "  user   fathersday to all the fathers in the world.  dancehallâ¦ \n",
            " user newyear 'wish list' of  cretin carlpaladino,election co-chairman of presidentelect trump on mr&amp;mrsâ¦ \n",
            " user allahsoil why build walls when there are already so many other obstacles to overcome?  â¦â¦ \n",
            "hate when u make bff's on a night out but then forget to ask their names and u never see them again   ð\n",
            " user  user   father's day i'm for being a sorry father, but the best way to let go is forgiveness \n",
            "so i think i got it figured out moving and trying something new couple more weeks then see how it goes like it were staying ð \n",
            "best salad ever. vegan salad fruit food fit fitness cycling   love animals \n",
            "safe and sound safe sound music life love   hea mind a dedication pencilâ¦ \n",
            "i'm tired... but happy !! it's friday â¥â¥â¥ selfie friday   tired   puea de las mitras \n",
            "  user  user wow this is amazing how talented is  user ð¤ð \n",
            "  user hi ladies!! newbooks booknerds    user  user  user \n",
            "i may have to unfollow these accounts that post rpers complaints.  \n",
            "*sobbing* i want to play~ cat   \n",
            "a   home is filled with love &amp; laughter \n",
            "i guess this was the night stephen king was in town and i wasn't there to see him. i probably shouldn't think about that too much.  \n",
            "  user tbt to this mouthwatering shot from  user all this is only a phone call away guys, book yourself  ! food httâ¦\n",
            "  race taipei foods lose weight effectively&gt;  \n",
            " user yeah only  days to go oneyearofhinaontwiteer   ðððð \n",
            "love is lie   againstupid crying   lost remove love from myâ¦ \n",
            "feeling a bit like snow white as chipmunks, birds, squirrels and bunnies gather on my front lawn :) love summerstasnow  \n",
            "i finally found a way how to delete old tweets! you might find it useful as well:    deletetweets\n",
            "  user years can be wasted doing something you don't love, years can be gained doing something you do. motivation   htâ¦\n",
            "conormcgregor runs his mouth endlessly like rondarousey. both have lost. and yet, ppl only take glee in her losing.  perhaps?\n",
            " user  user because many of us find obama's policies repugnant does not make us  you're liberal racecard has exhausted\n",
            "it's true... ãverything in life &amp; love changes when you got little elfs hoppin' around. especially mã©   love \n",
            "model   i love u take with u all the time in urð±!!! ððððð¦ð¦ð¦  \n",
            "what a beautiful soul! put a smile on her face and send a card! ð¸ðð \n",
            " user  user show what you have then, i sent you no pics and i'm actually lost at what point your trying to make? \n",
            "excited to be on the other side of the cuain for once tonight. looking forward to seeing  user on broadway! chicago  \n",
            "you canât go wrong with jimmy chooâs!  aghareedwedding aghareed wedding bigday love  â¦ \n",
            "i am thankful for spring. thankful positive     \n",
            "cute   how are you? see you? -  \n",
            "we keep this love in a photograph ð selfie cute   friends \n",
            "happy saturday y'all! summeimeflowers  \n",
            "  juneteenth, our annual celebration of the end of slavery -  \n",
            "  user kevin only sat next to me in the beginning of the year so he could copy off my test because i'm asian   tearingup thoughtâ¦\n",
            "milanoaplacetobe from giardinodelleculture sunnyday   \n",
            " user isn't it time we realized what we've done:  hate exploitation! read america's history! \n",
            "we love our queen  user sunshinesunday   nsfw sexy mirror seductive riley   night pigtails \n",
            "  user graphics are on and she looking good! dressedtokill   themorellipod  morellisices \n",
            "and so it stas.    summer.   pay at the palms skyvilla lasvegas yolo blessed  user \n",
            "fab night! friends gay fabnight   pouts makeup pinkhair \n",
            "animals   -cat cat grumpy-cat happy-campers \"no treats? i'll play with ... \n",
            "drinking these, looking out at this. holidays   italy \n",
            "  hour with hubby at blend lic yum yummymojitos howmanymoredays?   blend restaurant \n",
            "clothdiapers   gorilla simulator: you need to do to adapt to the environment. the need to tear the city. ma \n",
            "  user first work out in the books âï¸ we killed it!! pushyourself   now time to get some breakfast with the staff ð½ð³ðð¨ââ¦\n",
            "can't wait for the episode and then come and say it was % . wynonnaearp   \n",
            "i am flourishing. i_am positive affirmation     \n",
            "on our way to oxford to see  user !   idol loveher music \n",
            "nothing like the feeling of inner peace. peace   monday best\n",
            "happy people photo image spo people color   run race competition \n",
            " user  user  user  user must be heabreaking for blacks within  user to find they're helpless againstâ¦\n",
            "glad it worked well for you!!! please let me know what you use and if i can help! \n",
            "celebrity lionel richie quote \"why is it that i invite you into my home to interview me yet the first room you go in is the bedroom?\"  \n",
            "grateful fun makeup lipstick   hellokitty how you doin'? a red reflection madâ¦ \n",
            "  user  user defending the indefensible  \n",
            "i voted for berniesanders but now that the primaries are over some of my fellow bs suppoers want to take their toys and go home.  \n",
            "  user you need to learn to be   by nature, because you'll seldom have the chance to be  by circumstance.  - lavetâ¦\n",
            "verified: shocking video of myanmar police touring rohingya civilians was shot at koetankauk on nov , .â¦ \n",
            "stop wishing....sta doingðð wednesdaywisdom flowers flower spring   ... (vine by  user \n",
            "we all need to switch to the competition tumbler or vimeo. fuck google \n",
            "  user currently in the first stages of fully redecorating the studio, keep an eye out for what we have planned!   httâ¦\n",
            "i am thankful for my teachers. thankful positive     \n",
            " more friggen day!!!!! wedding   sorrynotsorry\n",
            "vegetal. new music studiotime djlife dj   producer studio film single deephouseâ¦ \n",
            "dreamcatcher   bull up: you will dominate your bull and you will direct it whatever you want it to do. when \n",
            " fathersdaymessage  father's day message tie | zazzle buy things about \"hâ¦  \n",
            "  user my today's morning : me: i want to wear lenses. my red bloody eyes: you want too much, xoxo  \n",
            "  user  user  user  user  user  user  user   beauty _pearls in silver eyes \n",
            "year 's please get to school for .pm tomorrow! correze   needtopack\n",
            "  user it was nice see all these lily flowers at the dutch lily days.  flowers lily  ...  via  user\n",
            "herbal sleep remedies that work!!  altwaystoheal healthy healing   !! \n",
            "root beer in a stormðð rootbeer storm rain ð   thunder lightning car caffine fordâ¦ \n",
            "  fathers day from you friends at brian michael's jewelers \n",
            " user  user  user  user  user massive censorship  \n",
            " user  user  user powerful piece, but when i read some of the comments to this tweet...i think...we r f'ing doomed  \n",
            "well if they tried to make me thier housemade they are wrong  cause there is storm about to come they better whatchout   hatethemall\n",
            "when alady is   aman shall be tested\n",
            "this week staed off kinda lame but it's getting better! yay   wednesdaywisdom\n",
            "i hate when u say me ur feelings mefollowfollowmephotooftheday beautifulgirlpicofthedaysmilelikelike \n",
            "what's happened to orlando??? it was a vacation destination! now it's a death sentence for lives &amp; college careers. \n",
            "  user let children play..... they are the future of india!!  make them feel   \n",
            "you are only as happy as you let yourself be. âºðð   independent nothingisgettingmedownâ¦ \n",
            "come cool off and hangout with us at the plaza palomino mercado today from -! âï¸   instagood love   fre... \n",
            " user having day/night ashes test is disgraceful! sacrilege changing a format that doesn't need changing! what about tradition?  \n",
            "  my favorite celebs won't follow me or give me the time of day they dgara about me  thought you love all your fans so done\n",
            "planning my photoshootings! fashion photoshoot   photography student\n",
            "euro line-up england vs wales ó¾âºâº   monbbsemasa \n",
            "my father is simply the greatest man i have ever known and i am so proud to call him mine  fathersday\n",
            "  user meek mill - dc duedate   bihday lil snupe  \n",
            "now i have done stupid things when drink is involved but that's beyond it all ... neverever  \n",
            " coolestlifehack: paedocypris fish is the smallest known fish    motivation\n",
            " user milo yiannopoulos.is a hate mongering .  i'll never buy another book from nazi ss and tossing any i have in the bin\n",
            "going vegan/vegetarian is hard but i'm tryingðhaven't had meat since monday vegan vegetarian ðððð½ healthy  \n",
            " user  user snow white  --&gt; open! --&gt; sleepy,  , sneezy and bashful.   or dm us today! \n",
            "got my first real job interview in  / week! ð  grownup disseation beinganadult  \n",
            "jews, christians and muslims all believe that good will prevail.   emiratisâ¦ \n",
            " user racist attack on three muslim women in hull city centre...  for more info:   muslimsâ¦ \n",
            "  user just when you think the world's gone to... you see this...  too cute &amp;   \n",
            " names for women best nude blonde teenagers \n",
            " user omg a movie!!!!  \n",
            "join us for every  user game! enjoy sound and   hour specials until  \n",
            "dj_demo-ive_got_a_feeling-(ng)-web--ukhx_int . web   hardcore gabba vk \n",
            " â boe: could forward guidance be due for another change? - fidelity   blog silver gold forex\n",
            "wth is wrong with people?!?!   restinlove\n",
            "model   i love u take with u all the time in urð±!!! ððððð¦ð¦ð¦  \n",
            "  user dear  user thank you for the best fathersday present ever. fuck ramsey snow   feelings fuckramsey blessâ¦\n",
            "the growth indicates people r actually liking the movie :)   \n",
            "does magnettherapy really work?   altwaystoheal healing healthy   !! \n",
            " user and i never mentioned race nor could i care yet the bitch called me david duke so imo she's a \n",
            "making amazing memories with this one â¤ï¸âï¸ð lasvegas   memoriesinthemaking \n",
            "just another   day in paradise dejournettgreatescape \n",
            " user just pre-ordered this. it sounds a really great book \n",
            "what is the world coming to? so much hatred, anger, and violence! very   to see and hear about. stay safe, love all and enjoylife\n",
            "  user greetings twitter peeps ðâ¨ð» scarlettmorgan yellow   \n",
            "tomato, cucumber, feta and oregano salad is one of my summer cravings foodlover   \n",
            "the best pa about staying up late is getting  \n",
            "when the rent of tay swift's new apament in nyc per month is not far off from my yearly salary...   whitegirlproblems\n",
            "no surprises  user that being busy keeps you   socialising connecting working living a full life ð \n",
            "a good life is a collection of   moments.. behappy smile and remember that everythingâ¦ \n",
            " user why are white people expats when the rest of us are immigrants?   classism imperialsm\n",
            "  user so cute................ \n",
            "i actually had a good day at work for the first time in a long time!  \n",
            " marriageadvice: smile...your spouse need to know &amp; see that you are . \n",
            "won't realize who we are, until what we need is recognized.    user  user\n",
            "sad kitty face  cat   \n",
            "awesome trip to see this monument amazing   statueoflibey nyc newyork life â¤ï¸ð±ð·â¦ \n",
            "  my ex-wife is angry that i'm happy with my new paner: i am really happy and treat him as my own. i c... \n",
            "  user the open road. bicycle ride daughter kids familyfun bikeride sunday fun day  â¦ \n",
            "i am so bloody excited for destinyriseofiron. i want to preorder now, please!?!? xboxone definitely booking sept th off work!  \n",
            "it's gonna be such a long days without bernice  \n",
            "new account new day new morning new sta new me. fresh   healthy fit toned fighter stronger family  friends love life\n",
            " â fomc:  worrying signal if fed backs off from âtwo hikes this yearâ message - rabobank   blog silver golâ¦\n",
            "contact college dean, find out about intern  create new site &amp; upload vids. free  reference/wk exper. \n",
            "full house  user tonight makes for one very happy chef midweek dinners   tuesday tonbridge wells\n",
            "flagday   flag day  ( photos) buy things about \"flag day \": â¦  \n",
            "  user european formulaone grand prix  user ð baku city circuit, june ,  baku ð¦ð¿ azerbaijan   \n",
            "  user charity fundraising director comments \"i've previously used  systems but junaricrm+ is the most comprehensive and simplesâ¦\n",
            "so dress rehearsal done now it's time for a little r&amp;r before the show. everyone  user is on great form for this conce=  maestro\n",
            "jock's bihday stacklalife bihday cake surprise   smiles chocolateorangeâ¦ \n",
            "jeffsessions omits decades of records for his ag confirmation hearing  â¦ no surprise from this  weasel\n",
            "princess eugenie caught up in 'racism' row over white actors playing chinese pas  \n",
            "be thankful that your paths crossed ... be thankful that they somehow made you   â¢â¦ \n",
            "at the end of the day everyone got  roads to choose from. what will it be...    loveâ¦ \n",
            "there r few things that i hate, and this is one of them...do not do this keep fathersday   nostench ð ew\n",
            "i don't even have words... please watch if u haven't already... lgbt comingout tragedy   reaction loveislove \n",
            "goodonedean!!!  metoo!!! lol.  trumpism is putinism.  donaldtrump is a traitor, committed treason.â¦ \n",
            "friday is always a good day! ð¬ð  positive vibes friday\n",
            "i wanted a real crown for my bihday but this will have to suffice bihday   \n",
            " user   friday love ,be the calm in the midst of our storm ,have a beautiful weekend ð¶ð·ðâ¤ \n",
            "coffee on tap today....it's going to be a looong day ð¬  \n",
            "  monday blessings and peace \n",
            "free class on  user   anxiety stress   life success nowplaying  mentalhealth \n",
            "good ðð»ðð»ð  watermelon goot   \n",
            " user next to a police vehicle this anc  can hang a poster and sing kill all whites and nothing happens to him.â¦ \n",
            "mark levin reveals âmissing historyâ of the  democratic pay that...  via  user\n",
            "just printed the programme for educationfest looking forward to a   day  \n",
            " in uk's increased because gb politicians have impo immigrants from  infidel childabuse cultures for coffee backhanders\n",
            "  user aruba - one happy island ððð  aruba   island springbreak chill \n",
            "i sent him a cute text and he just reads it and ignores me i'm  \n",
            "  user / of small businesses closed over  yrs. nyc is negatively transforming extremely fast.  \n",
            "*even lost motivation to caption this*   crying suicide dep... (vine by queen depressed prayfororlando) \n",
            " wakeuppeopl: duck motherfucker! misinformation, conspiracy    motivation\n",
            "so many men, too many choices....maybe i should shoot  videos in fl?! lmao... thehowardroarkproject casting  \n",
            "track action stas todayðð»lemans   \n",
            "i am wondrous. i_am positive affirmation     \n",
            "ð.  goal is to feel good, balanced and happyâ¤ï¸ð balance balanced be   feelinggoodâ¦ \n",
            " â us retail sales were reasonably strong at .% m-o-m - rabobank   blog silver gold forex\n",
            "life is full of surprises !! â¥ lucky for me _ i love surprises â â   iamgrateful photos getready \n",
            "  bihday to my velvet teddy bear. ralph is my best friend for life. \n",
            "size small and size large only stylehausboutique thursday followusoninstagram   goodvibes peace... \n",
            " user misogony and  are a spectrum. if you voted for  user , you are on it. \n",
            "happy feet! happy girl! reviewing materials for calls while sitting in my sunbeam   \n",
            "we're having the best day ever!  \n",
            "i finally found a way how to delete old tweets! you might find it useful as well:    deletetweets\n",
            "curry we need you ð­ meditate ka muna. ð   heastrong\n",
            "feet up, dog on lap, tv on &amp; mug hot chocolate- relaxed   businessireland leadershipâ¦ \n",
            "aww yeah it's all good bing bong bing bong   \n",
            "  user dont miss splitsvilla tomorrow at pm  user    user  user ðð \n",
            "happy happy wednesday ðð¼ðð¼ðð¼ popta cereal cerealporn   happy wednesdayâ¦ \n",
            "i'm   &amp; unhappy at the same time i care &amp; don't care about you n between times i love you &amp; never stop loving you b your time was upð¼\n",
            "  sea shepherd suppoers are racist!   antiracism seashepherd\n",
            "my baby will be here in  hours  \n",
            "ahhh and just like that friday is within reach.   dance. escapesitters datenite girlsnightout yaaasssss \n",
            "  father's day..!  shout out to all fathers around the world..! we appreciate your love andâ¦ \n",
            "ready for takeoff, kicking off my  user talking season this weekend at  user    \n",
            "aww yeah it's all good bing bong bing bong   \n",
            "meet the semi-finalists! casfactor   pmshow \n",
            "love is a joke.. joke  \n",
            "i woke up this morning and said thank you god for all that you've done and all keep doing blessed   grateful god\n",
            "maddy is gr but she won't take music suggestions from me  \n",
            "awesome shuttle driver on the way to the speedway!!! edc edc    user\n",
            "siestas morrocotudas iscle somdecamp luisito  â¦ \n",
            "straight no chaser -   ( music video)  \n",
            " â gbp/usd flying high as âbremainâ odds surged to % - rabobank   blog silver gold forex\n",
            "  happy day!  altwaystoheal  healthy    \n",
            "celebrating we are .... well despite that we are going home from france tomorrow :(   vacationnotdonethoughfb \n",
            "thinking about next level me   family travel instagood love followme tbt peopleâ¦ \n",
            "meanwhile, some french compagnies are still using it ...   sucker \n",
            "when someone with . followers steals your idea... emailed  user on february  asking for his ks suppo.   \n",
            ". the year hooliganism returned to our football stadiums.    \n",
            "wedding things wedding congratszeldaandgeorge elegant orlando   family   casa felizâ¦ \n",
            "i could be   without a basement but now that ours isn't a dungeon..think i'll keep it!  \n",
            "retweet if you love having a healthy brain! healthy   \n",
            "i am thankful for clean water. thankful positive     \n",
            "music video coming soon music returntothesun ts   edinburgh scotland uk  â¦ \n",
            " user feminismiscancer feminismisterrorism feminismmuktbharat why  malevote is ignored   user\n",
            "when you are recording a video to upload on the internet. please please please listen to the sound befor uploading shity videos   deaf\n",
            "behind the scenes photo shoot, can't wait for the finished product. dogpark mosman photography dog   \n",
            "  user fh staff  friends &amp; family test runs til th june we want your feedback to make changes.   staff=happy pt's \n",
            "waiting on z nation s like... teammurphy znation    user  user \n",
            "next read: the fiery hea - book from  user by  user  user books fiction    \n",
            "really excited for next weeks community project  user a big thank u to  user  \n",
            "  birds &amp; bad piggies finger family \\ nursery rhymes lyrics and ...  via  user\n",
            " user allahsoil islamophobia only serves to empower the extremists.  â¦   emiratis inwords ùâ¦\n",
            "omg! so  ! season  of  user is now on  user   horray!!!!!!!!!!! yaslurd\n",
            "i beat his ass now we laying together ...   ð\n",
            "  user i am beyond devastated at today's news. that it should happen absolutely anywhere and at any time in the world, never minâ¦\n",
            " user  user this is tragic..  \n",
            " user  user  user   to be here\n",
            "model   i love u take with u all the time in urð±!!! ððððð¦ð¦ð¦  \n",
            "you make me miss my sho hair yo  \n",
            "my hea will always be brokenð but that's okay i don't need itð he gave me hisâ¤ï¸ mine love soulmates onehea onelove lovewins  \n",
            "photo of d day: when children r used as aisans, d nation is in ruins &amp; her citizens r hollow childlabor ðð   \n",
            "  user good morning everyone ð  sunday...n enjoy your weekend ðâððªðªthankyou for following tweeters ððâ¤ \n",
            "how i kill time waiting on my food...ð®ð´ð¯ð´ð®ð´ð¯ð´ð®ð´ð¯ tacotuesday   hungry choreography yumâ¦ \n",
            "instaaoftheday   buffalo simulation: buffalo for you to take in the vicinity of their homes to do. in thi \n",
            "ð­happy friday // feliz viernesð­ likelike amazing instagood follow photooftheday smile   selfie moment \n",
            "rainbowrowell   bull up: you will dominate your bull and you will direct it whatever you want it to do. whe \n",
            "dwd wetterwarnung starkes gewitter in schwandorfchwandorf .. : - .. :    warnung wetter\n",
            "springfield   bull up: you will dominate your bull and you will direct it whatever you want it to do. when \n",
            "  user  user  user  here's a blast from the past!   song/great rhythm.\n",
            "check out ' ' on envatomarket by  user audiojungle  music ukulele background fun ad positive media\n",
            " user kevin macdonald:  ethnocentrism is normal and rational     race ethnocentrism  user\n",
            "ootnðð»nightout lincoln student nurse brunette smile   \n",
            "i am glamorous.i_am positive affirmation   \n",
            " user  user  user is this the kind of tweet you want a company rep sending out?  \n",
            "your miscegenation genocide desires seeks slaughtering blacks, as well,  user    user  user  user\n",
            "the only place i belong is...   i'm staying right here. â¤ï¸\n",
            "hope iâm up to the challenge! \n",
            " user can't wait to try out my bihday present!   sosmooth \n",
            "bitches is wild yo! no self control, no nun of at....  \n",
            "ð - - - - - -  gabutlikelikenodontmissmeinstalike \n",
            "this post has been brought to you by  dead clubbers at a gay bar in orlando orlando sorry loss mourn  \n",
            "cat kitty   tyannah:\n",
            "bri doesn't even bother to text me anymore   tweet\n",
            "  user it's ludicrous think that this happening especially now..we've come so far but have now taken leaps backwards   \n",
            "model   i love u take with u all the time in urð±!!! ððððð¦ð¦ð¦  \n",
            "i didnt get one booty pic for my bdaay brah  \n",
            "  user is it just me or does ramadhan feels like its less of a ramadhan every year somehow  \n",
            "aww yeah it's all good bing bong bing bong   \n",
            " user i'm so so excited! miss it every year so i'll be up and out super early to watch! balloonregatta   london\n",
            "i finally found a way how to delete old tweets! you might find it useful as well:    deletetweets\n",
            " !!!  more followers and we get to give stuff away!!! giveaway\n",
            "you're the greatest ever,  user only  days until pete's dragon premiere day!!! ahhhh  \n",
            " user  user don't fall for that shit...i'm from croatia and those are just some spoiled rich brats acting out ashamed  \n",
            "won on the water but bullied by the event organiser  \n",
            "now playing  :  brian crain - \" snow\" on    melancholy   melancholymusic\n",
            "  user gonna watch me before you with  user   mebeforeyou \n",
            "  user shoes off for the boys in green, one thing i know is that there's gonna be scenes!!! ð³ðââ   nervous help irl iâ¦\n",
            "then as i scrolled down more i realized he was just a sad internet troll that will do just about anything for a  lol    user\n",
            "yes!! do it to it!! ððªðð   monday \n",
            "remainin  obviously dont understand sending an autistic yr old a letter with their fright tactics, violent tantrums now thanks!!!  \n",
            "because wenger is gutless just like his team. wengerout \n",
            "trump newyork co-chair  'gorilla' comment about michelleobama 'damn asians'  draintheswamp\n",
            "getting fat ð deephouse festival club dj housemusic cover techouse techno rock  â¦ \n",
            "size  and  left only  price $ stylehausboutique thursday followusoninstagram   goodvibes peace... \n",
            "please america  timwise lecture - colorblind  via  user trendolizer  historicalamnesia\n",
            "aarakshan hindustan   fathers n teachers day\n",
            "  user smile, even when the world wants you not too... smile   lovemylife gay gaymodel nohâ¦ \n",
            "ðððð¶ð»ð water waves make baby  . fathersday week with the baby at leocarrillo malibu  user \n",
            "loveð´ð´ð´ phuket summer vacation   bikini pool likelike å¥³å­æ friends girls love gnâ¦ \n",
            "  thmonthsary alden and maine at s adn\"\n",
            "happy bihday johnny depp &lt;     bihday johnnydepp \n",
            "such a   tune. mademesmile \n",
            "get up get   get  enjoy music today free apps free music \n",
            "today is my last teaching day at nohampton academy. wow! now off to daventry to be a hod!  \n",
            "it was fun   dreamproject  dreamproject   user     time good love \n",
            "so gritty    happy joy joy [v live] exo_monster_music video  \n",
            "just over a week to go till lichfield stas lounging   \n",
            "watchdogs can't come soon enough  \n",
            " user so what do you do when you have / of a bottle left &amp; the dispenser stops working? lunarorossa ml   \n",
            "snapshot   gorilla simulator: you need to do to adapt to the environment. the need to tear the city. materi \n",
            "so now that my metcon s came in the mail, i guess i'm getting my butt to the gym motivation newshoes   fitfam\n",
            "wishing all loving father   father's day. . .\n",
            "hawaiibound â for the next days! ððð¨ð²âï¸ð´ð³ðð£ðsun sand poke locomoco honeymoon  â¦ \n",
            "lapride &amp; bihdayweekend vibes in the hollywood hills ð´âï¸ðºð¸ð   gayboy fitfam lgbtâ¦ \n",
            "bihdays good-day  -puppy animals cute funny  special day, special ... \n",
            "ubie   i've waited all day for this!!!!\n",
            "waiting for a phone call to let me know when my new house will be ready   hurryup\n",
            "mere words don't express the sadness in my hea for the loss of the  year-old. may god comfo the heas of all in this loss.  \n",
            "newjersey   polar bear climb racing: angry polar bear climb racing, the polar bear living in cold places lo \n",
            "i've been listening to selena and kumbia kings all the way today.  \n",
            "took e.t for a spin! et gaming waxworks   blackpool \n",
            "lots of strawberries are appearing in my garden this morning homegrown strawberries   \n",
            "all i want is to go to  user conce on saturday! first year since  i haven't been able to afford tickets or gone to matty live!  \n",
            "  bihday to alan davidson first man to score + runs and take + wickets in a test \n",
            "when will this pms end?! i hate feeling my feelings of hatred. bleed vagina! just bleed! girlproblems   unfocused tmi\n",
            "i am thankful for eah. thankful positive     \n",
            " user lack of a page  is  \n",
            "happy hump day!!!!    humpday  smile \n",
            "do not wait for leaders; do it alone, person to person. mother teresa inspiration  quote inspirational  \n",
            "  user we're looking forward to celebrating  user with a tea pay for our team later. cake   ;) \n",
            "bukber teamwork loveinstadaily \n",
            "...   about attending  user  user\n",
            "i am thankful for democracy. thankful positive     \n",
            "  user lead investigators kathy and robb, and team member penny, setting up equipment.   ptitn\n",
            "loving my life! can't wait to keep living it with my best friend!   :)\n",
            " user with her cross always up front will lie with a straight face all day long on  user if that's religion, i'm not buying.  \n",
            "now playing  :  kevin kern - \" childhood remembered\" on    melancholy   melancholymusic\n",
            "super   to finally see my editorial with the amazing  user in print. thank youâ¦ \n",
            "  history america true progress\n",
            "happy anniversary to me and the cowboy. wowitsbeenalongtime theysaidwednevermkeit  â¦  \n",
            "i am thankful for warm clothing. thankful positive     \n",
            " user they're not daily tho   imveryinactive\n",
            "  user if a sociopath can be worshipped as a god/leader, why can't a fixer?  self-righteousbhakt \n",
            "  user this. is. totally. epic! \n",
            "cedarrapids   bull up: you will dominate your bull and you will direct it whatever you want it to do. when \n",
            "everyone   for nintendo zelda gameplay!?! some say a special guest may show up to help miyamoto!! : ) e nintendo homeimprovement\n",
            "what millennials think about :  \n",
            "  user priority tou choro koi nd option tk ni banata ð£ - with  others \n",
            "happy âððððð smile    \n",
            "this should have been enough  just say no notmypres wtf neverump unpresidented bigot  ... \n",
            "so so shocked and sad for the death of jo  cox today. outrageous  \n",
            "as an american citizen should i be more afraid of rapists or gun nuts?  \n",
            " user yup. but why does he look like this now? skinny and looking old ð¢   \n",
            "these two couldn't get any sweeter ðð they're even holding hands. adorable cute   loveâ¦ \n",
            "  user people fell in love with the flare and flash of a one on one take, they don't want to see the process of a play   \n",
            "trinationodi   to see empty stadiums at westindies.  user\n",
            "lucas delighted after his subway!   \n",
            "such a moving tale...   orlandounited \n",
            "always be   chadian \n",
            " user playing the pearl tomorrow  norainonthecourse\n",
            " so easy subscribe and feel   level lifestyle vlogger rotterdam foodies fun  \n",
            "wish you a very happy sunday   sunday  holidays weekend \n",
            "i will be so happy when i get my penny boardð  \n",
            ":) \"i have decided to be   because it's good for my health\" - voltaire :) quote\n",
            "âï¸ð´ ããªã¯ã© è¥ããª ayumylocalfriendgirlsnight    funabashi, chiba \n",
            "omg yay finally  user  user is finally coming to australia can't wait to buy them   zoellabeauty \n",
            "here's what ignorance &amp;  looks like. it ain't all swastikas &amp; burning crosses... \n",
            "a girl broken his hea ð ð ââââ brokenhea hea  guy  triste paperguy papelâ¦  \n",
            "  user it's so heawarming when sassy runs across the meadow to shadow and chance in homeward bound   lametweet\n",
            "feeling blessed run runner running halfmarathon southend essex greek wellness  â¦ \n",
            "do i have that much of an impact on your life that you go to the extreme of blocking me ! how about don't add me in the first place  \n",
            "when bae wants to keep me fat and happy, she makes me chicken parmesan. homemade dinner  â¦ \n",
            "happy father's day!!!!! familyfriends love \n",
            "choose happiness.   personaldevelopment homebusiness \n",
            "i'm sending all this foodie jewelries to their lovely owners ðð jewelry fashion charms beautiful   \n",
            "counting down the days until i can come home and perform with  user at the  user ð    \n",
            "  user   bihday to such a sweet person and talented composer  user askamaal ðððððð\n",
            "put your best face forward.  madeintheusa beauty beautyblogger skincare antiaging   \n",
            "hoping the hot girl on the bus will notice you bus   longday\n",
            "iâm pa of radishandroid launch as  user coming /! pre-sign up at  via  user  !\n",
            "great meeting this lunchtime at  user with  user  user  weeks until our golf day  user  \n",
            "listening to 'can't stop the feeling' gives you a right summer buzz summer justintimberlake   buzz music apple iphone\n",
            "  user   birds flew thanks to european cooperation.\" brexit would be a sad loss both for gb &amp;finland\":  user htâ¦\n",
            " user  user  user  user i hope u know  i wasn't saying that about u i was saying it about leanne  \n",
            "happy bihday sinnamary     le pakira \n",
            "so much harder when it is someone so young. every time i saw her she was so full of life and had a bright future ðªð \n",
            "not a bad view walking into work this morning ð adventureaqua nj work stingray   \n",
            "loving the fact this book is now available at  user online!  lovepubs ukpubs   newbook\n",
            "coroner: ex-nfl rb phillips' death was suicide   \n",
            " â japan domestic corporate goods price index (mom) above forecasts (.%) in may: actual (.%)   blog silâ¦\n",
            "jerry is too curious ð jerry rabbits pet bunny   fun instapic instacool \n",
            "lori_boghossian ðððð thank youuuu for coming .. amazing person friend love   \n",
            "thank you baby. ð sarap po.ðhealthyfood  \n",
            "tomorrow. tomorrow. tomorrow!!  \n",
            "  bihday æ­³ bro \n",
            "ha.ppy at work conference: right mindset leads to culture-of-development organizations    work mindset\n",
            "tonigth, lets fly your dreams tonight dreams moon sweetdreams lifeisrosy love  â¦ \n",
            "looking forward to  user oncorporationst tonight at  user   \n",
            "you're not very sma if you think i hate all \"white males.\" i hate racism and sexism. that's it. grow a brain, right wingers!  p\n",
            "back in munich!!! lmu   missszeged\n",
            "  user my woodpecker shot in this months issue of shutterbug magazine    user \n",
            " user stop drinking stupid juice.  \n",
            "i am thankful for music. thankful positive     \n",
            "cat kitty   â¥ï¸ â ï¸ joker â£ï¸ â¦ï¸:\n",
            "my app is telling me that  user doesn't work anymore!!  what's up guys?  \n",
            " user pathetic service. no signal since  week &amp; no engineer has turned up yet to chk wt is the problm aftr sevral complaints.  \n",
            "princejunday   junday   bihday _jun_st_day \n",
            "how do yos make friends? ftm queer gay smallnerd ocd problems edmonton yeg single  \n",
            "k i m â  w e s t   inshot girls cute summer blur sun   fun dog hair beach hotâ¦ \n",
            "  user  more days for my book to be published!   blessed\n",
            "\"just arrived today my bags hahaha.\"more to comeððð   anneð¹ð  user \n",
            " user thanks for the follow.   friday evening!\n",
            " user   i have always loved your   super beautiful &amp; yummy  asshole!!! waitng your firstanal!  ! \n",
            " coolestlifehack: this is how a penguin slaps    motivation\n",
            "retweeted  user ( user  hoping everyone is having a weekend filled with memorable experiences,   saturday... \n",
            "did the tables turn.. ubt isn't letting je see babs.  \n",
            "visa is approved ð³ð³ð³ zomg ð­ð­ð­  \n",
            "have a nice day ððð hotday beautifulweather oldschool   sun summeriscoming motd hotdâ¦ \n",
            "  fathersday to the man whose last name i carry and was one of the kindest/bravest men i had ever knownððâ¤fathersday daddyðºð¸\n",
            " user how long is the hooked experience at taste? how many florins is it?   hookedbyaldi\n",
            " user  user crackers? isn't that a little racist? i mean i'm white but think the kkk should burn in hâ¦ \n",
            " user  user ð¢. she died ð may her soul rest in peace  \n",
            "trump suppoers are interesting, though disabled.  dementeddonny has fooled idiots. that's okay,  yet  . \n",
            "  for you to follow me  user laughter &amp; coloring \n",
            "something exciting is in the works at theoutlets for this july! what could it be? ðâ¨ð   soon \n",
            "harping makes   !     berlin, germany \n",
            "i am legendary. i_am positive affirmation     \n",
            "so easy to make woman  , but only sma men understand that. ðð½ðâ¤ï¸ \n",
            "  user ya think it's bcause the women there r muslim? don't c any uncovered heads. london is in big trouble  sure!   \n",
            "pull me right up by the fire and i'll show you what home means ð selfies life   cute  user \n",
            "my beautiful bestie with baby adaline. baby babiesofinstagram cute niece sweet   girlâ¦ \n",
            "super late upload.. vacation    \n",
            ". user fixture list released tomorrow...   utb boro\n",
            "happy fathers day to all the dad's out there! ðð  fashionforacause fathersday   loveâ¦ \n",
            "true,people don't give thanks that they are lucky to see today..they think its a must.   \n",
            "will be seeing the new ninja tule movie tonight .... in d nerdale   ð¸ð¸ð¸ð¸\n",
            "i am unreal. i_am positive affirmation     \n",
            "i am thankful for having a paner.thankful positive   \n",
            "either you run the day or...    \n",
            "how utterly  :  people with incurable stupidity in africa killing people with  albinism.  good luck with an education campaign.\n",
            "*new post*  motivation tip  - choose to be  !  mondaymotivation  user  user bloggersblast  \n",
            "i gotta say, making/designing this shi was the best thing i've done ð shi   meme tiredâ¦ \n",
            "walking into school without jayln for the first time since last year and  .\n",
            "aww yeah it's all good bing bong bing bong   \n",
            "sigh. i just wish people would read more.  \n",
            "iaint never trip that's why i'm where i'm at â¼ï¸  \n",
            "happy working working voiceover work loveit actress lovemylife   blessedwithwork \n",
            "don't worry about what any one else is doing.  focus on what you are doing. fitness healthy   \n",
            " user i can't wait to find out who. :-)  !\n",
            "  bihday farmer shep love wagyu barrythebull \n",
            "  user waiting for my chicken breast like..... ðð¤ð½   humpday curves vegas instadaily hungry \n",
            " user    user should have come out strong against jihad today !   weak     muslim appeaser\n",
            "my car is one giant allergy right now. just covered. womp womp. allergies truth car yellow   ugh itchyeyes\n",
            "sta your day on a cute   note by setting a cuddle alarm \n",
            "  user this is happiness â¤ï¸ albatorrens basketball welcomeinrio espaã±a thisiswhyweplay ðð  happiness ðâºï¸ð \n",
            "yay, passpo interview was successful, python will be mobile worldwide soon!   inatearoomrightnow ;)\n",
            " user and why are you still hung up about this? thought you would have either come to your senses or moved on by now  \n",
            "bank account sitting pretty ð¤  \n",
            "angels archangels from on high here to help you live spiritual and   anf lives   \n",
            "hey emiliewin, you may want to check  for latest updates on glastofest ð¥_ \n",
            " user trump is guilty of treason !  we theresistance must resist   hate  naked raygun treason \n",
            "dont hate watz on me hate wats in me sauce saucegod   fathers day \n",
            " â eur/gbp extends the upside above .   blog silver gold forex\n",
            "yeah it lions good on you...i don't remember what you look like with hair lol \n",
            "i feel ashamed for the  user .are they being paid to lose? nbafinals game notwohwatching  \n",
            "anime website is down for maintenance  \n",
            "wow, wow, wow. my create a plan for your life workshop was amazing!  clarity plan motivation  \n",
            "always be   roaltafro \n",
            " user you might be a libtard if... libtard  sjw liberal politics \n",
            "if anyone wants my left knee, you can have it!! i'm done with it! over the pain ð©   inpain overit\n",
            "you might be a libtard if... libtard  sjw liberal politics \n",
            "choosing and editing pictures got me like ð  dowhatyouloveâ¦ \n",
            "mysonsuitupsuitmyboybrowproud    international it collegeâ¦ \n",
            "just been booked for  days on a bbc drama!! ahh!! extra backgroundaist  \n",
            "damn mickey moniak is a awesome pick!!! wish  user had a chance to get him. but padres arent normally lucky with good draft picks..  \n",
            "i'm done with all my exams free  \n",
            "thanking  user for making . it'll be the first time a real horror movie is made in long time. thiyone   robzombie\n",
            "  user ð love instagood photooftheday top.tags tbt cute me beautiful followme   followâ¦ \n",
            " user thanks to god that he choose me to cook for other and serve  \n",
            " user hey congress how about instead of sending out thoughts &amp; prayers u do something it's ur fucking job!   orlando ðºð¸\n",
            "ayria and i before the show ! she was so nice with me . she was   to talk and iâ¦ \n",
            "sunday june ,    father's day to all the dads on this special day, forever in my â¤ \n",
            "oooooh got my pint in a wimbledon branded  user chalice   ð¾ðºð§ðª \n",
            " user  user   bihday to the hit machine. a man who can make any song a chabuster with his recharged voice\n",
            "couples who shared their innermost thoughts were % more likely to describe their relationship as  . \n",
            "new account new sta new me. fresh   healthy fit toned fighter stronger movingforward changes love life\n",
            "it's time to spend for lordvenkateswara familytime   relaxed  govindagovindaó¾ð â feeling positive at... \n",
            "  user got my  user ticket today for gig at  user my favourite band atm at my favourite venue nice one! estronsâ¦\n",
            "model   i love u take with u all the time in urð±!!! ððððð¦ð¦ð¦  \n",
            "winter is coming âï¸   likelike love \n",
            "why eating before iftaar can be crime in muslim community... u can not force ..he is an old man...   worng \n",
            " â us may ppi: inflationary pressures slowly building - wells fargo   blog silver gold forex\n",
            "  hardcore techno remix tight shaved pussy  \n",
            " user take off geoff hurst and bring on jimmy greaves. might as well talk about  as it keeps getting mentioned.  \n",
            "hello math students   exams math\n",
            "one word    user  user ð«ð \n",
            "  user i got hims back finally  user   user losangeles   homefromhome hugs feelingthelove ðððð \n",
            "looking great tiffany ðx \n",
            "a   ending to a great pet story - dog rescued from well reunited with spaanburg family - via  user  k\n",
            "cleared out all our clothes ready for some new holiday stuff! days  \n",
            "san francisco for the next  weeks  \n",
            "i don't know...maybe those two things go hand in hand....  \n",
            "electronic music from bogota colombia  puntohost cedm edm dj fashion music   \n",
            " more days till i fly to the other side of the world with b ð   vacation\n",
            "theduchessofcambridge attends royalascot in ascot ð -// cute love beautiful sweet   pretty hat \n",
            "born to travel - forced to work)ðð°â¤ï¸ travel travelgram traveling girl   hap.. \n",
            "  user ok just  day left to enter euro  piranaship  user  â£ entry winner gets â£ ð   \n",
            "thank you!  user for tickets  user   so many things to try with  user tasteoflondon \n",
            "happy bihday bro  user    rapmonster \n",
            "lebron '\" and no post game!!!  \n",
            "trying on hats dayoff selfie man   smile irish guy handsome cute boy follow meâ¦ \n",
            "to say i am in complete shock would be an understatement. people don't know me as well as they think they do.  \n",
            "how did my   memories from rome end up as yummy cookies? please  &amp; click recipe  \n",
            "khoyathefilm afterpay   soldout faces! with  user  user \n",
            " user sir, god bless you manymore   returns of the day. vr proud abt ur affectionate towards giving value commonman sugestions\n",
            "happy saturday to you all ð·ð·ð·ð·ð·ð·ð·ð·ð·ð·ð·ð·   saturday followme followâ¦ \n",
            "\"sun day\" summeime   sunshine \n",
            "read with pride.   amazing beautiful cute equality equalrights gay gaypride  â¦ \n",
            "  user i feel like this right now   \n",
            "monday  daywith all contractcentral londongalton flowers \n",
            "â¶ yung samu ft lokey-eahquake produced by dj triumph    music loveit stripclub\n",
            "the latest mindbodysoul!  thanks to  user  user  user soul  \n",
            " â nz: growth warning from external accounts - bnz   blog silver gold forex\n",
            " user more like whack jobs!  they're going to alienate everyone who has been so generous and ruin it for the rest of us.   pathetic\n",
            "enteainmentsystem   gorilla simulator: you need to do to adapt to the environment. the need to tear the c \n",
            "new look hair...ðððððð¯ð¯newlook hair   \n",
            "i am thankful for my soul mate. thankful positive     \n",
            "make everyday count ðð¯ towards a healthy life ð¯ * have you had your shake todayâð  â¦ \n",
            "we're also not upset we lost because we won by any measure other than a , useless appendix of government thaâ¦ \n",
            "finally!!! action!!!  user  user catdjt theresistance  notmypresident impeachtrumpâ¦ \n",
            " user white supremacy is not a joke (i agree) but lying  wmn  get laid is woh joking about? line of thought by  user\n",
            "i am thankful for vacation days. thankful positive     \n",
            "boom! toureiffel with  user ð three day to paris and we are pretty dead but   âº  sporadic selfie ð \n",
            "g'morning it's   friday! make it an awesome day!\n",
            "i live in nyc and don't see a lot of ove racism. i was disappointed to see how much there is on twitter.  must never be tolerated!\n",
            "another  degrees in vegas and not two fucks cared.  i like these days.  heatwave lasvegas  \n",
            "engrus playing good football but no end product. still   so far\n",
            "the sweetest little sock ever ð   smile sweet sweetest bee baby kids love socksâ¦ \n",
            "  user time to put on the ski ! alps titlus switzerland ski skiing reso crazy cold  â¦ \n",
            "i am thankful for entrepreneurs. thankful positive     \n",
            "the only way for you to stay relevant is to open your mouth, and tell other peoples business .  \n",
            "wo aakhri pal .....   moment ððð kunjsarnaðð comment your feelings :( tashaneishqâ¦ \n",
            "i am thankful for shoes. thankful positive     \n",
            "the reason millennials arenât   at work from keith breene  user  challenges employment\n",
            "  - tyler ward &amp; cimorelli cover - pharrell williams - music video  \n",
            " user  user old school manipulation, gas lighting, power, money, corruption. see history page: any.   wepresson\n",
            " â eur/gbp back to test . ahead of draghi?   blog silver gold forex\n",
            "best lawofattraction resources for healing!    altwaystoheal healthy is  ! idwp ! \n",
            " user udtapunjab   wohoo !!!\n",
            " user so sad that a fellow student from my university angliaruskin has been taken from us. thoughts are with his family   rip\n",
            "happy sunday to all my amazing fans of  yesterday s show...  to feel your love , gioconda \n",
            " user me and my daughter in the fouh row at newcastle! woohoo  \n",
            "it's so fresh like just came out from cows breast icecream nagoya yummy japan   dayâ¦ \n",
            "create the lifestyle you want!!  lifestyle   livelarge \n",
            "reality life   words \n",
            "never think u have fiend or soul for life ...   dissapointed ðð\n",
            "there was a time, not too long ago, where politics would take a rest after a tragedy. now it's a race to say \"see i told you so!\"   \n",
            "its raining here finally some relief after a hot summer... thanks rain god...   monsoon everyone...\n",
            "only  countries in the entire world are not currently at war   \n",
            "rosematter comes out in  minutes and im taking my science final instead of getting the lipstick...  \n",
            "  user my favourite pa of the this world legenderryhour thanks for info.   bassettsduck  user \n",
            " user it's going to be a great year!!! i can't wait till this happens :) treason traitorump liarâ¦ \n",
            " video men and women in bed without clothes candid videos sexting\n",
            "i am thankful for my independence. thankful positive     \n",
            "\"no happiness here\" by uiotifdh    raining animation\n",
            "national news-channel playing an old youtube video of a girl taking heroin (drugs) through injection in ludhiana. is this journalism?  \n",
            " user . user  user unbelievable  aicle! tip: it's never ok to tell someone they cannot procreate! m or f! \n",
            "âï¸   dayâï¸  user  user  user nice day allð§ \n",
            "good times at band rehearsal tonight - we're ready to rock the  user tomorrow night / philly   \n",
            "smile ! sonrie ! actor losangeles westhollywood cap redismycolor   focused graciasâ¦ \n",
            "the beautiful daddy youssoupha kandji and the little jannah smile   \n",
            "nra continues to do so much damage out of greed for power &amp; money. nra are the true terrorists. all homegrown.    \n",
            "woooohooo  user i'm going to bml! daunting buying the ticket but i'm super   to learn how to up my game &amp; meet everyone :-)\n",
            "looking to feel more joy? join me and  speakers on the free summit unleashyourjoy    \n",
            "i am composed. i_am positive affirmation     \n",
            "i finally found a way how to delete old tweets! you might find it useful as well:    deletetweets\n",
            "  user \" user the a of the   expat\" here  berlin germany society culturaldiplomacy htâ¦\n",
            "senseless. heabroken. baffled. angry. no words to describe. ripchristina . god needed your voice. my prayers to the grimmie family.  \n",
            "model   i love u take with u all the time in urð±!!! ððððð¦ð¦ð¦  \n",
            "love that  user  user calabash  \n",
            "% me right now.  me single singlelife teamsingle singlesquad lonely fml lol   \n",
            "my dad posted this to my wall today on facebook and it made me so  , i really needed itâ¦ \n",
            "â tips to wiping negativity out of your life.â    success flourish \n",
            "beautiful ceremony rip  user   orlando pulse massacre peace letitbeâ¦ \n",
            "  user yum yum moms attractions conferencing nomnom    \n",
            "a little polski sklep is good for you and me!   agingdisgracefully travel london \n",
            "it's like extra   when a hotchick dies, when an uglychick dies, they like, probably sucked anyways. so it's no big deal\n",
            "now playing  :  danny wright - \" in memory\" on    melancholy   melancholymusic\n",
            " user bro may all d best blessings rain upon you today and always. may allah bless u   bihday parwej \n",
            "we are members of the encinitas ððððð¥ð¥ encinitas proud keepitlocal   drcoadiâ¦ \n",
            "fuccckkkk indy is less then a week away. sooo   indypopcon indypopcon\n",
            "burger. beer. football.   \n",
            "all those gals that have sugardaddies should  upload  their sugardaddies photo n caption the pic  ... \n",
            "feel sorry for all the lads gone over to france for a good drink and to enjoy the games with all the \"football hooligans\" causing chaos  \n",
            "  user be happy!! ðð smile   snapchat \n",
            "healing from heabreak: how to lessen the pain avengetheheaache breakup   lonely heabreak relationship \n",
            " user hope you had a good weekend lad was fun for us  but feel for the people of letterkenny for what they had to put up with   ð\n",
            " user is this your relation? yeah... that's a right... i see you all as the same  \n",
            "  user first day at  user wee walk to wake me up! now waiting for rest of the counsellors to land in! americamp shâ¦\n",
            "work soon, another long day pretending everything is ok. tuesdaybookblog   work\n",
            "well pittsburgh we have to wait now for the  user to see what they do.  user are not doing nothing   changesneeded\n",
            "likescam   bull hill climb: you have to reach the target to complete the task to survive. with strong excit \n",
            "he was investigated for terrorist ties twice before. he was known to fbi and police as a terror suspect.   \n",
            "all these damn mix kids only cuz the parents want they kids to have good hair  \n",
            "surprise highlights! would you try? ask for  user salonaks pink hair trends   summer  user \n",
            " user  user  user  user  user  user  user cry... user can verify this    user\n",
            "we're excited here in paris too!  \n",
            " user i'm going to see bob dylan next sunday. then have brian wilson and dwight yoakam back to back weekends next month!  \n",
            "  user about to graduate from the no. indigenous business masterclass in autralia proud   murra mbs\n",
            "sta your day on a cute,   note by setting a \"cuddle alarm\": i am very much not aâ¦  \n",
            "need a black page girl to shut down nomore page for  as well as homophobia page bringbackpage \n",
            "i am thankful for being able to remember. thankful positive     \n",
            "using multiple acc's &amp; pretending as if we can't get u ð  you're not sma enough to fool people coz illiteracy ð \n",
            "  user congrats  user forward to getting stuck in..see you in a couple of weeks! natwestrugbyforce \n",
            "sounds cool  user amazing how progress in imaging technology changed life in &amp; outside labs!  spongethursday \n",
            "no filters needed.   times.   sean ogs gaoth dobhair \n",
            "great golf today.  user   bihday witcom living the dream \n",
            "ó¾§ new york ó¾§ finally newyork best vacation love mum family sweet night longtrip  !!! \n",
            "so psyched for  user !!!  \n",
            "my package of  user will be here tomorrow.  \n",
            "all packed &amp; ready to go! wwaf  user   for a fun day. cheers!ð¸ \n",
            "  user  user opening of fantastic new tate modern extension brilliance and r user finds football more fascinating yaâ¦\n",
            "  user i am thankful for hope. thankful positive     \n",
            "i only have one outfit...for my monkey  ð  user  \n",
            "that's what we're about foundationstaers ð \n",
            "sunny  summer sunny   love selfie sky me blue green girl smile hair beautifulâ¦ \n",
            "now you see me  ððð  \n",
            "jaaaaaaa!!!!! i can't wait! hype insane   heavymetalneverdies \n",
            "just  days until the championship fixtures are announced. bees brentfordfc   \n",
            "happy father's day!    father fathersday children dad \n",
            " user let's do this!  user maga thanksjackasses packyourshitobama a trumptrain tcot \n",
            " user dearfellowwhitepeople, in , let's all realize that u don't have  wear a white hood &amp; swastika tattoo  b  r saâ¦\n",
            "  user how to be  :  science -backed ways to become a happier person  via  user\n",
            " user i am not shopping at  user until they purge all trump products. who do they think canadians are? \n",
            " times potus  has address the nation after mass shootings happened in the usâ¦ and yet nothing changeâ¦   frustrating stophate usa\n",
            " user  user  user . will there be a fouh atomic kitten album ?   \n",
            "ignation   rooster simulation: i want to climb the vast expanse of mountains. it reached the leakage cock w \n",
            "my hea goes out to the families in orlando,florida   orlando\n",
            "film   bull up: you will dominate your bull and you will direct it whatever you want it to do. when you sta \n",
            "men are you looking for a coach or a group that can help you know yourself, be   about yourself and become... \n",
            " video men and women in bed without clothes nude mother son sex\n",
            "time will fly, it will be here before you know it ð   shivaay diwali  \n",
            "model   i love u take with u all the time in urð±!!! ððððð¦ð¦ð¦  \n",
            "so sad i'm going to miss  user fir the first time ever tomorrow.   aspiringcostumedesigner\n",
            " user  user why cant we run this thug  fool agitator out of stl?  user  user  user\n",
            "can't wait!  selfie soa tanktop glasses ready roadtrip adventure rockfuck   gg nsp \n",
            "  user we're   to have  user in calgary in just under  months...  \n",
            "it's all smiles here on our th year anniversary ðð¶ð dogsofig chihuaha  dogmom love  â¦ \n",
            "music keeps us alive and happy so remember to listen music when you are feeling down   happiness music life\n",
            "morning everyone!   monday\n",
            "aww yeah it's all good bing bong bing bong   \n",
            "box   polar bear climb racing: angry polar bear climb racing, the polar bear living in cold places looking \n",
            "watching a little video of my nephew the makes the distance feel less...so cute! made my friday! ð family love thankfulforwhatsapp  \n",
            "  about staing college! need a lil help with funding! help by clicking here:  \n",
            " user  user your comments are reflections of ignorance and   user  user  user\n",
            "when forever feels right and you're scared it's all going to be a dream love forever twinsouls soulmate   blessed dreamcometrue\n",
            "word factory: race denial prevents healing! southafrica leadership transformation inequality  + \n",
            " user us ambassador says zionism is form of  israelisettlements illegalisraelisettlements terrorism \n",
            "ðð¹ð happy + sassy today! ð sassy spanish   me giverofgoodvibes onpoint selfieâ¦ \n",
            "live now girlfriend:  fantasy babe female   webcammodel webcam pussy\n",
            "life can be complicated. it can be simple. it can be happy or  . quote quoteoftheday motivation \n",
            "on my way to emeraldstreetlitfest. it's my first - ever litfest âº ð books  \n",
            "eeekkkk  paytime its that time of the month where theâ¦ \n",
            "i am thankful for my school. thankful positive     \n",
            "happy together ^_^      bombana sultra \n",
            "music as therapy as a tool for healing!   altwaystoheal healthy is  !! \n",
            " user i see it in  more hours! ð   right now i'm getting my legs waxed for the first time. talk about a real horror show! ð±\n",
            " toptweeters like this one at the â¥venusexchangeâ¥ â¶ \n",
            "news saying cities are in high ale. i think it's time that we stand, as a country, in high ale. this happens to often to not be  \n",
            "couldn't have said this any better nor truthfully  donny boy.   user theresistance traitor â¦ \n",
            "soulmates???  via  user soulmate love family  \n",
            " ð¥ð¥ð¥ \"smpa\" ð¨ð¥ new hit so icy dee â rap hiphop music rapper aist mc indie hit hot \n",
            "well; there ends another week and great teamwork. soc refresh, board update and mentoring again.  weekend work: fraud investigation ð  \n",
            "i am giving.i_am positive affirmation   \n",
            " carat hydrothermal alexandrite â¡ we're   to see this made into a beautiful piece! jewelry colorado \n",
            "prayersup for christinagrimmie family!!!  wow!!  \n",
            " user thanks for sharing andrew jones,   sunday :) sharingiscaring (via âª  grow followers ð)\n",
            "  user   writing &amp; lovely reading   &amp;  love life's loves! &lt;\n",
            "last official day of training at olive garden is tomorrow then they'll be putting me out on the floor as a serverððð   nervous\n",
            "looking forward to receiving something pretty special from the  user team for our goody bags! areyouastationerylover   papower\n",
            " user stop legitimizing by using \"alt-right\" &amp; call them what they are: neonazis! \"..from nazi doctrine, incl ultranationalism ...\"\n",
            "meet some of our fab  user with  user on betv   volunteersweek  \n",
            "totally love this one!! &lt; :)  love   summer \n",
            "model   i love u take with u all the time in urð±!!! ððððð¦ð¦ð¦  \n",
            "  user \"shit is about to go off like popocatepetl in here. i'm like a tornado of anger, whirling inside!\".  popocatepetl   tâ¦\n",
            "want to be  ? do what happy people do! behaviorchange behaviorchangers \n",
            "next year should be a breeze, huh? lol mashpeepd lotsofsurprisescomingup!  !!!   \n",
            " user ~ proud to be a choc lit star ðð«ð«ð   books cantwait \n",
            "i finally found a way how to delete old tweets! you might find it useful as well:    deletetweets\n",
            "  user enjoying the  user in london  user gin orange   lush thebest \n",
            "arianagrandedrawing   attack bull game d: do you really think that his head was empty around the city. eac \n",
            "happy sunday   sunday blessed selfie selca redlips love smile  indonesianâ¦ \n",
            " user phoneradarop  user  oh !! what a amazing news from  user in mail !   \n",
            "too often. hea   violence hu \n",
            "chillin with the babies and my cat daddy trinidad family tropical milfswag   sun funâ¦ \n",
            "  user 'ceified professional' can mean a lot of things. wisdom viral shineon growthhacking mindful fun jokes laughterâ¦\n",
            "ð love instagood photooftheday  user tbt cute me beautiful followme   follow fashion selfietime \n",
            "oh yes, it feels so good being  free from the pain of the past , and living the   moment of the present - s. ali  user\n",
            " user team unbreakable getting ready for our race   nervous goleger \n",
            "  user glazed by the sun   \n",
            "yo  user greeneggsandham\" is a side show... dems were talking about realissue! fillibuster   \n",
            " user  user i just woke up &amp; to this lol   \n",
            "happy - texas a&amp;m university libraries  motivationalmonday get  \n",
            "preparations underway on sight   bestofbyron youngecoengineers mebp baesystems \n",
            "the uk government's new 'anti-semitism' definition conflates racism with valid criticism of israel - openâ¦â¦ \n",
            "happy friday!! friday   friday instalike instalove \n",
            "  user   briefencounters hits itv in july, watch the trailer on youtube now unmissable   httâ¦\n",
            " user  user  user  user  user  user  user thanks gracie! off to louisiana in a week  \n",
            "  user whatever makes you smile. whatever makes you happy.   happiness \n",
            "i am thankful for freezers.thankful positive   \n",
            "  user looking good my friend.  \n",
            "god is workin ð grateful humble   foiinã©branlable \n",
            "  bihday pac- pac - starin' through my rear view (music video)  via  user\n",
            "dustinjohnson should have played from behind the tv tower.  shooter had to play in off frankensteins fat foot.   usopen shanelowry\n",
            "i find this so mormon - like. cute    \n",
            "extremely   to announce that the nominations to watctopin rising star awards open on st aug! pipeline \n",
            "tomorrow!!!   ethiad waitedyears \n",
            "ayeeee ok! thanks booski!   ððð¥ðð¾ \n",
            "  user here come the year  children for their residential  user   outdoorlearning gswing \n",
            "sad songs can actually cheer you up   \n",
            " user mahalo for voting for ndaa. bah is impoant to mil to mil families like mine in hi. + yrs service, entitlements earned.  \n",
            "appropriate for tonight's  user &amp;  user brussels show   \n",
            "utterly loved seeing team  user  user  user   to say goodbye to wonderful victoria ðthanks gorgeous girls ð¯\n",
            "attack her chinguas~ &lt; \n",
            "personalised ba... gbp . get here:  shop cool   home fun \n",
            "had to share, made my day. hope   team america - so ronery: gwyn jong il remix  via  user\n",
            "herbal sleep remedies that work!!  altwaystoheal healthy healing   !! \n",
            "beat the summer heat with a  user icecream toy! save %   dogtoy   petparent \n",
            "best essential oils for healing!!    altwaystoheal healthy  !! \n",
            "listen to heaven is under the sun by  user for some   upbeat pride quiltbag lgbti\n",
            "babies   dorel baby relax varna swivel glider - beige  bouncingbaby\n",
            "bom dia! good morning! bonjour! shyspring soulshine ptop   fotoencantada ig_europaâ¦ \n",
            "our fundraising day is here! really looking forward to tonight! raising money for  user the kccc and pediactric epilepsy,  \n",
            "our friends returned! journey   life living listen selfrealization freethinker humanâ¦ \n",
            "preparations underway!    user  user  user  user  user  user  \n",
            " user prank dad home slapcam black  waiting bastard offensive memes meme by offensivememes \n",
            "he's shown us over &amp; over who he is! bigly believe him! traitor fraud liar sociopath rapist â¦ \n",
            "only the gop side of the ledger.   and pathetic \n",
            "rhoc season  .... counting the hours.... h &amp; minutes to go!! ready?.. â¤ï¸  user ð  user ð  user ð\n",
            "model   i love u take with u all the time in urð±!!! ððððð¦ð¦ð¦  \n",
            "ff   of my self and happy for the point i reached of hea purity. also i registered on a yoga directory i invâ¦\n",
            "  user model   i love u take with u all the time in urð±!!! ððððð¦ð¦ð¦  \n",
            "i leave for hawaii in like  days!!ð¬ðºðºðð¢  hawaii   texastohawaii\n",
            " user excellent analysis &gt;&gt; this  backlash against refugees is the real crisis in europe | apostolis fotiadis \n",
            " user best customer service i have received in a while from rezwan at your victoria station branch!  \n",
            "orlando i weep for you ð  prayfororlando tragedy   family loss realestate brokerâ¦ \n",
            "is alfredo's woh the  dollars woh of food i had to buy just for them to deliver it to me..?   life\n",
            "you will all be compensated, as promised.  \n",
            "save thousands $$ free search x logins x brokers    actor seeklearning   stafresh \n",
            "clientdiaries the best happiness is when uv made ur client  !! thankyou for theâ¦ \n",
            " â united states -year bond auction down to .% from previous .%   blog silver gold forex\n",
            "  user lack of sleep can cause lack of memory. momtips   \n",
            "going to be seeing the  user live in october, so excited!!! videogames gamergirl gamegrumpslive   \n",
            "  user i'm flying to stockholm tonight. ð  \n",
            "tony todd followed me back!   psyched.\n",
            "=&gt; =&gt; =&gt; sirf ashiq log follow karen iqbal galib wasi faraz sagar mohsin ki full   poetry, shairi + follow  user send t...\n",
            "really can't believe the prizes on offer  user ð¦ these trainers look super fast thanks ulverstontri   \n",
            "cannot wait for this rain!  \n",
            "  user here's also wishing lynbuon a very   bihday from the icebees and their families. have a lovely day ðð\n",
            "motivate ur mondaymorning with a booking  this wk's yoga classes     user \n",
            " user oww!! i really miss u guys. gosh! i cry!    \n",
            "pleasantly surprised to be upgraded to first class flying  user today!   traveler\n",
            " user  user the poorest neighborhoods have the fewest trees.  \n",
            "sometimes we have to finish something to sta something better!    goodday smile polishgirl \n",
            "new remix of lightyear, \"let the music play,\" by peter tanico e nyc productions.    user  \n",
            "when your closest friend at work tells you she just got a job offer she can't refuse.   wednesday cry bummer needmoremoney\n",
            "  user chroniclescontinues that moment when  user steals my favorite color and then asks if im   with her. what â¦\n",
            "divers from all over the world ....we had a blast &amp; made new   bubbles :)  come &amp; enjoy diving... \n",
            "we are all shocked to hear the news about  user we saw her last week. our thoughts and wishes are with her   \n",
            "ð em so excited en i just can't hide it ð¶    \n",
            "turn a ho-hum exterior into your   place with these creative curb appeal ideas. \n",
            "i love abrahamhicks and lawofattraction !!   healthy healing   joytrain !!    \n",
            " user d pti does not know it  \n",
            "that feeling when christian grey was in the city where you live and you didnt see him........ kviff fuck   \n",
            "brie the explorer ðâ¤ï¸ singlemom   momandproud brieandmommyadventures lol \n",
            "i'm so   for the new imessage update! ðð¤ apple applekeynote\n",
            "n i thought he was the ð checkoutmyflyer education makemoney cash lifestyle   sadâ¦ \n",
            "because this baked potato is woh millions millions makemyday   kindadontwannaeatitâ¦ \n",
            "me &amp; baby eli ontheredcarpet   user i'm so   they r back  my cousin  watch teletubbiesusa \n",
            "i have never been apa of a face swap.  \n",
            "tomhiddleston and taylor swift? ouch. this news has knocked him off my top spot. thought a little bit more of him  \n",
            " user spread the word &amp; join millions for national day of healing jan. ,   trht  user â¦\n",
            "  user i got a \"new to me\" mini minilife minicoopers   times ð \n",
            " user  user  user still don't believe u guys are out of the gang! well that's life! all the very bst in ur future endeavour \n",
            "first tweet lol  \n",
            " user  shopping    user makes the day but no attractive deals today !!!  \n",
            "fair &amp; lovely effect...  \n",
            "you make me happyâ¤ life love   levax dream like likemepelase likelikeâ¦ \n",
            "i love me some mayoncã© â¤ï¸ sisters itsthelillardway love curlyhair wecute   goodtimesâ¦ \n",
            "time to unwind,  relax and see a different view ð (lucky to be in a comfy bus with wifi)   bicol\n",
            "i usually post large photo appreciation posts on social media for it but im glad i stood back today and remembered how blessed i am.  \n",
            "many of my  user alum friends and waking up shocked to hear of the death of scsu president. shocked    \n",
            "have my lover stop being angry at me visit us..&gt;&gt;&gt;  lover   friend astrologer love \n",
            "it's best to make choices that will help you keep a smile on your face. whatever genuinely makes you  , that's what you should focus on\n",
            "my instagram is finally growing :d  user ! results  \n",
            "having a really shitty day so far. please cheer me up internet friends.   crappyday depressed nausea\n",
            "  user model   i love u take with u all the time in urð±!!! ððððð¦ð¦ð¦  \n",
            "if only i had someone to wish father's day  \n",
            " user feminismiscancer feminismisterrorism feminismmuktbharat why  malevote is ignored   user\n",
            "change your thoughts and you change your world.   confident determined   optimisticâ¦ \n",
            "i finally found a way how to delete old tweets! you might find it useful as well:    deletetweets\n",
            "you look sexy af and fine  user ðððâ¤ï¸ðð \n",
            "what's going on with the world?   \n",
            "  bihday naked man free porn kiss  \n",
            "  letbno man steal your joy \n",
            "  user how my bantu knot came out..still need more practise though   blackgirlmagic \n",
            "getting there ð gym pic mirror gym   topless \n",
            "  user msrlm is it too soon for me to sta to cry?   proudfan \n",
            "feeling   like love by abk â©reversegraffiti â¤ï¸ð¨   paris, france \n",
            "knowing i've passed my disseation and be able to sta my dream job in september! i can't sleep!!   wideawake ð³ððð·âºï¸âºï¸\n",
            "if everything seems under control, you're not going fast enough. - mario andretti ó¾    traveltuesday! ó¾µ... \n",
            "poison ivy! poisonivy ilovemonetpage fun  !   â¤sweethomeâ¤ \n",
            "its been years and months. i love you!    monthsary &lt;\n",
            "fo woh pastors say officer's acts in viral video arrests were racist  \n",
            "warning: ladyzaradurose on  user is not me! it's someone impersonating me and using my information.  someone needs a life!  \n",
            "when your homeboy got nothing but new level trolling for you  \n",
            "get to ride oscar tomorrow ðð   onestepcloser ð \n",
            "a lot of good games coming out the end of this year   cantwait\n",
            "exactly! under fbi investigation, should not be able to run for the office of the potus!   joke deletehillary \n",
            "may his soul continue to rest in the bosom of our lord \n",
            " user after being a victim of a  hatecrime (i was called a cr*cker) i now truly understand what it feels like to beâ¦\n",
            "mary_lee_as  by mary r. lee  thinking of you with lovefloorclothpainting awork   sadð¢ \n",
            "one time cole nicholls and simon henderson said i dress like i have daddy issues   fathers day\n",
            " user when are you gonna be back on wwe? missthebigguy feedmemore  \n",
            "  father's day daddybeto mari y nats ððð so cuties and pretties ððð  user  user \n",
            "intolerant post-brexit britain: history shows we can be better than this | hugh muir   hatecrime uk society\n",
            "can i tell some thing in our hea............you a beautiful thing in the world   \n",
            "don't compare nuure yourself and be   \n",
            "\"idk why they think work is more impoant than me..\"  dogsoftwitter huskypuppy video   bae dog bye \n",
            " user    fathersday gift for proud dads.available for  day \n",
            "if the gorgeous day isn't resonating on the inside for you, give us a call.  there is such a thing as summeime blues!  --   \n",
            "when you realize that within a year or so you'll prob be moving into your own place with a friend or two.  yes   ilovetodecorate\n",
            "being   wonât give you longer life, study says \n",
            "  user and the press would have you believe bike racing is too dangerous? thoughts go out to the victims in orlando ð¥   \n",
            "  user it's a serious problem. even salvadoran sposcaster are bias against mexico   we should be promoting ð not hate httâ¦\n",
            "a business against  | by villy wang | tedinstitute  \n",
            "in queue with basket of food shopping, 's guy says \"give us a smile\". think my response was a first by the look on his face. \n",
            "passed my exams yay   finalexams nomoreexamsever\n",
            " user i'm stepping down as a  user board member tom as my paner+i are expecting a little girl in approx  weeks   âº\n",
            "remember  brazilian woman  cute  blonde  jessierogers     sunday \n",
            " user  user stop teasing us with these pics , i'm not sleeping at night !!!!!!   giddykipper\n",
            "my friend just gave me this!!!   \n",
            "ttd: what if just breathing could help you be  ? take the daylifechallenge!  \n",
            "playinggames   buffalo simulation: buffalo for you to take in the vicinity of their homes to do. in this wa \n",
            "i am thankful for health. thankful positive     \n",
            "suspected henrico vandal's mother: 'my son isn't ' - dec    : pm et  \n",
            "sir, i believe barney solved it years ago.   h awesome \n",
            "i am transforming. i_am positive affirmation     \n",
            "  user goodmorning everyone âï¸ðððð».. feel free fly high   sad alone:): lifeteacheseverything letthelegsgocrazy htâ¦\n",
            " amazing health benefits of cucumbers!    healthy is  !!  altwaystoheal! \n",
            "to all the dads -   fathersday. you teach us, you make us better. make a memory today.  father love \n",
            "happy bihday!! twice   tzuyu day \n",
            "  user looking for a little happiness? come join the  nowlinkup:   user bloggers  \n",
            "auroramessy instamood instalike beautiful picoftheday cute girl followme love mephotooftheday fun   \n",
            "  to see a maltingfloor today  user this humble ingredient with time and passion becomes whisky \n",
            "nobody is in charge of your happiness except you. - joyce meyer    smile fun \n",
            " user and they'll tell you now just how   they were using their own godgiven initiative :-)\n",
            "i am thankful for love. thankful positive     \n",
            "\"and then the 'hate' kept mourning on the grave of love.\"  ~shahtaj iamwriting  \n",
            "model   i love u take with u all the time in urð±!!! ððððð¦ð¦ð¦  \n",
            "a   customer iambami leaving the deltaamexperks lunch at shakeshack contest nyc. nowâ¦ \n",
            "sad, but true.but then again   too is a political power in punjab.talk of the solution being a pa of the prob \n",
            "heading to mass today with my boss to head to the trade show ...  \n",
            "you been fell off honestly!!! too busy hating on other producers &amp; how your selfies look on social media and done lost da sauce!! smh  \n",
            "that's crazy how you give  yrs of your life to school.. and just bcus you don't have enough of this n that ..u can have a diploma ð¤  \n",
            "every office needs a   jar! quotesoftheday fridaylove greatweek \n",
            "about to crawl into bed with my love and my new best friend and watch a movie until we all pass out.  \n",
            " user i got married celebrated two bihdays...busy weekend  \n",
            " user  user for you love us when the gov tells you it's legal to marry  \n",
            " user  user why can't women be defenders if they want? \n",
            "well food poisoning sure will help with that losing weight thing...  sick   lessweightkate\n",
            "thank you god  \n",
            "  user pa of a new order from hunkydory that we're waiting for   eshopsuk crafthour craftfest \n",
            "  user  user fynn says thank you, his prize has arrived   \n",
            "  bigday where ever you are...ð \n",
            "all thnx  almighty god  granting me d grace  see anoda yr added  me in peace, joy and happiness.   + to me \n",
            "happy th month ngit. ð³ðð love lots. ðð   \n",
            "if you want creative workers, give them enough time to play.   success quote  \n",
            "it could have been us!  liat channel orlando mass shooting di snapchat really break my hea  ð­ð­ð­  â¦ [pic] â \n",
            "  user tomorrow night.... watch this space! silence music musicvideo   baranovas \n",
            " user can't wait for the new releases! ð  \n",
            "bihday boy!!! . . . . . new bihday bihdayboy bornday love like share moment  â¦ \n",
            " user thanks for favoritn my tweet i appreciate you, you deserve a follow makemoney nbafinals euro     game\n",
            "  user  user  user my gorgeous matte lippie has arrived! i have plans for her!   \n",
            "my dad is usually loaded up w snacks and today he is not and i am truly  \n",
            "someone commented on my video saying they saw me playing slitherio that makes me really   :) ð i love connecting with ppl (not irl )\n",
            "i'm so happy that everyone here is so suppoive and friendly ...thank for all the amazing responses bros âº the best epic  \n",
            "had a nice evening   the  user event in ingolstadt with my best friend. got a goodiebag with earrings and won a bracelet ðð   thx\n",
            "it's session week! ð  user ð  user ð  butterflies nervous\n",
            "jokeoftheday pun   what does the tornado and black people have in common?  it only takes  to ruin the neighborhood.\n",
            " user   user    happy friday sholy  wishing you a super duper day ahead \n",
            "my dad the diver.   fathers day. \n",
            "ankara now with london sewing services new lines are officially underway   onomen superwax ankara\n",
            "swim time with zoe!! family love swimming pool   weekend fun crazykids \n",
            "this dog...is enjoying the nice weather. spaface dogs   \n",
            " days til these  amazing people get married! truelove   lovemybestie \n",
            "color run â¤ï¸ððð thecolorrun color   pay people denmark conce running summer \n",
            "creating amazing bugglepuff awork together sharing   times with bugglekid fans is awesome  user \n",
            "i am sparkling. i_am positive affirmation     \n",
            "so true!! pll b angry &amp; hatful just becuz they want    \n",
            "loosing punjab bjp and badal family is very upset - now rss to keep of country interest in mind to avoid bjp and sad \n",
            "i love roses special the red one's â¤ð¹ð¹ð¹ð¹ \n",
            " user my age, gender or race should not define my capabilities in .   ageism\n",
            "samsunggalaxys   rooster simulation: i want to climb the vast expanse of mountains. it reached the leakage \n",
            "  user just had fab time being interviewed for hour about bees  user wrexham. i could bearly shut up! cant wait to listen baâ¦\n",
            "  bihday to you gab kamanzi.all the bestteampower of praise be blessed we did itâ¦ \n",
            "another  comment on social media!! idiot!!! \n",
            "no-one knows what goes on behind closed doors and this woman like a book is judged by her cover.   heabreaking \n",
            "  user just realized i look a little cross eyed on my license   lol\n",
            "  user great to meet  user  user the best gin experience in london   worldginday tomorrow!\n",
            " user so   that the eng and wal are sticking together against these diy rus time to get our own back!\n",
            "aladdin on the tv today on my bihday then aladdin in the theatre on thursday for my bihday âºï¸ðð   ð\n",
            " user and republican leaders who have endorsed him, like paulryan, would still suppo him.   whatatool\n",
            "  user made some pretty big strides with  user today -- staing to do some online tests and writing a few reviews for alpha laâ¦\n",
            "  user relationships in    ðð­ðð­ðð­ðð­ð­ðð­ via  user  user \n",
            "smiling kid.  inshot girls cute summer blur sun   fun boy lile beach hot coolâ¦ \n",
            "lovely to have alex home son  user   dog cute   colourlife \n",
            "happy wednesday!!!! blessed   smiling living cheflife \n",
            "cute !     hot beautiful hottie \n",
            "  user life only comes around once so do whatever makes you  \n",
            "because i'm happy... me glassesgirl asiangirl holiday ecogreenpark   fashion casualâ¦ \n",
            "how do some of y'all promote something you can't even find a ride to ðð  \n",
            " user i have the ssn,address,home network info and billing info but you still have to speak to my husband.  failure\n",
            "every time i'm back in georgia, i never have enough time to link with everybody..   face\n",
            "  kingkamehameha day luckywelivehawaii honoring our ancestors giving gratitude andâ¦ \n",
            "what the fuck man this flopping ass nigga!word  \n",
            "make mans jus calm down and kp looking at those mumus.... \n",
            "happy hunp day . got rid of the ginger lol selfie lovelife   positivity \n",
            "dear  user  i can't afford a ps...... and i really love the new godofwar . thanks for putting me in a such a condition   kratos\n",
            "check out   family lawyer on how food is integral to family bonding nomnom foodporn food blog \n",
            "the truth is... i just wanna b   ððð goals happy joyjoy\n",
            "are you black &amp; feel like the  are stomping â¦ you? listen  retweet tampa miamiâ¦ \n",
            "  thursday tci. here's a great tbt moment from our kiddies bringthebeat press conference with usain bolt: \n",
            "wherever you are, whenever you maybe you know that i still love you forever.....  mode\n",
            "lol since u were complaining ð   father's day !! \n",
            "peppa pig   birds lollipop finger family \\ nursery rhymes lyric...  via  user\n",
            "how i am feeling lately haha determined positivity positivevibes mindfulness   selflove \n",
            " girls in the world jgirl sex \n",
            "good morning ð morning   positivity \n",
            "today at work i got to pick the winner of bonnaroo passed and when i called her she sounded so happy it made me happy jealous  \n",
            "really annoys me when people put their hand on their chest for the national anthem. it's not the pledge of allegiance, come on america  \n",
            "selfie backstageððð»ð¶â¤ï¸ aboutlastnight orchestra conce musiciansontheroad   smile lifeisgood \n",
            "nice evening. cosmicflower elementalbob southafrika oslo chefstalk cbgastronomi   \n",
            "looks like i have this outline nailed down.   amwriting \n",
            "[.] update    social analytics maialas   instagram running \n",
            "i am thankful for winter. thankful positive     \n",
            " impoant things to allow the child to be   \n",
            "summer with friendâ¨ð¥ summer  friend life vlog weeknd   crazy  i'll miss youð¼ð \n",
            "  fathers day!  i celebrate my husband cyprian nyamwamu for being a god fearing dad. you have truly... \n",
            "drakeandjosh   buffalo simulation: buffalo for you to take in the vicinity of their homes to do. in this wa \n",
            "tonight is the night! strictlyto is finally here! in honour of  user find out more here  keepdancing  \n",
            "  slapping porn irish girls pussy pics  \n",
            " user  user actually it is the  user sequester. tippytop?   pathetic\n",
            " sacred promises people in   relationships always make  via  user\n",
            "the  thing   people don't do.  via  user authenticself\n",
            "gonna be busy end of the month. have to get the old one out, then (hopefully) install a whole new one till i go to london homeimax  \n",
            "i guess the judges did not pick flourish cause they have a voice like that on their team already!! ð\n",
            "  about my time at  user can't wait to see what  user  user + team can do!   user  user  user\n",
            "lunch with baby boy and family.  such a nice day out.    gay love family malibuâ¦ \n",
            " user  user june  is a good friend's bihday celebration out of town so i'm unlikely to make it :(  \n",
            "a small, very small, pa in a movie being filmed locally!!!  \n",
            "  user the real   birds!check here and find out the best look a like:   \n",
            " user  user  obama &amp; biden are the most antiwhite  president &amp; vp in history. trump\n",
            " user  months and i will be there   ð\n",
            "tbt sadie is our   dogoftheweek! submitted by meagan dogphotocontest throwbackthursday howies \n",
            "  user great planning meeting for tidwoh district rainbow pay for the queens th bihday  user  \n",
            "today our  user ctu specialists will emphasise on 'actionable threat intelligence' during a special  user event.  \n",
            "  user chapter . thank you lord for allowing me to see another year when so many didn't even get to make it this far ðð¾ð  â¦\n",
            "studio   attack bull game d: do you really think that his head was empty around the city. each side is sup \n",
            " user truth? yeah, sorry, not gonna happen. it's a msm journalists \"rule\" not  upset the cdn sheople.     user\n",
            "  user right - off to  user we go ! avivawt  \n",
            " user and playground insults have always reflected family / society rhetoric on homosexuality  â¦ \n",
            "well,these sewer rats don't take a cent from me,....i don't use to watch \"football\",......but now,i hate it! \n",
            "some of the bus drivers where i live are idiots seriously!!   busdrivers showsomerespect\n",
            "tonight a friends baby found a gun   someones house&amp;shot himself in the head.     preventable gunsafety prayjett\n",
            "  user welcome to fascism. it will only get worse if you don't figure out how to fight back.  trump \n",
            " user  user when i first said \"i'm not interested in football\" some was like \"ah but it's a big event\"  \n",
            "tried to buy 'the hooked x' by  user from my local bookstore..was told they didn't have it.  extra to special order really  \n",
            "clap along if you feel like a room without a roof ððððððð because i'm happy!  \n",
            "so excited for my commercial casting audition workshop today in london with  user and  user !!   butterflies\n",
            "altwaystoheal  healthy    peace !!  !! think alternatively!! idwp! \n",
            "my whole life..   ððð \n",
            "if only all the money spent trying to convince us someone is racist, was instead used to help bring people together. trump in the dumps  \n",
            "  user a record of what big-boobed girls do together  when they're under one roof  . \n",
            "why people become unhappy? motivational thoughts vision life   expectations  \n",
            "my first time doing studio work and commuting to manhattan at  am depressing. line too long at dig inn &amp; sweetgreen  lunch  \n",
            "such a long day... matches and  victories! this one from the single semis where i beat esperanza , ðð¾   \n",
            "so it's nationallobsterday and lobster is one of my faves and i didn't have any..   ð¢\n",
            "patch adams on being happy  act   patchadams\n",
            "so looks beautiful~ haha walking alone exercise good   night sun street \n",
            "  user and by patiently awaiting the release of  user x  user shades i actually mean....   slay \n",
            "good friends, good food, good life! â¤â¤â¤â¤ .   bestfriends bff pizza pizzahut \n",
            "  selfie grateful clubnight yolo   clearwater beach \n",
            "aww yeah it's all good bing bong bing bong   \n",
            "but making the most of a missed oppounity by creating a new one. off on a training adventure with  user tomorrow!  \n",
            "explain your actions. netanyahu you  can not claim discrimination when u do it yourself to others.  \n",
            "can sniff out subtle  &amp; the ignorant in a nano second even if it is an underlying flippant comment towards someone else.. aware\n",
            "i just wanna be   about love hopelessromantic unconditionallove reallove\n",
            "i am divine. i_am positive affirmation     \n",
            "  user  user why not tag in dwayne johnson with this provocative statement? scared? not very agent-like!   shame\n",
            "scott_brown_vs_hyperbass-were_droppin_this-(plus)-web--ukhx_int . web   hardcore gabba vk \n",
            "  user oh well that me done for work this week until next tuesday   beeroclock longweekend gettingdrunk \n",
            "exploiting a tragedy for political gain.   he wants a wall built. for whom? because last time i checked, your not indigenous to america\n",
            "i'm not so orlando...   \n",
            " user just submitted my app to join the  user family as an account lead!  \n",
            "i think is a minecraft day minecraft day   server\n",
            "early bihday treat, lucky lucky me .  courses in ammmmazing  user   \n",
            "what's happing in orlando is really shocking. we must remember that behind the death toll was someone son or daughter.  \n",
            "i am thankful for peanut butter. thankful positive     \n",
            "moving back to vancouver island in a month and a half!! excited islandlife beautiful   changesforourdamily ðâ¤ï¸\n",
            "poster for new stage show of midsummer night's dream on  user sept, which i'm directing.    steampunk \n",
            "  user you deserve to be happy   inspiration quote \n",
            " user ( i put it before, but actually kejungie known more as fangirling  account of fx than a roleplayer:-(  )\n",
            "officially registered in the berlin marathon woohoo! berlinmarathon running   \n",
            "happy jade wedding anniversary mommy and daddy!   blessed  â¦ \n",
            "time for he last episode of themusketeers season  v.v.. sucks kinglouis   lastepisode \n",
            "look at this cutie ð¥  newhampshire greenland graduation thursday funday   wegoodâ¦ \n",
            "love + smile = happiness :-) wedding love smile   happiness \n",
            "fridayyyy ó¾¶ó¾¶ó¾ w/  user minkie   friday friyay dress floral fashionista fashiongirl london... \n",
            "we've just received, yet again, the  user gold award! delighted! proud award   cravenhouse hamptoncou surrey claygate\n",
            " user trust the process. trust yourself. trust your client. everything is exactly how it needs to be. lifecoach success  \n",
            "...bams slipper...amazing sketch terrifically sma!!!!!  sketch bams slipper amazing wow   fun style... \n",
            "  user i'm shattered. will catch up on the leaks tomorrow on lunch break.    user  user e geekystuff\n",
            "loved being away on holiday, but so happy i got to catch up on all my shows ð   haggerstoncastlewiththefam cantbeatagoodcaravanholiday\n",
            "pizza timeððfood viperbeer thepizzacompany   enjoy myfood awesome pizza  user \n",
            "- sirf ashiq log follow karen iqbal galib wasi faraz mohsin ki full   poetry + no add + follow  user +  user  f  user\n",
            "  user  user    momentsgt obua isaac of military police makindye killed seven people\" mostly women n children  he was shot tâ¦\n",
            "  selfie by david ha   charleston vfw post  \n",
            "don't  on to what's not right or doesn't make you  . doyou loveyourself bestrong quality\n",
            "congrats to our newest bride-to-be jennifer on saying yes to the dress  user   we are   to be... \n",
            " user  user  user  user nervous perfectday such a fab fab cause !\n",
            "me in baltimore last year  america fish   \n",
            "my photo's just been accepted by  user &amp; it's now for sale on  user photography   \n",
            "  user seriously disappointed w/  user accessiblity policy. was looking forward  reddeerexpo, but policy is outdatedâ¦\n",
            "finally they have arrived! ððð stoneroses yeahman   \n",
            "cowards that is what these zealots are! you are not peaceful, you will rot in hell - this is not mayrdom! pulsenightclub momlife  \n",
            "rumbo al work   \n",
            " user you forgot: small hands, orange skin, weird hair, big teeth sociopath insanity misogynist  bigotâ¦ \n",
            "  user lovely to have all four of my books together in  user catalogue!   author \n",
            "how did my   memories from rome end up as yummy cookies? please  &amp; click recipe  \n",
            " user  user busy busy! twice in my back yard &amp; at  best summer venues in ny/ma region tanglewood soon &amp; spac in aug!  \n",
            "liveme  ð¡ veryangryð¡ð¡ veryveryangryð¡~the russian's onairnow  \n",
            "just waiting for john mccain to announce he is suspending his campaign and headed to orlando to solve the domestic terrorist crisis.  \n",
            "new book - we were liars. thanks for the rec  user books   needtofindabookclub\n",
            "  youthday to everyone! :) i hope you all have fantastic day. actioncoach southafrica greatness proud \n",
            "not even a single shahzadian wished me!  \n",
            "  user good morning. just goes to show, doesn't it? ðªð½ wow. makes you think. ð®   wellbeing healthy \n",
            " user is this where you're going? \n",
            "write your blog posts in a google doc before wordpress.   ð¡\n",
            " user st june  \n",
            "b e    h a p p y    ã°ã°ã°ã°ã°ã°ã°ã°ã°ã°ã°  mscandem  -  zero worries ó¾µgod gat me ó¾µó¾µó¾¬ó¾â¤ï¸ regrann  â¦... \n",
            "for all those, who are sad just remember, it can be wos ð staypositive lifeisbitch ugly   never! \n",
            "hot naked mexican girls photos   girls naked  \n",
            "wtf all the great girl groups are disbanding or not complete. what is wrong with the world.   why  \n",
            "no i don't know how to forget you x  moodedendontknow  \n",
            "tbh prolly will sta summer homework tonight lit summerk   annasos hype pumped\n",
            "as per programme  user arni day  finished at :!   faculty  candidates tired manikins \n",
            "dream big! positivevibes thursday healthychoices namaste youth leadership   smile motivation inspire \n",
            "after two weeks of suffering,i'm backð\n",
            "  user // one bro to another   to enlist after fall of  user from archives  user rva \n",
            "where are all the single hot dads at?   father's day \n",
            "  user how i wish, how i wish you were here.      instagood instasnow ilovemyhorse smile dark love beautifulday naâ¦\n",
            "  warns rahulgandhi not to play politics on udtapunjab'  \n",
            "missing you right now.  love\n",
            "brisk_and_vagabond_ft_lisa_marie-free-(ng)-web--ukhx_int . next generation web   hardcore gabba vk \n",
            "go to workð inshot girls cute summer blur sun   fun dog hair beach hot coolâ¦ \n",
            "the independent: 'star trek' actor anton yelchin dies in car crash at age of .  starek  antonyelchin  \n",
            "pajamas &amp; ice cream cake.   bihday bihday bihdaytome belatedbihday  â¦ \n",
            "a walk in the parkâï¸ð³ friends   photooftheday smile sun goodtimes love life walkingâ¦ \n",
            "/ but if you are interested get in touch and we can make sure your on the course!!! ballers   bigthingscoming\n",
            "after lunch... loading. lunchtime lunch food homemade sushi eat love   friendsâ¦ \n",
            "  user ur welcome teammates! dance to the tune of joyfulness! \n",
            "happy wednesday and whynot? be an inspirationâweahejoy whynot   wednesday inspire success... \n",
            "i swear it feels like these strap-on &amp; dildos are gonna replace us men soon the way you women have forgotten we exist     bye bye mankind\n",
            "page  of  in thedescendant rewrite. very   because i'm almost to the half-way point. newauthor amwriting amediting  \n",
            "today is a very   one! stop the murdering!  orlandolove  god\n",
            "rip  user she didn't deserve her fate. her life was taken for no reason. prayforchristina  \n",
            "  user if your intention is to be  , before making any decision ask yourself \"will this make me happy in the long term?\"\n",
            " user not long now ðð grancanaria cocktails   sunshine relaxingtime \n",
            "i try to take breaks from twitter/news to detox from violent patriarchal misogyny- &amp; ppl who think it is up for debate- &amp;then this?!  \n",
            "  user  user yes, except now it's happening on both sides. everyone has lost it. no one is listening to anyone anyâ¦\n",
            "when you're green you're growing green growing   happiness picoftheday instastreet getlost tamasha... \n",
            "teamlove   thursday just. be. kind.  \n",
            " user i've lost my tv again  \n",
            "i wish i had more time to spend w/ my gf, but this damn job keeps getting in the way.   fml time\n",
            "  user saturday friends albercada patinaje friends   \n",
            "after taking a wee break its time for the next one! bones  user   \n",
            "off to ponsanooth later today to sing at a wonderful village pay for the queen's bihday!   lovecornwall\n",
            "not exactly winning are you  user ?     \n",
            "the wife is so fucking psychotic as well. she should have  repo the matter before it gets to where it's now orlando   painful\n",
            "the girl from a   home  sensed something was wrong she never met the little boy until years later  mystical supernatural psychic\n",
            "hey!  user and i just submitted \"drive in\" to  user via  this is my st ever submission.  !!\n",
            "when we have fun modeling at date night!! adventure date pay loveit love family  â¦ \n",
            "in about an hour, the first track action of the   user will kick off!!! lemans wec   \n",
            "physics   polar bear climb racing: angry polar bear climb racing, the polar bear living in cold places look \n",
            "gorgeous in green   alicrytrinkets beautiful   thegoodlife loveitâ¦ \n",
            "laurie  h. )  bihday | anniversaire  )     bihday   user  age   years  old   june ,  \n",
            "smiles are contagious. smile at someone and see if they reciprocate.  \n",
            "ðð¬ðð»ðð¸ð´ð´ð» my fave emoji here friends !   life ispeakemoji lifeisbetterwithemojis \n",
            "happy^ at work conference: right mindset leads to culture-of-development organizations    work mindset\n",
            " user  user seeing your photos and thinking\"only if they were a couple\"  \n",
            "raw food diet benefits! -    altwaystoheal healthy   healing peace joy love !! \n",
            "  user who wants to win a gift card?  and shopthemint for your chance to win a $ giftcard! we will reply to the winner!  hâ¦\n",
            " user  will be astonished at food they make &amp;   i can't do it so basically  same as last year \n",
            "adults from now on..ððð²     both adults from now fun happiness love this lifeâ¦ \n",
            "omg they heard my request and they are making it happen!!!!! ðððððððð   nerdgasm ðð¯ððð½thank you  user  \n",
            " user another closet trump suppoer who won't admit it publicly and makes excuses why they follow me.  \n",
            "look at these lads faces they mean business joshuabreazeale this time this week all happening   youready \n",
            "be   n healthy from all that i have seen, time and time again, at least % of success derives from having a dream and knowing what yâ¦\n",
            " user    user wasmadwasibnoworsteverws\n",
            "watch weddingplanning when people are not   for you  \n",
            "i am thankful for freezers. thankful positive     \n",
            "happy at work+ conference: right mindset leads to culture-of-development organizations    work mindset\n",
            "  user so much to look forward to his summer!  user and  user with my bestie and a holiday with my mum  \n",
            " tzuyuupdates:  myohmyouisonim: happy bihday to our tall-maknae â¥ may the force be with you-da ããã ðð  â¦ \n",
            "sunday photo shooting.... pic photography paners fun   sunday pic selfie  user \n",
            " user  user and in any case, don't you have anything better to do that troll our jase?   got\n",
            " user i have left school for study leave now ð i only have a couple of exams left ð excited   memoriesmatter â¤ï¸â¤ï¸\n",
            "cycle tech issues solved by favero writing me bespoke firmware customerservice cycling tech    user  user\n",
            " user ji working hard for image makeover of india in world still presstitutes &amp; opposition are taking him on udtapunjab issue  \n",
            "time to hot tub in the rain. excellent way to end the weekend   halifax\n",
            "bihday countdown:  day!!!!!!!!  almost   day ðð\n",
            " user  gameready fifa  my love want to watch the gameplay so badly preorder kompleto   for ea conference\n",
            "kinda enjoy cleaning  \n",
            " user  user  user  user  user awesome hrithik   ðððâ\n",
            "  user  user obama just cleared the cow path old leaky bovine hillary will clatter along to return to the house she oâ¦\n",
            "don't you love my shades? ð¶ have some ice cream this weekend xoxo    doggiestyle ttc \n",
            "yass today is my bihday and i managed to get enough money to buy the exo albums and astro's upcoming mini album ðso happy exoastro \n",
            "this anyonebuttrump is going to backfire  user a lot of us will move to anyonebutgop.   rinos termlimits votetherepublicansout\n",
            " â canada capacity utilization came in at .%, above forecasts (.%) in q   blog silver gold forex\n",
            "going to valley fair in a couple of weeks fun it's going to be so fun   \n",
            "yeah man fuck feminism \n",
            "i am thankful for therapy. thankful positive     \n",
            "buzzin' for this long weekend! ðð¸âï¸ð­ð­ð tgif  friday weekend   love friendsâ¦ \n",
            " user  user you rock my brother wat a way of staing the show.   new abt keshi, ali ,ted  user to spice it up\n",
            "gentleman hqswag ðâï¸.. superstarking ð.. ð¹ or ent.. ð¹\" that's why i'm happy ðð   .. npâ¦ \n",
            "  user feeling like you need something to change? not sure how? i can help! atsopro livelife   hypnotherapy fear \n",
            "hot   bull up: you will dominate your bull and you will direct it whatever you want it to do. when you star \n",
            "summeime and the livin is easy...ð¸ newproject   \n",
            "im getting my ps tomorrow ð±ðð±ððððð±ð±ð±ððððð±ðð±ð±ð±ð±ðððð cant wait ps gamer   omg otaku yas\n",
            "festajunina     caic carlos drummond andrade \n",
            "angels archangels from on high here to help you live spiritual and   anf lives   \n",
            " â united kingdom total trade balance up to â£-.b in april from previous â£-.b   blog silver gold foâ¦\n",
            " user are you guys getting away from growlers?   \n",
            "  daddy with young lion \n",
            "so blessed to work alongside  user for  years! futurelunchdates theloneliestnumber notgoodbye  \n",
            "  user ios is pretty much impressive   ð¤\n",
            "liveme lgbt transguy   youtuber  brennank.âs onairnow~  \n",
            "i thought we had it together but well  \n",
            " user   user  great to wake up and find out my hero is on today.   fan\n",
            "viendo la belleza de la vida...the world's bigger goodmorning walklikeus   days loversâ¦ \n",
            "[..] -   throwback thursday, remember hana kimi? wu chun, ella, hao zi, ah xiang and others were... \n",
            "life brings out the \"monkey in me\"ðµ   crazy crafts spongieacresbedandbreakfastâ¦ \n",
            "let my crazy out way too soon  \n",
            "really? how many are gonna drop? seriously wtfw ? . user . user oitnb season episode oitnbchat bingewatching  \n",
            "buffalo school districts boots trump ally over racist comments. birdsofafeather  resist  : \n",
            " user  pre-crime in germany of all places, did they make them wear badges ?\n",
            ". user  user yes, dr k. but it's not just in texas!  \n",
            "these clouds look a little     forge pond park \n",
            "  user another day at the railway tomorrow face painting!   goodstuff\n",
            "thursday ð thursday june doraemon filter ig willow blackwhite   ðððð \n",
            "enroute to marinabaysands to have dinner at  user   saturdaynightoutâ¦ \n",
            "airfare deals: southwest airlines $ &amp; up -- southwest's biggest sale of  (one way)   travelsððð¢ðððð \n",
            " user bestseller inspiration   motivation \"never go to bed without a dream or wakeup without a hope\" \n",
            "a girl could really fuck ur head up ð©ð© it's so   ðª\n",
            "what makes you  ?  keep doing that! selflove \n",
            "travel. travel beautiful ç¶ºéº å°ç£ taiwan taitung å°æ± funny   love éå¿ æ æè¡ é»å½±â¦ \n",
            " user today a&amp;e visitbadweatherbadhayfever= bad attacksnebuliser steriods    been well for  months  gutted\n",
            "  user we've reached over  followers!   lovereading lovelamlibs  via  user\n",
            "leaving lakedistrict this morningð  \n",
            "on the train to london to see  user   bringonliverpoolstbeers ð»\n",
            "i am proud. i_am positive affirmation     \n",
            "this is hali, the packable boston bag. hellolulu carryhappiness   fashion urbanlife style\n",
            "ciaoh  batgirl batman dccomics dc comics superhero me selfie girl love   smileâ¦ \n",
            "what happened in the s stays in the s! smusic mylebeach music fun beach love   life vacation \n",
            "soon in egypt segregation poor rich corruption   devastation ðð¡ \n",
            "on my blog: i choose happiness  blogging teens  \n",
            "  user today our  aists sta work and talentlab begins!   theatre  user  user  user \n",
            "another successful school year in thr books! time for lunch! woot! woot! tacosforlunch wemadeit lastdayofschool   teachers\n",
            "happy fathers day!    father dad love precious memories enjoy lovelife workfromhomeâ¦ \n",
            "so proud of this young man! can't believe i have three adult children. proudmom   amazed \n",
            " user may have a few new stalkers from the user social studies dept.loved sharing hyperdocs,gafe,googleclassroom,overwhelmed  \n",
            "wow , ranveer is getting the award ? ððð½ \n",
            "i'm happy to make myself happy ð¸   ps gamer \n",
            "tonight left me inspired to sta writing music again.  \n",
            " user   bihday rg \n",
            "  user  buffyday ì£¼íday to this lil bean !!! ð \n",
            "facebookmessenger our cat jacky jackjack while we are away on vacation - he's so   :( -â¦ \n",
            "rockshotel babalargunu kutlu olsun   fathersday   rocks hotel &amp; casino \n",
            " user i mean this is bluebeard all over again but more politically correct if you live in the s and have no depth.  \n",
            "order placed with  user on wednesday pm arrived today &amp; i'm over the moon with the cards. better than the usual site i use  \n",
            " user wow great role model dad! ðð  \n",
            "ðð» orlando ðð»  triste   horreur orlando priere pray prayfor usa   clama, france \n",
            "burbank, california : cou rejects city's appeal in  discrimination case against armenian policeman  usa\n",
            " user you know what isn't  ? your avi ððð girl that makes me proud\n",
            "  user . user because everyones life is a constant persuit for happiness but no one have been able to find a way to remaiâ¦\n",
            "this diagram explains trump's response to orlando    user  rip theresistance resistance resist  maga\n",
            "cloudlovers   attack bull game d: do you really think that his head was empty around the city. each side i \n",
            "babies   evenflo lux travel system with litemax  infant car seat - deep lake  bouncingbaby\n",
            "when you order a margarita and it's pink, drink it before anyone see you drinking it.  â¦ \n",
            "ððº  saturday always  stay blessed  and positive ð \n",
            "i agree with bernice the items are precious possessions and should not be sold only handed down to next gen.   \n",
            "i'm assuming it's football not rugby ð \n",
            "  user good morning all! not long until we hear those engines revving for the last day of pscotland!   \n",
            "me and my boy.   daddy fathersday \n",
            "  user shout out to all  user people in  user heading to the states!   ðºð¸âï¸ðºð¸\n",
            "so pumped for germany definitely ready for an adventure.travel vacation  \n",
            "this song brings back so many memories ð memories thegoodolddays   \n",
            "cheers~ð¹relextime sunday gathering   moments fathersday modellife photoofthedayâ¦ \n",
            "  user good morning rj ji jiyodilse salaam jaipur   mornimg with kaik ð§ð§ððð»ð» love your voice piyusha \n",
            " user sad repoer(d) notes that sad \"items that'd usually have been adopted in a matter of minutes\" were delayed or denied  \n",
            " user  user this man is really a joke coming from a liverpool fan.... \n",
            "how would your day not b incredibly brightened by seeing these smiling flowers? nature    user \n",
            "one person walks into your life &amp; suddenly you can't relate to the deep, sad tweets anymore changes  \n",
            "look what we found! peterrabbit beatrixpotter fiftypence   shiny childhood coin  user \n",
            "  user not an insect expe, but this one looks sad!   glosinsects \n",
            "â¤ï¸â¤ï¸â¤ï¸to all the victims and families of the orlandonightclubshooting &amp; all the senseless shootings around the country   vigilance\n",
            "i've had dozens of feelings (none of them good) about the events in orlando this past week.  fridayfeeling    \n",
            "  user when you are feeling  , you're most connected to your higherself &amp; the universe.   user \n",
            "being pios doesn't make you a better person especially when speaking with a venomous tongue foolish   needhelp \n",
            "off to the hustle life lifeissweet lifeisbeautiful lifeisgood good  great    â¦ \n",
            "not the first or the last. yyc    the tax bill was the final straw: escoba bistro is closing its doors \n",
            " impoant things to allow the child to be   \n",
            "the primal force is going to have a new website, soon!   love\n",
            "what the postman brought...   edinburgh \n",
            "i'm disgusted that you idiots and the media go straight to islam in regards to the shootings.this was more than that.. media orlando  \n",
            "at lax and made it onto the flight to nyc &amp; got firstclass - v  â¦ \n",
            " user pulling for you on the th! you got this go get her joanna! teamjoanna ufc stoked  \n",
            "i don't believe in destiny, i believe in me... me smile happiness   enjoylife adâ¦  \n",
            "after all the build-up  user disappoint on the pitch and their fans disgrace them off it. some things never change!! ððð euro  \n",
            "fuck shit is this!!!!   \n",
            "  excited for wwdc hope that it will be great \n",
            "sono contento, i'm happy smile   memories  user  user  user  user \n",
            "this roadtrip has me like ð´ð©ð dead goodnight sleepy   facedown princefamilyvacationâ¦ \n",
            "| new baby | camera canon eosm   youtube youtuber mensfashion menswear photoâ¦ \n",
            "very   to listen to  user give a talk on scienceofdrwho for  user drwho physics cleversibling proudsister\n",
            "  user so i just got my  user illuminatebyashley in the mail and can't wait to use it  user   ðð¤ðð» \n",
            "can lighttherapy help with   or depression?   altwaystoheal healthy is happy !! \n",
            "love him more than anything     \n",
            "got to say i am rather excited we only have  more work get ups till morocco! two weeks of sun swimming alcohol and food  \n",
            "this forecast can  . sendiceandbeer \n",
            " user  user  user  user just watched on recorded. excellent...  . shocking. repo.\n",
            "  user our leadership award winner, mary schuster of  user couldn't have a better selection. congrats! ns   \n",
            "  user just one week left before i take a break from  user to try and do my bit for the skills shoage!   \n",
            "aap, congress hell bent on vitiating communal harmony in punjab:  , bjp leaders  \n",
            " user   brobot, don't you watch the news?   \n",
            "i am thankful for rainbows. thankful positive     \n",
            "finally got my bleu cheese olives ð¸ð¸ð¸ summeime bihday   girl maini keteloneâ¦ \n",
            "how am i going to give lacrosse lessons to this kid when i can't even play lax myself ://  \n",
            "ouuuuuu yieaaahh baby! jason is   because it's friday! nightfever  \n",
            "feliz domingo!!! if you can dream it, you can do it :d frasedeldia disney doit   sunday dream smile \n",
            "viamiano wishes you   father's day \n",
            "such a user!  \n",
            "save $$ no logins x brokers   me change memes love   education university \n",
            " impoant things to allow the child to be   \n",
            "keyshacreamy - na: wet porn kinky horny xxx   slut hot young snapshot nasty naughty sexy nude shy \n",
            "happy working on thursday ðð,   working smile blue oasis lounge \n",
            "  user lots of sponsors on the table  user  user and  user cycling mtbracing ciclismo   \n",
            "i am thankful for delivery food. thankful positive     \n",
            "preparing to launch my online a gallery.  large walla a awork   comingsoon gallery launch\n",
            "  user   to be pa of another season of ... -  vijay ajith thala suriya str dhanush \n",
            "happy father's day.!! fathersday family proudson   instamood bogota colombia  user \n",
            "n i thought he was the ð checkoutmyflyer education makemoney cash lifestyle happy  â¦ \n",
            "  happy day!  altwaystoheal  healthy    \n",
            "i have so many things i want to say about what happened in orlando and none of them are nice.   heabroken\n",
            "i am super. i_am positive affirmation     \n",
            "  user new weekly imaginative digest and new dreaming yourself   video  \n",
            "  user another epic fail at nextdaydelivery  user &amp;  user next day fail=hrs | response for complaint =hrs! dothemaâ¦\n",
            "en route to the filmhouse to see !    don'tgetoutmuch\n",
            "watch weddingplanning when people are not   for you  \n",
            ". user (&amp; the media constantly repeating him) has ushered in an unfounate acceptance of insults as political rhetoric.  \n",
            "only one thing will top this day off, a  user win  user   \n",
            "be   with what you have, while still working for what you want mavikbeb\n",
            "  user today.coordinatesâ¤ï¸'''  today coordinates adult ootd casual yolo   happines bubblesâ¦ \n",
            "well today's wedding was rather beautiful!   photographer norfolk essexweddingâ¦ \n",
            "back to school again... :) :* thanks god for another day !! ily :* ^_^    caloocanhighschool\n",
            "you can't take your phone like wtf no selfie with lauren  \n",
            "a little green on the sideðµ   work letsgo anitadegroot fashion \n",
            "i'm getting close to sacramento and wizardworld   ððð\n",
            "truly blessed today blessed newcar car   snapchat tracybusker followme youtuberâ¦ \n",
            " user just had mine done hendo  \n",
            "  father's day to  my dad!! i hope that your day is relaxing andâ¦ \n",
            "model   i love u take with u all the time in urð±!!! ððððð¦ð¦ð¦  \n",
            "  user oh bluehand people, you are wankpuffins aren't you  \n",
            "i like it it's very very   animation â¥â¥â¥â¥â¥  \n",
            "  user sooooo true! lol!!! me   shopping shoponline cocoacoutureboutique friends   cocoa coutureâ¦ \n",
            "we are so   to host  user  user golfouting benefiting the superjakefoundation! \n",
            "  user be  ... have success... in that order! \n",
            "failing % of the time makes you regret doing a phd but the % of the time you get a breakthrough is x more satisfying ð¤âð¾ï¸  cancer\n",
            "  user u hv amazing voice hina aapi allah apkoo hmesha aise e kamyab rakhy  now eagerly waiting    you rock my love \n",
            "prayfororlando ððððð orlando   crying why (vine by  user \n",
            "ð good night sweet prince! sleep well, brother sleep well rip brother  \n",
            "model   i love u take with u all the time in urð±!!! ððððð¦ð¦ð¦  \n",
            " user response to the  user burn was  . he's not tweeting us his best, but i'm sure some are good tweets.\n",
            "they don't even understand when they are being mocked for their ridiculous conspiracy theories.   \n",
            "psychic truth:what changes do i need to make in my life to be   ?   let's look..balancedenergie.com \n",
            "i have officially been corrupted by sexpes. i am applying for global health doctoral programs to study reproductive policy.   \n",
            "'the voice' singer christina grimmie killed in orlando shooting - wbal home  via  user stopgunviolence  \n",
            " week to go..........     user \n",
            "now i just need august to get here! foodtruckfest  \n",
            "been slow to make a show this lot!   to see them at last in flaming june. will enjoy this weekend. chill \n",
            "i am thankful for my enemies. thankful positive     \n",
            "  friskyfriday missfriskyfriday hotelworkshop  makeðup hair by dee dstyle modelâ¦ \n",
            "coffee break! today we have a session with the one and only  user ð  coffeebreak london newsongs   \n",
            "a little outdoor yoga to quiet my mind. fitness yoga   healthy \n",
            "this orlando shooting is fishy to me. since when do police raid a place in  hours?  people seems like a lot dead, from one shooter.  \n",
            "happy weekend y'all! weekend hello   saturday goodmorning sun milano italianweekend \n",
            "another great night ð  \n",
            "  user stay   stay healthy \n",
            "  user happiness is finding daves killer bread at my local supermarket daveskillerbread yum healthy    user\n",
            "- keep your eyes peeled, we will be out in brecon soon flipflopssaferbrecon  \n",
            "i'm so   and grateful now that - affirmations \n",
            "i finally found a way how to delete old tweets! you might find it useful as well:    deletetweets\n",
            "wow this feels good!!! my live work space is ready to breath deeply!!! aist aspace  â¦ \n",
            " user  user  user  such a bitter twisted man. at least we saved his children from him. perhaps that was the final straw.  \n",
            "yes,  user is back tomorrow!!! my feelings right now... jonnor   thefosters highfive \n",
            " user matching bags packed ahead of our trip to malaysia! travels holidays  !! \n",
            "animalface   gorilla simulator: you need to do to adapt to the environment. the need to tear the city. mate \n",
            "  user i'm so excited!  is my favorite day of the year. \n",
            "flowers and cute bearâ¡kumamon é·maè çæ¬ç å¯æã cute   å¯æ flowers è± beautiful bearâ¦ \n",
            "i am thankful for smiles. thankful positive     \n",
            "beautiful bride. bruidsfotografie bruidsfotograaf weddingseason   love instagramâ¦ \n",
            "  user  user  user  user  user  user  user  user booked!   likeabottleofpâ¦\n",
            "tired to film today, then the dark cloud of doom came, now i have no light! ð  \n",
            "am going to be on bbc radio tomorrow evening, which is nice.  in dunstable. which isn't.    straightouttadunstable\n",
            "greens   attack bull game d: do you really think that his head was empty around the city. each side is sup \n",
            "  user  user well here i am...just waiting...all alone...   lonely writing amwriting scifi novel author\n",
            "choosing humor is a powerful tip! fridayfeeling inspiration selfimprovement \n",
            " user us neonazis are antisemitic: emboldened by trump \"win\". gop \n",
            "this will be an amazingly talkshow this thursday  pm hifi studio on  user    \n",
            "bubbling energy with  user &amp; new faces at powerofus also listening to  user nervous &amp;  \n",
            " user no delivery slot, parcel due today. \n",
            "a  user campaign co-chair answers a few questions... trump  \n",
            "here are the conference times for e gamers. i'm ready!!! gamers   e xboxoneâ¦ \n",
            "game day!!!!  gawa daretodream  user  \n",
            "southsudan provoking neighbours again with noise. the scumbag that says - he can do what ever he wants. uncivilised  trash. haters\n",
            "i am thankful for having freedom. thankful positive     \n",
            " user lmfao i hate it when it does that, it always changes bb to bob :-(   emo\n",
            " user  user ðððððð always have the white guy in charge.  .\n",
            "goodmorning twã¼tters   tgif and a big ff hayirlicumalar\n",
            "i've lit the fire. more to cheer myself up than because it's cold  \n",
            "parente   bull up: you will dominate your bull and you will direct it whatever you want it to do. when you \n",
            "  user day  of our is lab refurbishment info info   \n",
            "  user more sad news. mr hockey gordiehowe died.  yrs w/ red wings. second all time goals, more than .   newsmornings\n",
            "we can't wait to treat you  user villagewellness villagewellnessspa \n",
            "model   i love u take with u all the time in urð±!!! ððððð¦ð¦ð¦  \n",
            "tried my wedding suit on for the st time today   much ðððððð´ðð©âº\n",
            "  user remember yesterday, dream about tomorrow - and enjoy today! ;)   life \n",
            "ó¾­© duchess ó¾  roxie sinesh  ó¾­© â½ suppo oil gas jobs â½        ó¾¬ó¾¬  single mothers  ó¾¬ó¾¬ ó¾¬ó¾¬    fathers... \n",
            "just how i like it. *puts shades on* \n",
            "i am pretty   that i lost a friend to a dibiking accident this week. he will be missed. rest in peace buddy. rip //\n",
            "  , food   \"i pick my nose and eat it. still. :/\"\n",
            "\"there are thousands* here!\"  *empty seats \n",
            "  ratings for liar  user : \n",
            "babam ð baba babalargã¼nã¼ eskiåehir turkey lovely father wonderful amazing me  â¦ \n",
            "grateful for those who have truly stuck by both sides but have not picked a side. signs of a great human being. blessed grateful  \n",
            "this is the secret sauce for   employees  productivity leadership management\n",
            "five minutes to google translate and print a sign would fix all this nonsense. paxex  \n",
            " user allahsoil many politicians claim that jihad is an attack against humanity      â¦  teambtsâ¦ \n",
            "hotel selfie!  hotel room dusseldorf germany saturday weekend shopping day enjoy  â¦ \n",
            "density experiment. we made it!   \n",
            "cover reveal todayyyyyyyyyyyyyyyyy!!!!! rock bottom cover will be live later on :)   cantwaittoshowitoff\n",
            "our direct sales force will be   to deal with your office machinery needs.  \n",
            " user racial differences r biological reality, same as rottweilers vs.  chihuahuas. iq&gt; should understand. \n",
            " user says \"mike is jessica's bitch\" lmfao   shahs\n",
            " user presentation was a /. allot of good stuff coming. games, consoles.i am actually excited for some of the new stuff.   e\n",
            "headed out the door for my st run after  user on a beautiful cape town morning loverun lovecapetown  \n",
            "model   i love u take with u all the time in urð±!!! ððððð¦ð¦ð¦  \n",
            "really enjoyed my weeks annual leave. spent quality family time , baking , attending school spos events mygirlsrock familyfirst  â¤ï¸\n",
            "super excited!! it's almost that time of the year again!! xc runnerslife   xcnationâ¦ \n",
            "the weather is crying tonight   ð¢\n",
            " user a rather odd shout out, perhaps your itâs to your future customers?  \n",
            " user  odd that you keep saying that you aren't watching  user every week. i'm sure he appreciates the adveising.  \n",
            "damien not only completed me but made me  ! i had a few deaths last few weeks.now im back  reality n no damien still! heabroken\n",
            "is that  or  less in the world  \n",
            "another   costumer acura full wash wax shampoo vacuumâ¦ \n",
            "  user  sleeps til  user ð¯âð¼ï¸ðð¤ðâ¤ï¸ðððð» rugby    user\n",
            "i am intelligent. i_am positive affirmation     \n",
            " user the french galleries  \n",
            "sunday june! afternoon sunset sunday thisgirl tampico   mexico instamusic instagramâ¦ \n",
            "i thought lesbians were suppose to be good at oral.  \n",
            "  user  user mozillatnwoc trainers are preparing their blog to share what they want to learn..   contribution contâ¦\n",
            "secret teacher: i've no option but to resign after disappointing gcse results | teacher network | the guardian   \n",
            " â nzd/usd: robust above . even in risk-off environment   blog silver gold forex\n",
            "gameshow   bull hill climb: you have to reach the target to complete the task to survive. with strong excit \n",
            "happy hump day! âï¸ðð tanned bum   humpday summer beachbody beach fit fitnessâ¦ \n",
            "this is too cute not to share. regram  user from   dance frenchbully saturdayâ¦ \n",
            "  user my a yes weekend friday fun pub alcohol drink action   relax a friends lolâ¦ \n",
            "happy^ at work conference: right mindset leads to culture-of-development organizations    work mindset\n",
            " user not sma enough to comprehend the genius of trump  user such a well respected man yet so completely full of shit  \n",
            "model   i love u take with u all the time in urð±!!! ððððð¦ð¦ð¦  \n",
            "good morning love tbt photooftheday instagood me beautiful followme   cute followâ¦ \n",
            "mybob globetrotter a peterkogler next useyourhead bruxelles thankyou     ing aâ¦ \n",
            "ð happy father's day father   men man mademen king kings cool dope hustle sundayâ¦ \n",
            "so this is what brazil felt like in the world cup.  \n",
            "[.] update    social analytics surfing ocr   likes geek swim \n",
            "when you get pussy before you go to work ð­ðð  \n",
            "rainforest all day then catching the sunset on the beach at night = perfect! unforgettable day! life energy   \n",
            "the magic's in the music. \n",
            "for the st time since , im not playing in the omaha metro summer league which stas tonight. my body/health issues wont allow it.  \n",
            "awesome time one the water !!!! soy_nigi_holla feahewolf itsalwaysagoodtime ily  â¦ \n",
            "with my mom! mom classof   family   wilson high school mighty mules \n",
            "fathers day selfie â¤ï¸   grandad selfie fathersday blessed sunday lucky   happinessâ¦ \n",
            "black men and black women with stockholm syndrome   \n",
            "  father's day to all you hard working dads. best hubby &amp; wonderful dad. he's buildingâ¦ \n",
            "omg ð¨ so sad ð  \n",
            "so   about this special offer we have for a limited time!  sweet beauty makeup deal \n",
            "i've just landed not one, but two new television roles for  user in the same day! ðð¥thankyou universe ðð½  actor tv blessed\n",
            "ðððâ¤ï¸ egãï¼ï¼ï¼ smile!!!!!â¤ï¸ð£ð¤ð½ ã» smileegsmile torio \n",
            "is it love when you cry, and cry and cry?  me oldpic selfie bangs longhair smile  â¦ \n",
            "left house at :am for autism testing, drove &amp;half hours for it, so happy its over. autism autismawareness  \n",
            "ever noticed the word  to a non black person and the word nigger to a black person yields almost the same reaction?\n",
            "* resta love   best regards the future \n",
            "adobephotoshop   buffalo simulation: buffalo for you to take in the vicinity of their homes to do. in this \n",
            " user allahsoil not all westerners are islamophobes.    emiratis inwords \n",
            "just hanging around thislife wwc sunset hammocktime     u.s. national whitewater center \n",
            "so sorry for your loss  user may her soul rest in peace. \n",
            "oh my, i graduated from college in one week ððð½ðððð» college graduation     user\n",
            " fun ways to spend summer with your pet  yesallwomen love   \n",
            "rest in peace ojb. too sad but you are in a better place.   ojb   restinpeace \n",
            "  user deforestation in amazon rainforest, brazil    \n",
            "big girl cryð­.. socialanxiety selfharming   suicide suicidal depression depressed pain wohless... \n",
            "ideas, tips and strategies that make our family life easier and better   \n",
            "rip grandma yetta grandmayetta thenannynamedfran nounoudenfer   yettarosenberg thenanny \n",
            "the amount of bullshit posted on the internet by complete nut jobs is insane. i scratched the surface on their ridiculousness today.  \n",
            "happy sunday ðððð . . . . . . . . sunday   girl asian love \n",
            "can't wait till my october holiday now sunsunsun abroad   tan\n",
            " user u've probably been to old trafford more often than stangmore park.  .\n",
            "our baby_muse alma wearing white ð¾   shavuot ð¾imahotmag inspiration nofilter kidsilâ¦ \n",
            "  user very happy! we just hit k sales. milestone target   etsy shopetsyuk \n",
            "dust   piano by gummy beatz.   beats\n",
            "second day at sheffdocfest bringit  \n",
            "trump: if elected, i'll ban immigration from areas with terrorism ties....  i guess only people from antaica will be permitted.  \n",
            "miss being blonde ðð love instagood me follow cute photooftheday followme   girlâ¦ \n",
            "mood. ðð¤ððð»ðð friday weekend vibes keen mood thislife loveit dog cheesy smile  â¦ \n",
            "my pnc bihday is coming soon! please come out an suppo!    healthy  fitnessâ¦ \n",
            "this is finally happening. oitnb   \n",
            " user  user yeah, always got runs and victims there. league record for a while of  in an innings.   days\n",
            "augusta   buffalo simulation: buffalo for you to take in the vicinity of their homes to do. in this way, yo \n",
            "sara is almost home after a week apa and i couldn't be happier right now!!!!  \n",
            " user  user that is heabreaking. do you really believe that? we really are in a   state then. wow.\n",
            "aww yeah it's all good bing bong bing bong   \n",
            "top pies siempre top selfie life   siemprefeliz tratable \n",
            "  user the only three chocolate chips in a chocolate chip granola bar from  user awman   \n",
            "i am unwavering. i_am positive affirmation     \n",
            "  user chips, sunshine and the fabulous garden  user = a perfect wednesday  \n",
            "got my  user tickets through for th july!  \n",
            "it is possible to live your dreams wide awake family la familia   bihday sis  user \n",
            "joys in life: reading \"the hired girl\" and having lunch in the backyard books thehiredgirl reading summer   \n",
            "  user big discussions taking place in the ukoug_jde agenda planning day room; taking a look at \"today, tomorrow..... the journey\" â¦\n",
            "yay finally here! colourpop   newfaves makeup lovegettingmail \n",
            "carl bean. why   love beautiful hate no more. lgbt instadaily instagram  user \n",
            "  user teamhawthorn are ready for our live link up when you are  user   doughdiscoday \n",
            "work.  donrik big bud studio black sheep beautiful life   day days todayâ¦ \n",
            "  user bitches really be whores  \n",
            "bihday girl ð¾ðð selfie me bihdayselfie   blueeyes blond pretty love glowingâ¦ \n",
            " user oh yes soph this time next week we will be there!!! aruba allinclusive star   âï¸ð see you thereð \n",
            "night out â¤ï¸ couple mylove   nightclub nightout blackpool relationshipgoals yearsâ¦ \n",
            " user  user mixedemotions sad to see you go  user   for you newbaby thankful  talent of corrie\n",
            "sad to see the scenes of hooligans pre engrus why spoil the pay!!! euro  \n",
            " user  it's tragic that this \"america\" continues to be okay seeing innocent people die to line the pockets of the nra.  \n",
            " bill-of-materials   uncover take unleashed dazzling oomf gmr created toolkit â¦ \n",
            "  prayers for the loved ones. \n",
            "lightroom   bull up: you will dominate your bull and you will direct it whatever you want it to do. when yo \n",
            "how do you set up yourself for success? my favorite?!  messageme darebfirst love healthy lifestyle   life success women\n",
            " user my flight from edinburgh to luton was cancelled and this was the reason given. the flight would never have left uk airspace  \n",
            "ased   bull up: you will dominate your bull and you will direct it whatever you want it to do. when you s \n",
            "pa danceé énextclubmasrinkarenyesterdayjunethdsniigatajapan hardheahotenâ¦ \n",
            " user watching theconjuring cannotwait   \n",
            "such active babies this morning â¤  littlebradybunch learning littleones crawlers momlife lifewithtwins   \n",
            "i'm feeling reclaimed ðð»  \n",
            " user  user omg talk to me when you have over  followers   clearlynooneslisteningtoyouropinions\n",
            "isis bombing: several killed by suicide car bomb in holy iraqi city of karbala.   \n",
            "saturdayâï¸âï¸ ð«   speno park - toh \n",
            " user  user  user terribly depressing news ppl.we losing way to many awesome ppl nowadays,so   rite now.luv this song*)=\n",
            "how utterly pathetic. wish ali was around to beat this person senseless.  \n",
            " user that sounds like a nice plan! im being that odd random girl sat alone at the bar haha, barman keeps looking at me funny  \n",
            "instagram photo by emi â¢ may ,  at :pm utc  so proud and    thankyou best airline ... \n",
            "i be making people so angry wit me &amp; ion even bee doing none mane ð theyy be so mad fa no reason.   ð­\n",
            "legit just had to double check i had my laptop because my bag felt too light and i didn't trust myself work   monday\n",
            "\"today is here\" -everyone going to blast  \n",
            "enjoying the  user in london  user gin orange   lush thebest \n",
            "massive censorship!  user  user  user  user  user  user  user  user \n",
            "  user it's sunday and we're open all day for food! time is precious waste it wisely... sunday foodporn   allday \n",
            " user oh noooo, don't re-write! you'll be fine just going with the flow, it will be epic. ;) oustudents   cantsleeptonight\n",
            "just requested to go back to work pa time.... nervous mummylife returntowork  \n",
            "benidorm in a week then sta new job at hospital âºï¸ððð½   nhs summer\n",
            "we are   girl (tgif, love  friendlife, friday, sggirl)   marina square \n",
            "when u realize that ur going to the country your family emigrated from and uv never been and u are just beyond   colombia wks\n",
            "playing hoverboard ðð playing play hoverboard runwheel home slide kids   hobbyâ¦ \n",
            "probably the best ms that i've ever spent on a bike, taking ms off my previous m pb.   user   kingofcoaches\n",
            "we love getting great reviews from our   customers! check out our website  to see why. \n",
            "now playing  :  âµâ­â²â´ããâ²ã - \" velours poussiâ¨â¨re\" on     music song \n",
            "funny...i'm not the least bit  ! about it. \n",
            "thnx  user and pilot nick for the amazing experience above grandcanyon this afternoon  \n",
            "  user if you want to be  , be. l tolstoy inspiration wordstoliveby\n",
            " habits that have hijacked your hormones-keys to happiness    hormones \n",
            "very excited to be back again for second year in a row. theme is youth empowerment ypttl \n",
            "i am glamorous.i_am positive affirmation   \n",
            "  user i am thankful for freedom of speech. thankful positive     \n",
            " awesome beginner gopro mounts super   to use!!! \n",
            "the major kind of  that people arenât talking enough about  via  user environmental justice\n",
            "i am terrific. i_am positive affirmation     \n",
            "  user  check my animals on boredpanda illustration animation animals graphicdesign cute   \n",
            "  user all that scamming you doing and u got nothing to show for it but a watch  \n",
            "  user america do you trust in god or trust in gun? it looks as if you are not for guncontrolnow you trust in gun &amp; dismiss god's proteâ¦\n",
            "are you making excuses as to why you can't be   now? here's help:  happinessrocks\n",
            "oh my god hahaha throw back to the day i went to my first music festival basscamp  \n",
            "these ladies are about to havefun ð  place beach serenity quickgetaway â¦ \n",
            " user  user  user  user so disappointed to hear you r not helping  user  user  \n",
            "holiday number  booked!  makingupmyairmiles summer  \n",
            "can you say \"big brother?\"  orwellianprophecy \n",
            "love my morning routine :) foreverliving perfectskin   \n",
            "hmu. ððfridayturnup  smilelove \n",
            "  user thinking they gone get the same treatment \n",
            " user so spain de gea will not be the keeper or what, what's this allegations nway  \n",
            "today gym   super excited for our showcase staing at pm today! \n",
            "my new book firsttimeauthor theaofmurder debutnovel   \n",
            "gold ! very special nr qualified for ech amsterdam   adidasrunningâ¦ \n",
            "  user smile everyone ... we've made it to friyay ððððð friyay friday smile   epcot itaâ¦  \n",
            "  user there needs to be an e e equivalent to christmas's coca-cola truck.    user  user\n",
            "ah w'd rather be happy than  , cuss it all t' tarnation. varejao\n",
            "  hardcore vinyls jaime pressly nude pics  \n",
            "  user checkout today's trending gif of the day!  , horse, maximus via  \n",
            "literally had to delete and reinstall all my apps ð¤ but everything is all updated!  \n",
            "had a lazy morning with djangountamed_ cats kitten cat emo   metal vocalist selfieâ¦ \n",
            "  user awesome review posted for their cajun queen    selfpub bookboost indieauthor amwritingâ¦\n",
            "the u.s. ranks th in happiness -- here's how we get to no.   via  user   techgalca\n",
            "liberation is finding out days after the breakup that i had every right to be angry. the justification of these feelings makes me  .\n",
            "  sex blonde japanese sexy girl video  \n",
            "that special moments where you have everything around you!    family familia  ness â¦ \n",
            "  user humpday  hour hotspot!  user  share your hotspots!   love friendsâ¦ \n",
            "my wee princess finally able to ride a bike. happy days.  love   princess bike cycling \n",
            "hello long weekend!!ðððððð   longweekend junelongweekendâ¦ \n",
            " user chicken clearly within date, yet can smell it's gone off through the packaging! rotten nodinner   \n",
            "waltdisneyreso  should be ashamed of themselves, they knew their were alligators in that beach signs should have been up    user\n",
            " that's why ð \n",
            "no words needed ..   times with daddy fatherandson love \n",
            "just want to wake up in alex's arms  \n",
            " days left â  \n",
            "ð love instagood photooftheday  user tbt cute me beautiful followme   follow fashion selfie \n",
            "today my good friend is celebrating bd!ððð user you are my wealthð±ðð°ppy bd,my dear friend! bdliza oh \n",
            "my baby terrorizing the community and the neighborhood. ð¶ð¤â¤ï¸ dogs cold   valentinedayâ¦ \n",
            "i am thankful for sleep. thankful positive     \n",
            " user  user i hope the children don't know u do this, showing up to a grieving families home, to monopolize on their pain.  \n",
            " user thanks for favoriting my tweet. in appreciation, followed you paner. internetmarketing but   nbafinals euro\n",
            "  user ! free e-course on how to multiply your manifesting power w/law of attraction  natalie ledwell   inspired \n",
            " user all of you need to stop being racist and just let the terrorists kill you. sarcasm â¢ ðºð¸  trumptrainâ¦ \n",
            "  user motorcycle club event moment motorcycle event club casual fashion style   timeâ¦ \n",
            "so  user might not be the worst person in the world, but his followers prob are. gooutside    user  user\n",
            "here i am looking at my calendar thinking he was coming back in  days. then i looked it's  days ð±  \n",
            "unbelievable that akrotiri and knossos arguably the oldest european cities are not  user worldheritage sites  \n",
            " user mcconnell obstruction goes all the way back to when he discovered obama was black    \n",
            "i hope my future goes the way i hope it does then i'll be on my own  ð¬ð\n",
            "  bihday tradition cake summerbihday cupcakelove smellsgood it's become a tradition in our house!... \n",
            "last night in my old room, can't wait to move into my first flat tomorrow ðâ¤ï¸ \n",
            "  user whoa. what a cute &amp; quaint trump rally. lol. delegaterevolt dumptrump    user  user  user  \n",
            " user fingers crossed!!  \n",
            "nothing more than sat on a train on the way home after a long week!  \n",
            "happy bihday andisa \n",
            " user  user  user i really hope it's not i can't deal ð­but so friggin excited iv got that and oitnb back again  \n",
            "next station bangkok âï¸âï¸âï¸ thailandtrip day     phuket international airpo \n",
            "  user confirmed. islamism worse than aids. \n",
            "this. new. mattress. even though my back hus a little, i feel like i'm in heaven. relax  \n",
            " user ...yep, for sure \n",
            "it's new car day!!!!  !\n",
            "ahhh my hea breaks for  user he really seemed like a keeper. bachelorette  \n",
            "at beach bakery. there's no bike rack. talked to the owner, she said she's considering a bike rack.   rainierbeach\n",
            "hey peeps !! how are you doing ?!  \n",
            "this could be such a beautiful world if we took better care of it... â¹ï¸  \n",
            "when u take a  n push so hard you pass out when u stand up. fatpeopleproblems   toolarge muchoalto grande\n",
            " dead in florida nightclub shooting, worst in us history    \n",
            "i'm so disgusted with the standfordrapist case. it is absolutely ridiculous only  months for rape is unacceptable   femininism\n",
            "completed senseless act of violence. can not comprehend so much hate in someone's hea orlandoshooting lgbt  \n",
            " user our global media platform would very much like to suppo you..  roku tv mainstreammedia won't  \n",
            "tonight i finally get to see  user !!!!!    user  user  user utrecht\n",
            " .. with you in our heas orlando x\n",
            " user  user so we can win if u vote  hillary? hahaha mediablackout statusquo moneywins feelthebern not evn fnny nemore. \n",
            "after working pa of the day it's time to eat good food &amp; watch good stuff!  oitnb finally wuhuuuu! â¤ oitnb   \n",
            "if you have a bad day, just make a selfie, and you know how ugly it looks bad bad day  â¦ \n",
            "chill   bull up: you will dominate your bull and you will direct it whatever you want it to do. when you st \n",
            "ghost of an ice cream bar.   neverforget thinkofthechildren   ysmael villegas park \n",
            "macys you're old and no one young or hip shops at depament stores. everyone here is   and shuffling along zombie fail obese\n",
            "wow,  user thanks for the follow. thrilled inawe  \n",
            "morning birdies ð   \n",
            "  user i'm probably going to make my first youtube video today! cantwait youtuber video  ðð»ðð»ðð»\n",
            "love my girls complaining while we are working out. fun funny workout exercises   lifeâ¦ \n",
            "cavycorners, hooded_cavy ff rss:  hooded_cavy \n",
            "playinggames   buffalo simulation: buffalo for you to take in the vicinity of their homes to do. in this wa \n",
            "getting noo message izz alsoo a message...... silent   \n",
            "dreamcatcher   bull up: you will dominate your bull and you will direct it whatever you want it to do. when \n",
            "  user why no atifaslam in cokestudio this season? ð  cokestudio  \n",
            " night time mistakes that will keep ...  tips life   |  \n",
            "texas   bull hill climb: you have to reach the target to complete the task to survive. with strong exciteme \n",
            "i just wanna see what  user  user have for this years e   ðµ teamplaystation ð¤ð¾gameon ð®\n",
            "like when you love your music but the other people...  punkrock punk rock screens different   \n",
            "ð  user hrlater (from that moment of zenserenity): theworld, &amp; evrything in't, seems geared  make me anxious  ð¡ &amp;  ð\n",
            "he's a scumbag arab lowlife that is problem selling family photos to the highest bidder/repoers   \n",
            " if you luv hottweets like this from â¶ â¥venusexchangeâ¥ \n",
            "  user happy father's day!   fathers day \n",
            "bihday selfie ððððð   selfie bihday picoftheday instapic   saturday snl usaâ¦ \n",
            "  couple having sex amateur sex scandal  \n",
            "good afternoon sweety! ð send me letter âï¸  \n",
            "be a good baby, do what i want   ceffy smile   medusapiercing instacool \n",
            "ðâï¸ greensunsunnysunnyday fun musicdancefashionmodeldjterasujapantokyo \n",
            "wallander with branagh. message: diabetes equals inevitable meltdown of bodily functions.   lchf\n",
            "  user think of all the beauty still left around u &amp; be   ~anne frank writing love a sensual nature andaelentari \n",
            ". user  user an adult would make that argument, a child would reso to name calling that insults an entire group.   pathetic\n",
            "a great pay user and a great host ambassador user  user is magic!staups  gratitude \n",
            "  user recording is done! videoshoot naman ð actors singers recordingaist music sing   fun dinosaur \n",
            "i hate life i hate work i hate myself   vodkadeprived makingbanktho iguess idk iwannagoout wanttotan butiworkeveryday\n",
            "woke up before my alarm this morning!   adrenaline nerves\n",
            "âwe the peopleâ originally meant âwe the white, landholding males.â      â¦ inwordsâ¦ \n",
            "  user  user  thanks once more!\n",
            "excerpted from âthe light in the hea â     inspiration  quote inspirational  \n",
            "who's  ?  huge % off sale coming up soon!  use the profile link to order and seeâ¦ \n",
            "my man is home and i've never been more in love ð   couple couples relationshipâ¦ \n",
            "  user looks like i gave sanders too much credit last night.   \n",
            "you might be a libtard if... libtard  sjw liberal politics \n",
            "how many people died via radical islamic terrorists under obama's watch?  he is redirecting the blame to trump   \n",
            "michelle obama is on the crack pipe  user   user \n",
            "can you relate? sleep migraine spoonie pain chronicpain sick invisibleillness truth realtalk   awake \n",
            "wait ... a lot of people post pics of their dog on socialmedia??! i dont feel so special ...  \n",
            "sometimes, all you need to do is smile. it pisses off your enemies. smile   windy selfie \n",
            "  father's day to all youdads eirishtimesechonewslucangazette\n",
            " user for the second time this week!!!  \n",
            "get up get   get  enjoy music today free apps free music \n",
            "movieshit   bull up: you will dominate your bull and you will direct it whatever you want it to do. when yo \n",
            "teen girl killed,  others injured in downtown oakland shooting. guns mentalillness gangs ð¨ð¦ð¨ð¦ð¨ð¦ is   orlando \n",
            " â us: growth with only three of six cylinders working â wells fargo   blog silver gold forex\n",
            "  by  user will be released / on  user  user âð¾ w/  user &amp; burakyeter ððð¾ðð½ \n",
            "at the museum! â¨ðð museum guanajuato casadiegorivera   \n",
            "meanwhile german police can also not be distinguished from neo nazi scene anymore in terms of terminology nafrisâ¦ \n",
            "we have human beings killed b/c of their sexual orientation, refugees suffering, &amp; trump yet  user is worried about chickens...  \n",
            "i'm happy that i'm okay and alive music   love\n",
            " â champions hockey league: weniger teams in der champions league   blog silver gold forex\n",
            " days to go! aneveningwithcyrus eatscottish  user  user  user  user  user   sponsorship\n",
            "\"i have decided to be happy, because it is good for my health.\" -voltaire healthylifestyle   healthiswealth \n",
            ". user  user not changing your mind, maybe you will escape his racism, for now. he acts like a grade school bully.   pathetic\n",
            "andysessions attorneygeneral  from alabama trump staing a racewar will we let him? chaos fear weaponry  user\n",
            "menshoes  instatagslikes vscolove vscogood vscoturkey istanbul   albumdenyansiyanlar allshotsturkey â¦ \n",
            "a   and efficient monday to all :)\n",
            "singalong aiculatie all those who are hangin' round the water cooler will never believe how you tackled the thousand puzzle pieces  \n",
            "see you at old billingsgate, london // for mixology and imesh as finalist imeshmktg   celebration \n",
            "stop trying to find  where it isn't even happening! airingofthegrievances \n",
            "in the works:  a new hymn for satb and piano, words by james montgomery, para. of psalm !   \n",
            " user allahsoil bernanke bailed out wall street by dumping $ billion into the largest banks.  \n",
            "  user thanks wombatwarrior allison. we ð this wombat. have a   wombatwednesday \n",
            "indian food in my belly and sf coconut coffee in my hand  \n",
            "superb meeting with  user from  user ðð» another big step forward for socialaction in hull &amp; eastriding -   !\n",
            "hey jason_rodriques, you may want to check  for latest updates on glastofest ð¥_ \n",
            "i'm not entirely sure if i'm   or sad or both or neither or hungry or tired or bored. i just don't even know.. \n",
            "sway hbdððâ¨ åå£exile  dobermaninfinity  sway éæ¿æå¹³ th   bihday \n",
            "today my father is  not with me ðreally missed but i pray allah protect all these father's who's lived   father datððð\n",
            "riding with friends is always a   feeling \n",
            "hard to reconcile simon's musical genius and his politics .    \n",
            "i am celebrated. i_am positive affirmation     \n",
            " new channel announcement. youtube rage   blackops gta game youtubepaner youtubeupload\n",
            "one day... love relationships boyfriend husband paner companion   someday \n",
            "cavs win this season in nba    nbafinals  game  lebronjames  champions\n",
            " user the truth. the fucking media and politicians of this country should be ashamed. you are incapable of telling the truth. \n",
            "a little morning yoga never killed anyone ðð» fitness   \n",
            " user   b day bro\n",
            "happy father's day. thanks father for give me love, protection and afection.   love fatherdays father day\n",
            " user lolol i'm no better but i'm just saying.... every sunday morning my bed win smh  \n",
            "morning training finished. time for a movie and icecream  \n",
            "trying not to shut down but maybe pokemon will help.   skid ð¯\n",
            "  user heâs extremely     -  signs that he's cheating and lying \n",
            "emotions play such a big pa in your job search! jobsearch emotions happy   careers careeradvice\n",
            "says it all  user you,  user be  . create community.  thoughts. thrive and smile wellandco \n",
            "  user i canât wait either ððð  user   camgirls camgirl live  \n",
            "teamlandesk are ready to meet you at sits sitsselfie   \n",
            " user there's no such thing as too much iwan ð i can't wait to watch new got episode  \n",
            "i'm at the hairdresser's... new colours in.   \n",
            "you people should be really enjoying the conce,stop twitting every minute.niyang bhora nxa. bitter  \n",
            " user google shutdown  user youtube feed  \n",
            " user  user in second place. we can only dream of that now.  \n",
            "that's why i like to hear...  user says the same thing!    \n",
            "feels nice to be back on tweeter  \n",
            "  user dubaiðdubaipalmjumeirahbeatifulgymfitnessspoworkout goodtimeslovefashionmodemoâ¦ \n",
            "i seriously love this dude.     bmo field \n",
            "the weekend is near!   weekend tvshows see what's coming up! \n",
            " user yes. how   it that?\n",
            "anti racist white murdered by blacks in south africa whitegenocide southafrica   \n",
            "yeayyyy..dia follow back...aumm aumm..  \n",
            " user  user  user  user just watched on recorded. excellent.  . shocking. repo.\n",
            " user never before has someone so grossly lacking in experience and intellect won their paies nomination.( you)  \n",
            "almadash - i like to have fun and make happy who so wish.: horny nude hot shy nasty sexy   naught... \n",
            "went out to some club tonight out here in the bay. safe to say, fuck i miss old town thotsdale. i really do.  \n",
            "damn we can't have friends that are still in highschool ? ð \n",
            "that streetcar was a bust.  \n",
            "\"pulse nightclub\" in orlando under siege! yet another mass shooting with at least  suspect barricaded inside. ere we go again  .\n",
            " user true! ty! no matter how crappy your day is, there is always a   face waiting for you..  :) \n",
            "these simple tips and advice can make you a successful and   singlemother!  pic.twi.\n",
            "sitbackandrelax maytheforcebewithyou   selfie airpo byebyebelgium   brussels airpo \n",
            "  user smackdown on right now ð jericho vs. ambrose is goin to be awesome w/  user  user &amp; byron callin the matâ¦\n",
            " coolestlifehack: this is what a black anaconda looks like    motivation\n",
            "  user totellthetruth: some muslim dude shoots + lgbt people and leader obama scolds  user instead of orlandoâ¦\n",
            "breaking news.  will release new track with voice lyrics tonight.ð  edm dance music cool   \n",
            "praying for victims and their families in orlando. nowhereissafe  \n",
            " user have a safe journey!   ð\n",
            "yay  user watching you cook vegantreats on  user makes me  \n",
            "thank you &amp; same to you ð \n",
            " user  user the kind of  we can expect in trump amrica\n",
            " user tragic.   wolves\n",
            "are you on instagram? come join in with myhappycapture  bloggers   \n",
            " user  user  user pm what you need boss and i'll see what i got for you. i also have  wallchas  \n",
            "had a meeting todayâ¦going back in the studio thursday!ðð¾ðð¾ðð¾ writer vocalproducing singlereleasesoon  \n",
            "stuck in the rat race? find your freedom.   masterkeyexperience \n",
            "what   looks like run gratefulfeet centralpark nyc amazing day   central park \n",
            "\"goodmorning penny\"   asf ðð\n",
            "it's time! oitnb  \n",
            " user woohooo you guys are very busy bees! cnt wait for the album!   ððððððððððððð\n",
            " â gbp/usd clinches highs post-data   blog silver gold forex\n",
            "something is waiting for með   mycanyon numbersdontlie   user \n",
            " user the braves should be ashamed of what they're putting on the field. they have no interest in winning til after the move  \n",
            "seems that no one is talking about gorilla mom now that alligator dad is in the news  \n",
            "happy fri(yay) have a great weekend! friday bc weekend   celebrate \n",
            "a perfect morning morning morningcoffee coffee strudel   instagood \n",
            "find out about making schools   places  user  user and i educationfest  \n",
            "can't sleep with a broken hea. wideawake   thinkingoforlando\n",
            "good night! ðð godfirst happiness smile beautiful mood   love goodnight sleep liveâ¦ \n",
            "i don't want to bring people to a religion, i want to bring them to jesus christ, the son of the most high god!   sabbath\n",
            "try a few of the ideas on this list and see if their day-to-day practice helps you become more  :  mentalhealth\n",
            "  user you literally have no social life when your a working man....  \n",
            "  friday!  what are you up to this weekend? enjoy family friend \n",
            "happiest place.   â¢â¢â¢â¢â¢â¢â¢â¢â¢â¢â¢â¢â¢â¢â¢â¢â¢â¢â¢â¢â¢â¢â¢â¢â¢â¢â¢â¢â¢â¢â¢â¢â¢  user sunshine   iphoneonlyâ¦ \n",
            "it is festival week and only a few days away from promsinthepark ð   pimlico  user swfest festivalday \n",
            "today's the day!   to learn &amp; share at the wasocialsummit! \n",
            "imagine you and me...... user ..  monthsary at weeksary.! \n",
            "i bought new nike shoes yay   ð\n",
            "  user i love my kids! proud  \n",
            "  user   room all setup for cipdnap dinner! thanks awesome  user team! \n",
            "i will never msg him first if he dun msg me firstdisappointed \n",
            "nothing feels better than a nice clean bed. good night! clean   sleepy goodnight\n",
            " user  user  ! yet, i don't believe that those millions of people we saw at bernie's convention had been heard!i say fraud\n",
            "  user crack one more joke please \n",
            "ibiza in  days, twins bihday in  days and my bihday in  days..can't wait  times aheadðð\n",
            "friends and family are the key to happiness! love   fun \n",
            " user molly is still   after  user ð¶ð \n",
            "  user lol now you know how i feel :(  \n",
            "hold the boat!!  user is coming to the  user !!!??  \n",
            "oh yes! and this rude, nasty behavior  user brought out into main stream!  nevermypresident \n",
            " user only had it for  months and already breaking??  fiorelli handbag broken   \n",
            " user from  user  -    father's day. ó¾¬ regrann gerihalliwell \n",
            "feeling so   for the motivation from my friends. goodfelling \n",
            " user  ððð basti feeding schweinski fans like a fool whosana?  ð \n",
            "helping kids cope with   feelings  ece classroom activities play \n",
            "have you heard 'easy'  easylistening nowplaying music backgroundmusic optimistic   cute gamedev audio\n",
            "if you take  user and  user off that freshmenlist everyone prolly got bullied in school  user   nobars - era\n",
            "soetimes you just want to lie in the arms of a guy and forget the world becaus its too bad :x gay cuddl   \n",
            "yaaaaay  user is coming to new orleans   letsdanceinthegraveyards\n",
            "st reh tonight  user with beethoven, which i will conduct for the st time. very  !\n",
            "ooh not long now till famouslysingle stas. th in uk! whoop   ð\n",
            "it's cuz you've forgotten your biggest fan.. no responding since so many days.. ð¢ð¢ \n",
            "why? please explain to us why we're, \"bad.\"  \n",
            "sometimes i go to bed and sleep  hours, but then i remember that tomorrow i have to go to schoolðµðµðµðµð school weekend   tomorrow\n",
            "hello there my love! ð i will be glad to see you here âï¸  \n",
            "i am thankful for emotions.thankful positive   \n",
            " user better get your  user fix before heading to brunsco!   face\n",
            "cat kitty   fash sydney:\n",
            "here's another one of andrew and i from fridaynight couple boohoonight boyfriend  â¦ \n",
            "  ðð¼ (at  user in alton, staffordshire) \n",
            "barbeque done pa ðð together family unity teamwork friends sister brother   funâ¦ \n",
            "it's been a week since i had the best night in a while and it's just gotten better since then!   makesmesmile\n",
            "are you hispanic &amp; â¦ like the  are stomping on you? listen  retweet boricua miamiâ¦ \n",
            "don't forget me , i will always love but you're broke my hea i'm stupid .  miss love cry broke   forget .\n",
            "day  surprising day at work, i got promoted to room leader for the -'s ð±ð±ð±   nervous youcandothis ðªððð¼\n",
            "i am thankful for having money. thankful positive     \n",
            " user so a team that can lost st  games will be above us by rd   \n",
            "best essentialoils for anxiety !!     healthy   peace !! altwaystoheal !! \n",
            "annadayð¯ð« yurika anna anriri shinjuku karaoke dinner hamburger snow   love  \n",
            " user loved tonight's interview - two great guys having easy fun - just what we all need after all the bad news at the weekend  \n",
            "  fatherâs day! -  jobs jobsearch : lahore - like other pas of the world, the ... \n",
            "you are more powerful than you know; you are beautiful just as you are. ~ melissa etheridge love women  \n",
            "beware  in marketing tainting messages \n",
            "\"i'm gay.\" -- something a 'hacker' would post into someone's account -- so, does being gay equate to humiliation/embarrassment pa rin?  ðª\n",
            "how keeping a journal can keep you healthy and     \n",
            "en directo en periscope: morning gym train lifestyle   girl bestpick  \n",
            "  four tet isn't happy with soundcloud: after reaching one million followers on soundcloud, four tet sai... \n",
            "i am ready. i_am positive affirmation     \n",
            " user   grandpa hey it's me and i know you guys dinner tonight i was supposed to do that to you baby i love you to your boyf\n",
            "girls withholding their children from the father , merely because he no longer wants to have a romantic relationship with you .  \n",
            "so   right now! finally going to try some hummus beenunderarock dizengoff pita pickles zaatar... \n",
            "jobs jobsearch vernon   trails:              new heights were reached monday evening thanks to a par... \n",
            "be change.   family lawyer on how food is integral to family bonding nomnom foodporn food blog \n",
            " bullet day first   please :  \n",
            "  ramadhan /\\gresive lover's ððð [pic] â \n",
            "nice morning doing airsoftððð«   exciting airsoft guns team laugh tried fun painful \n",
            "the nba wants to push this to  games.  notice curry isn't taking shots.  too much money involved anymore its not about the spo.   \n",
            "nude teen play  for women in spo \n",
            "model   i love u take with u all the time in urð±!!! ððððð¦ð¦ð¦  \n",
            "sea deep water man smile happy people happyworld dont   every love everythingâ¦ \n",
            "want to be   and successful?  habits my dad says you need to practice daily \n",
            "eating ð coyoacan mexico mexico mexicocity likeforlike instagood friend   memoriesâ¦ \n",
            "have you ever gotten left out of your own date bc same   :(\n",
            "  friday :) repost via  user from thelcshow â instagood \n",
            "i love diablo so much. he's my boo.. dog rottweiler boxer bigdog love baby   puppyâ¦ \n",
            "this data that i gotta finish before  midnight got me downloading aquarium screen savers as i  save up for one.   ilovefishies\n",
            "â¦you black &amp; feel like the  are stomping on you? listen  retweet tampa miamiâ¦ \n",
            "   stories that made us happy this week:  stories that made us happy this week. shares. reprint. subs... \n",
            "macbook   gorilla simulator: you need to do to adapt to the environment. the need to tear the city. materia \n",
            "what have i let myself in for...ð ppl study    user ð©ð©ð© \n",
            "squad goals ð love bf friends friendship forever eternity   smile cute girls boyâ¦ \n",
            "this looks like molly's old boyfriend, gunner! ð» \n",
            "  user it's officially been  month and  day without seeing  user   comehome\n",
            "best fucking news of my life. i'm so done guys. bye   yup laters idc kanye ilovemybrothers \n",
            "in bluntly  language, cologne police  user here announces racial profiling at main station. \n",
            "so the lily white liars of the lnp do not tolerate corruption!! except if it lnp corruption! deceitful   \n",
            "orlandoshooting flag half-mast, by the  victims  \n",
            "great seats... again! waiting for  user    user boston comedyâ¦ \n",
            "just got an entire meal for free in  user  user - thank you for listening to my service feedback and compensating!  \n",
            "sikh temple vandalised in in calgary, wso condemns  act  \n",
            "vestal, newyork : pupil suing school district after alleged  classroom incident  usa\n",
            "i get to see  user and  user in  days :)   bringusonstage\n",
            "my a... ð pyrography eagle taller show a mya expressive working works  â¦ \n",
            "monday: - me: â  monday motivation   styleoftheday lifestyle quoteofthedayâ¦ \n",
            "good morning i woke up this am w/ a bellamy brothers follow all these gifts from snapchat of g and b  \n",
            "check out facebook &amp; instagram for more information on our youth conference service project. pressforward   \n",
            "  birds &amp; bad piggies finger family \\ nursery rhymes lyrics and ...  via  user\n",
            "i just feel numb &amp; empty ð day   inshock single tellmeimdreaming wakeup nightmareâ¦ \n",
            "  user can't wait to get my iphone so i can tweet all the time :)   iphone\n",
            "right now, everything seems to be falling to its rightful place ð  \n",
            "choosing crack over his child for  years   uncooldadhabits\n",
            "i graduated university and still managed to somehow use the guys bathroom.  \n",
            " user monroe&amp;nick best friends, &amp; rosalee&amp;addie and now kelly&amp;babymonrosale grimm   families nadalind\n",
            "  user this year was not well received because of the gregorian festival took place in the ramadan, so i don't feel like doing  â¦\n",
            "  user wearing my vc hat officially tonight; on a panel for a demo day to assess a number of social impact sta-ups.   \n",
            "done my postal vote for the euref off to glastonbury tomorrow. having a couple of nights in a comfoable hotel before camping  \n",
            " user advance happy rd anniversary ð thankyou for everything and for being my inspiration ð i love you ð   bts day btsyears\n",
            " user except he can't say who the enemy is  \n",
            "we're here!  user ssjv ssar     ouachita baptist university \n",
            "confused with the caption! ð  origamii origamiilampung  â¦ \n",
            " user  user i agree there hasn't been much in the way of original content, from the aaa studios.  \n",
            "so   and nervous to find out i i'm in the top  iamfreedom awards good luck to everyone ðð\n",
            "omg i loosed my homework  \n",
            " user  user ty  playing milly her girl mystery   healing solo beg love lovethissong melodic broomfiller hear\n",
            "  user  user i hope people realize you tweeted that in sarcasm. which is why you're retweeting them cause brown are so fucâ¦\n",
            "swimming time!!!  bihdaymomy \n",
            "poetry for comfo from grief  share your memorial ofa loved one    \n",
            "soulfulsaturday do what's goodfor your soullive   \n",
            "model   i love u take with u all the time in urð±!!! ððððð¦ð¦ð¦  \n",
            "we should sit and chat with the elderly and crack jokes to have a fucking laugh. i bet we will come out more wise and  .\n",
            "i swear the nicest people get screwed over by others  \n",
            "samsunggalaxys   rooster simulation: i want to climb the vast expanse of mountains. it reached the leakage \n",
            " user off to see you  user tonight for fridaynights!  user   friday pay\n",
            "gooooood success after all at least somebody asked in twitter!!! all the thanks for  user ððð jovio awesome   success yay â¤ï¸u\n",
            "  user a cold coke + a sushi roll is all it takes to make me  . yum eat japanese foodie yummy foodporn nyc \n",
            "some poor cat on my road as been squashed and killed on my road in buxton hope the car driver is proud of themselves  \n",
            "  user ð¿ð happy sunday ðð¿  goodmorning sunday me   nature life buonadomenica sunny day \n",
            "either btr comes back or logan releases sleepwalker on september. either way... aaahhhh!!  \n",
            "model   i love u take with u all the time in urð±!!! ððððð¦ð¦ð¦  \n",
            "finally a wine glass that fits my needs! reasonswhyilovemyself   friday winelover \n",
            "stop the unfiltered feelings !!!puase-puaseð  jummah mubaarakð \n",
            "every day is a good day to be alive ... ramadan ramadankareem bestoftheday smile  â¦ \n",
            "most relaxing time ever â¡ japan tokyo tokyolife dream fun   friends awesome onsenâ¦ \n",
            "this is why you shouldnât always fire staff who get   at work  jobs career careerrocks\n",
            "do you love your job? tips to work happiness  work   career success \n",
            "smile and be   \n",
            "my mom gave my trampoline away without even asking með¡  \n",
            " things that made me happy this week   things that made me happy this week  â¦  \n",
            "i just got some great news. today is a great day. hope who ever is reading this is has a good one ð  \n",
            " user the welsh in is what a tournament should be like!   ðð»\n",
            "beautiful girls. goodluckharry   gist bihdayjohnnydepp \n",
            "model   i love u take with u all the time in urð±!!! ððððð¦ð¦ð¦  \n",
            " user  user you owe  user   disappointed rubdownsforbob\n",
            "time to grabyourwallet  &amp; boycott  user who gives book deal to  troll banned by twitter \n",
            "\"the blacks\"? \"the blacks\"? \"blacks\"? *facepalm* *smh* \n",
            "...music     jazz music jazzmusic jazzchillout tune guitarjazz pianojazz inspire friday\n",
            " user we have two woman stealing flowers out of the local cemetery . they have not caught them yet, but they are on camera.  \n",
            "be   n healthy there is no abstract a. you must always sta with something. afterward you can remove all traces of reality. â pablâ¦\n",
            "katiecouric... a nd documentary?! my goodness honey.  \n",
            "happy wife, happy life \n",
            "  bihday to this super talented actress  user more grace \n",
            " user  user  disgusting ap declared clinton nominee before a primary. what if indicted? sd vote can change  integrity   \n",
            "  user  user  user  user  user  user me also! terrified &amp;   in the same way! damn!!!\n",
            "in  weeks - kg broken&amp;depressed  in  months - kg  &amp;blessed  ððððððð\n",
            "the orlando victims are americansfirst ~ get on the   \n",
            "happyholidayð´ðð happyfather'sdayð¨ð»ð¹ éå­ããªã¼ã  fathersday holiday   love amazingâ¦ \n",
            "today's garden love   \n",
            "i am respected. i_am positive affirmation      \n",
            "wife crashes her own funeral, horrifying her husband who had ordered her killed; community turns against her  \n",
            "omg so its national best friend day or whateva and my bestfriends are miles away from me ok wow i'm  \n",
            "  user otw sa moa ! ðâ¤ with them âºð   ðð\n",
            "well diysos has got me like this touching   \n",
            " user  user bags packed ready!!!!!    quietweekend\n",
            "  user make quitting cigarettes a gift to yourself and your loved ones.   fathersday! \n",
            "relax con mi  user  dinner \n",
            "things are finally staing to look up!!ðððððððð   finally allsmiles abouttime\n",
            " user always ready to collaborate with you and learn from you!   and lookingforward injazpakistan\n",
            "photography   attack bull game d: do you really think that his head was empty around the city. each side i \n",
            "only one more sleep til we get to spend an evening with  user in lincoln   â¦  \n",
            "practicing for saturday night....   getuickets \n",
            "ice   bull up: you will dominate your bull and you will direct it whatever you want it to do. when you star \n",
            "wishing  user a very   bihday! always stay glam! throwbackthursday \n",
            "omg water can't control myself . fountain fun   kids streetphotography streetphotoâ¦ \n",
            "can math help defeat ? math literacy adultedu  -  \n",
            "remembering shane tomilnson orlando pulse victim who didn't surviveððð¹ð   journey homeâ \n",
            "europe proves that \"diversity &amp; multiculturalism\" bring violence, rape &amp; ruin to our white, western countries. \n",
            "a friday morning cocktail before i head to nyc ðð»âï¸ð boom malibu ocean   followme onâ¦ \n",
            "my father, my superhero. father's_day   love_u_papa nostalgicâ¦ \n",
            "  user yet another great review from a happy customer allagents review   customer :)\n",
            "  father's day thalaivaa vijay bdayspl week \n",
            "awork from myt saturdayfreedom love   ð \n",
            "good morning friday!     friday  flowers daizy naturebeauty \n",
            "  user dogs can see sadness in humans and often attempt to make their owners   by initiating cuddling. quote cultureswaâ¦\n",
            "  user surreal juxtaposition. never thought i'd see the  user sg commenting on a city in florida. orlando   \n",
            "date night tmrw  user &amp;  user .. i wonder if pie will be included after?!centralintelligence   \n",
            "very excited to be apa of the funkids festival this year!!   kidsfestival funkidsfestival \n",
            "me in the sunâï¸sunny sunnyday girl girly   havingagoodtime summer therollingstonesâ¦ \n",
            " user personally don't get why they bother - they must have very little going on in their lives to be so focused on us weird  \n",
            " user  user these photos make me sad i have to take a year off! pregnancy  \n",
            "watching  user snaptraveler stories for  user makes me  ! hope you had fun in barcelona âº\n",
            "  worldtapasday everyone! come &amp; celebrate afterwork    user  user  user foodie \n",
            "the *diversity officer* states (among other things) killallwhitemen; yet, because she's an \"ethnic minority woman\"â¦ \n",
            "  fridayâ ð  any good plan for weekend ?!â ð - - enjoy your weekend and get cleanâ¦ \n",
            " user  user ola has been doin this as they r least concerned about their services and dont care for our money   ola service\n",
            "  user time to get my freelance hat on. novel writing later   writer \n",
            "check  steve kerr rips officials after game  and says he is â â stephen curry threwâ¦     user\n",
            "my father is my hero   father's day!. \n",
            "more love! orlando pulsenightclub onelove rip   devastated lovemorehatelessâ¦ \n",
            "i spit water on my dog now he's ignoring me  \n",
            " user leave a 'gweh' below â¬ if in , you will no longer debate wypipo about  slaverâ¦  \n",
            "what a lovely warm day and it's saturday   get to go to lingfieldraces wishing everyone an amazing day! \n",
            "nice. hoppy makes me   \n",
            "  user  user very   for the follow...i hope all is well in your world... \n",
            "  anniversary mainstreetbeer ! double ipa for brunch ð» cheers \n",
            "my   dogs want to cheer you up! share this to help them reach as many tweeps as possible! \n",
            "rip to all the orlando victims sorry for your loss.   orlandoshooting\n",
            "so these are the new miui   highlighted features. dev rom to be released this friday!   ðð¤ \n",
            "  fathers' day. ur presence counts more than ur presents. be d priest &amp; prophet   home. be their hero &amp; lover-father.  user\n",
            "model   i love u take with u all the time in urð±!!! ððððð¦ð¦ð¦  \n",
            "inked   polar bear climb racing: angry polar bear climb racing, the polar bear living in cold places lookin \n",
            "  user my hea is scattered into small fragments, we lost grimmie she was one of my favorite voice contestants. i'm   confuâ¦\n",
            "  user check out new work on my  user pofolio: \"father's day\"  fathersday salutethefather   â¦\n",
            "beach day âï¸ð« selfie beach love   boyfriend couple bulgaria   nesebar beach \n",
            "finished my nd libwizard tutorial.   ðð» this one survived deletion. next up, exploring iframes to embed in blackboard. librarylife\n",
            "on the way to gosaikunda lake trek   time\n",
            "so i woke up with a knife in my eye... oh, no it is just a migraine migraine   pain friday zombie\n",
            "the time has come! we are landing tomorrow! teenilicious fixdermateen generationz   tomorrow \n",
            "when you get a text that makes you jump out of your seat...and you pull a hamstring haha ð³ warmup foamroll  \n",
            "ripcristina why is the world so messed up now???   ððð\n",
            "starwars pay and cake!!!!   bihday natasha \n",
            "how to make yourself  . busca hacee feliz. misskarat jewels joyas anillo ring plata silver \n",
            "played battleborn with the waifu yesterday xd (not recorded). it was a lot of fun. relationshipgoals   gamingcouple\n",
            "  user love can make you a little bit crazy! love fun   \n",
            "hello happy sunday!! have a nice weekend all lovely yoga lovers..ð¤â¨â¨ð¸ð   thailand sundayâ¦ \n",
            " user  user hi rhoda , can you message us  \n",
            "  sex blonde free online white girlvideo porn black step dad  \n",
            "  user at  -- ï¸â£ days... hawaiibound kauai mifamilia   livelife ð¯ð¸  user aloha \n",
            " user thank you !!! ðððð  \n",
            "justin bieber this weekend and gah brooks next weekend winnipeg  \n",
            "my   face! hahaha mot feeling work today. it's too beautiful to be stuck inside! \n",
            "  hints  user people have been asking how you get this app if you don't have an i phone?  \n",
            "the world has a song (happy) but we have a story (my testimony)!   gotjoy\n",
            " user  user gotta love  user what a giant slobbering vicious mutt bastard. if he ever let facts get in the way, it'd be  !\n",
            "exciting week next week. go live decision is a green for monday with a very impoant client.  \n",
            "my mom just told me i'm to make a build a bear ð­  \n",
            "why dont pedestrains walk single file at shopping centres if they all had rego we could repo them   rego cycling mall pedestrian\n",
            "book signing today on the willamette queen. feeling mixes emotons. nevous   anxious  grateful\n",
            "finally watching  user apocalypse tonight.   \n",
            "my life has been better since i met you.ð   bestfriend betterlife myperson ilikeyou \n",
            " user  user congratulations!!! niblles forever! hamsters   ð¹â¤ï¸ð¦ð»\n",
            "  father's day to all the daddy's in the world....love u all..... \n",
            "  pathetic loser new reality tv show: \"who wants to ruin a political career?\" \n",
            "a gold coin from spain shine shinny love   spain vacation sunday big awesome sweet value crazy \n",
            "jeffsessions  attorneygeneral  from alabama trump staing a racewar will we let him? chaos fear weaponry  user\n",
            " user whoop!! tickets to theconjuring   ð\n",
            " user how can we stand against hate among us lgbtq if it is our own religion dividing us? catholics can't even accept us.  \n",
            "  user relaxing katiequeue music   life amazing guitar \n",
            "cappuccino mug... gbp . get here:  shop cool   home fun \n",
            "yo swift watched try and make me uncomfutable  \n",
            "they ride every wave bro..   \n",
            " user   bihday bts love with you\n",
            "best essentialoils for anxiety !!     healthy   peace !! altwaystoheal !! \n",
            "i'm always amazed at the number of excellent black athletes that want to play at racist schools in racist states. ncaa \n",
            "the highest happiness on eah is the happiness of marriage. âwilliam lyon phelps wedding   love \n",
            "chroniclescontinues that moment when  user steals my favorite color and then asks if im   with her. what imtweetingthis\n",
            " â eur/gbp expected at . in -monh â danske bank   blog silver gold forex\n",
            "i am thankful for coffee. thankful positive     \n",
            "life goal: be as   as this dog. \n",
            "so glad the motto is universal! fridayreads amreading  and a yalit tea and book option?  \n",
            " user  user  user  user btw, gandhi was a . in india,  user adores him (without following him).\n",
            "morning mudafuggaz!   selfietime morning \n",
            "  user it is really good to be a father. atleast one person can be trained by me to be a good human being.  jai hind :) \n",
            "here in london for queensbihdayparade  user with  user waiting  her majesty to arrive   \n",
            "the little things make me happy ð happy friday loves â¤ï¸   healthy fit love \n",
            "binge on boxsets, clean the house...sometimes, wallowð exerciseyourhappinessmuscle anindividualthing  \n",
            "  user wines prepped for aisan producer day  user -pm  user  user  user localisbest   \n",
            "thursdaythoughts  from  user  choose   everyday \n",
            "bigbang  vip  bihdaygirl         love       oppa.....happt bihday to me.â¦ \n",
            "  user sunday is almost here, means new video, you saw my new video ... if you do not free :) thejosepenashow   \n",
            "i am sure going to miss  user and  user my awesome new friends from b-ball camp! missingnewfriends  \n",
            "why am i not surprised a murderer got endorsed by our president. this is so screwed up. what happened to america?   killary\n",
            "' urdu poetry beutiful poetry   poetry   lines poetry  eid new poetry tanhai poetry - plz join - follow  user - snd \n",
            "soon to be an american citizen... winner america loveyou life peace   proud ðªðâ¤ï¸\n",
            " user sad this is our only pic together but   to have you in my life... happy bday cutie! ð \n",
            "that is why  is systemic, rather than just humanity being human. it is power and reinforced each minute!\n",
            "if you can put this up here,  you can as well mention the name of the person \n",
            "sunday breakfast situation weekend breakfast delicious coffee icecream life loveit   blogger june... \n",
            "yea that's what racists usually say \n",
            "you might be a libtard if... libtard  sjw liberal politics \n",
            "yeah!!!!!!!!!!!   allblacks allblackeverything nzlvwal  \n",
            "o m a y g a d \n",
            " user strangely silent on the idiotic  'statement' by  user not surprised. twonitwittrumpsuppoers\n",
            "have a   sunday y'all\n",
            "being a good dad stas with being a good husband. being a good husband stas with the fear of the lord. god bless us!   father's day.\n",
            "  user  user lucky looks  \n",
            "â¨myworkðð¼tattooingðforeverð ðð»workhardplayhardðð»â¨  saturdayy'allâ¨âð»ï¸ \n",
            "well back at third shift again, but mr and my girl are hitting it up tomorrow!!!  \n",
            "today is a very very special day ð  \n",
            "  user no apology from  sergei lavrov for english fans in hospital, while his ppl set off more flares in confined space of terracesâ¦\n",
            "  user testing on friday and monday now  user with two different drivers, two different classes ð  \n",
            " user irresponsible parents creating irresponsible kids who don't care abt laws..   \n",
            "perpetuates  â¡ a&amp;e changes title of kkk documentary amid criticism  \n",
            "always with the positive mental attitude! we're proud that hannah cockroft is one of our inspiring women speaker \n",
            "the world looks better through   eyes. julboeyewear julbo maisonduski \n",
            "the beach is my happy place. junesuitejune keystonesuite   workhardplayhard funinthesunâ¦ \n",
            "i am thankful for smiles. thankful positive     \n",
            "  user   bihday  user ðððð you're amazing, hope you have the best day today! bihdaylucy\n",
            "  user one hour in the sun at omotesando âï¸ æ±äº¬tokyo bliss \n",
            "model   i love u take with u all the time in urð±!!! ððððð¦ð¦ð¦  \n",
            "babies   dream on me, synergy, in  conveible crib  bouncingbaby\n",
            " user  user why do we have listen to a woman who goes to church but kills thousands. fascist  brexit liar murderer\n",
            "do you ever feel guilty to smile ?   idk feelingsad\n",
            "are you truly   or afraid of failure? join our freedomcreator facebook groupâ¦ \n",
            "nosurprise  user performing   trumpinauguration, mormonism has  &amp; polygamist roots; kin to adultery. moneyovermorals\n",
            "kejriwal must accept role in making of udtapunjab', conspiracy to defame punjab:    \n",
            "today has been awful but i keep my headuphigh positivevibes bodyposi goodmood veryblessed blessed   great feelingood chawdaddy\n",
            " user he was always ready...  and you never called him :(   \n",
            " user he would have washed his color off if he could have.  \n",
            "awww great...a text from a realperson...should i be  ? nah meh\n",
            "  humpday favorite filter snapchat smile latina \n",
            "watching this week's  user whilst trying to write repos on a sunday morning has only ended in disaster.   goodnightahur\n",
            "chomsky: israeli apaheid much worse than south africa   israel internationallaw occupation  bds\n",
            "life is about moments...  happy father's day! âð»ï¸ gdegblog  life moments   family selfie love igers... \n",
            " craziestpeoples: this is some scary shit..    motivation\n",
            "totally pre ordering destinyriseofiron as soon as i get paid lol   hype\n",
            "lots of ppl getting the wrong impression of jocoxmp .not surprised as things will be spin for political gain.  \n",
            " user why did you guys change home free so much. first episode everyone knows they get the house for their hero. what's the point now.  \n",
            "happy friday loversâ¤ï¸ðð¸ð» love king queen trust suppo bff   friday \n",
            "  user i seriously feel pity for sagarika ..it's difficult to live like this . \n",
            "awkward but   and whatsup with the hashtags ð\n",
            "stopping off at the  user on our way home today... see if i can find my wedding shoes  \n",
            "definitely needs that vacation soon..  \n",
            "model   i love u take with u all the time in urð±!!! ððððð¦ð¦ð¦  \n",
            "ben simmons gonna get drafted by the ers lmao  \n",
            "only  user can, kabali live pics frm woodlands fans over   joy fun blast galatta \n",
            "negative emotions have an impoant role to play in a   life; they're big, flashing signs that something needs to change. sng\n",
            "raymond took  user snapchat  | logotv orlando raymondbraun   selfie talk prayfororlando \n",
            "you all think you're his number one   :(\n",
            "rainbows follow me everywhere i go ððði must be a unicorn ð¦ð¦ð¦ð¦ fulloflove \n",
            "i am thankful for the sun.thankful positive   \n",
            "  user pretty well over it.  done with the unnecessary drama, time for living life way it's meant to be lived carefree   draâ¦\n",
            "why are olives always so hard to open ð  yummers olives tasty healthier love them  â¦ \n",
            "r.i.p  user you will be dearly missed ð­ð­ð­ðððð prayforchristina ripchristina mayyourheaopen  \n",
            "  user be   n healthy if past history is all there was to the game, the richest people would be librarians. â warren buffâ¦\n",
            "i've heard in presidential debates about isis, vladimir putin, and the lgbt rights, but none will address the injustices towards blacks  \n",
            "food makes me ridiculously happy. i'm having pink lemonade, a hot dog, &amp; a soft pretzel &amp; i'm on cloud . it's the little things.  \n",
            "when you make an offer on the house of your dreams, only to find out someone else made an offer  minutes earlier.   alanismorissette\n",
            "  user he's my king and i'm his queen! ðð twining couple    user \n",
            "i am ready. i_am positive affirmation     \n",
            "wtf!??!ð­ð­why they end oitnb like that!! ican'teven with these emotions like why kill bae??ð°ð¡   retaliation hurry up with season!!!!ð¤\n",
            "it was a good day at the gym today. i'm feeling great! :d   gym feelinggreat\n",
            "twenty yearsð    hapiness itsmybihday mybihday myday picturoftheday picâ¦ \n",
            "  user  user how pathetic of  user to attempt to invoke a dead war hero to defend one of many of trump's racistâ¦\n",
            "countdown for the company mv appearing soon !!   \n",
            " user   bihday angel â¡â¡â¡â¡â¡â¡ \n",
            "  monday !! ...have a pamper pay ó¾¥¦ beauty apps still available ó¾ £ó¾ £ó¾ £ smoothyou dalstonsquare... \n",
            "blved.. team smafrenbec beloved   happiness friends love \n",
            "living through my testimony ðªð¾ humble blessed  \n",
            "model   i love u take with u all the time in urð±!!! ððððð¦ð¦ð¦  \n",
            "buffalo   bull up: you will dominate your bull and you will direct it whatever you want it to do. when you \n",
            "we can both have the world!!...â¤ï¸â¤ï¸ðð   fotoniztas fashionpose becauseican mkb   kmb \n",
            "rise and shine! the e show floor opens today.   e\n",
            "here's wishing all the awesome dads a   fathersday!   don't forget to swing byâ¦ \n",
            "sometimes, all it takes is a smile smile     via\n",
            "i just really can't with life right now...   heabroken scared\n",
            "my eyes don't lie ... they say \" i am   \" â¡ ~â¤ instapic instamoment today wednesdayâ¦ \n",
            "_animaladvocate: the \"dairy industry\" destroys cows raped &amp; babies stolenð here are   cows at gentlebarn ðâ¦ \n",
            " user udtapunjab   to watch this movie ð¬ðð\n",
            "podcast   with  user  user  user  user  user  user \n",
            " user  user  user  user  user  user   beauty _pearls in silver eyes \n",
            "woman in cou on racism charge  \n",
            "come on england!!!! euro engvrus   nervous ððððâ½ï¸â½ï¸â½ï¸â½ï¸ \n",
            "last day in the office before module   nervous fridayfeeling \n",
            "black's dark love live wonderful instame peace amo smile felicidade feliz   kissâ¦ \n",
            "i finally found a way how to delete old tweets! you might find it useful as well:    deletetweets\n",
            " danky the slob everybody (green shi) has the audacity to say my wife looks like a bulldog. look at this kid... \n",
            "god can turn around any situation.  sunday\n",
            "yay! third match score i've predicted right in work   irevswe\n",
            " user so if you paake in this dark skin vs light skin nonsense, you are a by product of this anti-black world  \n",
            "cooking lesson on-going... then, i want driving lesson...  who wants to train me?  two-wheel driving muna tapos , then ...   \n",
            "find reasons for living and then live.   fathersday leftside lookaround \n",
            "angry seaside: summer, where are you?   seaside summer summerwhereareyou where juneâ¦ \n",
            "i want hug him   \n",
            " user  user  user  user spend this much time on ineptcouncil members clear, oiz, harmon, rather than ð colson  \n",
            "if ever i hv a bad day i just look   them...  summer  puppy dogs_of_instagram  â¦ \n",
            "  exercise weight loss \n",
            "  user we are   to be playing at the openairgalleryberlin guitarist violinist percussionist openairgallery obeâ¦ hâ¦\n",
            "absolutely disgraceful! this makes me so fucking angry, they are scum and they make me feel ashamed to be english :( \n",
            "i clean up pretty good ðð»ð // latergram selfie selfietime mjbcruise mjb   fun smileâ¦ \n",
            "my life is perfect right now.   love girlswithblondehair blondehair girlswithinkâ¦ \n",
            "be   n healthy you don't walk into love, you fall in. that's why it's so hard to get out. â unknown \n",
            " ,  rock, tracy jordan  \n",
            " user agreed.. the same is true for  and .. they are overused terms, and as a result, are fast becoming meaningless.. ð¤\n",
            "first of my angry bird collection ð  bird birdhat crochethandmade crochet.â¦ \n",
            "the rain paused, the sun warm and  user  &amp;  user giving me shivers  \n",
            "it's sad when you make claim you have no legitimate proofs for.  \n",
            " user .... you .... you ok? \n",
            " user  user  user imagine commenting on a team(s) you don't even suppo  .\n",
            "for me its hard to keep my mind off this slaughter in fl. i try a lot but it always comes back in my head..its like nothin else matters  \n",
            "unfounate to be more dumb in real life than on the sitcom of yesterday. what would  user say?   loser\n",
            "everything you want is on the other side of fear. vlicobs xoxo love grace   amenâ¦ \n",
            "choose to be happy.  inspiration  quote inspirational  \n",
            "a good dad is irreplaceable in the lives of his children.   fathersday dad \n",
            "  user flowers  can't solve all problems but they're a great sta   flower monday ðð garden red rose \n",
            "check this track out!  background indie indierock audiojungle royaltyfree cool fun envatomarket   great\n",
            "  birds &amp; bad piggies finger family \\ nursery rhymes lyrics and ...  via  user\n",
            "  user obama seems to numb like he's just going through the motions.   orlando\n",
            "jo cox has died as a result of injuries. may her soul rest in peace.  \n",
            "  friday! we look forward to a wonderful weekend here at luckylinemotors have you made your test drive... \n",
            "constitutional law scholar/prof pres. obama calls for cuailing constitutional rights w/o due process.   wiright a wipolitics\n",
            "a young boy shot on his back stray bullet inside the house corddemos innocent people caught up in this violence!  \n",
            " â sar still trailing the falling eur/jpy rate   blog silver gold forex\n",
            "i am thankful for education. thankful positive     \n",
            "i'm so   and grateful now that - affirmations \n",
            "can't wait to graduate from my taxidermy degree!  \n",
            " amazing health benefits of cucumbers!    healthy is  !!  altwaystoheal! \n",
            "wtf is wrong with florida?!?   \n",
            "let me tell you a story about  and videogames. specifically, marvel super heroes vs. streetfighter. \n",
            "ready to watch  user in lincoln to celebrate mums bihday!!!   circleoflife\n",
            "feeling those plot twist feels ðð amwriting valensseries   \n",
            "no stress in our day. it's friday. get  . \n",
            "when clients bring you presents ððð chocolate   galaxychocolate galaxy   ms moo make up \n",
            ". user  user ð¹ user so please stop go away &amp; take ur ugly skank  user with u. pussygrabber \n",
            "seriously the luckiest girl on the planet! ifeel summerescape   ineffableglitterâ¦ \n",
            "i wonder why we bothered moving bk to essex?! no eva comes to see us, no eva asks me to go out at least in kent i did my own thing!  \n",
            "when everyone's free when you're in exam mode wtf badtiming guys   \n",
            "so tonight i met  user now i can die  \n",
            "foods for healing your body!!    altwaystoheal healthy is  !! \n",
            "  hardcore compilation uk hot teen  \n",
            ";you seem to replace, your brain with your hea;  feminist beauty smile   pride girlâ¦ \n",
            "sometimes, all it takes is a smile smile    via  user\n",
            "i don't have to do plexus. i get to do plexus!  soblessed grateful  \n",
            "i am thankful for air conditioning. thankful positive     \n",
            "mazara seems like a good guy. too bad he's on the rangers. another year on this team and he will be a thug. that's what happens to you.  \n",
            "lebron james is the best  minute nba player in the world!  , but true! nbafinals\n",
            "oh damn.. his childhood was so fucked up. he don't know how to be positive reinforcement for his own children  \n",
            "i love my cats! but sometimes... i really don't like them! destroyers mythings   cats mine them destroy love like notreally\n",
            "translate your documents from english to spanish in no time!   customers with every order come and get yours \n",
            "pickin crows are playing at tn fitness spa, june th, open to the public; : p.m.   folkmusic \n",
            "very little is needed to make a   life; it is all within yourself in your way of thinking. \n",
            "quote of the day:âallow children to be   in their own way, for what better way will they find?â â samuel... \n",
            "last day of summer classes!!ðð  \n",
            "i am enthusiastic. i_am positive affirmation     \n",
            "amazing tunnelview in yosemite np falls rainbow father's day longexposure nikon   obama \n",
            "one of the sad moment is when when i couldn't concentrate in my aayat had to close it  \n",
            " user allahsoil not all muslims are islamic extremists (very, very few are).    emiratisâ¦ \n",
            "  user gehojo  bihdaymarilyn monroe - \n",
            "angry moms be like ð³ loop funny funnyvine  momsbelike revine  funnyface \n",
            "homerelaxbe nightgirlalonepsihologijasmilefromhea smile to your self and justâ¦ \n",
            "  user **** big announcement tonight at pm****           set your alarms don't miss it              user \n",
            "tolerancemovie, nattaway ff rss:  nattaway \n",
            "ready for the weekend miror selfie me follow me instafun instasummer yass   readyâ¦ \n",
            "i'm    user cause i didn't get a bunt cake... twitterwarnumber\n",
            "sing along a little goddamn louder bmth   \n",
            "my villetta needs some work... cosplay anime makeup   \n",
            "when people speak of you, it should bring a smile to their face.   smiles friends \n",
            "last walk on the beach before heading home tomorrow.   sanibelisland paradise   sanibelâ¦ \n",
            "  bihday to princephilip - do you like this new official porait ? \n",
            "goodmorning my followers lovely addict  \n",
            "  warns rahulgandhi not to play politics on udtapunjab'  \n",
            " in  days cannot wait  \n",
            "model   i love u take with u all the time in urð±!!! ððððð¦ð¦ð¦  \n",
            "  saturday  user  user  user  user  user ! peace &amp; love !\n",
            " user  user  user   father's day to  hardworking,  &amp; caring dads &amp; to all single mothers who  play both roles.\n",
            "billionaire chair of trump says he hopes obama dies and michelle goes back to being a male ape in africa.  usa usa meltingpot\n",
            "  user cannot wait for a whole week living with  user ðweek boyfriend  love hopehecanputupwithme\n",
            "i am so blessed! my girls are perfect!   mom  mylife \n",
            "in just  days time we will be on stand h! come and see  user for a chat! hrss cipd hr \n",
            "homemade coleslaw and chicken kiev foodporn food instafood follow instacool foodie  â¦ \n",
            "its amazing dat d same set of pple who wanted gej's head while he was president hv been giving different offices, yet dey can't perform  \n",
            "model   i love u take with u all the time in urð±!!! ððððð¦ð¦ð¦  \n",
            "tribeon  user dallas, here we come!!   talent musician model actress  user \n",
            "morning crew cc   people \n",
            "new video shows how  this guy  and how he staed to abuse and humiliated an muslim guyâ¦ \n",
            "very impressed with  user 's palette. love the highlighters ð  user makeupblogger   palette \n",
            " user motherfucker you have k tweets in one month. you're not even a real person. and i'm the   one?\n",
            "i didnt know  user was still around  \n",
            "simply the best !!! \n",
            "  user real life living persons actually desire to vote for this vindictive, hate driven, murderous, conniving, liar.    \n",
            "comfy shoes  shoesshoepornsneakerssneakerholicsrubicomfysaturdaynew pinoy \n",
            "huge black dicks porn   pussy  \n",
            "healthiness = results ðªð¼ healthy fitness   weightloss throwback style mensstyleâ¦ \n",
            "i'm singing my blueeeeeeee blue  \n",
            "life is good | whenintagaytay goodvibes smile   me view itsmorefuninthephilippines  user \n",
            " user   indeed ripstephenkeshi\n",
            "lawofattraction for healing!!    altwaystoheal healthy is  !! \n",
            "finally got new pandora charms for my bracelet ð  \n",
            "beach day with bae  user cocoabeach summer florida life love   vibes \n",
            "  user happy matrix anniversary aser! teammatrix   mydubai celebrate anniversary \n",
            "my y old girl keeps telling everybody at school that today is my bday  awww shes the sweetest ððððððâ¤â¤â¤â¤â¤â¤â¤ aupairlife  \n",
            " user needing your advise don'tknowwhattodo   help\n",
            "ooooh snap!! dey gettin yall out there too? dayum!!!   \n",
            "what a great week! kms was awarded again to promote  user in germany.    sunnysideoflife \n",
            "for real???ð±ð±ð±ð± how legit is this??   sana di hopiað \n",
            "we are   to announce the launch of our newly designed website which went live now:... \n",
            "day off en cadiz happiness   perdonameseã±or perdonameserie lorenavelarde picofthedayâ¦ \n",
            "  father's day to all over the world\n",
            "  user updated. â¤ï¸  book wattpad poetry verse poem poems smile   \n",
            "  user real pleasure to be working with everyone  user on connecting communities    user  user\n",
            "st time volunteering with  user was an absolutely incredible experience.such generosity,kindness &amp; teamwork.much love,guys. \n",
            "pray for orlando. so   this continues to happenððð \n",
            " user i have left school for study leave now ð i only have a couple of exams left ð   sad memoriesmatter â¤ï¸â¤ï¸\n",
            "  couple having sex bisexual webcam movies  \n",
            "summer vibes , have a great  weekend love   diamonds gems rings fashion luxury  user \n",
            "wow special surprise  user come tokyo dome!! legend wrestler happy   \n",
            "sooo   to have god in my life...i feel his unwavering &amp; unconditional love every single day!!!  godsavedme\n",
            "having a nice time ðâï¸ð lovelife  \n",
            " user our family is looking forward to visiting chickfila for the first time, but can't download the app because we're in canada!  \n",
            "trump ny co-chair makes racist remarks about michelle obama  p p fyi  tcot\n",
            " user  user agreed.. the same is true for  and .. they are overused terms, and as a result, are fast becominâ¦\n",
            "  fathers day. may you spend the day with the most impoant people in your lives, your family. and, may there be lots of barbecue.\n",
            "  user we are here at the  user for the grand final of the lct good luck  user   colour hair mensimageâ¦\n",
            " user i just posted this on your ig. and with that i am going to bed early.needabreakfromtoday peaceð  \n",
            "happyholidays and try not to be a  this christmaseve :-d \n",
            " more sleeps until our taster sessions sta ...   toptots  user  user ððð\n",
            "  user the only person behaving as an idiot would be seen as you  user   &amp; dumb  user  user\n",
            "judge lets  rapist johnrkhoward wlk aftr the rape of a special needs blk teen. ddnt wnt tht on his record, wud nevr work n reverse\n",
            "jackson   polar bear climb racing: angry polar bear climb racing, the polar bear living in cold places look \n",
            " â eur/usd reverses sharply from monthly high, back below . handle   blog silver gold forex\n",
            " days until graduation gettingserious almosthere countdown proud   happy then senior week worry begins ð¬ð¬ð¬ð¬ \n",
            "jump for joy! chihuahua dog puppy joy   run sony porait animal \n",
            "i want an enchilada and i can't get one tonight and i go to camp tomorrow so it will be at least  days until i get one.  \n",
            "this morning was the best morning! friends  \n",
            "anything is possible disability positivity disabled wheelchair   \n",
            "get off me it's too late for this smh limelight steal errrr family faith fashion  â¦ \n",
            "this is so ððððð¼  fathersday decide  love life success fatloss iamgus wealthâ¦ \n",
            "its been a long long time disney disneyland childhood starwars bb   tomorrowland \n",
            "i made her close her eyes. she didn't know what we were seeing. carbonarolive   \n",
            "model   i love u take with u all the time in urð±!!! ððððð¦ð¦ð¦  \n",
            "good morning  monday \n",
            "â­ï¸miss you ðâ¨painting  for them - created by regatte orlando prayfororlando  â¦ \n",
            "enough watching golf for today. tomorrow will be fun. and   fathers day to all my daddy friends. enjoy your day.\n",
            "tomorrow first day shoot for yrkkh ... newcharacter starplus   suzanneberneâ¦ \n",
            "  user welcome  user musicaltheatre soprano angel super    wrk w u !! actor dancer singer tv theatre hâ¦\n",
            "see the difference??   \n",
            "  user  user  messy church at st.peter's church poesham celebrating its st bihday today  \n",
            "reunion tonight   ð¬ user  user  user  user  user  user  user  user\n",
            "now playing  :  david lanz - \" cristofori's dream\" on    melancholy   melancholymusic\n",
            "aww yeah it's all good bing bong bing bong   \n",
            "the console war isn't real, console choices do!   perplexing\n",
            "people aren't protesting trump because a republican won-they do so because trump has fuhered  &amp;â¦ \n",
            "  user happy day! âð»ï¸ðªð»ðcute toptags tweegram amazing followfollow likelike look daily  â¦ \n",
            " user   poor baby, lifeoneah\n",
            "i didn't make it to this list  \n",
            "  user hello twitterworld â¤ summer  â zeeland samsung europe brouwershaven grevelingenmeer   visitholland \n",
            "  bihday respected sir \n",
            " user  is still rooted in our society's attitude towards black women's hair. read more from candide uyanze:â¦ \n",
            "arianagrandedrawing   attack bull game d: do you really think that his head was empty around the city. eac \n",
            "afternoon snack âðµð¥ð° fun   â¦ \n",
            "it's gotten to the point where spos is more impoant that humans in america.  \n",
            "homicides rose in most big cities this year - the wall street journal povey  inequity illegalguns  \n",
            "it truly is the end of an era, love  minute and is so sad they are disbanding minutepleasestaywithus   kpop \n",
            "and i  can't see you my friend bc i'm so sick ..   ð·ð\n",
            "lozza ð¹ð¦âï¸  user bestfriend loveher holiday tenerife  â¦ \n",
            "i ð friday nights!! ð fridays   weekend\n",
            "  user although rain catsanddogs but i still   for travel  tee ralphlauren  rawdenimtelagenova clarksoriginals \n",
            "  user sunny sunday ðððð maraton runner running  traveler   zipaquira bogotadc colombiaâ¦ \n",
            "he may be correct. i just can't pay attention to a communist . \n",
            "a week ago today i lost my cat and i found out at this very time  days ago. i still have her things.  \n",
            "i'm so   and grateful now that - affirmations \n",
            "healthandfitness   attack bull game d: do you really think that his head was empty around the city. each s \n",
            "  &amp; grateful that money comes to me in increasing quantities from multiple sources on a continuous basis \n",
            "lucky   dad to be cared loved by amazing loving caring daughter jannarden! wishingalldadsgoodgirlsboys!â¥ \n",
            " anmolshare: \"  fathersday!  gift your dad a secured financial future! save insureâ¦ \n",
            "  father's day to all the proud fathers in the world! long life and prosperity.\n",
            "sikh temple vandalised in in calgary, wso condemns  act  \n",
            " user fantastic prize !!!!!!!!!!!!!!   familytreat winitwednesday\n",
            " user   bihday looking beautiful as always ....when  is the new \n",
            "itâs amazing how true this is! healthyeating eathealthy   \n",
            "take me back ... or not? ððð tb throwback seoul korea holiday love   gloww asiaâ¦ \n",
            "donât ask sad people how to be  . \n",
            "check  let us not forget our heavenly father,   father's day too papa jesus! ðð¼ð    user\n",
            " user    user throws up a paicularly destructive l as she sneers \"loser\"   \n",
            "happy father's day dad! abcchicago   fathers day celebration \n",
            "i cannot wait to visit pittsburgh ð§ðºð¸ðâï¸â¤ï¸  \n",
            "  friday! ff our breakroom panel:  user  user  user talking teen paies, trump dating and guns.\n",
            "hope you all are having a lovely sunday âï¸   fathersday to all the dads out there! photo... \n",
            "  hillary clinton shifts and says she is \"happy\" to use the term \"radical islam\": washington (cbs news) ... \n",
            "   user - movies &amp; booze make long flights fun but also make jetlag worse.  high-five to beating jet lag \n",
            "meditation   gorilla simulator: you need to do to adapt to the environment. the need to tear the city. mate \n",
            "from our pastor. join us tomorrow at libey city church of christ. morning worship am, afternoon worship pm. \n",
            "it's friday tmrw and there's no new episode of greys to watch.  \n",
            "i cannot wait to go see finding dory! ðððð  findingdory cantwait  \n",
            "hooray! have been selected to review an oralb toothbrush! ðð   wonderwhatone reviewer\n",
            "this looks like the night shift at your local newjersey diner. spiceworld   \n",
            "i dont know why bad thing happend   bad moment hate life not_lol\n",
            "rain or shine. ..this treasure hunt is gonna go down!! ottawagiveaway  \n",
            "  user any man can be a father, but it takes a special person to be a dad   father's day\n",
            "model   i love u take with u all the time in urð±!!! ððððð¦ð¦ð¦  \n",
            "  user  user end times... i'm staing to wonder if god has totally turned his back on america.. this is sickening...    user\n",
            "i pray the lord either saves the westboro baptist church with the true gospel, or crushes them for the sake of the true gospel.  \n",
            "tuesdaymotivation the truth about being   or $ back. success  â¦ â¦ â¦ â¦ â¦ â¦ â¦ â¦ â¦ â¦ â¦ â¦ â¦ â¦ â¦ â¦ â¦ â¦ â¦ â¦ â¦ â¦\n",
            "thunderball - thunderdance ()  cd   hardcore oldschool techno vk download here:  \n",
            "stoked to go camping ð»ð camping  \n",
            "decided to get jeff and i tickets for the new tules movie tonight. ð  \n",
            "an positive quote to have a nice thursday: life is like a mirror if you smile at it it smiles back :)  \n",
            " user they don't want to label the place a \"gay club\" for staers...as trump would say,  \n",
            "i finally found a way how to delete old tweets! you might find it useful as well:    deletetweets\n",
            "solid set if i may say so myself. that was fun ... and im still   needinesslevel . standupcomedy\n",
            "people aren't protesting trump because a republican won-they do so because trump has fuhered  &amp;â¦ \n",
            "here's your feel-good story for the day. &lt;    love dogs kids\n",
            "  &amp; grateful that money comes to me in increasing quantities from multiple sources on a continuous basis \n",
            "sometimes i just gotta list it out ð   inthesunshine\n",
            "  user sacred piano musicproducer musicproduction electronic electricmusic aist music  â¦ \n",
            "seriously what is going on with ?  \n",
            "food with friends. food life   friends \n",
            "  user so annoyed i didn't get this hoodie from  user when i tried it on and now i can't find any xs anywhere   \n",
            " user  user congratulations for making ghana proud... you are our black star. more love,   daddies day sark\n",
            "being successful and   as a mom, professional and grad student is enough to show women rock! likeagirl\n",
            " user  days to go ððð   concecountdown ððððð\n",
            "  user cleaning the apament before getting a friend over from finland today! =)  \n",
            "how's the serenity?!? pure magic top of mtbaldy   hikingadventures   mount baldy , ft \n",
            "you hate blacks enjoying being black,  user ie. miscegenation.    user  user  user  user\n",
            "  saturday  user  user  user   user  user &lt;== listen to their music follow them sigam-nos !\n",
            "âthe worst pa of success is trying to find someone who is happy for youâ -bette midler quote handmade   success\n",
            "oh my god ð­ð© poor baby  \n",
            " user    bird okweworkofficehouse  watchmkwork  delatejpayas groupononwin openepx greegewekaziquee \n",
            "when you lose a snap streak of  days..   crying how\n",
            "wishing my lovely dad a very  fathersday - love you millions! &amp; i hope you like you present! ðððâ³ï¸ðâ¤ï¸ððð fathersday lovetoall \n",
            "just like , waronwomen, &amp; guncontrol  user need russia to be the bad guy as an excuse for their bad ideology tlot p\n",
            "summer is only a week away! summer chinup summer   countdown \n",
            "imwithher? hillary clinton took money from islamic countries and remains silent on treatment of muslim women!   \n",
            "begginer.... ððð  ilovea ilovepaint mayma enjoy   paint instaa instaloveâ¦ \n",
            "only spared the embarrassment of being closed out in game  by nba league manipulation.   \n",
            "got our tickets for findingdory!!! ðâ¤ï¸ findingnemo movie premier ellen   excitingâ¦ \n",
            "everything i've seen about this game so far makes me feel like they're doing things right. can't wait   \n",
            " user  user we need to â these universities from indoctrinating our children turning them to idiots &amp; snowflakes &amp; \n",
            "i wanna go shootin w.my bro in ut, when i go back next mth.  \n",
            "links from twitter used to be free ð£   \n",
            "now playing  :  lee blaske - \"  - through the mirror - pa \" on    melancholy   melancholymusic\n",
            " user  user  user come back to corset talk in my mentions.    i got a very cheap one off ebay. costume. ~\n",
            "getting to know our acts:  user is on sunday at .pm/.pm/pm/ and .pm...only  days to go!   \n",
            " user why is the crew between takes denying an old man carrying groceries home from crossing the street?   \n",
            "ready to sta my new job!   iew i dont use hashtags wtf\n",
            "hobi's face looks like 'omg, this is a disgusting experience'   \n",
            "are you black &amp; feel like the  are stomping on you? â¦  retweet tampa miamiâ¦ \n",
            "  user how to get hyped: remember  user tour in november   w/  user\n",
            "ð love instagood photooftheday top.tags tbt cute me beautiful followme   followâ¦ \n",
            "so   i have the beach  here on days like these just roll around in the sand like a bum and get wet!\n",
            "for the first time â²*ï¾   day thankyou ooyama firsttime eyelashes miq ðâ¤ï¸  ããã¨ã¯â¦ \n",
            "now playing  :  alexandre desplat - \" river waltz (piano solo)\" on     music song \n",
            "great qualy for both  user and i, pole position for the  user bentley! great job by all at  user  !!!\n",
            "payintheusa   polar bear climb racing: angry polar bear climb racing, the polar bear living in cold place \n",
            "tomorrow is my bihday   bihday shaterirunnels\n",
            "this is shoking and it isnt fair ripchristinagrimmie greatvoice awesomesinger   shoking \n",
            "  user two of my favourite people wedding hendersons   love   heskin hall \n",
            "selamat malam ð¹  afteryouthworship  sunday fullblessed \n",
            "be sma and sexy &lt;   alicrytrinkets beautiful   thegoodlifeâ¦ \n",
            "tattoosleeves   gorilla simulator: you need to do to adapt to the environment. the need to tear the city. m \n",
            "this little guy was too cute today ð   travel pet pets nature cute   dog dogs catâ¦ \n",
            "disneyð­ð°ð¸ðãã  disneyland  enjoy    å¶æ \n",
            "  new year from ukraine!   \n",
            " user  user mr. paris dinnard...is in denial... smh  \n",
            " user  user me too she said a way to follow her.by some other name but i didn't :(   she is proly doing good n lookin good\n",
            " user when will you announce the next production?   :)\n",
            "history will not be kind to those who enable the corruption,  and misogny of  user and his embâ¦ \n",
            "when your campers decide to work at camp!   imold\n",
            "i am inventive. i_am positive affirmation     \n",
            "bard  marocan teapot  designed by elhabiba marocdesignatourisme loveamsterdamparislondenitaly \n",
            "helping kids cope with   feelings: workbook for home, school and counseling  \n",
            "  bihday later for my lovely sis love chocolate our favorite cake mochaâ¦ \n",
            " user allahsoil people around the world are afraid. the world is primed to react.  â¦   emiratis â¦\n",
            "  user industrial waste in ganges is less harmful than a hindu having a dip in ganges is the sickular libral logic.  n sorry â¦\n",
            "happy visitors  user customers   mahome pillows marioaavia costarica home decoration textil \n",
            "orlando can't get a break   \n",
            "monica and tessa is happy since she is blowing hard! on facebook: tessa monica since   blowing \n",
            "at gymðª.... things that happenâ...   day gym gymtime goodvibe love peace energyâ¦ \n",
            "  user fashion it is a true   fact\n",
            "  user thanks  user the autism film plans are hotting up  ! your &amp; andrew's hard work is coming together xx  user\n",
            "check   user - the kids will be   to see you back too!    user\n",
            "i am thankful for my best friends. thankful positive     \n",
            "orlando, fl has taken so many l's this week  \n",
            "anyone who says sunshine brings happiness has never danced in the rain. dancing   neoballet\n",
            "me   now or never -  \n",
            "they'll never understand ^^ . . perfect_sad_boy   boy love k korean kpop arab_exoticâ¦ \n",
            "as a leader someone is always watching i gotta always keep it real with myself first-me first me first  monday yall\n",
            "how to get hyped: remember  user tour in november   w/  user\n",
            "if that brock rapist wasn't a spoiled white kid his ass would've gotten  years merica  \n",
            "be   and stressfree! free intro to vedic meditation on sunday july , -:pm at  w th st, in chicago chicagomeditation\n",
            " user the real jeff sessions.   neverump swampmonster  \n",
            "exciting stuff happening!   kareoke havingfun lol thank god the music was loud cause i'm a terrible singerðð \n",
            "  user chill relaxing piano music to keep your pet quiet and   during julyth fireworks  â¦ â¦ \n",
            "  bihday to this man with great humour \n",
            "awww yes i love it ðð \n",
            "imso  about somethinðð»ðð»ð¯ð¯ðð»ðð»âð½ð\n",
            "show some compassion  user  user  \n",
            "model   i love u take with u all the time in urð±!!! ððððð¦ð¦ð¦  \n",
            "hard-core gamer goes mental playing bo   \n",
            "im kind of miserable and it feels permanent but it's whatever.   grunge quotes depressed  \n",
            " livelypics: loving someone and being loved in return makes wounds heal faster, due to the release of oxytocin in the blood.   motivaâ¦\n",
            "  user there are no flying elephants ! i'm butterfly ...ðððð   ð \n",
            "love this tshi pokemon nintendoe e for men and women hypebeast youthday thursdaythoughts gift \n",
            "runway lights almost brighter than sunset now ð§ goinghome   ibiza \n",
            "   th bihday to her majesty the queen, queen elizabeth\n",
            "germanyhetalia   bull up: you will dominate your bull and you will direct it whatever you want it to do. wh \n",
            "my jogging along the waterfront ðð»ðªð»ð adorable! ððð vietnam nhatrang   run awesomeâ¦ \n",
            "life is a story, and this is my history ðð . . . asistenapoteker fun smiles   ladyâ¦ \n",
            "ak friendly media ( cr adveising) doing all effos to suppo diy game of ak.  shame paki gangsters. \n",
            " user thank you!  wednesday \n",
            "omg. the  letter spos network keeps track on how many baskets stephen curry makes in warm ups!  \n",
            "  user harrystyles onedirection dfana   d i love harry with all my hea:)  user be happy, my dear:))) \n",
            "  word chalka at temeculaafestival chalkfest in oldtowntemecula temecula inspirationala \n",
            "god please see me through in this hard times that i am currently facing...   tdigcomms\n",
            "relaxing because my weekend is about to get busy!  \n",
            "  father's day  love you guys  sabaâ¤ï¸  hamed   newpoâ¦ \n",
            "when you're hungry af &amp; tired af at the same time so you have no ambition to go get foodð­ð­ð­ð­  \n",
            "it feels good to be lost in the right direction - enjoy your walk :)  happy friday   noto enjoy   friday \n",
            "  user tiny crown floral photography, an image  b   by! imagine   user  user aforall \n",
            "when you broke and broken. can't even see the bestie.    user\n",
            "what you gonna do?  \n",
            "  user its my bihdayâ¼ï¸ð¤ð½ð  bihday to meðð¾ \n",
            "model   i love u take with u all the time in urð±!!! ððððð¦ð¦ð¦  \n",
            "  user being   never goes out of style! :) \n",
            "  user how do you make a kleenex dance? ... put a little boogie in it! dadjokes   fathersday wonderfulwakey\n",
            "inspired mornings, hustle hard for what you want!! beauty beautiful   motivationâ¦ \n",
            "  user i am thankful for good nightsâ sleep. thankful positive     \n",
            "  user will do another show in december in anaheim ! stay tuned !  user  \n",
            "a nice way to wake up in the morning :) dog   cute  petsofinstagram  user \n",
            " user oh my gooooodddddddddddddd â¤ï¸â¤ï¸â¤ï¸â¤ï¸   celinedion â¤ï¸â¤ï¸â¤ï¸ \n",
            " user feminismiscancer feminismisterrorism feminismmuktbharat why  malevote is ignored   user\n",
            " user  user  user popefrancis called out  xenophobic trump so why would  user catholicchurch suppo\n",
            "go like and subscribe trying to get this out there !! youtube hairbundles hair   \n",
            "don't ever be afraid to show who you really are, because as long as you are   with yourself no one... \n",
            "model   i love u take with u all the time in urð±!!! ððððð¦ð¦ð¦  \n",
            "awesome. black man gets kkk members to disavow by befriending them   blacklivesmatter\n",
            "  fathersday dad  user \n",
            "now playing  :  fariborz lachini - \" soghat (solo piano)\" on     music song \n",
            "lol these pasty cakes telling the rockette to quit b/c of her choice  not to suppo your  asshat president is pure comedy. weirdos\n",
            "costacupping day  - i don't have kids. but this little one is like my daughter.   fathersday to all... \n",
            "come and get it!!  ford mustang usedcars houston texas suv mustangcoupe sale   thursday \n",
            "i'm   for the weekend and i will sing to my hea's content \n",
            "friends forever   saturday mylove mcdonald coffeetime hotoutside metroåwiätokrzyskaâ¦ \n",
            " user dat true wit nothing bt uyindoda  farhers day\n",
            "the best kids bihday pay entrance ever?? spiderman bihday  ! spiderdad \n",
            "pens fans are  \n",
            "my baby is in the best mood this morningð baby sister   playful love \n",
            "when sisters love their friends more than their own siblings.  \n",
            "boasty tuesday last night....   \n",
            "model   i love u take with u all the time in urð±!!! ððððð¦ð¦ð¦  \n",
            "president mahama, sadly, lost his dear mum last night. my condolences to him and the bereaved family.  \n",
            "  user this about something that makes you happy for  seconds. retrain your brain for happiness   \n",
            "enjoy your weekend! weekend friday   teacher teach school relax \n",
            "brookelle bones longporn   hardcore compilation  \n",
            "sunday mood . ð·allanxreyes  . sundays moods   weekend love fashionphotographyâ¦ \n",
            "ð â½ï¸ ð ð love instagood photooftheday top.tags tbt cute me beautiful followme  â¦ \n",
            "it doesn't look like, i'm going to sta on my marsterdegree  this summer.. :(    so now i'm lookingforajob !   wish me goodluck !\n",
            "the boston globe's full front page features an ar rifle and three words: \"make it stop\"  media newspaper  \n",
            "thank you  user for my new sho curly locks!!! i love my hair! sho tame newme fresh   thankful ðð¼ðð \n",
            "â©the snaparazziâ¢: dorset durdledoor england goodmorning sea landscape beach fun   spring summer \n",
            " wheniamalone alone  lonely noonecares ness upsetting dipressive stay_strong  does anyone else... \n",
            "dalton's upcoming album will be freaking dope!! â¤ï¸â¤ï¸â¤ï¸â¤ï¸   soproudofhim\n",
            " user allahsoil thereâs no such thing as an average christian, or muslim, or jew.  â¦  â¦ \n",
            "  user america is feasting on sensationalizing this tragedy it suppos it's greatest agenda islamic hate and lgbt suppo  \n",
            "  user g+t in hand watching wheeler dealers restore a jag mk  !! perfect   father's day cheers \n",
            "oh yeah i found the perfect bihday cake for  user ððð    bihdaylivmorgan â¤ï¸ \n",
            " user  user life was fun while it lasted; any last werdz?  sorry   victim accident\n",
            "you know you've reached a new low when the man who delivers your pizza knows your name   ineedtoworkoutagain\n",
            "corrieeeeeee time!!!!!ð    user\n",
            "feeling down, hate when things kick in like this. family is right, luv is just not within my grasps. after so long there bak feelings  .\n",
            "he brings out the best in me husband   inlove\n",
            "and sometimes i just wanna be a pa of  user little family â¤ï¸ð facebooklive   summer pool aww iwantthat\n",
            "  nd bihday to westbridgford group of athenanetwork savvy energised suppoive womeninbiz proud \n",
            "a true, loving father will always be there for children when times get tough   father's day nathancreations \n",
            " user  user yes, and he did it for the least noble reasons too. and it backfired for him, so now we all have to suffer!  \n",
            "road trip!    user \n",
            "  user  user all set for first  user  user ballincollig  cork running   \n",
            "twitter is a crazy place. nobody knows shit about jocox's death &amp; yet everybody's giving their sick take on why and how it occurred...  \n",
            "look at what's landed on my desk this morning ð  â¦ \n",
            "the all-new jaguarfpace on its way to jaguarstb!   comingsoon jaguar fpaceâ¦ \n",
            "  user lol... ask again no please \n",
            "tattoosleeves   gorilla simulator: you need to do to adapt to the environment. the need to tear the city. m \n",
            "i am composed. i_am positive affirmation     \n",
            " â united kingdom boe asset purchase facility meets forecasts (â£b) in june   blog silver gold forex\n",
            "still waiting for word on the new house, vendor wanted overnight to consider offers nervous   needahouse\n",
            "like msian opposition and their claim that bangladeshis voted for bn. no evidence yet people believe it anywayâ¦ \n",
            " user will be a broken pay come late november!  user will be defeated after insane campaign &amp;  user will be blamed!  \n",
            "takemeanywhere got a speeding ticket trying to meet shia in stickney, sd. didn't get there in time.   day\n",
            "archetypal flame - happy father's day en   father's day love light agape dia padre \n",
            "google has bn racist for ages...d world is just catching on...  \n",
            "big night for harnessracing !!!  michael's power is in tonight!  user   goodluck ðð´â¤ï¸ðð´â¤ï¸ \n",
            "amen   but true  man is the worst animal on eah \n",
            " user boycotttigerwoods. stop normalizing  user  antisemite bigot  \n",
            "sometimes i feel that i have given too much rights to others to take decision about my work that's why the are not responding to me...  \n",
            "last night at the  user pa of our group was refused to be let in. they weren't drunk, but they were all black.  \n",
            "good morning awesome people music love announcement share super   this will beâ¦ \n",
            "happiness is living in the moment... ð   ð\n",
            "shark week stas in  days!!!! sharkweek   lovesharks\n",
            "ð photo of the day! . . . . . . . . . .  .  toptags days top.tags dayâ¦ \n",
            "the title of my autobiography. \n",
            "spend quality time with this awesome guy and my sweet pet :) blessed loved   \n",
            "zionism is a form of   user\n",
            "we have no more privacy, no more free choice! yet everyone is satisfied with this way of life  \n",
            " user most governmental municipal issued statement condemning shooting in orlando...why haven't we heard anything from mg?!  \n",
            "  user i was made an honorary poll worker by gretchen knauff and connecticut p&amp;a!   itslikebeingknighted ndrn \n",
            " user  user bill, liberals love their bleeding hea hashtags   imfragile\n",
            "  seeks probe into udtapunjab' leak, points finger at amarinder, aap  \n",
            "  mind  happy life! marrerocollection quote behappy behappywithyourselfâ¦ \n",
            " user allahsoil there have been three stages of empire: imperialism, colonialism and neocolonialism.  â¦â¦\n",
            " . crooked hillary is still not in prison.  hillary must have some really good stuff on obummer. never hillary \n",
            "it's   you can't be nice to everyone ......\n",
            "have a great time medenscouts.explorers and thurs beavers looking forward to their  user adventure  in sept \n",
            " user  user totally agree sarah, i turned it off, my tv was in danger of being damaged. and i need it to watch  user  \n",
            "june/ninth/sixteen  a by me.  anime manga a drawing imagination original digital    user \n",
            "frendshipteamwork together banker_hitsbankerhitsbanker photogridback hardagainâ¦ \n",
            "ð»ð»ð»ð» / /    news  tomorrowânews live tour quaettoâ¦ \n",
            "tickets booked to watch derren brown next month ðð   makingmemories\n",
            "  user damn my life is pretty awesome right now... kids are great, bills are paid, about to get married..  \n",
            "smile because every day is a good day ! pimpjoy   blessed love \n",
            "we have the same height now....time flies... ððððð japan familytrip  â¦ \n",
            "it's almost impossible to find an lgbt friendly university in texas with a good music program...    ð\n",
            "although it's been a tough few months personally, everything is falling right into place now. ð blessed  \n",
            "put on the lord jesus christ, and make no provision for the flesh. romans : good morningó¾°â   independence day.ó¾°ó¾®\n",
            "you wouldn't want to miss 'bit of both' at the leather bar on saturday!   hours: - pm! contact . \n",
            "a drunk lady falls on a heater in pubfriction &amp; an my indian friend is trying to help but he is being thrown out.  houston midtown\n",
            "weekend fun with my girls sunday blondie smile   ððð¸â¨ðððð·ð \n",
            "lolðððððð±ð±ð±ð± hairfashionsmileselfibunknotsphotoofthedayphotoshoot nicelikelikepin \n",
            " user is this the real aungsansuukyi?  rohingya genocide persecution  asean burma myanmar rape humanrights httâ¦\n",
            "morning world...   together \n",
            " user  user yes she is!  \n",
            "lauren deserves the best. she's such an angel and she always does her best to make others happy. some people don't understand that...  \n",
            "dealing with   kids! parenting therenewedfamily  \n",
            " user   to connect with you as well! thank you! you can also visit me at my website  see you there! :)\n",
            "was a very good day!thank you my dear friend! friend peace world summer   ukr rus arm love meets \n",
            "i am graceful. i_am positive affirmation     \n",
            "  user very   blackheathstandard summerfair ð  user   user  user  user \n",
            "so chuffed to meet  user at surbiton. of course he won! a true gentleman on &amp; off cou teamdreddy   \n",
            "vintage anchor necklace &amp; pendant ... gbp . get here:  shop cool   home fun \n",
            "this week i lost my gf, mexico lost, my little brother lost, and golden state wanna suck and lose too!!!! badweek  \n",
            "beauty   bull up: you will dominate your bull and you will direct it whatever you want it to do. when you s \n",
            "the finals and new gambino in my life all after an amazing weekend ð \n",
            "  user  user  user  skeptical of isis. could well be u.s brainchild created to maintain strife for oil theft. tragedâ¦\n",
            " â us: inflation continues its gradual climb - wells fargo   blog silver gold forex\n",
            "free || polishgirl instagirl blond colorful festiwalkolorã³w free   goodday goodtimeâ¦ \n",
            " user  user i've been trying to get info on the vigil here tonight and glccb doesn't bother to update anything !   verysad\n",
            "continuous rain in london nothing but sunshine in eastbourne though!   to be home happy to live by the seaside !\n",
            "it's jun   throwbackthursday watermelon burst watermelon stripe manis and pedis adult and juniors \n",
            "i just joined gishwhes!!  user  user gishwhes  \n",
            "thousands suffered :( please watch   tragic news news ale â breaking news \n",
            " user not a single sign anywhere in the park indicate or warns about alligators in the man made lagoon .  devastating &amp; tragic\n",
            " â usd/cad headed back to . as oil recovers   blog silver gold forex\n",
            "father's day is coming &amp; my depression is rearing its ugly head. focus on my sweet husband, it's his day.   \n",
            "everything is looking up  \n",
            "  user  habits of people who are   at work. is workplacehappiness within your control?  \n",
            "  user ð (not mine) broken brokenheaquotes brokenhea heabroken heabrokenquotes  quotes  love \n",
            "finally got some more headphones &amp;&amp; it feels like i got a whole new phone ð  \n",
            " user it's been bad for a while now  \n",
            "you know what's worse than suffering from depression &amp; anxiety is someone making you feelbad for having it   hu tired needahug\n",
            "we're gonna watch conjuring  today w/barkada! ððð  \n",
            "brewery happy hour continues.   user  beers &amp;  mini apps for $.    lupus \n",
            " user icymi yesterday -  this is what one peh venue offers for nye enteainment rapeculture    vaw    \"some... htâ¦\n",
            "can lighttherapy help with   or depression?    altwaystoheal  healthy is happy !! \n",
            " user there is only one requirement for the job of the us president: being male stillwithher hillaryclinton neverumpâ¦ \n",
            "rickerby walks walking boyfriend love   ð¬â¤ï¸  \n",
            "aww yeah it's all good bing bong bing bong   \n",
            "day : shawn has a little sis! aaliyah! ( seriously, i wish i was his sis...  ;( )\n",
            " user the term  works both ways for those of you all too happy to keep bandying it about!! justsaying\n",
            "tomorrow is my son's nd bihday pay!   bigboy years\n",
            " user my cats are one of the greatest things ever! they make me so happy. depression cats anxiety mentalhealth   meow\n",
            "i made it to the gate way of nohern mindanao, cdo!    cbrclecture despitetheearlierdilemma \n",
            "bruh  &amp;  are nothing new... that whole deltaairlines debacle would've went downâ¦ \n",
            "  hardcore top  best ever nude descending the staircase no   \n",
            "tomorrow i might have a first date with my future ex husband &amp; large divorce settlement...just playin ð im   \n",
            "oh my god  more days lads &amp; im off to meet my dad for the very st time nervous emotionalwaitedmywholelifefohismomenttinkofmex\n",
            "before &amp; after makeup withoutmakeupselfie lips glitter red glasses   blogger realâ¦ \n",
            "  user tickets purchased!! roll on march!!!!  \n",
            " ness motivation mood thevioletmonkey aforismi citazioni frasi coaching \n",
            "babies   evenflo maestro harnessed booster car seat - provo  bouncingbaby\n",
            "last lecture algorithms datastrucutres was given. all my students passed! see you all next year!    lecturing informatics\n",
            "i've just had nearly  hours straight sleep. feel reborn. sleepdeprivation mumlife wantmore   love babylife sleeplikeababy\n",
            "basquetball workout pvi jersey   love inspiration loading nike   fairfax, virginia \n",
            "single motherhood day / : he's home. the smile in my daughters face when waking up and seeing daddy: priceless. thankful  \n",
            "photobooth   gorilla simulator: you need to do to adapt to the environment. the need to tear the city. mate \n",
            "model   i love u take with u all the time in urð±!!! ððððð¦ð¦ð¦  \n",
            "sharing space with olympians!keep watchingstarspos user  user  user   \n",
            "retweet if your   about myminecraftrobot season !  \n",
            " user can't just apologize. she is willing to hu a family and make excuses for her actions instead of just apologizing   rhod\n",
            "twitter mentions for manor:  -   user   rain   manor park railway station \n",
            "thinking about....âºï¸happymad   confused here tokyo makemehappy amazingpeopleâ¦ \n",
            "\"she made broken look beautiful, and strong look invincible\" - -  ariana dancu   â¦ \n",
            "  user stop looking for reasons to be unhappy and think of all the reasons you have to be   instead.\n",
            "is  user trafficking in ?  user &amp; his \"for profit\" use of the word nigger to sell music  user  user  user\n",
            "thursday is my friday   weekend\n",
            " user me to   days\n",
            "i finally found a way how to delete old tweets! you might find it useful as well:    deletetweets\n",
            "tragically we have yet another cat who is upside down. researchers are still unsure how this can be resolved.   \n",
            "  user are you having as nice a day as these happy grapes? weekend sunshine sun grapes saturday fun   wine \n",
            "wish i could just either rewind or fastforward to whatever   time period exists. or will exist. tired of heaaches right now!!!!\n",
            "pampered af. yay! ððð   sml dmpeel dermcare mask facial vsco gift to self \n",
            "  user \"chansung-san said he likes all the songs.\" loveletter  ð¼ \n",
            "check it out!  user   pleasure records amazing  user \n",
            "school why u do dis? :( school ugh why no   teen girls guys\n",
            "just wrote a chapter of book . i know im the author but im getting wrapped up in the universe  amwriting writing writerslife  \n",
            "igers  instadaily      spin casino slots\n",
            "two   little owls!   \n",
            "broken   buffalo simulation: buffalo for you to take in the vicinity of their homes to do. in this way, you \n",
            "balloons and batman smiles balloons   smiles brucewayne batman icon legend hero dcâ¦ \n",
            "my best days are ahead of me. grateful blessed   \n",
            "break ðð¾ð¦ðð¾ dorisrouesnespahammamsaunafrancebreakmodelfitnessafterspostrenghbefithealthy  \n",
            "i would like to say happy father's day to my heavenly father ....   father's day to all of us dads real dads... \n",
            "is it true  user that there is a story mode ?!?!?   fifa fifastorymode\n",
            "but not reading my dms!!!!!!!     \n",
            "katiesikphoto is proud to present thesexismproject team!  user  user  feminismâ¦ \n",
            "get up get   get  enjoy music today free apps free music \n",
            "last night i wrote over , words. now ahead of my daily goal!. amwriting writerslife   \n",
            "  user have a great day ð \n",
            "i am thankful for inspiration. thankful positive     \n",
            "  user me on payday   life payday style great awesome feelgood \n",
            "  user enroute  user awards night! super    user  user  user  user \n",
            "  user shoe shine booths are in trend for retail events but they're not being used effectively, this one was quiet.   \n",
            "just now watching season two of daredevil ð¬  \n",
            "champions onp jazz dance dancer   \n",
            " â united states continuing jobless claims came in at .m below forecasts (.m) in may    blog silvâ¦\n",
            "  sick  pakistani teen burnt alive by her mother for choosing own husband  via  user\n",
            "niggas know they took us from our homeland and denounced our ways as savagery..n we still some jesus praising,  name brand dependent ppl \n",
            " user   blogger food love lifestyle happiness figure perfect style cleaneating bodycleanse smile  \n",
            "can't wait for tonight and next  user event! who else is coming? ððð delhi newdelhi polishgirl foodie meeting  \n",
            " â usd/jpy bounces-off . as nikkei recovers losses   blog silver gold forex\n",
            "hrs stand between me and a plane to zante âï¸âï¸ðð¢ð¹   girlyholiday bestfriends relax\n",
            "i forgot what day it is. i'm at chick fil a  \n",
            "operation 'surprise parents' was a great success ð now to chill with the family :)   weekend familytrip  chilled\n",
            " user allahsoil culture is like the horizonâalways in view but never in reach.  â¦  â¦ \n",
            "went to shift for the last time for a long while.   movingon byedenton\n",
            " user i am just waiting for somebody other than you to call me a . i don't see anybody doing it.\n",
            "my first steps in the sahaja yoga ^_^ &lt; ^_^ &lt; i am so happy and amazed !!!!! i love meditation (sun)   \n",
            "hey beautiful selflove beauty yourebeautiful sexy   california \n",
            "can't wait to sta boxing ðð¾ð  \n",
            "  user i came to realization that i am about to desensitized by gun violences in this country.   prayfororlando orlandoshoâ¦\n",
            "facebook   attack bull chase: when you leave the lot despite the fact that you're a strong source of fo \n",
            "  user  user     happy â\n",
            "trump plagiarizes tweets? ah that donthecon, relentlessly bringing his trumptaint to the gop.  ! \n",
            "getting the west spreydon yr / kids ready for  user    user  user \n",
            "akarinselect pick-up ã  mother's day...     user akarinselect ããããã»ã¬ã¯ã \n",
            "accidentally met one of the most beautiful actors and glorious men mr.  user !  â¦ \n",
            "yay logan can now ride his bike without stabilisersððð   proudmummy\n",
            "(bankai fam ) gstats - i get it on ( produced by venom) official  via  user   bankai friday worldwide\n",
            "i need to wait for my hair to grow longer before going black.. ð omgggg.. â¹ï¸ i can't wait...  \n",
            "the alt-right movement is like:  mustfall \n",
            "  father day ó¾¬\n",
            "loving the about page! put some viva zing into your life.  \n",
            "tomorrow night.... watch this space! silence music musicvideo   baranovas \n",
            " user  user seriously how could you just let that happend ?!  wake up usa... horrified homeless  \n",
            "prince charles offers a \"danger will robinson!\" he ain't wrong. trump fascism   \n",
            "when you can't help but grin in a pack of  strokes. ð moped rally omaha rallyofthecorn   motorbike \n",
            "resiliency for life: why are you  ? \n",
            "waiting for mammamia  user   \n",
            "gotta say it, but this is why i'm remaining. too risky to let the loonies run the asylum. and there are plenty of them. eureferendum  \n",
            "well which one?!?  lol   haha \n",
            "more love less hate!   lapride friends   weekend westhollywood boys sundayfundayâ¦ \n",
            "ict exam today  \n",
            "whenever am late, traffic will be heavy. vehicles always coming from opp side just as i am about to do an oveake many times..  \n",
            "  fathers day!  user  user  user  user  user lasvegas fathersday\n",
            " user patriotwatch: . nooltham   eltham refugees auspol   asylumseekers rwnj â¦\n",
            " user  is not a problem in america today.  dumbism is.  dumb is an equal oppounity killer of dreams.\n",
            "mr wings has a  page spread in a magazine that has just come out and is all sad because he isn't the coverboy lol  \n",
            "woke up this morning  the horrific news fr orlando .i don't give a fuck if u r straight or gay or â¤ï¸goblins with green hair no   this  \n",
            "friendzone...  friends bonding gettogether squadgoals   goodfriends likeforlikeâ¦ \n",
            "i love shift dresses. so much. but that's the one dress you can't pull off with an hourglass figure. hips &amp; shift dresses don't mix.  \n",
            " user you anti-whites brag about our \"inevitable brown future\" then scream \"\" when we oppose it. you're pushing whitegenocide.\n",
            "music is the only escape for this generation of teenagers. ð¶  citation quote teenagers music   reality escape\n",
            "you disgust me \n",
            "the house that for months had a bernie sign in the yard is now sans sign but the car has a hillary sticker. subtle concession?  \n",
            "my sleep has been so good recently:) im  \n",
            "i couldn't agree more! \n",
            "love being gagged! \n",
            "so   to have been able to go to a braves baseball game atâ¦ \n",
            "this one is super challenging.   urbacity yyj runvi yyjevents superhero fun  â¦ \n",
            " user +zig zag way is show b proud of top cast+great backstage team lovely script awesome music encore cornish powerful funny  \n",
            "they have to ... everyone's carrying it - they just doing something different ð \n",
            "so unbelievably unprofessional, unhelpful and rude  user  the shine has well and truly been removed from stephen's new suit.  \n",
            "  user usually run much fuher than a mile. at least it's a race that will be over quickly! runcitymile   racenerves\n",
            "monthsð  many thanks to you!!  saturdaymonthscouple ð instagoodlikelike \n",
            "sure sunderland isn't alone.  incidents in sunderland more than double after brexit vote \n",
            "(new york post) real life   bird is at large : this bird is not in the mood to play..  \n",
            "happy sunday from bali's most beautiful beach bali greenbowlbeach  sunday â¦ \n",
            "summer, where are you????âââââð­ð­ð­   badweather rainingâ rainâ stormâ weatherâ thunder lightningâ gutted wheathersucks\n",
            "i think now my wait is going to be over, i really missed mereharjai but now mainbushra is coming to fill that absence  user   \n",
            "  user when you finish season  of  user and have no clue what to do with your life...... user howlongtilseasâ¦\n",
            " user feminismiscancer feminismisterrorism feminismmuktbharat why  malevote is ignored   user\n",
            "no matter your 'opinion' , hate has no place in this world.  it is time to teach our children to respect.   \n",
            "it's so hot i'm happy lol ðð green warm   lala   aliso and wood canyons wilderness park \n",
            "  for tomorrow i'm cutting my hair ðð»ðð»\n",
            "gorgeous model_toie looks wild &amp; sexy, follow victoria now &amp; check her out at  x model â¦ \n",
            " user  user -- christian senator prays for president's death and this is what frank tweets about.  \n",
            "boom another car company going electricvehicle on the world! futureofwork entrepreneur i'm   \n",
            "  user  user  user you best stick to selling younique. you're not a writer but you are a theif.  \n",
            " user  user my best friend   sunday \n",
            "share laughter with your dad for the happiest fathersday ever! \n",
            "epic night  user &amp;  user lush food and sweet music! london balham pay dance love positivevibes music food  \n",
            "when all ur besties are spending the day &amp; night in newcastle and ur off to workð¢ð¢  \n",
            "happy at work conference: right /mindset leads to culture-of-development organizations    work mindset\n",
            "sold out  weeks before the event!!   \n",
            " user  user yeah.   nervous wbu\n",
            "  user  user your king suite is stunning, service is outstanding, and the welcome gift made my day.  keep being awesâ¦\n",
            "whoever thinks that money doesn't buy happiness can deposit it into my account. k thanx. ð money   thankyou\n",
            "  user ramadan mubarak to all muslims all over the world...may this blessed month be full of love...ðð»ðð»ðð»   faith \n",
            "great positive feedback, positive ððð¾   ðð \n",
            "current mood!!!! workingout goals   igotthis devoted âï¸ðð½ð¥ðð½ðâ¤ï¸ððªð¼ð \n",
            "be   n healthy you give before you get. â napoleon hill \n",
            "he isnt attracted to asian women. sends me a pic of a korean woman and says they all look the same passing it off aâ¦ \n",
            "ready to roll! instagood instamood   friday friyay dayoff \n",
            "getting my   on! determined aded gymrat liftheavy girlswholift swolemom trainhard noexcuses... \n",
            "my   place ð (  glastonbury abbey in glastonbury, somerset)  \n",
            "happy, joyous and free, not a bad way to live life.   freedom \n",
            "boulder   bull hill climb: you have to reach the target to complete the task to survive. with strong excite \n",
            "got me ticket yay ððstoneroses   \n",
            "  user  user   moments with rush wedeyrush \n",
            "glo on ðð¡ pool poolday summer tan fitness fit athlete sun     tan baby \n",
            " user  to see janella and jerome whhooooasapredstringsunday\n",
            "when you see a fine ass guy but find out he doesn't eat the box and you gotta throw out his potential sheet lmao  ð¢\n",
            "i am thankful for fun. thankful positive     \n",
            "  too - can't wait, first ever experience of watching polo. \n",
            "  user i am thankful for weekends. thankful positive     \n",
            "i am delightful. i_am positive affirmation     \n",
            "i am thankful for knowledge. thankful positive     \n",
            "  user finished work % feeling the holiday holidayvibes double gin    summer sunâ¦ \n",
            "next rotation: operating room  \n",
            "ð´ðð loveinstagoodmetbtcutefollowfollowmephotooftheday tagforlikesbeautifulselfgiâ¦ \n",
            "waking up in the morning has been so easy lately ð   healthy blessed\n",
            "rdm and xia avfc optimistic    roll on august!!! come on you lions!\n",
            " â european monetary union current account s.a rose from previous â¬.bâ to â¬.b in april   blog silver â¦\n",
            "the excitement of ordering a new pole outfit poledance poler poledancer poleoutfit polefitness    healthy\n",
            "as a huge  user fan i'm excited for live stream q&amp;a   midday    via  user gilbeosullivan  \n",
            "immoality   waves lake river live life love nice awesome cool fun   sea beachâ¦ \n",
            "repost from  user  ã»ã»ã» diageorep trying a sweetsmirnoff sourced cocktail.  â¦ \n",
            "  user nice discussions about the use of blue light in the linkedin lighttherapy group. interested? feel free to join! \n",
            "love them !! cherryseason  cerises     photo  photography \n",
            "this so of shit is why there will never be peace.   telaviv hate   \n",
            "travelgirlrussiabussmilefromyourhea daynewlifemoscow please smile from yourâ¦ \n",
            "  user when a former liberal warrior becomes a sycophantic corporate shill.   \n",
            "first day as a  year old. ð june thankful   itsmybihdayallweek candles ð \n",
            "well,  user is folding their tent. they were pioneers in indie book promotion.   to hear.\n",
            "my first comic book!    dontask filmmaking  \n",
            "spray painting adventures in asia:    funk not junk  cook ideas not rice    days \n",
            "can lighttherapy help with   or depression?    altwaystoheal  healthy is happy !! \n",
            ". user fyi since you guys didn't list it on air in the paper today for saturdays race!   \n",
            "it's really happy to be in a relationship again. finally in a much better one, than the first was. :)  \n",
            "even when i don't know how to apply make up to my face i look better than u and ur a mua u wear make up daily.   sigh awwell ðððâð\n",
            " user stands watching again, one of the best. thatssayingsomething not much kit m tho    user\n",
            "friday feeling   weekend weareheretohelp\n",
            "  user just  more episode of personofinterest left... \n",
            " user why on godz green eah did u guys release centralintelligence during ramadan.it wont run till ramadan's conclusion.   india\n",
            "bodrum bodrummarinafriends     marina bodrum \n",
            "- poetry best id ' ishq ' gham ' dukh ' dard ' judai '   ' anso ' lahu '  try + follow  user   user \n",
            "model   i love u take with u all the time in urð±!!! ððððð¦ð¦ð¦  \n",
            "just finished s of oitnb...such a wonderful season!  unexpected   greatwriting greatacting  love  will be anxiously awaiting s..\n",
            "followme &lt;---my poor attempt to get more than  followers haha  \n",
            "oops! carl paladino didn't mean to publicly post racist comments...    blm youngturks\n",
            "i really wish this was me :(   hungry sinner \n",
            "happy father's day from fire and brimstone tavern!!   fathersday alpharetta dad dinnerwithdad thankyou \n",
            "  user  , dancing, smiling, the fresh prince of bel air, will smith, fresh prince of bel airâ¦  htâ¦\n",
            "this girl going to see ozunapr with my hubby yesssss   elnegritodeojosclaro ð¯ð¶ðð¼ð \n",
            "darling if you wish me on poal my name there is \"sexy\" ð  ==&gt;       \n",
            " degrees with a calico. âï¸bigenderð± darkknight kitty   pansexual batman gayâ¦ \n",
            "buffalo   bull up: you will dominate your bull and you will direct it whatever you want it to do. when you \n",
            "always   for new aphextwin music \n",
            "ð¸ ð ð ð smile smiling top.tags toptags smiles beautifulsmile smiley smilee pretty  â¦ \n",
            "fo   attack bull chase: when you leave the lot despite the fact that you're a strong source of food f \n",
            "  fathers day love with all your babies   four seasonsâ¦ \n",
            "cue the violins   sososad \n",
            "the new spider-man game looks really nice... but i know it's going to play like every other spider-man game ever made. ever.  \n",
            " user  user  user those opposed to  negligence hatred injustice climatecrimes ecocide will let trump kâ¦\n",
            " user just ordered two spf with bronzes and lip balm   australiangold\n",
            "mmmmm mmm berserk you just made my day man i just cant wait for the anime and and the new monthly release.  \n",
            "  farm fairy crafts:\n",
            " user they are just attention seekers with nothing better to do  \n",
            "book - enduring conviction: fred korematsu &amp; his quest for justice  humanrights htâ¦ \n",
            "  sunday...  sunday sunday sundayfun sundaymood somethingboudoir celebritystyleâ¦ \n",
            " sex top  porn video\n",
            "  me enjoying the campus rims imphal boyshostel manipur  dennisdebbarma \n",
            "happy pooch  tlpetservices dog dogs pet pets dogsoftwitter dogwalking goldenretriever   pooch cute \n",
            "  world ocean day \n",
            "  fathers day... love u papa\n",
            "tribute tho .  a composition made in favour of one of the goats.   bihday pac . i prayâ¦ \n",
            "thanks for the follow  user remember spafrancorchamps..fun racing tcrseries   \n",
            "lebron making his way into warrior defense like he owns the place. warriors\n",
            "model   i love u take with u all the time in urð±!!! ððððð¦ð¦ð¦  \n",
            "should check out the cityplace fb group. lots of repoed potential bike thieves on it that residents come across.  \n",
            "a little too   there's a starbucks frappuccino filter for  user !!! \n",
            "being happy is about changing perceptions      wrongview   \n",
            "woop woop....glutenfree  user  hobnobs. elevenses' will never be the sama again.   days coeliac  \n",
            "  paddling with the mmolokai sundayth july  maui jim maui jim sic maui sic maui \n",
            "i am so excited for resident evil . it looks like it could be a really good game! residentevil   yay horror\n",
            "- about to sta working on my new blog .     &amp; new content for  user . once this wedding is over its on.\n",
            "horny australian women   pussy  \n",
            "going to cinema to watch findingdory ððð...   caoon disney pixar\n",
            "it happened, folks.  do you think desensitization is a myth? orlandoshooting \n",
            "  user   , education, thanks, hporbust teamgryfindor   just want to wish everyone luck on their owl's this semestâ¦\n",
            "i can't believe how much i used to care what people thought of me now i'm just like \"lol fuck u, fuck you and  wtf fuck you too, bye\"  \n",
            "it's slowly becoming a reality. ðð½ðð  worwic radiology   \n",
            " user  user it's florida...people find gators in their swimming pools.   \n",
            "gameshow   bull hill climb: you have to reach the target to complete the task to survive. with strong excit \n",
            "i am thankful for being able to walk.thankful positive   \n",
            " â gbp/usd losing the grip near .   blog silver gold forex\n",
            "the age of adlaine, love this film!! ðð­ romantic  \n",
            "oh, no! lois duncan died. i met her a few times. she was fascinating, and nice. loved her work.   \n",
            "smdh. and the progressives go after conservatives on this? pathetic   prayfororlando \n",
            "had a really good day. and tomorrow i get to play with my wip all day   writer\n",
            "cow many days before touga boulevard plays genk on stage???   \n",
            "new blog launch. fit fitness health healthy tbt gym workout diet fatloss nutrition   \n",
            "via: ckkosho:  koshobar:   clients - makes us !  back tonight again! doors open pm! ckkosho â¦ \n",
            "sam  b'day hungry \n",
            "this is   hour, like?    user  tanktop&gt; \n",
            "london planning ð·ðâï¸ð¡ð´ð¾  user  user  user  user london londonunderground   girlsday\n",
            "i mean seriously. myhoodrocks concordnh ilovethefinneys concordcoolkids tnflocals iloveconcordbecause   \n",
            " user isis &amp; islam jumps for joy and muslim b. hussein pretends there is no one but christian and redneck nba people to blame.  \n",
            "  user  user  user yay kush! its difficult to wait all the week for weekend and your performances âºð  \n",
            "reading  user book the silent cry emotional   insperationalwoman\n",
            "instamoto   bull up: you will dominate your bull and you will direct it whatever you want it to do. when yo \n",
            "ð   tech bitcoin trader review â is a % monthly roi possible ?  \n",
            "  user today is a great day the astros and cavs won. finals baseball  \n",
            "i am thankful for vaccines. thankful positive     \n",
            "happy living ppt powerpoint slides -   ppt   living ppt\n",
            "  user a little bihday treat from  user bihday cake parkhouse jewellers   weekend fun \n",
            "ootd converse denim tshi  shopping  likelike ll ff instagood  \n",
            " â nist plans  cybersecurity framework update   blog silver gold forex\n",
            "  user you know how to stop being called angry?  stop acting so angry all the time. teamangry lakeoffire ableg \n",
            "  user ok but today was so good bc i realized that i don't have to see any of the fake bitches in my grade for three whole monthsâ¦\n",
            "  user   bihday  user congrats on this! chivasdj lanocheextra ðªð»ðªð»ðªð»ðªð»   capelli's cafe \n",
            "my daughter had asked me to get a medal  user  k imafinisher   lovetorun \n",
            "death is all well and good until the dead one is a loved one. hard veryhard   verysad\n",
            "  user happy as angie's dog theo smile inspire   a \n",
            " user college park md marriott is absolutely useless. please fix this before you lose a rewards member for your horrible service.  \n",
            " user the same affect with drugs   deep depression depressing downinthedumps\n",
            "family fun summer fun kids   kids memorie    new york, new york \n",
            "children often smile at me... it's like they know i need it. or they just think i look funny. either way,  \n",
            "  days porn movie filme pornor  \n",
            "hanging me upside down ð¤ð upsidedown   smiles couple boyfriend girlfriend playingâ¦ \n",
            "exactly my thoughts.    teens poems ness quotes hu alone lostâ¦ \n",
            "i am inventive. i_am positive affirmation     \n",
            "feeling excited now euro come on ye boys in green ireland irelandeuro football   \n",
            "about last night... friends amigos car carro selfie   feliz android brasil \n",
            "can't imagine the horror those parents went thru watching their toddler eaten alive by alligator.  \n",
            "d   polar bear climb racing: angry polar bear climb racing, the polar bear living in cold places looking f \n",
            "  user my hometown    ð¢ \n",
            "  user when i don't find any way  fun love funny friends lol   pay summer cute me smile gif \n",
            "mikesisms upset this is seasonal..   myfavorite \n",
            "most amazing day in my life ð«ðlove   forever\n",
            "as i suspected - men who dumped me all those years ago -now patriarchal old fools. i thank you guys - you saved me from you   spinster\n",
            "thefosters returns tomorrow!!!ððºðð i can't believe it's only  more day to go...   keen  user  user  user\n",
            "what i'm after can't be purchased.    lifestyle spirituality goddess healer holistic peace love  ... \n",
            "thrilled that i'm going to go see  user in bristol reading &amp; southampton later on this year    sumocycouktour  fuelmyfire ðð\n",
            "happy monday fellow tweets n peeps   birdparrotsfeatheredfriends\n",
            "listen up!  user on  user &amp;  user tomorrow at : about this week's show at the electric theatre!  \n",
            "roxy's last day. lol. i'm still very much obsessed with it. wigs fun   byebye \n",
            "trainhard   polar bear climb racing: angry polar bear climb racing, the polar bear living in cold places lo \n",
            "wishing all dads out there a very   father's day! fathersday fathersdayiscoming  fathersday \n",
            " user for us wnyers, he was a hero in those early days. truly. he could do no wrong. he and his team lifted the entire region. ego  \n",
            "car selfie ð  carselfie girlinstaselfie \n",
            "be   n healthy i make music for ears not eyes. what you get out of life is what you put in. â  adele adkins \n",
            "love street style_ gaskids   weekend new collection street style \n",
            "  user and the next will be removing \"god keep our land, glorious and free\"  user  user  user   \n",
            "when  user gets a night in  user % will be there ðð»  \n",
            " user ignorant  pamelaramseytaylor,praised by cretin beverlywhaling,reinstated to her job at state&amp;federal fundeâ¦ \n",
            " user what that he's a celebrated shyster or the fact that these ever proliferating stories only galvanize his constituents?  /true\n",
            "looks like i will be seeing  user tomorrow after all!!   ððâºï¸âºï¸\n",
            "  user we are pleased to announce that we are joining  user parents will be receiving registration texts or emails verâ¦\n",
            "hard work :) backstage lookbook lovemyjob new staff model polishgilr brunette beach sun   fashion... \n",
            "  user  bihday  user nowplaying  user - livin'thing  tunes\n",
            "to all the kind heas in this world could someone please give me their email/password on netflix so i get to watch oitnb i'mbroke &amp;  \n",
            "oh dear!sorry for your loss ivan.may her soul rip \n",
            "shays first camp  user   clawosseum clawsout \n",
            "in the past year or two, i can't recall a more depressing day for news-watching, opinion-reading and political speech--on all venues.  \n",
            "model   i love u take with u all the time in urð±!!! ððððð¦ð¦ð¦  \n",
            "you might enjoy these dark &amp;   toureporn flicks:  | horror subgenres emotions\n",
            "when u find out that a friendship means more to u then it did to the other person ð¡ \n",
            " user taking over from  user village  user   \n",
            " â sudden reversal drags eur/usd close to session low of .   blog silver gold forex\n",
            "sad adult t-shi  swag shioopia quote   \n",
            "knock knock  outside   smiling selfie working infrontofthedoor entrepreneurlifeâ¦ \n",
            "monday i sta my workout routine again! so   gotta get that summer workout staed! âï¸ðªð»ðªð»\n",
            "this whole time i never knew the true meaning until now. ððð¤ funny needsleep   truestoryâ¦ \n",
            "  user neighbourhood undergarments shop going out of biz, people cash in on distress sale. more footfalls than ever.    face,â¦\n",
            "so excited to see what happens!   cantwait emmerdale \n",
            "  user . user is a dummy! has no clue! believe me, at this point there are no states that i'll win anyway! \n",
            "this is a cry for gun control.  user orlandoshooting ar  user again we see another mass shooting in the usa.  \n",
            "  warns rahulgandhi not to play politics on udtapunjab'  \n",
            "i am thankful for sunshine. thankful positive     \n",
            "hillsidebeachclub naturesea  vacation peaceâ¦ \n",
            "  user we're   to announce we are now stocked  user butchers in london.\n",
            "reading afteryou trying not to cry   reading  user\n",
            "hampton beach, syracuse fair and atlantic city this summer   lettheadventuresbeginðð«â¤ï¸ð\n",
            "a reminder to stay away from  user  user they never fill the cup with ice cream mcflurry   hot day \n",
            " user fine be pedantic, all your interest have been from the strict 'never' list i gave you. ella, savannah, and now ivy.  \n",
            "   post at arff  user  name change &amp; superâ¦ \n",
            "and again in this beautiful city â¤ï¸ rotterdam netherlands architecture   loveâ¦ \n",
            "my mom and rd grandmother   mall smile \n",
            " simple tips that'll make you a   person  life balance happiness joy advice \n",
            " , cool, syfy, faceoff, really cool, this is really cool via giphy  \n",
            "congratulations deepu di!!! we need a pachay now miss engineer ððððð \n",
            "lipo-light is here to help you. learn more  user lipolight burnfat summerbody result   confident \n",
            "i strive to be a positive light in people's lives everyday. hopefully my effos make a result. life   positivity gonnamoveon\n",
            "family times.  love family life nuclear kids parenting parents positivity   \n",
            "  user stfuuuuu ð­ð­ð­ð­ \n",
            "i am joy. i_am positive affirmation     \n",
            "happy anniv + bts   bts day\n",
            "work drives me crazy! so, i look for joy_that comes from  user dances inspiringwords mybeaconoflight   \n",
            "cops giving tickets when they didn't even see you do anything. glad peoples lives have to be so shitty that they have to call us in lol  \n",
            "  user i assure you, your voice will always ring in my head, life will never be the same without you. ripjulimuffn \n",
            "isn't it time we realized what we've done:  hate exploitation! read america's history! \n",
            " user no as u have termed him an outsider who gave u that right? i only said  user is more indian than many of us.â¦ \n",
            "simply makes me smile! friendship   friend iphonography \n",
            " user  user  user you want to see   ?  this is sad  obama is destroying america from within \n",
            "countdown begins ó¾¬ó¾¦ â ð®ó¾­    life travel home â feeling excited\n",
            "countdown to tonight's stargaze performance of oliver  user   \n",
            "about to take a shower in my new shower !!  \n",
            "niggas cheat on pretty girls to go be with a nigga looking bum ass bitch ððððððð  \n",
            "heading back to greece next year after  years! can't wait!!! greece holiday skiathos holiday family summerk  \n",
            "can you tell i love writing ?   positivevibesonly \n",
            "it's strawberry picking time in ny ! kc &amp; stef of etsyshop dragonflydenim picked these. summer iloveny   \n",
            "soon on my yutub channelð . . . . iseng jelek bukanakuð biarin penting   ðð familyâ¦ \n",
            "soo true ððlove boyfrienddaughter \n",
            "ladies dont ever cut none of ur friends off ova ur man... % of the time they're rightð¯ð¯ð¯ mistakes  a man who neva loved u  \n",
            "what happened in orlando last night...i'm lost for words!  my thoughts are w/ the families of the ones lost.    \n",
            "  user don't ever give up! ð¶ love e barcelona tibidabo cute together photooftheday   â¦  httâ¦\n",
            "looking to feel more joy? join me and  speakers on the free summit unleashyourjoy    \n",
            "  user bored with my old look, thought i needed something fresh makeover geek    brighton coffeehouse newlook httâ¦\n",
            " user apparently the only thing you dont hate your asian parents for is instilling massive amounts of  in u.\n",
            "nature_perfection   bull hill climb: you have to reach the target to complete the task to survive. with str \n",
            "going to be a great day!! realestate   realtorgirl\n",
            " , exciting, hell yes  \n",
            "there is no key to happiness, the door is always open quotes inspiration happiness    \n",
            " user and  ny developer  user ð¿ racistdeathwish  user  user \n",
            "gig one added to ! - with  user and ivan oiz lucas gig conce cafe love  â¦ \n",
            "off to wembley stadium capitalstb    readytopay\n",
            "  user aldubtogethereternally   friday morning!!! \n",
            "payintheusa   polar bear climb racing: angry polar bear climb racing, the polar bear living in cold place \n",
            "flashback with  user we are just over a month out from sdcc.   \n",
            "happy father's day to all you wonderful dads!  kangol fathersday dad daddy father fun celebrate  ... \n",
            "  user lets just say the hostas hedge is now complete.    \n",
            "\"think of all the beauty  still left around you   and be happy.\"   -- anne frank  quote   beauty \n",
            "assam: poachers kill rhino in state forest ministerâs presence  via  user sicktomystomach   \n",
            "what made you happy today?   entrepreneur success \n",
            "-no  user episode tonight.   notcool whattodo\n",
            "latepostð»ð« like likelike likeforlike  goodnight night  face happy    latepost  sendiri \n",
            "some girls make finstas to post slutty pics they can't post on ig  \n",
            "  user i think is a minecraft day minecraft day   server\n",
            "model   i love u take with u all the time in urð±!!! ððððð¦ð¦ð¦  \n",
            "fabric doll handmade stuffed doll tilda doll tildadoll ragdoll fabricdoll green polka by   \n",
            "  user bloody hell thats heabreaking ððð¢  â¦   heabreaking intears \n",
            "  days porn movie srilankanboyssex  \n",
            "herbalremedies for anxiety that work! -    altwaystoheal healthy   healing peace ! \n",
            "i'm so   and grateful now that - affirmations \n",
            "how am i supposed to be a struggling aist wanting to see her idol when i need to take out a moage to afford tickets?  user  \n",
            " huaweiceifiedspecialist-pre-sales-accessnetwork delivered yes you   stress snoâ¦ \n",
            "i hope this is going to be a good trip for me. i need a different atmosphere!!  \n",
            "ok so gerard way will be at comic con in noh carolina in november!!! and do you know where im not??? noh carolina!!   comiccon\n",
            "this week new me new hair new new body new mind new everything ....  \n",
            "keep people in your life who truely love you, motivate you, encourage you, enhances you, &amp; makes you     simple ðð¾ðð¾ðð¾\n",
            "ððð  reading list for the new year:   afrofuturism anarchism capitalism colonialism magicrealism   ððð\n",
            "pretty!!! lookalike twinsies  \n",
            "  user  user and the  user getting prepped for the delegates arriving smaccdub smaccforce   foam \n",
            "lizzie mcguire is on  \n",
            "watching history unfold as  user lands back on eah!  \n",
            "healthy   an in-depth look at the \"sunshine\" vitamin. \n",
            "âlife isn't about finding yourself. life is about creating yourselfâ life creating yourself shine you   beyou xoxo\n",
            "movie date ðâ¤ï¸  user   \n",
            "he give me every reason to ð him th best father since we was   father's day to him \n",
            "first gig ðð¤ð»ð¤ beelitzerspargelfest music singing rocknroll beelitz live performance   stage waitara \n",
            "yo read this sick   poem i wrote about  yr anniversaries or whatever \n",
            "a   comic to make you smile and \n",
            " user john terry just chose white christmas as his favourite christmas song on  user no surprise there. \n",
            " user djhumility feeling you with the ojb vibes... ripojb   areacodemixshow cc  user  user  user\n",
            "agree,not all muslims r terrorist,yet great majority of terrorist attacks h bn done by radicalized muslims!    \n",
            "such a sad day for uk politics and humanitymurder terribleday\n",
            " user thanks for introducing me to this page  user ððððð   funny\n",
            "great day with my girls! ð was great weather in the end âï¸ summer fun sun girls k  \n",
            " user i haven't actually read it myself, the whole mag is my toilette  read post gym tonight   blitzaztecs\n",
            "oh no  user thursdays is noodle day, what have you done with your menu?  \n",
            " ways to say   in english  vocabulary learn_english ness \n",
            "ð striped blue ð fashion fashionista style stripedlove smile girl   instamoodâ¦ \n",
            " months later.. i am back to my pre pregnancy weight and a pound less!  \n",
            "i am thankful for clouds. thankful positive     \n",
            "selamatmalam coffee time  user  thank you for visiting beautiful   long weekendâ¦ \n",
            "at least my tummy's   nbafinals sushi dinner \n",
            "\"this is our healand\"  u quote photography jesuslovesyou likelike likeforlike  â¦ \n",
            "  um satellite camp: harbaugh happy to be in nj, a new battleground: paramus, n.j. â when jim harbaugh s... \n",
            "  user  coffee down already onroute to  user   â\n",
            "these are the days blacks don't want to be black anymore  user  user  \n",
            "jackblair - na:   wet snapshot shy hot kinky horny naughty xxx nasty nude sexy porn slut young \n",
            "just booked a  week trip to america in august; colorado, nebraska, wyoming, south dakota and alabama planned so far  \n",
            " user from this immediately or i will be looking into different services. what a scam. you guys should owe me money for this.  \n",
            "rip, big boss, s. keshi.  \n",
            "openly and total  against obama! russia's graceless goodbye to america's first black president: \n",
            "  user helping kids cope with   feelings  ece classroom activities play \n",
            "and the press would have you believe bike racing is too dangerous? thoughts go out to the victims in orlando ð¥   \n",
            "moment   bull up: you will dominate your bull and you will direct it whatever you want it to do. when you s \n",
            "i am thankful for having a home. thankful positive     \n",
            "  user pls  my online shop is now live!!   lincsconnect so   :)\n",
            "i am thankful for pain. thankful positive     \n",
            "happiness is a choice. peace is a state of mind. both or them are free.    quote\n",
            "today was a good day because i got to see my little!!  user ðð  \n",
            "there's just something about water that makes us feel connected and  . \n",
            "goodbye .... i definitely hope we leave behind \n",
            "  user fridayfunday on its way...are you ready guys?!ððð   crazy teen \n",
            " user i finally watched the st episode of unitedshades ur a much better person than me. / way through i popped off  times.  \n",
            "etiquette pa a glass (for tea) for milk... no joke, she got really  ! i... couldn't believe it could be such a big issue?\n",
            "%islamic-info %cricket %all-type-spos % -poetry %world-news %add  ye saholat sirf ramzan main hoga  follow  user\n",
            "i keep my opinions to myself because people tend to call me names and are in general rude to me. can't speak my mind.   truth\n",
            "a new chapter begins... graduation on friday, new contract staing soon and  user first game to be launched later this year  \n",
            "stayunchained and have a   fridayfeeling  love volkswagen freedom joy \n",
            "  user check me out june th    user  for the  user conce series   toronto gheaandsoul \n",
            "  user so excited to have a tweetseat for scoobydoolive thanks again to  user for the oppounity..   scoobydoo â¦\n",
            "friends come and go but the true friends stick by you   feelsbetrayed\n",
            "  friday  a new version of beat it to bring you into the weekend with a smile! ð major michaeljackson \n",
            "sushi time! ð£ sushi nomnomnom photooftheday iphoneonly ã±am sushirolls   futbol  user \n",
            "gm lovelies  when did my back get like that?! ð haha   thursday   i feel good, speakingâ¦ \n",
            "rainy day make us sad ð§  pictoftheday aesthetix rain   photooftheday   le chesnay \n",
            "ðlink in bioð inshot girls cute summer blur sun   fun dog hair beach hot coolâ¦ \n",
            "mr. big nose /    bless goodvibes positive igersbatangas selfie \n",
            "[.] update    social analytics growthhacking conversion   f \n",
            "  user first posted this a year ago. still relevant, though not for me! here's my thoughtfooday valued   \n",
            "good morning.. have a nice day.. happy fasting ððð   fasting fashionillustrationâ¦ \n",
            "i have to admit failure. my computer problems blocked me from editing today. i will explain in the next episode i shoot, i promise.  \n",
            "best essentialoils for anxiety !!     healthy   peace !!  altwaystoheal !! \n",
            "  happy day!  altwaystoheal  healthy    \n",
            "heading to galway now for stalab demoday  user &amp; tomorrow  user in limerick ireland staupland  \n",
            "when god provides you with a brilliant idea the day bill payments are due!   blessedfriday \n",
            " user  user how much is your company woh an you give out â£  \n",
            "  tired and workedout pibble needs a nap.) ð¶ð girlpower \n",
            "beware of the \"snowball effect\" black men. they're not our women    \n",
            " user  user  user got to give this back today   \n",
            "  user check this out.... user honored our greatest generation on d-day. user tweets about ramadan  \n",
            "happiness...   smile fun instahappy sohappy happier   feelinggoodâ¦ \n",
            "sleepy time. knackered .. hm.. what will tomorrow bring.. happiness for once? hope so..   world we live in.\n",
            "/juneâï¸ macaugift    macau \n",
            "please like &amp; share if you are agree  dna dnaquotes quote quoteoftheday love   proverb lifestyle... \n",
            " user was coached by bownaker which never worked. now back with cowan and i fear she's missed a lot of vital winter work  \n",
            "can't resist a krispykreme sprinkles donuts   sugarrush tempting \n",
            "be   n healthy being challenged in life is inevitable, being defeated is optional. â  roger crawford: \n",
            "i love teaching! ðpretty livelaugh teachesthetics eyesâ¦ \n",
            "happy bihday california gurls ð ð­ð¬ð¦ð©ðªð«ð­ð¬ð¦ð©ðªð« myfavoritevideo video california gurls  â¦ \n",
            " â japan foreign investment in japan stocks unchanged at â¥-.b in june    blog silver gold forex\n",
            "i am moving. i_am positive affirmation     \n",
            " user  user enjoying thekapilsharmashow wid u guys, ur presence festooning the show!   ððµ\n",
            "i am exquisite. i_am positive affirmation     \n",
            "oh my punjab, what has happened to you? you were known for growth &amp; development not drugs!   punjabi saynotodrugs udtapunjab\n",
            "when you life literally makes you feel sick to your stomach...   broken feelingssuck\n",
            "instamood insta_selfies    day   homesweethomes \n",
            " user perfect timing for this tweet!  staup  \n",
            "swear to god i could have happily rammed several absolute twats today when driving, fucking fuming the bastards   ð  rage driving\n",
            "omg   tears presumptivenominee  user weareequal womendeliver hillarysoqualified ðððò®¹ñ®¹ñ ½ð¯ ó¾¦\n",
            "  father's day love u papa\n",
            "this is not a helpful sight first thing sunday morning?! when app says opens     user   unhappy \n",
            "a little advice boys and girls, sure way to keep her   ð thankyou you'rewelcomeâ¦ \n",
            "one of the thing that would make us   is giving yes... when we give, we will...  \n",
            "  user i don't know what i'm going to do when love island finishes its literally the highlight of my day ð  \n",
            "hold on whatever keeps you   ðð¦â¨ \n",
            "yes...obviously it's raining...but some people tend to panic on the streets causing accidents while rushhour   \n",
            "god i thank you for the gift of life. hope joy makeup   mrkechuks\n",
            "  user  user performing! details soon  \n",
            " and still a spoiled rotten child lmfao  \n",
            "  th bihday kendrick lamar . king kunta, k-dot, good kid from the maad city,â¦ \n",
            "words fail me. it's senseless and merciless.   orlandolove \n",
            "spring water!  peace love organic vegan  \n",
            "jokes on you ð suicidesquad thejoker  jaredleto   \n",
            " user he'll even state how gators are of mexican + muslim descent.. and  user posse will believe him.   \n",
            "brick by boring brick. âð»ï¸ blonde blueeyes   \n",
            "boss makes a dollar, i make a dime, that's why i poop on company time.   popping\n",
            "  user   father's day  user  user  user minnie wishes all  user dads a happy father's dayðð¾ \n",
            "oh yay!! brandnew inlove   can now workfromhome , i loveit :) \n",
            "morningsss.. on my way home ó¾°ó¾°ó¾° see u laterr friends and family &lt;     ó¾° godblesscavs.. â travelling to... \n",
            "zionism is  .. ultra-ohodox jewish children's worksheet says 'non-jews' are evil \n",
            " user army peru lovebts youngforever   i want go to korea :'( \n",
            "malia shake that ass! you so fine!.....pass the blunt \n",
            "  couple having sex sexy teens working out  \n",
            "shoppingððð yesturday    enjoy \n",
            "god morning ð cows summer morning light life active health fun   a konstâ¦ \n",
            "everyday for the rest of my life! good morning loves. blessed   favored fearlessâ¦ \n",
            " user  user  fatherday for all fathers around world\n",
            "  user they be pussy pressed!!   ð¤ \n",
            "  user do you know the  psychological needs we need to satisfy in order to be happy?   yf   life\n",
            "happy father's day!! clapton hackney hackneywick homeon   fathersday  fathersday dad \n",
            " more days to go!!!!!  \n",
            " month left !!    holiday notenough ...\n",
            "peppa pig happy bihday george peppa pig   bihday george peppapighappybihdaygeorge.  time post: wedâ¦ \n",
            "you can do  good things for some people, but all they remember the one bad thing unintentionally happened by you. worstexperience  \n",
            "i am thankful for flip flops. thankful positive     \n",
            " user spend millions for update that works wrong. appcrash   twitter\n",
            "we'll announce a new name for deep in the woods  at pm! ditw   sunisshining \n",
            "damn orlando not having a good week..    \n",
            "we have the  user  user monoflap dressage saddle in the studio ready for clients to try!  \n",
            "the newtatemodern is opening next week. have you seen the time-lapse construction video?   more &gt;&gt; \n",
            "love is stronger than hate. love is stronger than hate. love must be stronger than hate, right? orlando rip  \n",
            "so sad. literally if anyone wants to buy me a plane ticket to nyc before this happen i'd highly appreciate it!   \n",
            "america isn't racist. their are a plethora of reasons for someone not to like obama. you're ignorant in many fashioâ¦ \n",
            "you okay with this  user of course you are!!!! traitor  bully notmypres notmypresidentâ¦ \n",
            "  user âfor every minute you are   you lose sixty seconds of happiness.â ralph waldo emerson (-) quote cultureâ¦\n",
            "damnit your right.  user is a buffoon.  politically motivated suppo is  .  dementeddonny needs more. \n",
            "new shoes ð±ðð°ðtraining underarmour spaanrace gymlife   \n",
            "why no minute of silence at  user for the victims of orlando?   euro orlandoshooting football\n",
            "holy shit. how do you even run a national presidential campaign with  people? \n",
            "  user tmebn is one week away! top teachers turning up to share great ideas for the classroom   \n",
            " user activists: want to stop ? not sure where to begin? let us show you how:  cc:â¦ \n",
            "staying off here today. can't keep reading the same tweets that are send after every tragedy. we need change, in a very bad way.  \n",
            "use light box to tackle the   disorders in uk paulfiona read more  \n",
            "my money is on  user staying with  user but who knows??    user  \n",
            "  user this one's for u mallcop realafraid realmad lyingwannabcop   allsmilesâ¦ \n",
            "watched the episode with a shooter and there has been so many shooting this month...  \n",
            " user mental illness has struck again.we really need to make treatment more available. that's all i can think of in terms of reason.  \n",
            "good time âï¸ me candlelight dinner soiree summer memories holidays fun hot tan  â¦ \n",
            "happy trio! weekend shopping niece nephew trio cool  â¦ \n",
            "alton towers the other day ð   altontowers smile selfie \n",
            "  user i just wanna be as   as drake in this picture   \n",
            "  user  days shakes never end and im loving it success herballife gains   \n",
            " user another girl there for â£â£â£ fake  \n",
            "this was an inspiring talk, thank you  user  \n",
            "today wasn't like every day that's for sure.   feelingood ð\n",
            " user   se happy happy wala happy bihday teju\n",
            "hea â¤ï¸ goes out to all affected prayfororlando tradegy   thinking families friends \n",
            "breaking: people are still the worst. \n",
            " user dana middle and silvergate elementary had no ceremony for old glory here in san diego, ca military town today.   maga\n",
            "a dad is a person who is loving and kind, thank you dad for being such kind   fathersday \n",
            "every time i'm baby free i can't help but fall asleep and catch up on my snoozes smh smh smh  \n",
            "flagday   flag day  ( photos) buy things about \"flag day \": â¦  \n",
            "the secret to having it all is knowing you already do.   allmydreamsarecomingtrueâ¦ \n",
            "  user best cheese tas i've tasted so far ~~~~~ ð­â¤ï¸ð¦ especially when chilled !!!!!!   blessed \n",
            "when it's  am. and you realize you're the only one working on a saturday disappointed  â¦ \n",
            "the hype is real with e just around the corner. what surprises are in store this year?  \n",
            " user we have to do this. need to change  profiling, economicapahied, hatespeech and get service to the poor.â¦ \n",
            "next monday three new assets!   indiegame indiedev coomingsoon ue gamedev blender dmodelling game gamer furniture create\n",
            "  user  : find out which nationalities are happy for most of their days -  \n",
            "ð«ðthis kid helpme   wheredidhegoishedead vm \n",
            "i love how music transpos your soul to a dream , memory or the future   blessed\n",
            "so i guess colombia will go against peru !!  \n",
            "if you don't like his politics that's one thing but why the  ?? so pathetic ðð¾ðð¾ \n",
            "we are so thrilled &amp;   to join the amazing + vendors  the_vintage_market this fall!â¦ \n",
            "my  year old japanese student wore this to school. she had no idea. neither did her teacher.  . fridayfeeling \n",
            "buffalo school board moves to oust controversial  user ally for  remarks trumpocalypseâ¦ \n",
            " user semi finals bend,ore.  owen wild sp, win to get there.ship  father's day\n",
            " â poland retail sales (yoy) dipped from previous .%â to .% in may   blog silver gold forex\n",
            "taking a leisurely walk in picturesque minneapolis. travel  ð \n",
            " factsguide: the world before social media..    motivation\n",
            "  scared  nervous  girlpowerwins! firstâ¦ \n",
            "  father's day !! \n",
            "thanks fuck for that. gameofthrones   \n",
            " user  why you changed the regestration to team based ?i liked your concept of coming there and forming teams.  hopetojoinyou\n",
            "good evening ð¼ð¼ð¼ smile   loved duty evening likelike followfollow eve eveningâ¦ \n",
            "personalised re... gbp . get here:  shop cool   home fun \n",
            "new cut tomorrow ð  \n",
            "no legacy is so rich as honesty. william shakespeare leadership inspiration  quote inspirational  \n",
            "and that i why robin is   and successful in life! wisdom love \n",
            "preorder live! c/p swiftly sharpens the fang  dystopian tale of â¦ \n",
            "i'm convinced that one more round of thoughts and prayers from our congressional leaders will fix the problem this time.  \n",
            "i always listen to   by  user relieve stress and refreshed all the time \n",
            " user some ppl r not just playing to state,dey r playing to india future..... \n",
            "  user steven makes dramatic entrance  user  user   !  user  user \n",
            "i finally found a way how to delete old tweets! you might find it useful as well:    deletetweets\n",
            "  hardcore forums prejudice against a paicular gender or sex  \n",
            "i am thankful for movies. thankful positive     \n",
            "so national media chooses to broadcast the funerals of ali, and michael jackson but the real heroes (our military) get no coverage  \n",
            " user i knew &amp; warned. a bit of research &amp; i found all i needed to warn. not everyone listened.   \n",
            "  user ððððððððððð  äºå®®åä¹   bihday  ððððððððððð \n",
            "a lot of pakistani twitter folk make out like they are totally liberal &amp; open minded... and having any so of deen imaan is \"uncool\".  \n",
            "ode to depression | infusing reality with hope   \n",
            "sneaky peak at the yr  prom invitations...won't be long now! brobanw prom    hollywood djpopcorn \n",
            "after an hour of walking and looking for something i could buy, i just ended up with these. ð   \n",
            "i am refined.i_am positive affirmation   \n",
            "feeling blessed parin :)    \n",
            "love instagood me tbt cute follow followme photooftheday   tagsforlikes beautiful selfie picoftheday \n",
            "olathe   polar bear climb racing: angry polar bear climb racing, the polar bear living in cold places looki \n",
            "my dad thinks i'm \"crazy\" lol but he's crazy too ððð   father's day â¤ï¸â¤ï¸â¤ï¸ \n",
            "  lost or lose \n",
            "microsoft is owning the day. great press conference, loved the announcements. e xboxone xboxones   xboxplayanywhere\n",
            " user is a  &amp; a sick fuck! he looks like his pedophile friend  user \n",
            "sant'agnese  santagnese   fun living rome piazzanavona enjoy wine lifestyle \n",
            ". user on making choices to keep herself   as a person and musician - so impoant! \n",
            " user longtime hockey fan  chicago blackhawks  \n",
            "bihday cake latepost friend bihday   june geminiâ \n",
            "i'm a gordo. passpo florence firenze italy travel lux   instatravel ricoâ¦ \n",
            "america has become a reactive society! when pressured we do whatever  .. stand up and be your own person and not be pressured\n",
            "a little more adjustment &amp; finish the painting all over it be done.  got a vision, create it  xxðð   \n",
            "exactly  days until  user are back in berlin ð i soooooo cannot wait ð gla nosleep twinatlanticontour   hypehypehype\n",
            "  hardcore vinyls index of bisexual  \n",
            "looks like i'm moving into student halls for my masters degree next year! something i've never experienced before uni  \n",
            "  after sex watch best porn movies  \n",
            "  user i so buzzing for what god have done today at the women conference pumped ready for tomorrow godisgood  \n",
            " user  user plane falling apa vs toilet leaking, my screen flickering  -experience \n",
            "hitting way close to home.   is an understatement. nj child porn arrest made at southjersey school  via  user\n",
            "i'm so   and grateful now that - affirmations \n",
            " user but hillary and her shill press contingent have declared victory! he should have unloaded on her a long time ago.  \n",
            "you might be a libtard if... libtard  sjw liberal politics \n",
            "model   i love u take with u all the time in urð±!!! ððððð¦ð¦ð¦  \n",
            " user thank u so much for the follow! love hakeem! â¤ï¸ empire lyons hakeemlyon epic music greattracks flow fan love  \n",
            "don't be afraid just keep grinding and believing in yourself.   belief successful entrepreneur mindset \n",
            "hiding behind a phone/tweet. shows the kind of person you are   pathetic look user ðð\n",
            " user my g....btw,   wednesday\n",
            "zoro jrock japan disbanded   this is a picture from the band zoro, which disbanded last year on //. \n",
            "hi! paytoday   snapchat: sandy- \n",
            "jtstroxy theater   jts user ð love sinkthepink music instagay celebspot  \n",
            "justinbieberedit   bull up: you will dominate your bull and you will direct it whatever you want it to do. \n",
            "in spring as snow melts i am disgusted by litter in ceain areas; who are these people that litter all winter?   \n",
            "just watched this with my son he saw it for the first time ripbillybob restinpeace actors  movies tosoon \n",
            "baby giggles   baby babylife cute laugh kirstyleemacdonaldphotography blackandwhiteâ¦ \n",
            "vehicle   gorilla simulator: you need to do to adapt to the environment. the need to tear the city. materia \n",
            "  father's day! &lt; cheryl  (lol by dedicated to cats, picture via cheezburger) \n",
            "model   i love u take with u all the time in urð±!!! ððððð¦ð¦ð¦  \n",
            "  to announce - the first endangered butterflies have hatched at gvzoo!  -&gt;  conservation\n",
            "listening to classics like bill withers serves as a good reminder of how much we broke instruments, voices and killed all dynamic range  \n",
            " week! ð³âºï¸ðð°ð¼ð®ð¾ gettinghitched   june\n",
            "seasons come &amp; go but you need always remember-you'll reap what you sow-expectation-jesusforgives&amp;savesask summeime tea kitchen  \n",
            "happy at work conference: right -mindset leads to culture-of-development organizations    work mindset\n",
            "school days.  .\n",
            "  user aaaaa yes! yes! i bought a total of . going back for more tomorrow!  user cherrypepsi   \n",
            " user jeffsessions thinks we won't notice as he redacts decades of ove  in his application for ag confirmation. \n",
            "  sea shepherd suppoers are racist!   antiracism seashepherd\n",
            "&gt;&gt;&gt;&gt;&gt;&gt;&gt;&gt;&gt;&gt;&gt;&gt;&gt;&gt;&gt;&gt;&gt;&gt;&gt;&gt;&gt;&gt;&gt;&gt;&gt;&gt;&gt;&gt;&gt;&gt;&gt;&gt;&gt;&gt;&gt;&gt; äºå®®åä¹   bihday to you æãå«ã¹ æ­³â¦ \n",
            "one of our amazing owners, dawn! always with a smile on her face! gym   smile longisland workout local \n",
            "no cock out though.  \n",
            " â eur/gbp re-takes -dma post-ez data   blog silver gold forex\n",
            "me every time i swear ð© - exercise love   motivation inspiration behappy weightlossâ¦ \n",
            "i have some good news: i have a job interview this thursday. i'm very excited because it means i'll sta my internship next year.  \n",
            "whatson   user  user  user  user  user please  for us   notlâ¦ \n",
            "you might be a libtard if... libtard  sjw liberal politics \n",
            "i will not delete those tweets they're   tweets. i stand by those tweets i've been attacked for yrs i'm   user\n",
            "this  is going to grow bigtime unless hillary is indicted.  never seen such ineptness from a political pay.   \n",
            "shufflelp cunnilingus study bracelet   heaven click to watch â¡  \n",
            "model   i love u take with u all the time in urð±!!! ððððð¦ð¦ð¦  \n",
            "come say hello to the team at  user isd  find out how data &amp; analytics is suppoing hsci  nhsscot   \n",
            " user ready to rock and roll !!!  competition \n",
            "electronic   attack bull game d: do you really think that his head was empty around the city. each side is \n",
            "mmmmm perfection.   sunday!  eat foodporn coffee beawesome   beach pad \n",
            " user  also, you can't love the usa with all your hea and then suppo trump. because he hates half of theâ¦ \n",
            "few more days before my very first harvest...!!!   harummanis mango tanamsendiriâ¦ \n",
            "lost a bet with all those indie titles announced xboxe sometimes it's good to be wrong though  \n",
            "btw! i am on a semi vacation also and that's my job .. business and pleasure forever! lol thank god blessed grateful   peaceful woot\n",
            "greetings from the us to the world!  discrimination \n",
            "good news i'm getting a car  \n",
            "last day of our rabies campaign, found these   neutered dogs endrabiesnow \n",
            "aww yeah it's all good bing bong bing bong   \n",
            "just  keys that are found on your computer to enjoy life.   inspiration advice \n",
            "psycho xx . psycho insane crazy sad   rad stumble pain worry s suicidal fuckmeâ¦ \n",
            "  user to quote metallica,   but true. \n",
            " user too late...  \n",
            " user just wanted to let you know that everything is soed. delighted with new sma meters. thanks for all the help!  \n",
            "excited thestoneroses gig etihadstadium friday   tour music \n",
            "some great feedback received today \"thank you  stars, i'm very pleased with my backyard 'unrecognizable' would recommend to anyone  \n",
            "zoo says this is    lion . user disagrees. plse share! this is not ok . user . user  \n",
            " user  user wont be long till we are at the bar onboard!   france holiday chillouttime\n",
            "  user good sunday morning to all ð \n",
            "  user  renaissance music- a stylistic period in music history.ancient a vitorr staup readâ¦\n",
            "sad songs can actually cheer you up   \n",
            " â germany consumer price index (yoy) meets forecasts (.%) in may   blog silver gold forex\n",
            "  user it's sad!! our world is turning into a political zoological disaster, will our governments truly ever learnð¤ð¤    \n",
            "life love be   enjoy appreciate des'tee \n",
            "that's it caputo, go off book! fuck yeah . user . user oitnb season episode oitnbchat bingewatching  \n",
            " ! ðletang crosby &amp; the rest of the - penguins\n",
            "  user âallâwhoâretweetsâwantânewâfollowersâ â tfbjp â teamfollowback â openfollow â followback â   â  â .\n",
            "and there will be no more teenager in sos  \n",
            "britney ððð  user love   instamood cute igers sexyboy sexy gay beautifulâ¦ \n",
            "  user this makes me a little emotional today... be safe ladies! ð user  user   /sad tweet \n",
            "super fun with my best in ideacity zoomer toronto life love   friends   zoomerplex \n",
            "thanks to racists + fascist it's now ,-  + fascism sucks! refugeeswelcome â¤ð\n",
            "  ending 'for man is a giddy thing' muchado shakespeare  user  user \n",
            "i am honorable. i_am positive affirmation     \n",
            "ihaveadream that one day this nation will rise up, realize and change this: gunlaws orlandounited   march \n",
            " user  user  user  user  user  user  user excellent interview with farage up your game cameron \n",
            "the fuck done with mansplaining and other  bullshit. \n",
            "  user my garden  ð ðð»ðð»ðð»â¤ï¸â¤ï¸  // healthybody   vrecipes salad veganfitnessâ¦ \n",
            "[.] update    social analytics maialas success fashion   \n",
            "  user ð   tech  bitcoin postcards you can send to your fellow bitcoiners  \n",
            "beautiful russell square gardens ð¹ð¹ð¹lapatripedialondon lapatripediatravels london  â¦ \n",
            " user . user ends  with a hopeful message against  in the music industry  via  user\n",
            "stretched to the limit and still waiting patiently! overdue maybetomorrow love   \n",
            "today  june  bye ç±æå®½æä¸å®è¡ me foonyewkulai å¤æ¥å®½ä¸­ redteam spoday   tired vscoâ¦ \n",
            "coffee   thepearl with julie - happy weekends!  weeks and then  weeks of leisurely relaxation, cafes, foreshore, reading ...   sigh\n",
            "  user sad that hassan has to impo a fraud to prop up her failing campaign. checkedtheboxtogetahead.   \n",
            "that's the hangover talkin' hangovers florenceandthemachine howbeautifultour latergram   \n",
            "extremeboy - na:   porn nude hot shy naughty nasty kinky slut sexy horny young snapshot wet xxx \n",
            "need to sta barcelona planning ...any tips?   ððð\n",
            "great to chat with the guys at  user ahead of  user gig in lichfield on sunday! i'll be there for  user  \n",
            "  user bei has a   day. \n",
            "you got to live a bit of danny levy she is a hotgirl fitgirl powerlifting beatiful  â¦ \n",
            "i'll have gone through  different states by this time tomorrow ð± roadtrip bymyself  \n",
            "we think sa is pretty great, and we canât wait to show you why twodaystogo countdown shhh   bringiton\n",
            "i am powerful. i_am positive affirmation     \n",
            "you can't see the tops..ð newyork bigapple lovely vacation best   love skyskraperâ¦ \n",
            "so   how my gold accent diy project turned out! studiolife craft cactus putnamflowersâ¦ \n",
            "ð love instagood photooftheday top.tags tbt cute me beautiful followme   followâ¦ \n",
            "play volleyball later ;-)   \n",
            "wrong!orlando shows muslims are above the lgbt community on the liberal \"victim hierarchy\".    \n",
            "thank you tina. \n",
            "get those posts seen and make others happy! come join the  nowlinkup bloggers   via  user\n",
            " user  user  user  user not every election ushers in lies, hate, , misogyny or the incineration of democracy.\n",
            " user confirmed as one  of our sponsors funfamilyevent \n",
            "my voice is so small at times i get stern with my  year old and she'll look at me like.. are you serious or joking? lls  \n",
            " user ahhhh then let the madness unravel   ð¯ððððâï¸ð¾\n",
            "  bihday sexy girl laura love sex  \n",
            "this weekend brings one of our favourite events of the year - the fabulous  user midsummer fair! who else will be there?   \n",
            "justarrived statenisland statenislandny statenislandnewyork newyork   &amp; stoked to visit this... \n",
            "congratulations to the brideandgroom yes   engaged engagement weddingâ¦ \n",
            "  snails &amp; botnek: stream snails &amp; botnek - happy hour by snails from desktop or your mobile device. \n",
            "  user to the united states of america, from the rest of the world: i think you've proven you don't have the right to own fireâ¦\n",
            "  user  dxracer office chair black chair.gamedev success   positive inspiration amazing \n",
            " retweets  user nuascannan   \n",
            "just experienced same obscene tsa conduct that  user mentioned recently; screaming at pax who clearly don't speak english. paxex  \n",
            "have a great evening!  \n",
            "ð¼ð°ð¹ñðºð¸ð¹ð¶ñðº  photo ð²ð¾ñð¾ð½ðµð¶ nature beetle traveler \n",
            "riphumanity  may allah keep thm under his protection and bless thm ,ameen \n",
            "br? r u still here bothering and huing me? michael never hus me....but u always do... \n",
            "be   n healthy every time you fall down, pick something up. â oswald theodore \n",
            "why are white people expats when the rest of us are immigrants?   whiteprivilege\n",
            "this is what the result is of a â£ night out looks like â£. not enough to get a maccy breakfast typical   \n",
            "sweet pie baby ... gbp . get here:  shop cool   home fun \n",
            "gassy on this car ride ð nervous   gassy\n",
            "good morning!! ð ready to go! â¤ï¸âºï¸hannover  business suprice   | with commercial maleâ¦ \n",
            "  user sadistic dead or alive   dead alive   ist \n",
            "great summer posturetips. do your body good!   \n",
            "off to mor . station   \n",
            "  user feel like... ðð¶ð dog summer hot help sun day   more \n",
            "i finally found a way how to delete old tweets! you might find it useful as well:    deletetweets\n",
            "  my girl said she never had a nigga to wear lingerie for ðð­ smh she &amp; i'm younger then her!\n",
            "on that path poetry love game fire moment hea eyes   happy walk path \n",
            " user my guests always have fun kayaking &amp; on boat trips that you take them exploring roseland   holidays\n",
            "you not who you really say you is  \n",
            " user you might be a libtard if... libtard  sjw liberal politics \n",
            "  , education winesolveseverything   did my thesis on how we could bring the world together through... \n",
            "we â¤ï¸ you  user bigchicago come back soon!  \n",
            "  user it means the world to us to be a pa of the celebration of milestones.   th bihday! celebratewithcarlos \n",
            "  user just noticed tht nithya got best actress critics award for malli malli idi rani roju ðð so all my favs got an award ð happâ¦\n",
            "  national  bestfriend day!!! i'm founate enough to have great friends &amp; a couple ofâ¦ \n",
            " generations familylove familytime love   blessed fun â¤ï¸ \n",
            "diabetes,  cancer, pneumonia,  kidney disease, hea disease ,,, what the heck is keeping this poor man alive?  \n",
            "when that sigh turns into a   light as a feather moment powerofforgivenessðððð\n",
            " girl get fuck bondage leather girl\n",
            " user dwyane wade nbavote    if you hate  boycottdelta islamophobia\n",
            "francis underwood seen leaving marseille   nojoke  \n",
            " user  user  user i'm not  i just hate those muzzies !\n",
            "whoooop i am so exited. all the hard work paid off !!!! rio  happy   ð paralympics\n",
            "people aren't protesting trump because a republican won-they do so because trump has fuhered  &amp;â¦ \n",
            " user  user  user  user  user fingers crossed ð   paranormal\n",
            "  user  days,  captains' practices,  new pair of trainers,  new pair of flats, and a whooooole lotta miles til xc ððð câ¦\n",
            "headed to myle beach for our anniversary weekend! ð   ilovethebeach weekendfunâ¦ \n",
            "thankful   buffalo simulation: buffalo for you to take in the vicinity of their homes to do. in this way, y \n",
            "it is a potentially depressing situation, with about  weeks left to be positively reversed! \n",
            "pray for orlando. a horrible act of violence   \n",
            "panthers training camp dates are posted ððð   keeppounding\n",
            "my hea goes to florida   enough_bloodshed\n",
            "ahhh soo content with life rn! happy happy happy lovelife   bbloggers\n",
            "colors that remind me of palm springs (collection), lily pulitzer, palm beach ðð  â¦ \n",
            "teen girl killed,  others injured in downtown oakland shooting. guns mentalillness gangs ð¨ð¦ð¨ð¦ð¨ð¦ is   orlando \n",
            " user yea i didn't have my hopes up since that happened but ya know one can still wish...  \n",
            "r.i.p. my old iphone ð¥ð iphone facwbook instagram twitter whatsapp amywinehouse   ð¢ \n",
            "  user  user  user and yet somehow we're still friends with this country.  \n",
            " user i cannot wait for this to come out!  \n",
            " user looking really good trisha so happy for you \n",
            "  user accepting unceainty: we can be   without all the answers  user  mindfulness htâ¦\n",
            "good morning! âï¸ð stay positive, pray to god &amp; believe! ð vsco vscocam   positivity \n",
            " user purple is your color! potusisourdividerinchief  \n",
            "cnn is now as bad as msnbc...down playing the role of islamic terrorism.   media donlemon\n",
            "be   n healthy a life making mistakes is not only honourable, but more useful than a life spent doing nothing. â george bernard shaw â¦\n",
            "oh wow, bernie is dropping out!  ourrevolution trump womentrump womenforump  \n",
            "fake fb accounts =&gt;  seems it's common, but how nasty to accuse people without proof !! paranoia  \n",
            "  user   fathers day - lovedad londonthinsgtodo followus treatyadad funnypic loveya fathersday \n",
            "well well... somebody's very   today, i think... fenbi dog \n",
            "my love ð pay drinks   love london saturdaynight fancydress circus \n",
            " â uk: risks skewed to the downside for interest rates going into the referendum â danske bank   blog silveâ¦\n",
            "check out my very own photograph's, want pictures done, let me know!  devianta   summer\n",
            " user you might be a libtard if... libtard  sjw liberal politics \n",
            "feel so sorry for zara ð   love island heabroken\n",
            "i remember a couple that had been married + years said to me that it is easy to be   inâ¦ \n",
            "went to the library with friend. so much fun. stop by the park and took this picture fun nature park   \n",
            "  user .. newyear.. \n",
            "just hanging out under this table trying to sneak food from mommy ð¶ð¾ austin atx summer smile life    dog \n",
            "  user   face stuck in the airpo (before security) happyface candy \n",
            " user went to fye and they didn't have you album   wtf notbetterweather\n",
            " user smh...sad...real sad..u gotta find the negative . .lbj just made history down - with bk  bk s and triple double.. \n",
            "  user which team do you suppo this season? euro     goodmorning  voylla  jewelry  alwaysbeautiful \n",
            "boston   buffalo simulation: buffalo for you to take in the vicinity of their homes to do. in this way, you \n",
            "shopnow highwaypay   bihday tupac tupac shakur joyent via latino voices more &gt;&gt; \n",
            " monthsð»  kobe enjoy   thank love couple instagood instalike instamood instadayâ¦ \n",
            "  user vijay very verygood morning my all dearsweets friendshave a lovely daysalwaysgod bless all  morning \n",
            " user snookums, don't be mad that bernie-chan isn't as good as trump at campaigning. pathetic  \n",
            "six scientists. six suicides. what secret are they dying to protect?   goodread   learn a secret to long life!\n",
            "random bihday bourbon  days before.  this is a bday week- not a day bam !  \n",
            "  user we are so   and we just can't hide it! we have another vip client...completely differentâ¦ \n",
            "welcoming southwest monsoon with my flowers ... :)   mychild chill :*\n",
            "continue to tell this lovely story! the story of ferdinand  peace kid childrensbook   childhood\n",
            "that must be sad ð   fun meme memes gag gags football soccer ilovefootballâ¦ \n",
            " jccppgh \"here's a jccp shout out to dads out there who had to put up with us saying \"are we there yet?.\"  â¦ \n",
            "happy friday! have a fantastic weekend!  friday morning coffee weekend fabdivas   smile \n",
            "eu in or out? with today's events, whatever happens now in the referendum nothing will ever be the same again. a   day\n",
            "as us citizens we find ourselves in a period of great contradictions. ie..fascistdemocracy  seems to be... \n",
            "a special   father's day to my daddy!!! i wish i could be there to celebrate with youâ¦ \n",
            "|   congratulations!  | |    a major achievement to get onto their shelves &amp; uber clientele exposure  ! \n",
            " user first month paid and played in dcuo, sadly i'm not impressed constant downtime during my play time hours,  \n",
            " user antisemitism; , kills. in  remember, no-one is born to hate. love can change the world! \n",
            " user    and the industry is completely able to develope thousands of recyclable materials. the change is always in our hands\n",
            " user the dems need to keep feeding their  narrative. marxism\n",
            "and the dev grind begins again webdev html css java work late   webdesign\n",
            " user blocked me. someone i idolized as an actor in one of my favorite shows. all for different political beliefs.   divide\n",
            "why is santa always white?  newswithed \n",
            " user watching as, one by one, gop puts pay/+politics over principles. self-deluded ppl knowing better but refuse to admit it.  \n",
            "  user idk why women think they can have a mans hea when his hea is elsewhere  \n",
            "wishing you a great friday   weekend \n",
            "finally home and get to sta watching season  of   user on  user   oitnb netflix itstime\n",
            "i finally found a way how to delete old tweets! you might find it useful as well:    deletetweets\n",
            "  user so here it is. summer project youthpreprofessional. world premiere th august waterford  user  user \n",
            "  father's day to a  rich dad_young dadó¾°'â¤ï¸'\n",
            "best essentialoils for weightloss!!   altwaystoheal healthy is  !! \n",
            "businessgoals ððð°ð³ â ï¸\"website under maintenance\"â ï¸ weworking only inspired  â¦ \n",
            " chick gets fucked crazy european sex\n",
            "  user don't count the days, make the days countðð   flower friday vine   via  user\n",
            " user yet again another day trying to ring your shit customer service numbers!!! no response   even rang  user\n",
            "as relevant as ever \n",
            "tuck says mom might love this cover more than me   juneinstaspank spanking tuckoninstagramâ¦ \n",
            "when this is at home waiting for you  user   love them \n",
            "i am thankful for laundry machines. thankful positive     \n",
            "  user can't wait to go home  \n",
            "golden state rallies around draymond green, the mad warrior  for it to even be considered is truly mind blowing  \n",
            "a flame war on twitter, that's politics these days.   deleteyouraccount  \n",
            "this monsoon  gift loveones with this beautiful umbrellas  ..   monsoon  \n",
            " ways facebookâs repoingsystem fails its communitystandards, its users by  user   blacklivesmatter\n",
            "  user  user even rational republicans realize that  user is unfit to be potus. donald is unstable, careleâ¦\n",
            "the little one is going loopy with all this colour.   colour colorful vividsydneyâ¦ \n",
            "don't forget to reward yourself when you work hard and achieve your goals. success   positivity motivation\n",
            " user given what we now know, how the church still has any influence in ireland is beyond me. \n",
            "smoothie talk.   organic lalife lifestyle smoothies beverlyhills losangeles \n",
            "  user it's impoant to make someone  , and it's impoant to sta with yourself. happiness innerpeace strength \n",
            "one of the best feelings is when someone understands you without you having to say anything.quotes quotes inspirational  \n",
            "happy* at work conference: right mindset leads to culture-of-development organizations    work mindset\n",
            "  user camp colca, camp titicaca and camp moray kitchen staff ready for team season! ðð   campseffect  user \n",
            "belgian chocolate cake decorated in a paw patrol theme with a handmade figure.   rdâ¦ \n",
            "ð be happy always .. friday  followback followme \n",
            "jalandhar  user says   not appointing honest police officers which  user will do  user\n",
            "  to think that there is only  quaers left in the nba season ð¢ð\n",
            "when you had to giveaway your  user tickets  \n",
            "i finally found a way how to delete old tweets! you might find it useful as well:    deletetweets\n",
            "when she leaves you little notes. girlfriend keys notes work love cute   aleenaali \n",
            " user sessions to african-americans: fear not   user  user jeffsessions imagemakeovers makeoâ¦\n",
            "i just saw someone jogging, its pm on a saturday..is this impressive or  ? i don't know either\n",
            "fuck about yesterday!ðð»ðtagsforlikes me tbt cute photooftheday followme   beautifulâ¦ \n",
            "blackjack   buffalo simulation: buffalo for you to take in the vicinity of their homes to do. in this way, \n",
            " â f-secure's mikko hypponen details  top cybercrime trends   blog silver gold forex\n",
            "why are all our local mps so   about the downgrade of our hospital? savethealex \n",
            " user  waiting for ur new project wid  user  .. ð  user  user  user  user\n",
            "after  years of somehow failing to grow cerinthe, i have my first flower...and many, many more to follow   \n",
            "zikzinday asiaprince  user \n",
            " packetswitching keepeconomy gmr truth sizzling unleash  iwsg surging educaâ¦ \n",
            " white girl has sex with black guy girls nackt video free online\n",
            "are you black &amp; feel like the  are stomping on you? â¦  retweet tampa miamiâ¦ \n",
            "getting ready to binge watch oitnb bedâï¸snacksâï¸        wine âï¸acâï¸  user netflixandchill    casey letsdothis solo\n",
            " user it is also their only playable game/demo at the conference. smh  \n",
            "bullshit an essay still get an \"a\"  \n",
            "  user   ramadan to all  mussulmanic twitter friends..blesessing month....n happy. .ððð»â® \n",
            "we're pleased to announce the upcoming launch of our online platform! keep your eyes peeled for more!   clothing branding\n",
            "sad to see so many fake warrior fans. especially when you were a laker fan a month ago.  \n",
            " user  user  user  user the real  and antisemites are  user and the progressive minions, not freedom loâ¦\n",
            "just collected the giveaway prizes from  user once i reach  followers i will be telling you all about it   thankyou\n",
            "nailed it! ðªð» running achieve    ð£ \n",
            " user bottom line he felt isolated alone  ;he was raised where america those traits have nothing do w religion vs society\n",
            "  user officially packed half of my hospital bag. baby's going home outfit is  user themed :) giving bih in the next -â¦\n",
            " user closing my eyes radical islam radical islam radical islam. opening my eyes are they gone yet. f'n ridiculous. tragic  \n",
            "  user tea time is the best time. food fotd foodie foodporn foodoftheday   love deliciousâ¦ \n",
            "bbfs thesegirls makemehappy instadaily instamood   instagood smiles   ihop \n",
            "  user  user . smiles to you angie! hope you're   &amp; with peace  have a beautiful day!  smile &amp; laugh \n",
            "  happy rd bihday, noh west: celebrate with her cutest pics with mom kim kardashian!: the daughter ... \n",
            "yes..mind you not only counting you have to find them... very few hospitals are digitized.. need to improve hmis \n",
            "  user goodies for  user ð ðððâï¸ ð   earlyyears childcare \n",
            "love this weather so much!âð§  \n",
            " user my video on the whole  user situation boycottdelta exposed truth  fraud adamsaleh delta prankster \n",
            "instead of explaining his positions to those he disagrees with  user blocks them.  . climatechange leadership wws renewables\n",
            "i dont want a world like this... homophonia? its not a phobie there are just asshole!  praygay     orlando prayfororlando\n",
            " user you might be a libtard if... libtard  sjw liberal politics \n",
            "the saddest moment of my day is when i wait for beau to get on the bus but he never does... busbuddies  \n",
            "where to go? home ð mexico see you soon   found family casildaop \n",
            "  user one of my does is pullin mad fur. hopefully wake up to some baby bunnies tomorrow!firstlitter   lionheadrabbits\n",
            " user thank you for your thoughts and prayers for the victims...  !\n",
            "i guess this comes back to a resources thing &amp; possibly even a confidence thing? should be a cracking game.   \n",
            "me &amp; my love jacksonlevans sleep nap love itsalmostover   relaxed \n",
            "the strength of our motivation is such honest reviews   customers zomatoreview zomato \n",
            "dark forest thailand bangkok lumpinipark forest evening light relax   cold goodâ¦ \n",
            "childhood   bull up: you will dominate your bull and you will direct it whatever you want it to do. when yo \n",
            "aww yeah it's all good bing bong bing bong   \n",
            "orlandonightclubshooting   rip ripchristina tragic worst mass shooting in u.s. history \n",
            "i'm only   when it rains.\n",
            "have my lover stop being angry at me visit us..&gt;&gt;&gt;  lover   friend astrologer love \n",
            "  bihday flor ...the best master mixer in the world ......xoxo  feliz cumpleaã±os flor .... el... \n",
            " user stop these  chelski fans. equality diversity \n",
            "now playing  :  moon ate the dark - \" messy heas\" on    melancholy   melancholymusic\n",
            "i never took warren as just another shillhill .   \n",
            "what petty airpo this is arlanda.  limiting amount of free wifi.either offer it or dont sometimes there are flight delays   stockholm\n",
            "my beautiful girl zelda all   after grooming dog pretty puppy ilovehersomuch shes spoiled \n",
            "  user goodmorning jaijagaanath   rajo place - view of jagannath temple from emmar matha, puri odisha india... \n",
            "scientific meeting of  user followed by bollywood inspired feastðð½   minds &amp; happy tummys!âºï¸ perfect \n",
            "  fathersday ! looking for something to do? see what's trending in your community at  \n",
            "what has todayâs attitude to women got in common with that of norman bates? psycho feminism hollaback  \n",
            "outstanding achievement. very happy :)    greatday\n",
            " user   fathers day to you ðð\n",
            "i muted her because if she comes back to say something sma and inconsiderate about me all because she can't learn to love herself... \n",
            "i love edm so much :))) can't wait to get logic pro in the future ð  \n",
            " user in the coming days every politician and pundit will spin this tragedy to benefit their own agenda, regardless of pay.  \n",
            "  user watching the football players look down on the cross country team.   highschool\n",
            "hatred,greed&amp; destroyed many lives,but mad leadership &amp; bad government policies have destroyed more. newyear politics\n",
            "this reminds me of this. i am   love these two ... they are golden. arrow  olicity \n",
            "  user nd week in group  at  school and won a medal iamthecompetition proud   bhafc ynwa \n",
            "morning little guys,  see ya later \n",
            "final grades are in.   ðð\n",
            "bringing back morals obama  dividerofanation \n",
            "i doodling in my sketchbook ....  character graphicdesign inspired   itsagirlthingâ¦ \n",
            "at  user ready for  user vip bring it on!!   ð¤ð\n",
            " sleeps annual holiday to spain   ððð  \n",
            "we are too! \n",
            "hellooooð hello   smile enjoy travelling travelingram ootd farmhouse seru  user \n",
            "  user âï¸ to boston, ma   fun weekend  user onmyway\n",
            " taeiriya: [fanedit] happy th bihday to my only moon taeil ðð  taeil_th taeil_thailand sonofthemoonid  â¦ \n",
            " user doesn't care abt u. let's be honest. he cares about himself &amp; his money!! all of you are getting played.   neverump\n",
            "really looking forward to playing  two sets at  user tonight for  user grad ball! it should be a great night!  \n",
            "have a beautiful saturday! â¤ï¸ . . . . day  photos saturday   weekendâ¦ \n",
            " user love this!!! i did the  user half this yr as my first half marathon. signed up last week to do winchester  \n",
            "paladino is one of a rare breed of  that should be shot in the street and left pissing blood in the gutter. \n",
            ", anyways , i'm more focused on my music than what shows , i'm just handling the business credentials now...maaaaynneeeeee  \n",
            "i am thankful for summer. thankful positive     \n",
            " user  user  user .....every fight.  \n",
            "  national iced tea day love  user  user  user  user ð·ððâ¤ \n",
            "  hardcore anthems couple sleep naked  \n",
            "[.] update    social analytics smile nascar success hustle   \n",
            "soon, i will sing my hea out along with  user   \n",
            "it just turned into a really good day. ð   relieved newforme\n",
            "happy wedding!   wedding \n",
            "can lighttherapy help with   or depression?   altwaystoheal healthy is happy !! \n",
            "  user   , education, smilingbutimclosetotears   hows your week been... \n",
            "ð you'll never find rainbows if your looking down ð rainbow   pitsofinstagramâ¦ \n",
            "  father's dayð love my daddy!!ripð¦ \n",
            "yes, thanks trump for pointing to a poll that shows you losing. trumpfail  .  \n",
            "besis my lovers ððð funnymoments funny   time sunday funnyday instaphotoâ¦ \n",
            "  user  user  user is launching in one day! we repeat, one day!   thermiuklaunch beconfident thermi\n",
            "please don't forget to use the word ! that is what \"binds\" these men. we can never ignore or excuse thatâ¦ \n",
            "love   gorilla simulator: you need to do to adapt to the environment. the need to tear the city. material d \n",
            "so much   shit going on in the world... â¹ï¸.  people. geeesh!\n",
            "pa represents.  proud ,   filibuster live stream\n",
            "sta laughing! crying only makes you sad.   laugh cry   distressed anxious change mindset depressed \n",
            " user interviewed x by fbi and still able to buy assault rifles, sickening! just don't understand. somethinghastochange orlando  \n",
            "  user go hea her page and videos!  user follow  thongthursday sexy   girlsoftwitter ngot \n",
            "oops  my doughnut came before my jam..   user\n",
            "i did wear something for me really excited to be a song. did wear really  \n",
            "summer formentera comounniã±o bomba   friday   formentera beach \n",
            "hi  user we hear you're coming to mk  . where about a will you be?\n",
            " user 'an unappetizing scam' :-) | women, we need to throw off the  shackles of salad | food foodie |â¦ \n",
            "so   to share the simple, elegant businesscards i designed for gracious muse jewelry! \n",
            "one of my worship experiences today on father's day included  references to the holy as \"father\" and none as \"mother\" or \"parent\"  \n",
            "final day in my front end web development class today  user  thankfulthursday  \n",
            "my early father's day gift.. i got both my son's with me for father's day...   satisfiedâ¦ \n",
            "happy greatful sunday folks! heva great day ð   sunday methodist gerejamethodistâ¦ \n",
            "when \"brundlefly\" is the only way you can think to describe your nose hair status to your wife.  \n",
            "ð   the complete list of indian olympic medal winners  \n",
            " user  user  user  user thats the standard of our home minister.  \n",
            "  father's day to all the awesome fathers out there! with love --rome business school \n",
            "on route to royalascot praying the rain can hold off for the picnic at least today !!   dayout\n",
            "happy daddy's day to all the fab dads out there fathersday  fathersday   \n",
            "that hammock just attempted whitegenocide lies tinfoilhat fakenews altrightcards  \n",
            "  user it's off to watch the football game between romania &amp; france! ðð goromania   \n",
            "  user tgif   ff to my gamedev indiedev indiegamedev squad!  user  user  user  user  user\n",
            "i am unwavering. i_am positive affirmation     \n",
            "we're on the ferry!ð    user \n",
            " user there was plenty of chat about the biltong on the e match commentary  &amp;hungry\n",
            "  fathers day from the otherside ghostasylum ghosthunting gopro staup scienceproject paranormal mit \n",
            "coffee anyone?   humpday ladies wednesdayisgeorgeday georgeclooney handsome love â¤ï¸ \n",
            "have you seen our latest designs? vote for your favorites:  cactus hug cute   green \n",
            "the view user park   graduation \n",
            "bday entourage â¤â¤â¤ love instagood me itsmybihday us cute follow photooftheday  â¦ \n",
            "i hate it when i see people rounding up other followers to back up their opinion about a tweet a tweeter. this to me is also bullying  \n",
            "got gemfm on in the office playing some great tunes and i'm feeling very   it'sâ¦ \n",
            "  wednesday all! hoping you enjoy your day with much,much tweet blissful aum. logging out:wed :am june   eugina g. herrera\n",
            "summer ðð´ð   love  stylemen style stylenanda styles instastyle stylefileâ¦ \n",
            "some of the things i've been working on for  user this week.   to see this game come together! \n",
            "just bought tickets to take mum to see  user been her dream for  years to see them conce  \n",
            "  user for those of us who lost our wonderful dads too soon, this hard day is almost over. ð  fathersday  \n",
            "one year ð june summer hot hair follow me followme hastag smile   blue eyesâ¦ \n",
            "top  food items a   seasonal affective disorder patient must avoid peh busselton hoba wellington  \n",
            "loving the sun today! summer sunny garden sunbathing   chilling relaxing \n",
            "  user the all-new jaguarfpace on its way to jaguarstb!   comingsoon jaguar fpace \n",
            "after spending a week in bed sick, i finally get to leave the house. que energyoverload!   \n",
            "  user \"today is here\" -everyone going to blast  \n",
            " user shit i just realized your account isn't a month old. it's only a few weeks old. that's more like  tweets a day. just  \n",
            "  user   my call back!  casting castingcall model cute toddler toddlerlife photooftheday nofilter family   httâ¦\n",
            "just got done watching  hrs. man what did we do to our people.  shameful we need trump now.  user our gov. is pathetic.  \n",
            "  fathers special dai congroutz  al fatherz\n",
            "traveling happy family   holidays car sunnyday sunny sunday glasses enjoyâ¦ \n",
            "  humpday  enjoy my newest act simply titled \"stripper\" i filmed this yesterday to applyâ¦ \n",
            "  user nohwestern researchers say chronicpain rewires pas of the brain that make us happy or  . \n",
            "smoking a black in an eno ðº  \n",
            "  user   wednesday! questions or biking needs/wants? check out our page! \n",
            "  user dust   piano by gummy beatz.   beats\n",
            "us refuses to veto resolution on israel  zionism illegalsettlements  \n",
            " user allahsoil we should not conflate islamic extremism with terrorism    emiratis inâ¦\n",
            "see what russia is doing in syria,  destroying masjids  \n",
            "now playing  :  philip aaberg - \" elegy\" on    melancholy   melancholymusic\n",
            "i want some cereal &amp; ain't tryna get up ð  \n",
            "um escue me but, where is deez animals?  user  user wheredapuppjes ciymove  \n",
            "when your house is full of people and all you want to do is lock yourself in your room.    depression\n",
            "apparently the nba is now the new wwe! tim donaghy: nba suspended green to prolong finals  via  user mindblown  \n",
            "thank you for following  user it's nice to meet you. ð·friends   tuesday ð \n",
            "what is the world coming to? are massacres going to be a way of life?   \n",
            "  user *big annoucement* you will be able to play as prompto on psvr finalfantastyxv sonye gameate   \n",
            "sunday funday!! ðð»âð   smile  happiness love \n",
            "  user my beautiful princess mummy muma bestfriend beaut smiley   \n",
            "all stocked up waiting now for lowery and dermot to bring this one home   days good luck lads\n",
            " user when will we be able to sta making up the audience??  \n",
            " user thank you! i put up another video after its done! but we're remodeling the whole house!  \n",
            "early evening sunshine at the  user summer garden pay tonight, including some rather cool music   \n",
            "today is flipflopday. so add flipflops to your casual clothes today and be happy summer  \n",
            "please like &amp; share if you are agree  dna dnaquotes quote quoteoftheday love   proverb lifestyle... \n",
            "come on n wake the eff up usa! this is craziness. does it all stem from  n hatred of obama ? it seems likeâ¦ \n",
            "we spent familytime by doing simple wefie, we're   latepost melawanarus untukâ¦ \n",
            "mass shooting in us = grp calling to ban guns. grp defending guns. gun comp stocks soar. victims become side note.   orlandounited\n",
            " episode  of our vlog is now live!!!   interrailing london to amsterdam britishguy austriangirl blonde\n",
            " amazing health benefits of cucumbers!    healthy is  !!  doplants! \n",
            "mirrorofthewitch ep time!!!   ððð\n",
            "  user i am thankful for inspiration. thankful positive     \n",
            "feels good to know god's grace and mercy are infiniteâ¢   tho chapelflow \n",
            "i will be so angry with arsenal if city sign aubameyang for the money which we could afford   arsenal afc ð¤ð¤ \n",
            "dr. frances cress welsing - racism defined whitesupremacy  drfranciscresswelsing \n",
            "get high and leave everything else behind ð¸ good night havefun   drink love peaceâ¦ \n",
            "yumy yumy. ð° three milks cake (toa tres leches) made by my ðª    cake desseâ¦ \n",
            "ð   tech  bitcoin postcards you can send to your fellow bitcoiners  \n",
            "girliguessimwithdeath lets get this trending  \n",
            "great day editing my first block. watching all the great work everyone did back is a joy   wow\n",
            "how stupid are the russians and english fans killing each other for a - game ! please grow up euro  \n",
            "sunday night. ðªðgoals   tomorrow's a new day new goals .ððð\n",
            " user the end of   me selfie  love messi cr religion christianity mecca_live \n",
            "  father's day to all that deserve to be call a dad even if it's a woman. god blessâ¦ \n",
            "last one ðð . appletstag lastone ipromise selfie sorrynotsorry fun nofilter summer  â¦ \n",
            "i will always remember dl for the day we got engaged  user   download downloadfestival\n",
            " user  user  nothing. that would be .  taharrush taharrushgamea rapeugee \n",
            "model   i love u take with u all the time in urð±!!! ððððð¦ð¦ð¦  \n",
            "  user i love you for this ð¹ð¹ðð¾ \n",
            " !!!! new  user showerdec on its way for installation next week!!! looking forward to fitting it! teamcontour\n",
            " user love that your statements came from the man who was rebuked by voters in .   goodluckinnovember loser\n",
            "if dudes wana fuck eachother n get married, i can never be mad at tht. jus means more females for me! damn orlando  omg gay  \n",
            "steak night at work means a night off training, shandy, tv, chocolate and knitting.  â¦  \n",
            " user  user not a brown-noser?? you're practically making out with hillary in your profile pictureðð¼ð© \n",
            " .... because i choose to be. \n",
            "i couldn't end  without mentioning trump.  feminism photographs shockfactor  \n",
            "chateaubriand stovells absolutely lovely food yum   \n",
            "  user frarou woohoo! euro kicks off..!  \n",
            "and here i thought  user  and i were having a lovely conversation. i guess he only debates with people he agrees with.  \n",
            "happy tuesday!! feeling fantastic today. looking forward to tonight's workout. smile  â¦ \n",
            "i feel horrible just watching my brother being sick  \n",
            "what the hell is wrong with humanity? why would anyone need to do anything to prove his faith?ridiculous   \n",
            "lily's current outfit of choice ð baby lily fluffysocks dressup butterfly backpack  â¦ \n",
            "love this clickðð exclusive pic of  user  on ssk set handsome hot dashing smile    user \n",
            "  friday everyone ðð morning fridayfeeling love kind behappy \n",
            "i love my friends! happy sunday funday everyone!   sunday funday friends squad goofballs \n",
            "hea is the easiest thing which can be fooled,  i am  , i am sad and it just takes a thought to be anywhere in btw them ð\n",
            "  user when bae is at work and can't text you and you have no one to talk to.  \n",
            "what an afternoon! ðð  \n",
            "a follow up from the gentlemen who were kicked off of  user airlines for simply speaking arabic    \n",
            "aã±olevyrrroni  user   user levyrroni recuerdos memories... ð­â¤ð«ð recuerdos   friends life \n",
            "my hea is perfect because you are inside ð  love loveforever couple   gratefulâ¦ \n",
            "did  keep colinpowell and condoleezzarice from being secretaryofstate? words not to use in  . jumpedtheshark\n",
            " user feminismiscancer feminismisterrorism feminismmuktbharat why  malevote is ignored   user\n",
            " user i c sociopaths low iq satanic everything that is an abomination god will b the norm as well as committing a felonies  \n",
            " user thanks gemma  \n",
            " user judd is a  &amp; homophobic freemilo milo freemilo milo freemilo milo freemilo milo freemilo\n",
            "lady banned from kentucky mall.  user  jcpenny kentucky  \n",
            "ugh i'm trying to enjoy my happy hour drink &amp; there is talks of politics in the bar can we guess what they are discussing ugh!!   hour\n",
            "want to know how to live a   life? do more things that make you happy and less things that make you unhappy! it's that simple!\n",
            "love island ð  \n",
            "my fav actor vijaysethupathi ! my fav actress  user ! my most fav director  user !! one film !! can't wait   :)\n",
            "whew  ð it's a productive and   friday!!!\n",
            " user she's finally here!  user   \n",
            "passed first year of uni yay love pass unistudent photographystudent ucs soproud  \n",
            "this week is flying by   humpday - wednesday kamp ucsdâ¦ \n",
            "  user modeling photoshoot this friday yay model me follow emo   \n",
            "you're surrounded by people who love you (even more than you deserve) and yet, why are so hateful?   \n",
            "feel like... ðð¶ð dog summer hot help sun day   more \n",
            " user omfg i'm offended! i'm a  mailbox and i'm proud! mailboxpride  liberalisme\n",
            " user  user you don't have the balls to hashtag me as a  but you say i am to weasel away.. lumpy tony.. dipshit.\n",
            " makes you ask yourself, who am i? then am i anybody? until ....god . oh thank you god!\n",
            "hear one of my new songs! don't go - katie ellie youtube original music song relationship songwriter    \n",
            "  user you can try to 'tail' us to stop, 'butt' we're just having too good of a time!  goldenretriever   animals \n",
            "i've just posted a new blog: secondlife lonely neko   \n",
            " user you went too far with  user  \n",
            "good morning instagram shower water berlin berlincitygirl   girl newyork zã¼rich genf bern \n",
            "holiday   bull up: you will dominate your bull and you will direct it whatever you want it to do. when you \n",
            "less than  weeks ððð¼ð¹ððµ  user ibizabringitonmallorcaholidayssummer  \n",
            "off fishing tomorrow  user carnt wait first time in  years  \n",
            "ate  user isz that youuu?ðððððððððâ¤ï¸ \n",
            "  to see nina turner on the airwaves trying to wrap herself in the mantle of a genuine hero like shirley chisolm. shame imwithher\n",
            "listening to sad songs on a monday morning otw to work is sad  \n",
            " user sikh temple vandalised in in calgary, wso condemns  act  \n",
            "thank you  user for you follow  \n"
          ]
        },
        {
          "output_type": "execute_result",
          "data": {
            "text/plain": [
              "0        None\n",
              "1        None\n",
              "2        None\n",
              "3        None\n",
              "4        None\n",
              "         ... \n",
              "31957    None\n",
              "31958    None\n",
              "31959    None\n",
              "31960    None\n",
              "31961    None\n",
              "Name: tweet, Length: 31962, dtype: object"
            ]
          },
          "metadata": {},
          "execution_count": 49
        }
      ]
    },
    {
      "cell_type": "code",
      "source": [
        ""
      ],
      "metadata": {
        "id": "2cGNR7KQ2lQ-"
      },
      "execution_count": null,
      "outputs": []
    },
    {
      "cell_type": "code",
      "source": [
        ""
      ],
      "metadata": {
        "id": "0MWDHL9W2lTj"
      },
      "execution_count": null,
      "outputs": []
    },
    {
      "cell_type": "code",
      "source": [
        ""
      ],
      "metadata": {
        "id": "Lyoid_bF2lVf"
      },
      "execution_count": null,
      "outputs": []
    },
    {
      "cell_type": "code",
      "source": [
        ""
      ],
      "metadata": {
        "id": "K-Whs9mZ2lYF"
      },
      "execution_count": null,
      "outputs": []
    },
    {
      "cell_type": "code",
      "source": [
        ""
      ],
      "metadata": {
        "id": "38P0r18c2lag"
      },
      "execution_count": null,
      "outputs": []
    },
    {
      "cell_type": "code",
      "source": [
        ""
      ],
      "metadata": {
        "id": "v0xiEsCF2ldd"
      },
      "execution_count": null,
      "outputs": []
    },
    {
      "cell_type": "code",
      "source": [
        "df.shape"
      ],
      "metadata": {
        "colab": {
          "base_uri": "https://localhost:8080/"
        },
        "id": "gSOHFKvNoNxE",
        "outputId": "77949cc6-e382-44b5-da40-e6e30e033eed"
      },
      "execution_count": null,
      "outputs": [
        {
          "output_type": "execute_result",
          "data": {
            "text/plain": [
              "(31962, 3)"
            ]
          },
          "metadata": {},
          "execution_count": 14
        }
      ]
    },
    {
      "cell_type": "code",
      "source": [
        "stop_words = set(stopwords.words('english'))\n",
        "stop = [x.lower() for x in stop_words]\n",
        "lemma = WordNetLemmatizer()"
      ],
      "metadata": {
        "id": "hVVXtcTUpGH_"
      },
      "execution_count": null,
      "outputs": []
    },
    {
      "cell_type": "code",
      "source": [
        "shortcuts = {'u': 'you', 'y': 'why', 'r': 'are', 'doin': 'doing', 'hw': 'how', 'k': 'okay', 'm': 'am', 'b4': 'before',\n",
        "'idc': \"i do not care\", 'ty': 'thankyou', 'wlcm': 'welcome', 'bc': 'because', '<3': 'love', 'xoxo': 'love',\n",
        "'ttyl': 'talk to you later', 'gr8': 'great', 'bday': 'birthday', 'awsm': 'awesome', 'gud': 'good', 'h8': 'hate',\n",
        "'lv': 'love', 'dm': 'direct message', 'rt': 'retweet', 'wtf': 'hate', 'idgaf': 'hate',\n",
        "'irl': 'in real life', 'yolo': 'you only live once'}"
      ],
      "metadata": {
        "id": "PmchGi58pGK2"
      },
      "execution_count": null,
      "outputs": []
    },
    {
      "cell_type": "code",
      "source": [
        "def clean(text):\n",
        "  text = text.lower()\n",
        "  # keep alphanumeric characters only\n",
        "  text = re.sub('\\W+', ' ', text).strip()\n",
        "  text = text.replace('user', '')\n",
        "  # tokenize\n",
        "  text_token = word_tokenize(text)\n",
        "  # replace shortcuts using dict\n",
        "  full_words = []\n",
        "  for token in text_token:\n",
        "    if token in shortcuts.keys():\n",
        "      token = shortcuts[token]\n",
        "    full_words.append(token)\n",
        "  words_alpha = [re.sub(r'\\d+', '', word) for word in full_words]\n",
        "  words_big = [word for word in words_alpha if len(word)>2]\n",
        "  stemmed_words = [lemma.lemmatize(word) for word in words_big]\n",
        "      # join list elements to string\n",
        "  clean_text = \" \".join(stemmed_words)\n",
        "  clean_text = clean_text.replace(' ', ' ')\n",
        "  clean_text = clean_text.replace(' ', ' ')\n",
        "  return clean_text"
      ],
      "metadata": {
        "id": "E2xFOebXpGTo"
      },
      "execution_count": null,
      "outputs": []
    },
    {
      "cell_type": "code",
      "source": [
        "X_train = train.tweet\n",
        "y = train.label\n",
        "X_test = test.tweet"
      ],
      "metadata": {
        "id": "jhu0Ihdup_m8"
      },
      "execution_count": null,
      "outputs": []
    },
    {
      "cell_type": "code",
      "source": [
        "clean_Xtrain = X_train.apply(lambda x: clean(x))"
      ],
      "metadata": {
        "id": "Ea16jCyTqHwP"
      },
      "execution_count": null,
      "outputs": []
    },
    {
      "cell_type": "code",
      "source": [
        "clean_Xtest = X_test.apply(lambda x: clean(x))"
      ],
      "metadata": {
        "id": "7-5OoiZsr32z"
      },
      "execution_count": null,
      "outputs": []
    },
    {
      "cell_type": "code",
      "source": [
        "vectorizer = CountVectorizer(max_df=0.5)\n",
        "# vectorizer = TfidfVectorizer(ngram_range=(1,3), max_df=0.5)\n",
        "X = vectorizer.fit_transform(clean_Xtrain)\n",
        "X_test = vectorizer.transform(clean_Xtest)"
      ],
      "metadata": {
        "id": "PaPVsiLerUxm"
      },
      "execution_count": null,
      "outputs": []
    },
    {
      "cell_type": "code",
      "source": [
        "from sklearn.linear_model import LogisticRegression\n",
        "model = LogisticRegression()\n",
        "print(model)"
      ],
      "metadata": {
        "colab": {
          "base_uri": "https://localhost:8080/"
        },
        "id": "aaoQ9BcdrxCs",
        "outputId": "008fd42b-ccbe-4cab-912f-828f3bed8a56"
      },
      "execution_count": null,
      "outputs": [
        {
          "output_type": "stream",
          "name": "stdout",
          "text": [
            "LogisticRegression()\n"
          ]
        }
      ]
    },
    {
      "cell_type": "code",
      "source": [
        "X_train, X_val, y_train, y_val = train_test_split(X, y, test_size=0.20, random_state=0)\n",
        "# calculate f1 score\n",
        "model.fit(X_train,y_train)\n",
        "y_pred = model.predict(X_val)\n",
        "print('Accuracy:', accuracy_score(y_pred, y_val))\n",
        "print(\"F1 Score: \", f1_score(y_pred, y_val))"
      ],
      "metadata": {
        "colab": {
          "base_uri": "https://localhost:8080/"
        },
        "id": "7HIPf1Xur-cv",
        "outputId": "ed49abbe-c302-4aeb-a4d4-44b0493eded3"
      },
      "execution_count": null,
      "outputs": [
        {
          "output_type": "stream",
          "name": "stdout",
          "text": [
            "Accuracy: 0.9627717816361645\n",
            "F1 Score:  0.6404833836858006\n"
          ]
        },
        {
          "output_type": "stream",
          "name": "stderr",
          "text": [
            "/usr/local/lib/python3.7/dist-packages/sklearn/linear_model/_logistic.py:818: ConvergenceWarning: lbfgs failed to converge (status=1):\n",
            "STOP: TOTAL NO. of ITERATIONS REACHED LIMIT.\n",
            "\n",
            "Increase the number of iterations (max_iter) or scale the data as shown in:\n",
            "    https://scikit-learn.org/stable/modules/preprocessing.html\n",
            "Please also refer to the documentation for alternative solver options:\n",
            "    https://scikit-learn.org/stable/modules/linear_model.html#logistic-regression\n",
            "  extra_warning_msg=_LOGISTIC_SOLVER_CONVERGENCE_MSG,\n"
          ]
        }
      ]
    },
    {
      "cell_type": "code",
      "source": [
        "df = pd.DataFrame()\n",
        "df['y_pred'] = y_pred\n",
        "df['y_pred'].value_counts()"
      ],
      "metadata": {
        "colab": {
          "base_uri": "https://localhost:8080/"
        },
        "id": "i2qM1EOHsBPd",
        "outputId": "7fd41fc2-ce95-44fc-f502-77ffe375c8f5"
      },
      "execution_count": null,
      "outputs": [
        {
          "output_type": "execute_result",
          "data": {
            "text/plain": [
              "0    6139\n",
              "1     254\n",
              "Name: y_pred, dtype: int64"
            ]
          },
          "metadata": {},
          "execution_count": 34
        }
      ]
    },
    {
      "cell_type": "code",
      "source": [
        "model.fit(X, y)\n",
        "y_pred = model.predict(X_test)"
      ],
      "metadata": {
        "colab": {
          "base_uri": "https://localhost:8080/"
        },
        "id": "oezCEYDXsF7y",
        "outputId": "505c180d-9247-4d15-a6e9-96d28c45e370"
      },
      "execution_count": null,
      "outputs": [
        {
          "output_type": "stream",
          "name": "stderr",
          "text": [
            "/usr/local/lib/python3.7/dist-packages/sklearn/linear_model/_logistic.py:818: ConvergenceWarning: lbfgs failed to converge (status=1):\n",
            "STOP: TOTAL NO. of ITERATIONS REACHED LIMIT.\n",
            "\n",
            "Increase the number of iterations (max_iter) or scale the data as shown in:\n",
            "    https://scikit-learn.org/stable/modules/preprocessing.html\n",
            "Please also refer to the documentation for alternative solver options:\n",
            "    https://scikit-learn.org/stable/modules/linear_model.html#logistic-regression\n",
            "  extra_warning_msg=_LOGISTIC_SOLVER_CONVERGENCE_MSG,\n"
          ]
        }
      ]
    },
    {
      "cell_type": "code",
      "source": [
        "submission['label'] = y_pred\n",
        "submission.to_csv('/content', index=False)"
      ],
      "metadata": {
        "colab": {
          "base_uri": "https://localhost:8080/",
          "height": 340
        },
        "id": "a8VKL9lpsLeW",
        "outputId": "5398d30d-73bd-462e-a383-abae9f3db553"
      },
      "execution_count": null,
      "outputs": [
        {
          "output_type": "error",
          "ename": "IsADirectoryError",
          "evalue": "ignored",
          "traceback": [
            "\u001b[0;31m---------------------------------------------------------------------------\u001b[0m",
            "\u001b[0;31mIsADirectoryError\u001b[0m                         Traceback (most recent call last)",
            "\u001b[0;32m<ipython-input-41-8ba575915c77>\u001b[0m in \u001b[0;36m<module>\u001b[0;34m()\u001b[0m\n\u001b[1;32m      1\u001b[0m \u001b[0msubmission\u001b[0m\u001b[0;34m[\u001b[0m\u001b[0;34m'label'\u001b[0m\u001b[0;34m]\u001b[0m \u001b[0;34m=\u001b[0m \u001b[0my_pred\u001b[0m\u001b[0;34m\u001b[0m\u001b[0;34m\u001b[0m\u001b[0m\n\u001b[0;32m----> 2\u001b[0;31m \u001b[0msubmission\u001b[0m\u001b[0;34m.\u001b[0m\u001b[0mto_csv\u001b[0m\u001b[0;34m(\u001b[0m\u001b[0;34m'/content'\u001b[0m\u001b[0;34m,\u001b[0m \u001b[0mindex\u001b[0m\u001b[0;34m=\u001b[0m\u001b[0;32mFalse\u001b[0m\u001b[0;34m)\u001b[0m\u001b[0;34m\u001b[0m\u001b[0;34m\u001b[0m\u001b[0m\n\u001b[0m",
            "\u001b[0;32m/usr/local/lib/python3.7/dist-packages/pandas/core/generic.py\u001b[0m in \u001b[0;36mto_csv\u001b[0;34m(self, path_or_buf, sep, na_rep, float_format, columns, header, index, index_label, mode, encoding, compression, quoting, quotechar, line_terminator, chunksize, date_format, doublequote, escapechar, decimal, errors, storage_options)\u001b[0m\n\u001b[1;32m   3480\u001b[0m             \u001b[0mdoublequote\u001b[0m\u001b[0;34m=\u001b[0m\u001b[0mdoublequote\u001b[0m\u001b[0;34m,\u001b[0m\u001b[0;34m\u001b[0m\u001b[0;34m\u001b[0m\u001b[0m\n\u001b[1;32m   3481\u001b[0m             \u001b[0mescapechar\u001b[0m\u001b[0;34m=\u001b[0m\u001b[0mescapechar\u001b[0m\u001b[0;34m,\u001b[0m\u001b[0;34m\u001b[0m\u001b[0;34m\u001b[0m\u001b[0m\n\u001b[0;32m-> 3482\u001b[0;31m             \u001b[0mstorage_options\u001b[0m\u001b[0;34m=\u001b[0m\u001b[0mstorage_options\u001b[0m\u001b[0;34m,\u001b[0m\u001b[0;34m\u001b[0m\u001b[0;34m\u001b[0m\u001b[0m\n\u001b[0m\u001b[1;32m   3483\u001b[0m         )\n\u001b[1;32m   3484\u001b[0m \u001b[0;34m\u001b[0m\u001b[0m\n",
            "\u001b[0;32m/usr/local/lib/python3.7/dist-packages/pandas/io/formats/format.py\u001b[0m in \u001b[0;36mto_csv\u001b[0;34m(self, path_or_buf, encoding, sep, columns, index_label, mode, compression, quoting, quotechar, line_terminator, chunksize, date_format, doublequote, escapechar, errors, storage_options)\u001b[0m\n\u001b[1;32m   1103\u001b[0m             \u001b[0mformatter\u001b[0m\u001b[0;34m=\u001b[0m\u001b[0mself\u001b[0m\u001b[0;34m.\u001b[0m\u001b[0mfmt\u001b[0m\u001b[0;34m,\u001b[0m\u001b[0;34m\u001b[0m\u001b[0;34m\u001b[0m\u001b[0m\n\u001b[1;32m   1104\u001b[0m         )\n\u001b[0;32m-> 1105\u001b[0;31m         \u001b[0mcsv_formatter\u001b[0m\u001b[0;34m.\u001b[0m\u001b[0msave\u001b[0m\u001b[0;34m(\u001b[0m\u001b[0;34m)\u001b[0m\u001b[0;34m\u001b[0m\u001b[0;34m\u001b[0m\u001b[0m\n\u001b[0m\u001b[1;32m   1106\u001b[0m \u001b[0;34m\u001b[0m\u001b[0m\n\u001b[1;32m   1107\u001b[0m         \u001b[0;32mif\u001b[0m \u001b[0mcreated_buffer\u001b[0m\u001b[0;34m:\u001b[0m\u001b[0;34m\u001b[0m\u001b[0;34m\u001b[0m\u001b[0m\n",
            "\u001b[0;32m/usr/local/lib/python3.7/dist-packages/pandas/io/formats/csvs.py\u001b[0m in \u001b[0;36msave\u001b[0;34m(self)\u001b[0m\n\u001b[1;32m    241\u001b[0m             \u001b[0merrors\u001b[0m\u001b[0;34m=\u001b[0m\u001b[0mself\u001b[0m\u001b[0;34m.\u001b[0m\u001b[0merrors\u001b[0m\u001b[0;34m,\u001b[0m\u001b[0;34m\u001b[0m\u001b[0;34m\u001b[0m\u001b[0m\n\u001b[1;32m    242\u001b[0m             \u001b[0mcompression\u001b[0m\u001b[0;34m=\u001b[0m\u001b[0mself\u001b[0m\u001b[0;34m.\u001b[0m\u001b[0mcompression\u001b[0m\u001b[0;34m,\u001b[0m\u001b[0;34m\u001b[0m\u001b[0;34m\u001b[0m\u001b[0m\n\u001b[0;32m--> 243\u001b[0;31m             \u001b[0mstorage_options\u001b[0m\u001b[0;34m=\u001b[0m\u001b[0mself\u001b[0m\u001b[0;34m.\u001b[0m\u001b[0mstorage_options\u001b[0m\u001b[0;34m,\u001b[0m\u001b[0;34m\u001b[0m\u001b[0;34m\u001b[0m\u001b[0m\n\u001b[0m\u001b[1;32m    244\u001b[0m         ) as handles:\n\u001b[1;32m    245\u001b[0m \u001b[0;34m\u001b[0m\u001b[0m\n",
            "\u001b[0;32m/usr/local/lib/python3.7/dist-packages/pandas/io/common.py\u001b[0m in \u001b[0;36mget_handle\u001b[0;34m(path_or_buf, mode, encoding, compression, memory_map, is_text, errors, storage_options)\u001b[0m\n\u001b[1;32m    705\u001b[0m                 \u001b[0mencoding\u001b[0m\u001b[0;34m=\u001b[0m\u001b[0mioargs\u001b[0m\u001b[0;34m.\u001b[0m\u001b[0mencoding\u001b[0m\u001b[0;34m,\u001b[0m\u001b[0;34m\u001b[0m\u001b[0;34m\u001b[0m\u001b[0m\n\u001b[1;32m    706\u001b[0m                 \u001b[0merrors\u001b[0m\u001b[0;34m=\u001b[0m\u001b[0merrors\u001b[0m\u001b[0;34m,\u001b[0m\u001b[0;34m\u001b[0m\u001b[0;34m\u001b[0m\u001b[0m\n\u001b[0;32m--> 707\u001b[0;31m                 \u001b[0mnewline\u001b[0m\u001b[0;34m=\u001b[0m\u001b[0;34m\"\"\u001b[0m\u001b[0;34m,\u001b[0m\u001b[0;34m\u001b[0m\u001b[0;34m\u001b[0m\u001b[0m\n\u001b[0m\u001b[1;32m    708\u001b[0m             )\n\u001b[1;32m    709\u001b[0m         \u001b[0;32melse\u001b[0m\u001b[0;34m:\u001b[0m\u001b[0;34m\u001b[0m\u001b[0;34m\u001b[0m\u001b[0m\n",
            "\u001b[0;31mIsADirectoryError\u001b[0m: [Errno 21] Is a directory: '/content'"
          ]
        }
      ]
    },
    {
      "cell_type": "code",
      "source": [
        " str = \"How are 3 you : . How !; 12 is everything\" \n",
        " matches = re.sub(r'\\d+','',str) \n",
        " matches"
      ],
      "metadata": {
        "colab": {
          "base_uri": "https://localhost:8080/",
          "height": 36
        },
        "id": "I1lJYnCYsO9e",
        "outputId": "1f9ccccd-545a-49ad-b1b1-91bd349ed963"
      },
      "execution_count": null,
      "outputs": [
        {
          "output_type": "execute_result",
          "data": {
            "application/vnd.google.colaboratory.intrinsic+json": {
              "type": "string"
            },
            "text/plain": [
              "'How are  you : . How !;  is everything'"
            ]
          },
          "metadata": {},
          "execution_count": 59
        }
      ]
    },
    {
      "cell_type": "code",
      "source": [
        "lemmatizer = WordNetLemmatizer()"
      ],
      "metadata": {
        "id": "TNuOOG170PTF"
      },
      "execution_count": null,
      "outputs": []
    },
    {
      "cell_type": "code",
      "source": [
        "def lemmatize_word(text):\n",
        "\n",
        "   word_tokens = word_tokenize(text)\n",
        "\n",
        "   lemmas = [lemmatizer.lemmatize(word,pos ='v')  for word in word_tokens]\n",
        "\n",
        "   return lemmas\n",
        "\n",
        "text = 'data science uses scientific methods algorithms and many types of processes'\n",
        "\n",
        "lemmatize_word(text)"
      ],
      "metadata": {
        "colab": {
          "base_uri": "https://localhost:8080/"
        },
        "id": "tUHv95uYyXHg",
        "outputId": "c7f741f9-5c65-4e7f-ff47-ae84d802371d"
      },
      "execution_count": null,
      "outputs": [
        {
          "output_type": "execute_result",
          "data": {
            "text/plain": [
              "['data',\n",
              " 'science',\n",
              " 'use',\n",
              " 'scientific',\n",
              " 'methods',\n",
              " 'algorithms',\n",
              " 'and',\n",
              " 'many',\n",
              " 'type',\n",
              " 'of',\n",
              " 'process']"
            ]
          },
          "metadata": {},
          "execution_count": 58
        }
      ]
    },
    {
      "cell_type": "code",
      "source": [
        ""
      ],
      "metadata": {
        "id": "0T9dwxha0Poe"
      },
      "execution_count": null,
      "outputs": []
    },
    {
      "cell_type": "markdown",
      "source": [
        "# **Deep learning**"
      ],
      "metadata": {
        "id": "Iu4TV6etACtk"
      }
    },
    {
      "cell_type": "code",
      "source": [
        "from keras.preprocessing.text import Tokenizer\n",
        "\n",
        "t=Tokenizer()\n",
        "\n",
        "sent=[\"I am a dico dancer \",\" i am kamal g anandh \"]\n",
        "\n",
        "t.fit_on_texts(sent)"
      ],
      "metadata": {
        "id": "vtV2g8DjAE7i"
      },
      "execution_count": null,
      "outputs": []
    },
    {
      "cell_type": "code",
      "source": [
        "t.document_count"
      ],
      "metadata": {
        "colab": {
          "base_uri": "https://localhost:8080/"
        },
        "id": "WILoYnO9AtVe",
        "outputId": "52bbd7c7-bb06-4767-f4e1-b05cf548a01e"
      },
      "execution_count": null,
      "outputs": [
        {
          "output_type": "execute_result",
          "data": {
            "text/plain": [
              "2"
            ]
          },
          "metadata": {},
          "execution_count": 2
        }
      ]
    },
    {
      "cell_type": "code",
      "source": [
        "#repeating words\n",
        "t.word_counts"
      ],
      "metadata": {
        "colab": {
          "base_uri": "https://localhost:8080/"
        },
        "id": "WxXvFp7IAxFK",
        "outputId": "b1c94455-6296-434b-c7d3-4bbf2dd0075f"
      },
      "execution_count": null,
      "outputs": [
        {
          "output_type": "execute_result",
          "data": {
            "text/plain": [
              "OrderedDict([('i', 2),\n",
              "             ('am', 2),\n",
              "             ('a', 1),\n",
              "             ('dico', 1),\n",
              "             ('dancer', 1),\n",
              "             ('kamal', 1),\n",
              "             ('g', 1),\n",
              "             ('anandh', 1)])"
            ]
          },
          "metadata": {},
          "execution_count": 3
        }
      ]
    },
    {
      "cell_type": "code",
      "source": [
        "t.word_index"
      ],
      "metadata": {
        "colab": {
          "base_uri": "https://localhost:8080/"
        },
        "id": "UnQr2tOmBEz3",
        "outputId": "679caed5-ce60-4378-cb39-b6bcb9835d21"
      },
      "execution_count": null,
      "outputs": [
        {
          "output_type": "execute_result",
          "data": {
            "text/plain": [
              "{'a': 3,\n",
              " 'am': 2,\n",
              " 'anandh': 8,\n",
              " 'dancer': 5,\n",
              " 'dico': 4,\n",
              " 'g': 7,\n",
              " 'i': 1,\n",
              " 'kamal': 6}"
            ]
          },
          "metadata": {},
          "execution_count": 4
        }
      ]
    },
    {
      "cell_type": "code",
      "source": [
        "t.word_docs"
      ],
      "metadata": {
        "colab": {
          "base_uri": "https://localhost:8080/"
        },
        "id": "eDd19AEeBbmW",
        "outputId": "8c621a0e-96f0-4b76-9e7b-d984721686ec"
      },
      "execution_count": null,
      "outputs": [
        {
          "output_type": "execute_result",
          "data": {
            "text/plain": [
              "defaultdict(int,\n",
              "            {'a': 1,\n",
              "             'am': 2,\n",
              "             'anandh': 1,\n",
              "             'dancer': 1,\n",
              "             'dico': 1,\n",
              "             'g': 1,\n",
              "             'i': 2,\n",
              "             'kamal': 1})"
            ]
          },
          "metadata": {},
          "execution_count": 5
        }
      ]
    },
    {
      "cell_type": "code",
      "source": [
        "st=\"machine Learning\"\n",
        "\n",
        "seq=t.texts_to_sequences(st)\n",
        "seq"
      ],
      "metadata": {
        "colab": {
          "base_uri": "https://localhost:8080/"
        },
        "id": "tPTPMjG5BrKQ",
        "outputId": "60cc57a8-2e99-4143-9926-50c07b8b6f6d"
      },
      "execution_count": null,
      "outputs": [
        {
          "output_type": "execute_result",
          "data": {
            "text/plain": [
              "[[], [3], [], [], [1], [], [], [], [], [], [3], [], [], [1], [], [7]]"
            ]
          },
          "metadata": {},
          "execution_count": 6
        }
      ]
    },
    {
      "cell_type": "code",
      "source": [
        "#text_to_sequemces\n",
        "t.fit_on_texts(sent)\n",
        "\n",
        "sequences= t.texts_to_sequences(sent)\n",
        "\n",
        "print(\"sequences generated:\",sequences)"
      ],
      "metadata": {
        "colab": {
          "base_uri": "https://localhost:8080/"
        },
        "id": "0U3N070aCkQc",
        "outputId": "14234c5c-5887-4390-a53d-4d3e0bf77e43"
      },
      "execution_count": null,
      "outputs": [
        {
          "output_type": "stream",
          "name": "stdout",
          "text": [
            "sequences generated: [[1, 2, 3, 4, 5], [1, 2, 6, 7, 8]]\n"
          ]
        }
      ]
    },
    {
      "cell_type": "code",
      "source": [
        "doc=[\"marvellous and machine learning \",\"amazing  machine learning in artificial intelligence\",\"deep learning subset of machine learning \",\"Deep learning's computer vision\",\"marvellous natural language processing\"]"
      ],
      "metadata": {
        "id": "S1JMxmw6D0Zw"
      },
      "execution_count": null,
      "outputs": []
    },
    {
      "cell_type": "code",
      "source": [
        "t.fit_on_texts(doc)\n",
        "encoded_docs=t.texts_to_matrix(doc,mode='binary')\n",
        "encoded_docs"
      ],
      "metadata": {
        "colab": {
          "base_uri": "https://localhost:8080/"
        },
        "id": "Nt_nYpXKFGFy",
        "outputId": "e0df4d15-7c6d-47e0-afc9-85712faa55cf"
      },
      "execution_count": null,
      "outputs": [
        {
          "output_type": "execute_result",
          "data": {
            "text/plain": [
              "array([[0., 0., 0., 1., 1., 0., 0., 0., 0., 0., 0., 1., 0., 1., 0., 0.,\n",
              "        0., 0., 0., 0., 0., 0., 0., 0., 0., 0.],\n",
              "       [0., 0., 0., 1., 1., 0., 0., 0., 0., 0., 0., 0., 0., 0., 1., 1.,\n",
              "        1., 1., 0., 0., 0., 0., 0., 0., 0., 0.],\n",
              "       [0., 0., 0., 1., 1., 0., 0., 0., 0., 0., 0., 0., 1., 0., 0., 0.,\n",
              "        0., 0., 1., 1., 0., 0., 0., 0., 0., 0.],\n",
              "       [0., 0., 0., 0., 0., 0., 0., 0., 0., 0., 0., 0., 1., 0., 0., 0.,\n",
              "        0., 0., 0., 0., 1., 1., 1., 0., 0., 0.],\n",
              "       [0., 0., 0., 0., 0., 0., 0., 0., 0., 0., 0., 1., 0., 0., 0., 0.,\n",
              "        0., 0., 0., 0., 0., 0., 0., 1., 1., 1.]])"
            ]
          },
          "metadata": {},
          "execution_count": 9
        }
      ]
    },
    {
      "cell_type": "code",
      "source": [
        "encoded_docs=t.texts_to_matrix(doc,mode='count')\n",
        "encoded_docs"
      ],
      "metadata": {
        "colab": {
          "base_uri": "https://localhost:8080/"
        },
        "id": "SLDLHFhBFVg2",
        "outputId": "67b29277-bb72-4e84-cc3b-d26702700a6f"
      },
      "execution_count": null,
      "outputs": [
        {
          "output_type": "execute_result",
          "data": {
            "text/plain": [
              "array([[0., 0., 0., 1., 1., 0., 0., 0., 0., 0., 0., 1., 0., 1., 0., 0.,\n",
              "        0., 0., 0., 0., 0., 0., 0., 0., 0., 0.],\n",
              "       [0., 0., 0., 1., 1., 0., 0., 0., 0., 0., 0., 0., 0., 0., 1., 1.,\n",
              "        1., 1., 0., 0., 0., 0., 0., 0., 0., 0.],\n",
              "       [0., 0., 0., 2., 1., 0., 0., 0., 0., 0., 0., 0., 1., 0., 0., 0.,\n",
              "        0., 0., 1., 1., 0., 0., 0., 0., 0., 0.],\n",
              "       [0., 0., 0., 0., 0., 0., 0., 0., 0., 0., 0., 0., 1., 0., 0., 0.,\n",
              "        0., 0., 0., 0., 1., 1., 1., 0., 0., 0.],\n",
              "       [0., 0., 0., 0., 0., 0., 0., 0., 0., 0., 0., 1., 0., 0., 0., 0.,\n",
              "        0., 0., 0., 0., 0., 0., 0., 1., 1., 1.]])"
            ]
          },
          "metadata": {},
          "execution_count": 10
        }
      ]
    },
    {
      "cell_type": "code",
      "source": [
        "encoded_docs=t.texts_to_matrix(doc,mode='tfidf')\n",
        "encoded_docs"
      ],
      "metadata": {
        "colab": {
          "base_uri": "https://localhost:8080/"
        },
        "id": "KNlMitF2Fa70",
        "outputId": "b8c0accf-0f74-4d2a-d164-51abd766d7fd"
      },
      "execution_count": null,
      "outputs": [
        {
          "output_type": "execute_result",
          "data": {
            "text/plain": [
              "array([[0.        , 0.        , 0.        , 1.178655  , 1.178655  ,\n",
              "        0.        , 0.        , 0.        , 0.        , 0.        ,\n",
              "        0.        , 1.38629436, 0.        , 1.70474809, 0.        ,\n",
              "        0.        , 0.        , 0.        , 0.        , 0.        ,\n",
              "        0.        , 0.        , 0.        , 0.        , 0.        ,\n",
              "        0.        ],\n",
              "       [0.        , 0.        , 0.        , 1.178655  , 1.178655  ,\n",
              "        0.        , 0.        , 0.        , 0.        , 0.        ,\n",
              "        0.        , 0.        , 0.        , 0.        , 1.70474809,\n",
              "        1.70474809, 1.70474809, 1.70474809, 0.        , 0.        ,\n",
              "        0.        , 0.        , 0.        , 0.        , 0.        ,\n",
              "        0.        ],\n",
              "       [0.        , 0.        , 0.        , 1.99563638, 1.178655  ,\n",
              "        0.        , 0.        , 0.        , 0.        , 0.        ,\n",
              "        0.        , 0.        , 1.38629436, 0.        , 0.        ,\n",
              "        0.        , 0.        , 0.        , 1.70474809, 1.70474809,\n",
              "        0.        , 0.        , 0.        , 0.        , 0.        ,\n",
              "        0.        ],\n",
              "       [0.        , 0.        , 0.        , 0.        , 0.        ,\n",
              "        0.        , 0.        , 0.        , 0.        , 0.        ,\n",
              "        0.        , 0.        , 1.38629436, 0.        , 0.        ,\n",
              "        0.        , 0.        , 0.        , 0.        , 0.        ,\n",
              "        1.70474809, 1.70474809, 1.70474809, 0.        , 0.        ,\n",
              "        0.        ],\n",
              "       [0.        , 0.        , 0.        , 0.        , 0.        ,\n",
              "        0.        , 0.        , 0.        , 0.        , 0.        ,\n",
              "        0.        , 1.38629436, 0.        , 0.        , 0.        ,\n",
              "        0.        , 0.        , 0.        , 0.        , 0.        ,\n",
              "        0.        , 0.        , 0.        , 1.70474809, 1.70474809,\n",
              "        1.70474809]])"
            ]
          },
          "metadata": {},
          "execution_count": 11
        }
      ]
    },
    {
      "cell_type": "code",
      "source": [
        "encoded_docs=t.texts_to_matrix(doc,mode='freq')\n",
        "encoded_docs"
      ],
      "metadata": {
        "colab": {
          "base_uri": "https://localhost:8080/"
        },
        "id": "SaSF-7tTGG7v",
        "outputId": "510f829e-e46d-4810-efdb-55dec23d2461"
      },
      "execution_count": null,
      "outputs": [
        {
          "output_type": "execute_result",
          "data": {
            "text/plain": [
              "array([[0.        , 0.        , 0.        , 0.25      , 0.25      ,\n",
              "        0.        , 0.        , 0.        , 0.        , 0.        ,\n",
              "        0.        , 0.25      , 0.        , 0.25      , 0.        ,\n",
              "        0.        , 0.        , 0.        , 0.        , 0.        ,\n",
              "        0.        , 0.        , 0.        , 0.        , 0.        ,\n",
              "        0.        ],\n",
              "       [0.        , 0.        , 0.        , 0.16666667, 0.16666667,\n",
              "        0.        , 0.        , 0.        , 0.        , 0.        ,\n",
              "        0.        , 0.        , 0.        , 0.        , 0.16666667,\n",
              "        0.16666667, 0.16666667, 0.16666667, 0.        , 0.        ,\n",
              "        0.        , 0.        , 0.        , 0.        , 0.        ,\n",
              "        0.        ],\n",
              "       [0.        , 0.        , 0.        , 0.33333333, 0.16666667,\n",
              "        0.        , 0.        , 0.        , 0.        , 0.        ,\n",
              "        0.        , 0.        , 0.16666667, 0.        , 0.        ,\n",
              "        0.        , 0.        , 0.        , 0.16666667, 0.16666667,\n",
              "        0.        , 0.        , 0.        , 0.        , 0.        ,\n",
              "        0.        ],\n",
              "       [0.        , 0.        , 0.        , 0.        , 0.        ,\n",
              "        0.        , 0.        , 0.        , 0.        , 0.        ,\n",
              "        0.        , 0.        , 0.25      , 0.        , 0.        ,\n",
              "        0.        , 0.        , 0.        , 0.        , 0.        ,\n",
              "        0.25      , 0.25      , 0.25      , 0.        , 0.        ,\n",
              "        0.        ],\n",
              "       [0.        , 0.        , 0.        , 0.        , 0.        ,\n",
              "        0.        , 0.        , 0.        , 0.        , 0.        ,\n",
              "        0.        , 0.25      , 0.        , 0.        , 0.        ,\n",
              "        0.        , 0.        , 0.        , 0.        , 0.        ,\n",
              "        0.        , 0.        , 0.        , 0.25      , 0.25      ,\n",
              "        0.25      ]])"
            ]
          },
          "metadata": {},
          "execution_count": 12
        }
      ]
    },
    {
      "cell_type": "code",
      "source": [
        "#dataset "
      ],
      "metadata": {
        "id": "9AEcoHs_Gee-"
      },
      "execution_count": null,
      "outputs": []
    },
    {
      "cell_type": "code",
      "source": [
        "from keras.datasets import reuters \n",
        "import tensorflow as tf\n",
        "import keras "
      ],
      "metadata": {
        "id": "i2qqapW_vnGC"
      },
      "execution_count": null,
      "outputs": []
    },
    {
      "cell_type": "code",
      "source": [
        "(x_train,y_train),(x_test,y_test)=reuters.load_data(num_words=None ,test_split=0.2)"
      ],
      "metadata": {
        "colab": {
          "base_uri": "https://localhost:8080/"
        },
        "id": "Oc0oX5u6vqHl",
        "outputId": "38a77bde-2de8-472c-cda0-38fc6608bab3"
      },
      "execution_count": null,
      "outputs": [
        {
          "output_type": "stream",
          "name": "stdout",
          "text": [
            "Downloading data from https://storage.googleapis.com/tensorflow/tf-keras-datasets/reuters.npz\n",
            "2113536/2110848 [==============================] - 0s 0us/step\n",
            "2121728/2110848 [==============================] - 0s 0us/step\n"
          ]
        }
      ]
    },
    {
      "cell_type": "code",
      "source": [
        "print(x_train.shape)\n",
        "print(y_train.shape)"
      ],
      "metadata": {
        "colab": {
          "base_uri": "https://localhost:8080/"
        },
        "id": "crSsSz00xeBH",
        "outputId": "4e4db928-f2a4-4841-c7b9-03925199b79f"
      },
      "execution_count": null,
      "outputs": [
        {
          "output_type": "stream",
          "name": "stdout",
          "text": [
            "(8982,)\n",
            "(8982,)\n"
          ]
        }
      ]
    },
    {
      "cell_type": "code",
      "source": [
        "y_train"
      ],
      "metadata": {
        "colab": {
          "base_uri": "https://localhost:8080/"
        },
        "id": "_oLqfgwzxkKr",
        "outputId": "10077fe8-eee4-4469-85a9-429ccb731d8b"
      },
      "execution_count": null,
      "outputs": [
        {
          "output_type": "execute_result",
          "data": {
            "text/plain": [
              "array([ 3,  4,  3, ..., 25,  3, 25])"
            ]
          },
          "metadata": {},
          "execution_count": 23
        }
      ]
    },
    {
      "cell_type": "code",
      "source": [
        "import numpy as np\n",
        "np.unique(y_train)"
      ],
      "metadata": {
        "colab": {
          "base_uri": "https://localhost:8080/"
        },
        "id": "Ahuwnd-1xy0r",
        "outputId": "a8647ac5-adca-4c9b-a1da-a2444d2fd1e7"
      },
      "execution_count": null,
      "outputs": [
        {
          "output_type": "execute_result",
          "data": {
            "text/plain": [
              "array([ 0,  1,  2,  3,  4,  5,  6,  7,  8,  9, 10, 11, 12, 13, 14, 15, 16,\n",
              "       17, 18, 19, 20, 21, 22, 23, 24, 25, 26, 27, 28, 29, 30, 31, 32, 33,\n",
              "       34, 35, 36, 37, 38, 39, 40, 41, 42, 43, 44, 45])"
            ]
          },
          "metadata": {},
          "execution_count": 24
        }
      ]
    },
    {
      "cell_type": "code",
      "source": [
        "num_classes=max(y_train)+1\n",
        "print(\"No of classes :\",num_classes)"
      ],
      "metadata": {
        "colab": {
          "base_uri": "https://localhost:8080/"
        },
        "id": "ure0d_iKx-1X",
        "outputId": "04b87c9f-7665-43c4-ab27-d68809896775"
      },
      "execution_count": null,
      "outputs": [
        {
          "output_type": "stream",
          "name": "stdout",
          "text": [
            "No of classes : 46\n"
          ]
        }
      ]
    },
    {
      "cell_type": "code",
      "source": [
        "import tensorflow as tf\n",
        "import keras"
      ],
      "metadata": {
        "id": "-kEyFNNQywqT"
      },
      "execution_count": null,
      "outputs": []
    },
    {
      "cell_type": "code",
      "source": [
        "from tensorflow.keras.preprocessing.text import Tokenizer\n",
        "max_words=5000"
      ],
      "metadata": {
        "id": "cmeTSMySyJ4n"
      },
      "execution_count": null,
      "outputs": []
    },
    {
      "cell_type": "code",
      "source": [
        "tokenizer=Tokenizer(num_words=max_words)\n",
        "x_train=tokenizer.sequences_to_matrix(x_train,mode=\"binary\")\n",
        "x_test=tokenizer.sequences_to_matrix(x_test,mode=\"binary\")"
      ],
      "metadata": {
        "id": "NooMVex5yaxI"
      },
      "execution_count": null,
      "outputs": []
    },
    {
      "cell_type": "code",
      "source": [
        "y_train=tf.keras.utils.to_categorical(y_train,num_classes=46)\n",
        "y_test=tf.keras.utils.to_categorical(y_test,num_classes=46)"
      ],
      "metadata": {
        "id": "_4RiEU0yzycH"
      },
      "execution_count": null,
      "outputs": []
    },
    {
      "cell_type": "code",
      "source": [
        "from tensorflow.keras.models import Sequential\n",
        "from tensorflow.keras.layers import Dense,Dropout,Activation"
      ],
      "metadata": {
        "id": "R_cVUwZhzbGX"
      },
      "execution_count": null,
      "outputs": []
    },
    {
      "cell_type": "code",
      "source": [
        "model=Sequential()\n",
        "model.add(Dense(512,input_shape=(max_words,)))\n",
        "model.add(Activation('relu'))\n",
        "model.add(Dropout(0.25))\n",
        "model.add(Dense(num_classes))\n",
        "model.add(Activation('softmax'))"
      ],
      "metadata": {
        "id": "_F4EznBRzp14"
      },
      "execution_count": null,
      "outputs": []
    },
    {
      "cell_type": "code",
      "source": [
        "model.compile(loss='categorical_crossentropy',optimizer='adam',metrics=[\"Accuracy\"])\n"
      ],
      "metadata": {
        "id": "AOeLLfTI033Z"
      },
      "execution_count": null,
      "outputs": []
    },
    {
      "cell_type": "code",
      "source": [
        "batch_size=32\n",
        "epochs=10"
      ],
      "metadata": {
        "id": "zsAaHusD1Ogo"
      },
      "execution_count": null,
      "outputs": []
    },
    {
      "cell_type": "code",
      "source": [
        "history=model.fit(x_train,y_train,batch_size=batch_size,epochs=epochs,verbose=1,validation_split=0.1)\n",
        "score=model.evaluate(x_test,y_test,batch_size=batch_size,verbose=1)"
      ],
      "metadata": {
        "colab": {
          "base_uri": "https://localhost:8080/"
        },
        "id": "1_i3_aAC1SL3",
        "outputId": "e367845e-ad33-462c-8d33-ed50374647af"
      },
      "execution_count": null,
      "outputs": [
        {
          "output_type": "stream",
          "name": "stdout",
          "text": [
            "Epoch 1/10\n",
            "253/253 [==============================] - 8s 33ms/step - loss: 0.2143 - Accuracy: 0.9456 - val_loss: 0.2679 - val_Accuracy: 0.9244\n",
            "Epoch 2/10\n",
            "253/253 [==============================] - 8s 30ms/step - loss: 0.1777 - Accuracy: 0.9558 - val_loss: 0.3127 - val_Accuracy: 0.9244\n",
            "Epoch 3/10\n",
            "253/253 [==============================] - 8s 30ms/step - loss: 0.1731 - Accuracy: 0.9534 - val_loss: 0.3539 - val_Accuracy: 0.9210\n",
            "Epoch 4/10\n",
            "253/253 [==============================] - 8s 30ms/step - loss: 0.1656 - Accuracy: 0.9565 - val_loss: 0.3432 - val_Accuracy: 0.9155\n",
            "Epoch 5/10\n",
            "253/253 [==============================] - 8s 30ms/step - loss: 0.1608 - Accuracy: 0.9567 - val_loss: 0.3764 - val_Accuracy: 0.9121\n",
            "Epoch 6/10\n",
            "253/253 [==============================] - 8s 30ms/step - loss: 0.1541 - Accuracy: 0.9571 - val_loss: 0.3918 - val_Accuracy: 0.9110\n",
            "Epoch 7/10\n",
            "253/253 [==============================] - 9s 34ms/step - loss: 0.1516 - Accuracy: 0.9563 - val_loss: 0.4249 - val_Accuracy: 0.9043\n",
            "Epoch 8/10\n",
            "253/253 [==============================] - 8s 30ms/step - loss: 0.1534 - Accuracy: 0.9571 - val_loss: 0.4142 - val_Accuracy: 0.9121\n",
            "Epoch 9/10\n",
            "253/253 [==============================] - 8s 31ms/step - loss: 0.1467 - Accuracy: 0.9578 - val_loss: 0.4256 - val_Accuracy: 0.9077\n",
            "Epoch 10/10\n",
            "253/253 [==============================] - 8s 30ms/step - loss: 0.1391 - Accuracy: 0.9567 - val_loss: 0.4220 - val_Accuracy: 0.9121\n",
            "71/71 [==============================] - 1s 12ms/step - loss: 0.9980 - Accuracy: 0.8117\n"
          ]
        }
      ]
    },
    {
      "cell_type": "code",
      "source": [
        ""
      ],
      "metadata": {
        "id": "kfYHOYqO51wl"
      },
      "execution_count": null,
      "outputs": []
    },
    {
      "cell_type": "code",
      "source": [
        ""
      ],
      "metadata": {
        "id": "Q6wm3gUB51yH"
      },
      "execution_count": null,
      "outputs": []
    },
    {
      "cell_type": "code",
      "source": [
        ""
      ],
      "metadata": {
        "id": "S0haffJr5112"
      },
      "execution_count": null,
      "outputs": []
    },
    {
      "cell_type": "code",
      "source": [
        "#tfidf mode"
      ],
      "metadata": {
        "id": "xmwnvY4q3AKY"
      },
      "execution_count": null,
      "outputs": []
    },
    {
      "cell_type": "code",
      "source": [
        "\n",
        "import pandas as pd\n",
        "train=pd.read_csv(\"/content/drive/MyDrive/Datasets/train_E6oV3lV.csv/train_E6oV3lV.csv\")\n",
        "test=pd.read_csv('/content/drive/MyDrive/Datasets/test_tweets_anuFYb8.csv')"
      ],
      "metadata": {
        "id": "JMcX1sWa3CVp"
      },
      "execution_count": null,
      "outputs": []
    },
    {
      "cell_type": "code",
      "source": [
        "train.head()"
      ],
      "metadata": {
        "colab": {
          "base_uri": "https://localhost:8080/",
          "height": 206
        },
        "id": "Ku6123NV1pNG",
        "outputId": "6a5dd060-9389-45fc-e196-1c906df38f78"
      },
      "execution_count": null,
      "outputs": [
        {
          "output_type": "execute_result",
          "data": {
            "text/plain": [
              "   id  label                                              tweet\n",
              "0   1      0   @user when a father is dysfunctional and is s...\n",
              "1   2      0  @user @user thanks for #lyft credit i can't us...\n",
              "2   3      0                                bihday your majesty\n",
              "3   4      0  #model   i love u take with u all the time in ...\n",
              "4   5      0             factsguide: society now    #motivation"
            ],
            "text/html": [
              "\n",
              "  <div id=\"df-72a1b3b1-96f3-421f-a0f9-67cf20419684\">\n",
              "    <div class=\"colab-df-container\">\n",
              "      <div>\n",
              "<style scoped>\n",
              "    .dataframe tbody tr th:only-of-type {\n",
              "        vertical-align: middle;\n",
              "    }\n",
              "\n",
              "    .dataframe tbody tr th {\n",
              "        vertical-align: top;\n",
              "    }\n",
              "\n",
              "    .dataframe thead th {\n",
              "        text-align: right;\n",
              "    }\n",
              "</style>\n",
              "<table border=\"1\" class=\"dataframe\">\n",
              "  <thead>\n",
              "    <tr style=\"text-align: right;\">\n",
              "      <th></th>\n",
              "      <th>id</th>\n",
              "      <th>label</th>\n",
              "      <th>tweet</th>\n",
              "    </tr>\n",
              "  </thead>\n",
              "  <tbody>\n",
              "    <tr>\n",
              "      <th>0</th>\n",
              "      <td>1</td>\n",
              "      <td>0</td>\n",
              "      <td>@user when a father is dysfunctional and is s...</td>\n",
              "    </tr>\n",
              "    <tr>\n",
              "      <th>1</th>\n",
              "      <td>2</td>\n",
              "      <td>0</td>\n",
              "      <td>@user @user thanks for #lyft credit i can't us...</td>\n",
              "    </tr>\n",
              "    <tr>\n",
              "      <th>2</th>\n",
              "      <td>3</td>\n",
              "      <td>0</td>\n",
              "      <td>bihday your majesty</td>\n",
              "    </tr>\n",
              "    <tr>\n",
              "      <th>3</th>\n",
              "      <td>4</td>\n",
              "      <td>0</td>\n",
              "      <td>#model   i love u take with u all the time in ...</td>\n",
              "    </tr>\n",
              "    <tr>\n",
              "      <th>4</th>\n",
              "      <td>5</td>\n",
              "      <td>0</td>\n",
              "      <td>factsguide: society now    #motivation</td>\n",
              "    </tr>\n",
              "  </tbody>\n",
              "</table>\n",
              "</div>\n",
              "      <button class=\"colab-df-convert\" onclick=\"convertToInteractive('df-72a1b3b1-96f3-421f-a0f9-67cf20419684')\"\n",
              "              title=\"Convert this dataframe to an interactive table.\"\n",
              "              style=\"display:none;\">\n",
              "        \n",
              "  <svg xmlns=\"http://www.w3.org/2000/svg\" height=\"24px\"viewBox=\"0 0 24 24\"\n",
              "       width=\"24px\">\n",
              "    <path d=\"M0 0h24v24H0V0z\" fill=\"none\"/>\n",
              "    <path d=\"M18.56 5.44l.94 2.06.94-2.06 2.06-.94-2.06-.94-.94-2.06-.94 2.06-2.06.94zm-11 1L8.5 8.5l.94-2.06 2.06-.94-2.06-.94L8.5 2.5l-.94 2.06-2.06.94zm10 10l.94 2.06.94-2.06 2.06-.94-2.06-.94-.94-2.06-.94 2.06-2.06.94z\"/><path d=\"M17.41 7.96l-1.37-1.37c-.4-.4-.92-.59-1.43-.59-.52 0-1.04.2-1.43.59L10.3 9.45l-7.72 7.72c-.78.78-.78 2.05 0 2.83L4 21.41c.39.39.9.59 1.41.59.51 0 1.02-.2 1.41-.59l7.78-7.78 2.81-2.81c.8-.78.8-2.07 0-2.86zM5.41 20L4 18.59l7.72-7.72 1.47 1.35L5.41 20z\"/>\n",
              "  </svg>\n",
              "      </button>\n",
              "      \n",
              "  <style>\n",
              "    .colab-df-container {\n",
              "      display:flex;\n",
              "      flex-wrap:wrap;\n",
              "      gap: 12px;\n",
              "    }\n",
              "\n",
              "    .colab-df-convert {\n",
              "      background-color: #E8F0FE;\n",
              "      border: none;\n",
              "      border-radius: 50%;\n",
              "      cursor: pointer;\n",
              "      display: none;\n",
              "      fill: #1967D2;\n",
              "      height: 32px;\n",
              "      padding: 0 0 0 0;\n",
              "      width: 32px;\n",
              "    }\n",
              "\n",
              "    .colab-df-convert:hover {\n",
              "      background-color: #E2EBFA;\n",
              "      box-shadow: 0px 1px 2px rgba(60, 64, 67, 0.3), 0px 1px 3px 1px rgba(60, 64, 67, 0.15);\n",
              "      fill: #174EA6;\n",
              "    }\n",
              "\n",
              "    [theme=dark] .colab-df-convert {\n",
              "      background-color: #3B4455;\n",
              "      fill: #D2E3FC;\n",
              "    }\n",
              "\n",
              "    [theme=dark] .colab-df-convert:hover {\n",
              "      background-color: #434B5C;\n",
              "      box-shadow: 0px 1px 3px 1px rgba(0, 0, 0, 0.15);\n",
              "      filter: drop-shadow(0px 1px 2px rgba(0, 0, 0, 0.3));\n",
              "      fill: #FFFFFF;\n",
              "    }\n",
              "  </style>\n",
              "\n",
              "      <script>\n",
              "        const buttonEl =\n",
              "          document.querySelector('#df-72a1b3b1-96f3-421f-a0f9-67cf20419684 button.colab-df-convert');\n",
              "        buttonEl.style.display =\n",
              "          google.colab.kernel.accessAllowed ? 'block' : 'none';\n",
              "\n",
              "        async function convertToInteractive(key) {\n",
              "          const element = document.querySelector('#df-72a1b3b1-96f3-421f-a0f9-67cf20419684');\n",
              "          const dataTable =\n",
              "            await google.colab.kernel.invokeFunction('convertToInteractive',\n",
              "                                                     [key], {});\n",
              "          if (!dataTable) return;\n",
              "\n",
              "          const docLinkHtml = 'Like what you see? Visit the ' +\n",
              "            '<a target=\"_blank\" href=https://colab.research.google.com/notebooks/data_table.ipynb>data table notebook</a>'\n",
              "            + ' to learn more about interactive tables.';\n",
              "          element.innerHTML = '';\n",
              "          dataTable['output_type'] = 'display_data';\n",
              "          await google.colab.output.renderOutput(dataTable, element);\n",
              "          const docLink = document.createElement('div');\n",
              "          docLink.innerHTML = docLinkHtml;\n",
              "          element.appendChild(docLink);\n",
              "        }\n",
              "      </script>\n",
              "    </div>\n",
              "  </div>\n",
              "  "
            ]
          },
          "metadata": {},
          "execution_count": 64
        }
      ]
    },
    {
      "cell_type": "code",
      "source": [
        "x=np.array(train['tweet'])\n",
        "y=np.array(train['label'])"
      ],
      "metadata": {
        "id": "Era5Zp8A2JNl"
      },
      "execution_count": null,
      "outputs": []
    },
    {
      "cell_type": "code",
      "source": [
        "np.unique(y)"
      ],
      "metadata": {
        "colab": {
          "base_uri": "https://localhost:8080/"
        },
        "id": "rPob820B3qwL",
        "outputId": "aa766519-4538-4ff9-907d-fe1644cea40c"
      },
      "execution_count": null,
      "outputs": [
        {
          "output_type": "execute_result",
          "data": {
            "text/plain": [
              "array([0, 1])"
            ]
          },
          "metadata": {},
          "execution_count": 69
        }
      ]
    },
    {
      "cell_type": "code",
      "source": [
        "from sklearn.model_selection import train_test_split\n",
        "x_train,x_test,y_train,y_test=train_test_split(x,y,test_size=02)"
      ],
      "metadata": {
        "id": "1cfqgHVg5C55"
      },
      "execution_count": null,
      "outputs": []
    },
    {
      "cell_type": "code",
      "source": [
        "x_train[223]"
      ],
      "metadata": {
        "colab": {
          "base_uri": "https://localhost:8080/",
          "height": 36
        },
        "id": "qPsHWl3X56hT",
        "outputId": "e62dfd30-58e8-4893-a63d-9b0e0ec26399"
      },
      "execution_count": null,
      "outputs": [
        {
          "output_type": "execute_result",
          "data": {
            "text/plain": [
              "\"special delivery in the mail today! we're in business y'all! #businesscards #vistaprint   \""
            ],
            "application/vnd.google.colaboratory.intrinsic+json": {
              "type": "string"
            }
          },
          "metadata": {},
          "execution_count": 80
        }
      ]
    },
    {
      "cell_type": "code",
      "source": [
        "from tensorflow.keras.preprocessing.text import Tokenizer"
      ],
      "metadata": {
        "id": "N2NUQ51G3tXQ"
      },
      "execution_count": null,
      "outputs": []
    },
    {
      "cell_type": "code",
      "source": [
        "t=Tokenizer()\n",
        "x_train=t.texts_to_sequences(x_train)"
      ],
      "metadata": {
        "id": "tdCpoVAA6whk"
      },
      "execution_count": null,
      "outputs": []
    },
    {
      "cell_type": "code",
      "source": [
        "x_test=t.texts_to_sequences(x_train)"
      ],
      "metadata": {
        "id": "pDLAKvHg6wkb"
      },
      "execution_count": null,
      "outputs": []
    },
    {
      "cell_type": "code",
      "source": [
        "x_test"
      ],
      "metadata": {
        "colab": {
          "base_uri": "https://localhost:8080/"
        },
        "id": "_tOoiWVY7gj1",
        "outputId": "dc18e1ed-8fdc-4d46-d1f7-4b3241978bd9"
      },
      "execution_count": null,
      "outputs": [
        {
          "output_type": "execute_result",
          "data": {
            "text/plain": [
              "[[],\n",
              " [],\n",
              " [],\n",
              " [],\n",
              " [],\n",
              " [],\n",
              " [],\n",
              " [],\n",
              " [],\n",
              " [],\n",
              " [],\n",
              " [],\n",
              " [],\n",
              " [],\n",
              " [],\n",
              " [],\n",
              " [],\n",
              " [],\n",
              " [],\n",
              " [],\n",
              " [],\n",
              " [],\n",
              " [],\n",
              " [],\n",
              " [],\n",
              " [],\n",
              " [],\n",
              " [],\n",
              " [],\n",
              " [],\n",
              " [],\n",
              " [],\n",
              " [],\n",
              " [],\n",
              " [],\n",
              " [],\n",
              " [],\n",
              " [],\n",
              " [],\n",
              " [],\n",
              " [],\n",
              " [],\n",
              " [],\n",
              " [],\n",
              " [],\n",
              " [],\n",
              " [],\n",
              " [],\n",
              " [],\n",
              " [],\n",
              " [],\n",
              " [],\n",
              " [],\n",
              " [],\n",
              " [],\n",
              " [],\n",
              " [],\n",
              " [],\n",
              " [],\n",
              " [],\n",
              " [],\n",
              " [],\n",
              " [],\n",
              " [],\n",
              " [],\n",
              " [],\n",
              " [],\n",
              " [],\n",
              " [],\n",
              " [],\n",
              " [],\n",
              " [],\n",
              " [],\n",
              " [],\n",
              " [],\n",
              " [],\n",
              " [],\n",
              " [],\n",
              " [],\n",
              " [],\n",
              " [],\n",
              " [],\n",
              " [],\n",
              " [],\n",
              " [],\n",
              " [],\n",
              " [],\n",
              " [],\n",
              " [],\n",
              " [],\n",
              " [],\n",
              " [],\n",
              " [],\n",
              " [],\n",
              " [],\n",
              " [],\n",
              " [],\n",
              " [],\n",
              " [],\n",
              " [],\n",
              " [],\n",
              " [],\n",
              " [],\n",
              " [],\n",
              " [],\n",
              " [],\n",
              " [],\n",
              " [],\n",
              " [],\n",
              " [],\n",
              " [],\n",
              " [],\n",
              " [],\n",
              " [],\n",
              " [],\n",
              " [],\n",
              " [],\n",
              " [],\n",
              " [],\n",
              " [],\n",
              " [],\n",
              " [],\n",
              " [],\n",
              " [],\n",
              " [],\n",
              " [],\n",
              " [],\n",
              " [],\n",
              " [],\n",
              " [],\n",
              " [],\n",
              " [],\n",
              " [],\n",
              " [],\n",
              " [],\n",
              " [],\n",
              " [],\n",
              " [],\n",
              " [],\n",
              " [],\n",
              " [],\n",
              " [],\n",
              " [],\n",
              " [],\n",
              " [],\n",
              " [],\n",
              " [],\n",
              " [],\n",
              " [],\n",
              " [],\n",
              " [],\n",
              " [],\n",
              " [],\n",
              " [],\n",
              " [],\n",
              " [],\n",
              " [],\n",
              " [],\n",
              " [],\n",
              " [],\n",
              " [],\n",
              " [],\n",
              " [],\n",
              " [],\n",
              " [],\n",
              " [],\n",
              " [],\n",
              " [],\n",
              " [],\n",
              " [],\n",
              " [],\n",
              " [],\n",
              " [],\n",
              " [],\n",
              " [],\n",
              " [],\n",
              " [],\n",
              " [],\n",
              " [],\n",
              " [],\n",
              " [],\n",
              " [],\n",
              " [],\n",
              " [],\n",
              " [],\n",
              " [],\n",
              " [],\n",
              " [],\n",
              " [],\n",
              " [],\n",
              " [],\n",
              " [],\n",
              " [],\n",
              " [],\n",
              " [],\n",
              " [],\n",
              " [],\n",
              " [],\n",
              " [],\n",
              " [],\n",
              " [],\n",
              " [],\n",
              " [],\n",
              " [],\n",
              " [],\n",
              " [],\n",
              " [],\n",
              " [],\n",
              " [],\n",
              " [],\n",
              " [],\n",
              " [],\n",
              " [],\n",
              " [],\n",
              " [],\n",
              " [],\n",
              " [],\n",
              " [],\n",
              " [],\n",
              " [],\n",
              " [],\n",
              " [],\n",
              " [],\n",
              " [],\n",
              " [],\n",
              " [],\n",
              " [],\n",
              " [],\n",
              " [],\n",
              " [],\n",
              " [],\n",
              " [],\n",
              " [],\n",
              " [],\n",
              " [],\n",
              " [],\n",
              " [],\n",
              " [],\n",
              " [],\n",
              " [],\n",
              " [],\n",
              " [],\n",
              " [],\n",
              " [],\n",
              " [],\n",
              " [],\n",
              " [],\n",
              " [],\n",
              " [],\n",
              " [],\n",
              " [],\n",
              " [],\n",
              " [],\n",
              " [],\n",
              " [],\n",
              " [],\n",
              " [],\n",
              " [],\n",
              " [],\n",
              " [],\n",
              " [],\n",
              " [],\n",
              " [],\n",
              " [],\n",
              " [],\n",
              " [],\n",
              " [],\n",
              " [],\n",
              " [],\n",
              " [],\n",
              " [],\n",
              " [],\n",
              " [],\n",
              " [],\n",
              " [],\n",
              " [],\n",
              " [],\n",
              " [],\n",
              " [],\n",
              " [],\n",
              " [],\n",
              " [],\n",
              " [],\n",
              " [],\n",
              " [],\n",
              " [],\n",
              " [],\n",
              " [],\n",
              " [],\n",
              " [],\n",
              " [],\n",
              " [],\n",
              " [],\n",
              " [],\n",
              " [],\n",
              " [],\n",
              " [],\n",
              " [],\n",
              " [],\n",
              " [],\n",
              " [],\n",
              " [],\n",
              " [],\n",
              " [],\n",
              " [],\n",
              " [],\n",
              " [],\n",
              " [],\n",
              " [],\n",
              " [],\n",
              " [],\n",
              " [],\n",
              " [],\n",
              " [],\n",
              " [],\n",
              " [],\n",
              " [],\n",
              " [],\n",
              " [],\n",
              " [],\n",
              " [],\n",
              " [],\n",
              " [],\n",
              " [],\n",
              " [],\n",
              " [],\n",
              " [],\n",
              " [],\n",
              " [],\n",
              " [],\n",
              " [],\n",
              " [],\n",
              " [],\n",
              " [],\n",
              " [],\n",
              " [],\n",
              " [],\n",
              " [],\n",
              " [],\n",
              " [],\n",
              " [],\n",
              " [],\n",
              " [],\n",
              " [],\n",
              " [],\n",
              " [],\n",
              " [],\n",
              " [],\n",
              " [],\n",
              " [],\n",
              " [],\n",
              " [],\n",
              " [],\n",
              " [],\n",
              " [],\n",
              " [],\n",
              " [],\n",
              " [],\n",
              " [],\n",
              " [],\n",
              " [],\n",
              " [],\n",
              " [],\n",
              " [],\n",
              " [],\n",
              " [],\n",
              " [],\n",
              " [],\n",
              " [],\n",
              " [],\n",
              " [],\n",
              " [],\n",
              " [],\n",
              " [],\n",
              " [],\n",
              " [],\n",
              " [],\n",
              " [],\n",
              " [],\n",
              " [],\n",
              " [],\n",
              " [],\n",
              " [],\n",
              " [],\n",
              " [],\n",
              " [],\n",
              " [],\n",
              " [],\n",
              " [],\n",
              " [],\n",
              " [],\n",
              " [],\n",
              " [],\n",
              " [],\n",
              " [],\n",
              " [],\n",
              " [],\n",
              " [],\n",
              " [],\n",
              " [],\n",
              " [],\n",
              " [],\n",
              " [],\n",
              " [],\n",
              " [],\n",
              " [],\n",
              " [],\n",
              " [],\n",
              " [],\n",
              " [],\n",
              " [],\n",
              " [],\n",
              " [],\n",
              " [],\n",
              " [],\n",
              " [],\n",
              " [],\n",
              " [],\n",
              " [],\n",
              " [],\n",
              " [],\n",
              " [],\n",
              " [],\n",
              " [],\n",
              " [],\n",
              " [],\n",
              " [],\n",
              " [],\n",
              " [],\n",
              " [],\n",
              " [],\n",
              " [],\n",
              " [],\n",
              " [],\n",
              " [],\n",
              " [],\n",
              " [],\n",
              " [],\n",
              " [],\n",
              " [],\n",
              " [],\n",
              " [],\n",
              " [],\n",
              " [],\n",
              " [],\n",
              " [],\n",
              " [],\n",
              " [],\n",
              " [],\n",
              " [],\n",
              " [],\n",
              " [],\n",
              " [],\n",
              " [],\n",
              " [],\n",
              " [],\n",
              " [],\n",
              " [],\n",
              " [],\n",
              " [],\n",
              " [],\n",
              " [],\n",
              " [],\n",
              " [],\n",
              " [],\n",
              " [],\n",
              " [],\n",
              " [],\n",
              " [],\n",
              " [],\n",
              " [],\n",
              " [],\n",
              " [],\n",
              " [],\n",
              " [],\n",
              " [],\n",
              " [],\n",
              " [],\n",
              " [],\n",
              " [],\n",
              " [],\n",
              " [],\n",
              " [],\n",
              " [],\n",
              " [],\n",
              " [],\n",
              " [],\n",
              " [],\n",
              " [],\n",
              " [],\n",
              " [],\n",
              " [],\n",
              " [],\n",
              " [],\n",
              " [],\n",
              " [],\n",
              " [],\n",
              " [],\n",
              " [],\n",
              " [],\n",
              " [],\n",
              " [],\n",
              " [],\n",
              " [],\n",
              " [],\n",
              " [],\n",
              " [],\n",
              " [],\n",
              " [],\n",
              " [],\n",
              " [],\n",
              " [],\n",
              " [],\n",
              " [],\n",
              " [],\n",
              " [],\n",
              " [],\n",
              " [],\n",
              " [],\n",
              " [],\n",
              " [],\n",
              " [],\n",
              " [],\n",
              " [],\n",
              " [],\n",
              " [],\n",
              " [],\n",
              " [],\n",
              " [],\n",
              " [],\n",
              " [],\n",
              " [],\n",
              " [],\n",
              " [],\n",
              " [],\n",
              " [],\n",
              " [],\n",
              " [],\n",
              " [],\n",
              " [],\n",
              " [],\n",
              " [],\n",
              " [],\n",
              " [],\n",
              " [],\n",
              " [],\n",
              " [],\n",
              " [],\n",
              " [],\n",
              " [],\n",
              " [],\n",
              " [],\n",
              " [],\n",
              " [],\n",
              " [],\n",
              " [],\n",
              " [],\n",
              " [],\n",
              " [],\n",
              " [],\n",
              " [],\n",
              " [],\n",
              " [],\n",
              " [],\n",
              " [],\n",
              " [],\n",
              " [],\n",
              " [],\n",
              " [],\n",
              " [],\n",
              " [],\n",
              " [],\n",
              " [],\n",
              " [],\n",
              " [],\n",
              " [],\n",
              " [],\n",
              " [],\n",
              " [],\n",
              " [],\n",
              " [],\n",
              " [],\n",
              " [],\n",
              " [],\n",
              " [],\n",
              " [],\n",
              " [],\n",
              " [],\n",
              " [],\n",
              " [],\n",
              " [],\n",
              " [],\n",
              " [],\n",
              " [],\n",
              " [],\n",
              " [],\n",
              " [],\n",
              " [],\n",
              " [],\n",
              " [],\n",
              " [],\n",
              " [],\n",
              " [],\n",
              " [],\n",
              " [],\n",
              " [],\n",
              " [],\n",
              " [],\n",
              " [],\n",
              " [],\n",
              " [],\n",
              " [],\n",
              " [],\n",
              " [],\n",
              " [],\n",
              " [],\n",
              " [],\n",
              " [],\n",
              " [],\n",
              " [],\n",
              " [],\n",
              " [],\n",
              " [],\n",
              " [],\n",
              " [],\n",
              " [],\n",
              " [],\n",
              " [],\n",
              " [],\n",
              " [],\n",
              " [],\n",
              " [],\n",
              " [],\n",
              " [],\n",
              " [],\n",
              " [],\n",
              " [],\n",
              " [],\n",
              " [],\n",
              " [],\n",
              " [],\n",
              " [],\n",
              " [],\n",
              " [],\n",
              " [],\n",
              " [],\n",
              " [],\n",
              " [],\n",
              " [],\n",
              " [],\n",
              " [],\n",
              " [],\n",
              " [],\n",
              " [],\n",
              " [],\n",
              " [],\n",
              " [],\n",
              " [],\n",
              " [],\n",
              " [],\n",
              " [],\n",
              " [],\n",
              " [],\n",
              " [],\n",
              " [],\n",
              " [],\n",
              " [],\n",
              " [],\n",
              " [],\n",
              " [],\n",
              " [],\n",
              " [],\n",
              " [],\n",
              " [],\n",
              " [],\n",
              " [],\n",
              " [],\n",
              " [],\n",
              " [],\n",
              " [],\n",
              " [],\n",
              " [],\n",
              " [],\n",
              " [],\n",
              " [],\n",
              " [],\n",
              " [],\n",
              " [],\n",
              " [],\n",
              " [],\n",
              " [],\n",
              " [],\n",
              " [],\n",
              " [],\n",
              " [],\n",
              " [],\n",
              " [],\n",
              " [],\n",
              " [],\n",
              " [],\n",
              " [],\n",
              " [],\n",
              " [],\n",
              " [],\n",
              " [],\n",
              " [],\n",
              " [],\n",
              " [],\n",
              " [],\n",
              " [],\n",
              " [],\n",
              " [],\n",
              " [],\n",
              " [],\n",
              " [],\n",
              " [],\n",
              " [],\n",
              " [],\n",
              " [],\n",
              " [],\n",
              " [],\n",
              " [],\n",
              " [],\n",
              " [],\n",
              " [],\n",
              " [],\n",
              " [],\n",
              " [],\n",
              " [],\n",
              " [],\n",
              " [],\n",
              " [],\n",
              " [],\n",
              " [],\n",
              " [],\n",
              " [],\n",
              " [],\n",
              " [],\n",
              " [],\n",
              " [],\n",
              " [],\n",
              " [],\n",
              " [],\n",
              " [],\n",
              " [],\n",
              " [],\n",
              " [],\n",
              " [],\n",
              " [],\n",
              " [],\n",
              " [],\n",
              " [],\n",
              " [],\n",
              " [],\n",
              " [],\n",
              " [],\n",
              " [],\n",
              " [],\n",
              " [],\n",
              " [],\n",
              " [],\n",
              " [],\n",
              " [],\n",
              " [],\n",
              " [],\n",
              " [],\n",
              " [],\n",
              " [],\n",
              " [],\n",
              " [],\n",
              " [],\n",
              " [],\n",
              " [],\n",
              " [],\n",
              " [],\n",
              " [],\n",
              " [],\n",
              " [],\n",
              " [],\n",
              " [],\n",
              " [],\n",
              " [],\n",
              " [],\n",
              " [],\n",
              " [],\n",
              " [],\n",
              " [],\n",
              " [],\n",
              " [],\n",
              " [],\n",
              " [],\n",
              " [],\n",
              " [],\n",
              " [],\n",
              " [],\n",
              " [],\n",
              " [],\n",
              " [],\n",
              " [],\n",
              " [],\n",
              " [],\n",
              " [],\n",
              " [],\n",
              " [],\n",
              " [],\n",
              " [],\n",
              " [],\n",
              " [],\n",
              " [],\n",
              " [],\n",
              " [],\n",
              " [],\n",
              " [],\n",
              " [],\n",
              " [],\n",
              " [],\n",
              " [],\n",
              " [],\n",
              " [],\n",
              " [],\n",
              " [],\n",
              " [],\n",
              " [],\n",
              " [],\n",
              " [],\n",
              " [],\n",
              " [],\n",
              " [],\n",
              " [],\n",
              " [],\n",
              " [],\n",
              " [],\n",
              " [],\n",
              " [],\n",
              " [],\n",
              " [],\n",
              " [],\n",
              " [],\n",
              " [],\n",
              " [],\n",
              " [],\n",
              " [],\n",
              " [],\n",
              " [],\n",
              " [],\n",
              " [],\n",
              " [],\n",
              " [],\n",
              " [],\n",
              " [],\n",
              " [],\n",
              " [],\n",
              " [],\n",
              " [],\n",
              " [],\n",
              " [],\n",
              " [],\n",
              " [],\n",
              " [],\n",
              " [],\n",
              " [],\n",
              " [],\n",
              " [],\n",
              " [],\n",
              " [],\n",
              " [],\n",
              " [],\n",
              " [],\n",
              " [],\n",
              " [],\n",
              " [],\n",
              " [],\n",
              " [],\n",
              " [],\n",
              " [],\n",
              " [],\n",
              " [],\n",
              " [],\n",
              " [],\n",
              " [],\n",
              " [],\n",
              " [],\n",
              " [],\n",
              " [],\n",
              " [],\n",
              " [],\n",
              " [],\n",
              " [],\n",
              " [],\n",
              " [],\n",
              " [],\n",
              " [],\n",
              " [],\n",
              " [],\n",
              " [],\n",
              " [],\n",
              " [],\n",
              " [],\n",
              " [],\n",
              " [],\n",
              " [],\n",
              " [],\n",
              " [],\n",
              " [],\n",
              " [],\n",
              " [],\n",
              " [],\n",
              " [],\n",
              " [],\n",
              " [],\n",
              " [],\n",
              " [],\n",
              " [],\n",
              " [],\n",
              " [],\n",
              " [],\n",
              " [],\n",
              " [],\n",
              " [],\n",
              " [],\n",
              " [],\n",
              " [],\n",
              " [],\n",
              " [],\n",
              " [],\n",
              " [],\n",
              " [],\n",
              " [],\n",
              " [],\n",
              " [],\n",
              " [],\n",
              " [],\n",
              " [],\n",
              " [],\n",
              " [],\n",
              " [],\n",
              " [],\n",
              " [],\n",
              " [],\n",
              " [],\n",
              " [],\n",
              " [],\n",
              " [],\n",
              " [],\n",
              " [],\n",
              " [],\n",
              " [],\n",
              " [],\n",
              " [],\n",
              " [],\n",
              " [],\n",
              " [],\n",
              " [],\n",
              " [],\n",
              " [],\n",
              " [],\n",
              " [],\n",
              " [],\n",
              " [],\n",
              " [],\n",
              " [],\n",
              " [],\n",
              " [],\n",
              " [],\n",
              " [],\n",
              " [],\n",
              " [],\n",
              " [],\n",
              " [],\n",
              " [],\n",
              " [],\n",
              " [],\n",
              " [],\n",
              " [],\n",
              " [],\n",
              " [],\n",
              " [],\n",
              " [],\n",
              " [],\n",
              " [],\n",
              " [],\n",
              " [],\n",
              " [],\n",
              " [],\n",
              " [],\n",
              " [],\n",
              " [],\n",
              " [],\n",
              " [],\n",
              " [],\n",
              " [],\n",
              " [],\n",
              " [],\n",
              " [],\n",
              " [],\n",
              " [],\n",
              " [],\n",
              " [],\n",
              " [],\n",
              " [],\n",
              " ...]"
            ]
          },
          "metadata": {},
          "execution_count": 85
        }
      ]
    },
    {
      "cell_type": "code",
      "source": [
        "tokenizer.fit_on_sequences()"
      ],
      "metadata": {
        "id": "VNRqQX4g6GTm"
      },
      "execution_count": null,
      "outputs": []
    },
    {
      "cell_type": "code",
      "source": [
        "tokenizer=Tokenizer(num_words=max_words)\n",
        "x_train=tokenizer.sequences_to_matrix(x,mode=\"binary\")\n",
        "x_test=tokenizer.sequences_to_matrix(y,mode=\"binary\")"
      ],
      "metadata": {
        "colab": {
          "base_uri": "https://localhost:8080/",
          "height": 343
        },
        "id": "LRtS_k6N36zR",
        "outputId": "c93a77b8-82c5-47a7-e82c-dc08b8cc7694"
      },
      "execution_count": null,
      "outputs": [
        {
          "output_type": "error",
          "ename": "TypeError",
          "evalue": "ignored",
          "traceback": [
            "\u001b[0;31m---------------------------------------------------------------------------\u001b[0m",
            "\u001b[0;31mTypeError\u001b[0m                                 Traceback (most recent call last)",
            "\u001b[0;32m<ipython-input-84-68adcbf4e8f5>\u001b[0m in \u001b[0;36m<module>\u001b[0;34m()\u001b[0m\n\u001b[1;32m      1\u001b[0m \u001b[0mtokenizer\u001b[0m\u001b[0;34m=\u001b[0m\u001b[0mTokenizer\u001b[0m\u001b[0;34m(\u001b[0m\u001b[0mnum_words\u001b[0m\u001b[0;34m=\u001b[0m\u001b[0mmax_words\u001b[0m\u001b[0;34m)\u001b[0m\u001b[0;34m\u001b[0m\u001b[0;34m\u001b[0m\u001b[0m\n\u001b[0;32m----> 2\u001b[0;31m \u001b[0mx_train\u001b[0m\u001b[0;34m=\u001b[0m\u001b[0mtokenizer\u001b[0m\u001b[0;34m.\u001b[0m\u001b[0msequences_to_matrix\u001b[0m\u001b[0;34m(\u001b[0m\u001b[0mx\u001b[0m\u001b[0;34m,\u001b[0m\u001b[0mmode\u001b[0m\u001b[0;34m=\u001b[0m\u001b[0;34m\"binary\"\u001b[0m\u001b[0;34m)\u001b[0m\u001b[0;34m\u001b[0m\u001b[0;34m\u001b[0m\u001b[0m\n\u001b[0m\u001b[1;32m      3\u001b[0m \u001b[0mx_test\u001b[0m\u001b[0;34m=\u001b[0m\u001b[0mtokenizer\u001b[0m\u001b[0;34m.\u001b[0m\u001b[0msequences_to_matrix\u001b[0m\u001b[0;34m(\u001b[0m\u001b[0my\u001b[0m\u001b[0;34m,\u001b[0m\u001b[0mmode\u001b[0m\u001b[0;34m=\u001b[0m\u001b[0;34m\"binary\"\u001b[0m\u001b[0;34m)\u001b[0m\u001b[0;34m\u001b[0m\u001b[0;34m\u001b[0m\u001b[0m\n",
            "\u001b[0;32m/usr/local/lib/python3.7/dist-packages/keras_preprocessing/text.py\u001b[0m in \u001b[0;36msequences_to_matrix\u001b[0;34m(self, sequences, mode)\u001b[0m\n\u001b[1;32m    417\u001b[0m             \u001b[0mcounts\u001b[0m \u001b[0;34m=\u001b[0m \u001b[0mdefaultdict\u001b[0m\u001b[0;34m(\u001b[0m\u001b[0mint\u001b[0m\u001b[0;34m)\u001b[0m\u001b[0;34m\u001b[0m\u001b[0;34m\u001b[0m\u001b[0m\n\u001b[1;32m    418\u001b[0m             \u001b[0;32mfor\u001b[0m \u001b[0mj\u001b[0m \u001b[0;32min\u001b[0m \u001b[0mseq\u001b[0m\u001b[0;34m:\u001b[0m\u001b[0;34m\u001b[0m\u001b[0;34m\u001b[0m\u001b[0m\n\u001b[0;32m--> 419\u001b[0;31m                 \u001b[0;32mif\u001b[0m \u001b[0mj\u001b[0m \u001b[0;34m>=\u001b[0m \u001b[0mnum_words\u001b[0m\u001b[0;34m:\u001b[0m\u001b[0;34m\u001b[0m\u001b[0;34m\u001b[0m\u001b[0m\n\u001b[0m\u001b[1;32m    420\u001b[0m                     \u001b[0;32mcontinue\u001b[0m\u001b[0;34m\u001b[0m\u001b[0;34m\u001b[0m\u001b[0m\n\u001b[1;32m    421\u001b[0m                 \u001b[0mcounts\u001b[0m\u001b[0;34m[\u001b[0m\u001b[0mj\u001b[0m\u001b[0;34m]\u001b[0m \u001b[0;34m+=\u001b[0m \u001b[0;36m1\u001b[0m\u001b[0;34m\u001b[0m\u001b[0;34m\u001b[0m\u001b[0m\n",
            "\u001b[0;31mTypeError\u001b[0m: '>=' not supported between instances of 'str' and 'int'"
          ]
        }
      ]
    },
    {
      "cell_type": "markdown",
      "source": [
        "text classification using snn"
      ],
      "metadata": {
        "id": "IKuPv44eURNh"
      }
    },
    {
      "cell_type": "code",
      "source": [
        "!unzip(\"/content/train.csv.zip\")"
      ],
      "metadata": {
        "id": "8PcBhWNv4EbU",
        "colab": {
          "base_uri": "https://localhost:8080/"
        },
        "outputId": "b245e88d-50be-4554-d021-56d547a4e072"
      },
      "execution_count": null,
      "outputs": [
        {
          "output_type": "stream",
          "name": "stdout",
          "text": [
            "/bin/bash: -c: line 0: syntax error near unexpected token `\"/content/train.csv.zip\"'\n",
            "/bin/bash: -c: line 0: `unzip(\"/content/train.csv.zip\")'\n"
          ]
        }
      ]
    },
    {
      "cell_type": "code",
      "source": [
        "import zipfile"
      ],
      "metadata": {
        "id": "gxCbdfhkbqOo"
      },
      "execution_count": null,
      "outputs": []
    },
    {
      "cell_type": "code",
      "source": [
        "zip_ref = zipfile.ZipFile(\"/content/train.csv.zip\", 'r')\n",
        "zip_ref.extractall(\"/content\")\n",
        "zip_ref.close()"
      ],
      "metadata": {
        "id": "LTXU380UbsBX"
      },
      "execution_count": null,
      "outputs": []
    },
    {
      "cell_type": "code",
      "source": [
        "import pandas as pd\n",
        "df=pd.read_csv(\"/content/train.csv\")\n",
        "df.head() "
      ],
      "metadata": {
        "colab": {
          "base_uri": "https://localhost:8080/",
          "height": 206
        },
        "id": "7vdCb7o8b80m",
        "outputId": "c83b42d6-4cbf-48a3-f09d-402a819c61c5"
      },
      "execution_count": null,
      "outputs": [
        {
          "output_type": "execute_result",
          "data": {
            "text/plain": [
              "       textID                                               text  \\\n",
              "0  cb774db0d1                I`d have responded, if I were going   \n",
              "1  549e992a42      Sooo SAD I will miss you here in San Diego!!!   \n",
              "2  088c60f138                          my boss is bullying me...   \n",
              "3  9642c003ef                     what interview! leave me alone   \n",
              "4  358bd9e861   Sons of ****, why couldn`t they put them on t...   \n",
              "\n",
              "                         selected_text sentiment  \n",
              "0  I`d have responded, if I were going   neutral  \n",
              "1                             Sooo SAD  negative  \n",
              "2                          bullying me  negative  \n",
              "3                       leave me alone  negative  \n",
              "4                        Sons of ****,  negative  "
            ],
            "text/html": [
              "\n",
              "  <div id=\"df-83c57617-2445-4d22-b865-d627595ef662\">\n",
              "    <div class=\"colab-df-container\">\n",
              "      <div>\n",
              "<style scoped>\n",
              "    .dataframe tbody tr th:only-of-type {\n",
              "        vertical-align: middle;\n",
              "    }\n",
              "\n",
              "    .dataframe tbody tr th {\n",
              "        vertical-align: top;\n",
              "    }\n",
              "\n",
              "    .dataframe thead th {\n",
              "        text-align: right;\n",
              "    }\n",
              "</style>\n",
              "<table border=\"1\" class=\"dataframe\">\n",
              "  <thead>\n",
              "    <tr style=\"text-align: right;\">\n",
              "      <th></th>\n",
              "      <th>textID</th>\n",
              "      <th>text</th>\n",
              "      <th>selected_text</th>\n",
              "      <th>sentiment</th>\n",
              "    </tr>\n",
              "  </thead>\n",
              "  <tbody>\n",
              "    <tr>\n",
              "      <th>0</th>\n",
              "      <td>cb774db0d1</td>\n",
              "      <td>I`d have responded, if I were going</td>\n",
              "      <td>I`d have responded, if I were going</td>\n",
              "      <td>neutral</td>\n",
              "    </tr>\n",
              "    <tr>\n",
              "      <th>1</th>\n",
              "      <td>549e992a42</td>\n",
              "      <td>Sooo SAD I will miss you here in San Diego!!!</td>\n",
              "      <td>Sooo SAD</td>\n",
              "      <td>negative</td>\n",
              "    </tr>\n",
              "    <tr>\n",
              "      <th>2</th>\n",
              "      <td>088c60f138</td>\n",
              "      <td>my boss is bullying me...</td>\n",
              "      <td>bullying me</td>\n",
              "      <td>negative</td>\n",
              "    </tr>\n",
              "    <tr>\n",
              "      <th>3</th>\n",
              "      <td>9642c003ef</td>\n",
              "      <td>what interview! leave me alone</td>\n",
              "      <td>leave me alone</td>\n",
              "      <td>negative</td>\n",
              "    </tr>\n",
              "    <tr>\n",
              "      <th>4</th>\n",
              "      <td>358bd9e861</td>\n",
              "      <td>Sons of ****, why couldn`t they put them on t...</td>\n",
              "      <td>Sons of ****,</td>\n",
              "      <td>negative</td>\n",
              "    </tr>\n",
              "  </tbody>\n",
              "</table>\n",
              "</div>\n",
              "      <button class=\"colab-df-convert\" onclick=\"convertToInteractive('df-83c57617-2445-4d22-b865-d627595ef662')\"\n",
              "              title=\"Convert this dataframe to an interactive table.\"\n",
              "              style=\"display:none;\">\n",
              "        \n",
              "  <svg xmlns=\"http://www.w3.org/2000/svg\" height=\"24px\"viewBox=\"0 0 24 24\"\n",
              "       width=\"24px\">\n",
              "    <path d=\"M0 0h24v24H0V0z\" fill=\"none\"/>\n",
              "    <path d=\"M18.56 5.44l.94 2.06.94-2.06 2.06-.94-2.06-.94-.94-2.06-.94 2.06-2.06.94zm-11 1L8.5 8.5l.94-2.06 2.06-.94-2.06-.94L8.5 2.5l-.94 2.06-2.06.94zm10 10l.94 2.06.94-2.06 2.06-.94-2.06-.94-.94-2.06-.94 2.06-2.06.94z\"/><path d=\"M17.41 7.96l-1.37-1.37c-.4-.4-.92-.59-1.43-.59-.52 0-1.04.2-1.43.59L10.3 9.45l-7.72 7.72c-.78.78-.78 2.05 0 2.83L4 21.41c.39.39.9.59 1.41.59.51 0 1.02-.2 1.41-.59l7.78-7.78 2.81-2.81c.8-.78.8-2.07 0-2.86zM5.41 20L4 18.59l7.72-7.72 1.47 1.35L5.41 20z\"/>\n",
              "  </svg>\n",
              "      </button>\n",
              "      \n",
              "  <style>\n",
              "    .colab-df-container {\n",
              "      display:flex;\n",
              "      flex-wrap:wrap;\n",
              "      gap: 12px;\n",
              "    }\n",
              "\n",
              "    .colab-df-convert {\n",
              "      background-color: #E8F0FE;\n",
              "      border: none;\n",
              "      border-radius: 50%;\n",
              "      cursor: pointer;\n",
              "      display: none;\n",
              "      fill: #1967D2;\n",
              "      height: 32px;\n",
              "      padding: 0 0 0 0;\n",
              "      width: 32px;\n",
              "    }\n",
              "\n",
              "    .colab-df-convert:hover {\n",
              "      background-color: #E2EBFA;\n",
              "      box-shadow: 0px 1px 2px rgba(60, 64, 67, 0.3), 0px 1px 3px 1px rgba(60, 64, 67, 0.15);\n",
              "      fill: #174EA6;\n",
              "    }\n",
              "\n",
              "    [theme=dark] .colab-df-convert {\n",
              "      background-color: #3B4455;\n",
              "      fill: #D2E3FC;\n",
              "    }\n",
              "\n",
              "    [theme=dark] .colab-df-convert:hover {\n",
              "      background-color: #434B5C;\n",
              "      box-shadow: 0px 1px 3px 1px rgba(0, 0, 0, 0.15);\n",
              "      filter: drop-shadow(0px 1px 2px rgba(0, 0, 0, 0.3));\n",
              "      fill: #FFFFFF;\n",
              "    }\n",
              "  </style>\n",
              "\n",
              "      <script>\n",
              "        const buttonEl =\n",
              "          document.querySelector('#df-83c57617-2445-4d22-b865-d627595ef662 button.colab-df-convert');\n",
              "        buttonEl.style.display =\n",
              "          google.colab.kernel.accessAllowed ? 'block' : 'none';\n",
              "\n",
              "        async function convertToInteractive(key) {\n",
              "          const element = document.querySelector('#df-83c57617-2445-4d22-b865-d627595ef662');\n",
              "          const dataTable =\n",
              "            await google.colab.kernel.invokeFunction('convertToInteractive',\n",
              "                                                     [key], {});\n",
              "          if (!dataTable) return;\n",
              "\n",
              "          const docLinkHtml = 'Like what you see? Visit the ' +\n",
              "            '<a target=\"_blank\" href=https://colab.research.google.com/notebooks/data_table.ipynb>data table notebook</a>'\n",
              "            + ' to learn more about interactive tables.';\n",
              "          element.innerHTML = '';\n",
              "          dataTable['output_type'] = 'display_data';\n",
              "          await google.colab.output.renderOutput(dataTable, element);\n",
              "          const docLink = document.createElement('div');\n",
              "          docLink.innerHTML = docLinkHtml;\n",
              "          element.appendChild(docLink);\n",
              "        }\n",
              "      </script>\n",
              "    </div>\n",
              "  </div>\n",
              "  "
            ]
          },
          "metadata": {},
          "execution_count": 9
        }
      ]
    },
    {
      "cell_type": "code",
      "source": [
        "df.shape"
      ],
      "metadata": {
        "colab": {
          "base_uri": "https://localhost:8080/"
        },
        "id": "F5C9Ucf_cVvy",
        "outputId": "e310c242-4529-4d59-d7e4-5f3c84fadcdd"
      },
      "execution_count": null,
      "outputs": [
        {
          "output_type": "execute_result",
          "data": {
            "text/plain": [
              "(27481, 4)"
            ]
          },
          "metadata": {},
          "execution_count": 10
        }
      ]
    },
    {
      "cell_type": "code",
      "source": [
        "import re\n",
        "import shutil\n",
        "import string\n",
        "import tensorflow as tf\n",
        "import os \n",
        "from tf.keras import regularisation\n",
        "from tf.keras import layers\n",
        "from tf.keras import losses\n",
        "from collections import  Counter\n"
      ],
      "metadata": {
        "id": "H0DhWvpdUXMv"
      },
      "execution_count": null,
      "outputs": []
    },
    {
      "cell_type": "code",
      "source": [
        "def remove_url_special(text):\n",
        "  text=(re.sub(r'[^A-Za-z]',' ',text))\n",
        "  return text"
      ],
      "metadata": {
        "id": "p--d-UXycQtw"
      },
      "execution_count": null,
      "outputs": []
    },
    {
      "cell_type": "code",
      "source": [
        "remove_url_special(\"I`d have responded, if I were going \t\")"
      ],
      "metadata": {
        "colab": {
          "base_uri": "https://localhost:8080/",
          "height": 36
        },
        "id": "z-0tDU-3dG84",
        "outputId": "60be264c-b5a8-41cc-d8e4-93e4e0017608"
      },
      "execution_count": null,
      "outputs": [
        {
          "output_type": "execute_result",
          "data": {
            "text/plain": [
              "'I d have responded  if I were going  '"
            ],
            "application/vnd.google.colaboratory.intrinsic+json": {
              "type": "string"
            }
          },
          "metadata": {},
          "execution_count": 23
        }
      ]
    },
    {
      "cell_type": "code",
      "source": [
        "x=df['text'].apply(remove_url_special)"
      ],
      "metadata": {
        "colab": {
          "base_uri": "https://localhost:8080/",
          "height": 322
        },
        "id": "JCwq2cHsdKuD",
        "outputId": "a62d3989-c0f9-45c3-ddd8-4548e8c76d0b"
      },
      "execution_count": null,
      "outputs": [
        {
          "output_type": "error",
          "ename": "TypeError",
          "evalue": "ignored",
          "traceback": [
            "\u001b[0;31m---------------------------------------------------------------------------\u001b[0m",
            "\u001b[0;31mTypeError\u001b[0m                                 Traceback (most recent call last)",
            "\u001b[0;32m<ipython-input-27-1d80fe3e3e9f>\u001b[0m in \u001b[0;36m<module>\u001b[0;34m()\u001b[0m\n\u001b[0;32m----> 1\u001b[0;31m \u001b[0mx\u001b[0m\u001b[0;34m=\u001b[0m\u001b[0mdf\u001b[0m\u001b[0;34m[\u001b[0m\u001b[0;34m'text'\u001b[0m\u001b[0;34m]\u001b[0m\u001b[0;34m.\u001b[0m\u001b[0mapply\u001b[0m\u001b[0;34m(\u001b[0m\u001b[0mremove_url_special\u001b[0m\u001b[0;34m)\u001b[0m\u001b[0;34m\u001b[0m\u001b[0;34m\u001b[0m\u001b[0m\n\u001b[0m",
            "\u001b[0;32m/usr/local/lib/python3.7/dist-packages/pandas/core/series.py\u001b[0m in \u001b[0;36mapply\u001b[0;34m(self, func, convert_dtype, args, **kwargs)\u001b[0m\n\u001b[1;32m   4355\u001b[0m         \u001b[0mdtype\u001b[0m\u001b[0;34m:\u001b[0m \u001b[0mfloat64\u001b[0m\u001b[0;34m\u001b[0m\u001b[0;34m\u001b[0m\u001b[0m\n\u001b[1;32m   4356\u001b[0m         \"\"\"\n\u001b[0;32m-> 4357\u001b[0;31m         \u001b[0;32mreturn\u001b[0m \u001b[0mSeriesApply\u001b[0m\u001b[0;34m(\u001b[0m\u001b[0mself\u001b[0m\u001b[0;34m,\u001b[0m \u001b[0mfunc\u001b[0m\u001b[0;34m,\u001b[0m \u001b[0mconvert_dtype\u001b[0m\u001b[0;34m,\u001b[0m \u001b[0margs\u001b[0m\u001b[0;34m,\u001b[0m \u001b[0mkwargs\u001b[0m\u001b[0;34m)\u001b[0m\u001b[0;34m.\u001b[0m\u001b[0mapply\u001b[0m\u001b[0;34m(\u001b[0m\u001b[0;34m)\u001b[0m\u001b[0;34m\u001b[0m\u001b[0;34m\u001b[0m\u001b[0m\n\u001b[0m\u001b[1;32m   4358\u001b[0m \u001b[0;34m\u001b[0m\u001b[0m\n\u001b[1;32m   4359\u001b[0m     def _reduce(\n",
            "\u001b[0;32m/usr/local/lib/python3.7/dist-packages/pandas/core/apply.py\u001b[0m in \u001b[0;36mapply\u001b[0;34m(self)\u001b[0m\n\u001b[1;32m   1041\u001b[0m             \u001b[0;32mreturn\u001b[0m \u001b[0mself\u001b[0m\u001b[0;34m.\u001b[0m\u001b[0mapply_str\u001b[0m\u001b[0;34m(\u001b[0m\u001b[0;34m)\u001b[0m\u001b[0;34m\u001b[0m\u001b[0;34m\u001b[0m\u001b[0m\n\u001b[1;32m   1042\u001b[0m \u001b[0;34m\u001b[0m\u001b[0m\n\u001b[0;32m-> 1043\u001b[0;31m         \u001b[0;32mreturn\u001b[0m \u001b[0mself\u001b[0m\u001b[0;34m.\u001b[0m\u001b[0mapply_standard\u001b[0m\u001b[0;34m(\u001b[0m\u001b[0;34m)\u001b[0m\u001b[0;34m\u001b[0m\u001b[0;34m\u001b[0m\u001b[0m\n\u001b[0m\u001b[1;32m   1044\u001b[0m \u001b[0;34m\u001b[0m\u001b[0m\n\u001b[1;32m   1045\u001b[0m     \u001b[0;32mdef\u001b[0m \u001b[0magg\u001b[0m\u001b[0;34m(\u001b[0m\u001b[0mself\u001b[0m\u001b[0;34m)\u001b[0m\u001b[0;34m:\u001b[0m\u001b[0;34m\u001b[0m\u001b[0;34m\u001b[0m\u001b[0m\n",
            "\u001b[0;32m/usr/local/lib/python3.7/dist-packages/pandas/core/apply.py\u001b[0m in \u001b[0;36mapply_standard\u001b[0;34m(self)\u001b[0m\n\u001b[1;32m   1099\u001b[0m                     \u001b[0mvalues\u001b[0m\u001b[0;34m,\u001b[0m\u001b[0;34m\u001b[0m\u001b[0;34m\u001b[0m\u001b[0m\n\u001b[1;32m   1100\u001b[0m                     \u001b[0mf\u001b[0m\u001b[0;34m,\u001b[0m  \u001b[0;31m# type: ignore[arg-type]\u001b[0m\u001b[0;34m\u001b[0m\u001b[0;34m\u001b[0m\u001b[0m\n\u001b[0;32m-> 1101\u001b[0;31m                     \u001b[0mconvert\u001b[0m\u001b[0;34m=\u001b[0m\u001b[0mself\u001b[0m\u001b[0;34m.\u001b[0m\u001b[0mconvert_dtype\u001b[0m\u001b[0;34m,\u001b[0m\u001b[0;34m\u001b[0m\u001b[0;34m\u001b[0m\u001b[0m\n\u001b[0m\u001b[1;32m   1102\u001b[0m                 )\n\u001b[1;32m   1103\u001b[0m \u001b[0;34m\u001b[0m\u001b[0m\n",
            "\u001b[0;32m/usr/local/lib/python3.7/dist-packages/pandas/_libs/lib.pyx\u001b[0m in \u001b[0;36mpandas._libs.lib.map_infer\u001b[0;34m()\u001b[0m\n",
            "\u001b[0;32m<ipython-input-22-f95b1e733479>\u001b[0m in \u001b[0;36mremove_url_special\u001b[0;34m(text)\u001b[0m\n\u001b[1;32m      1\u001b[0m \u001b[0;32mdef\u001b[0m \u001b[0mremove_url_special\u001b[0m\u001b[0;34m(\u001b[0m\u001b[0mtext\u001b[0m\u001b[0;34m)\u001b[0m\u001b[0;34m:\u001b[0m\u001b[0;34m\u001b[0m\u001b[0;34m\u001b[0m\u001b[0m\n\u001b[0;32m----> 2\u001b[0;31m   \u001b[0mtext\u001b[0m\u001b[0;34m=\u001b[0m\u001b[0;34m(\u001b[0m\u001b[0mre\u001b[0m\u001b[0;34m.\u001b[0m\u001b[0msub\u001b[0m\u001b[0;34m(\u001b[0m\u001b[0;34mr'[^A-Za-z]'\u001b[0m\u001b[0;34m,\u001b[0m\u001b[0;34m' '\u001b[0m\u001b[0;34m,\u001b[0m\u001b[0mtext\u001b[0m\u001b[0;34m)\u001b[0m\u001b[0;34m)\u001b[0m\u001b[0;34m\u001b[0m\u001b[0;34m\u001b[0m\u001b[0m\n\u001b[0m\u001b[1;32m      3\u001b[0m   \u001b[0;32mreturn\u001b[0m \u001b[0mtext\u001b[0m\u001b[0;34m\u001b[0m\u001b[0;34m\u001b[0m\u001b[0m\n",
            "\u001b[0;32m/usr/lib/python3.7/re.py\u001b[0m in \u001b[0;36msub\u001b[0;34m(pattern, repl, string, count, flags)\u001b[0m\n\u001b[1;32m    192\u001b[0m     \u001b[0ma\u001b[0m \u001b[0mcallable\u001b[0m\u001b[0;34m,\u001b[0m \u001b[0mit\u001b[0m\u001b[0;31m'\u001b[0m\u001b[0ms\u001b[0m \u001b[0mpassed\u001b[0m \u001b[0mthe\u001b[0m \u001b[0mMatch\u001b[0m \u001b[0mobject\u001b[0m \u001b[0;32mand\u001b[0m \u001b[0mmust\u001b[0m \u001b[0;32mreturn\u001b[0m\u001b[0;34m\u001b[0m\u001b[0;34m\u001b[0m\u001b[0m\n\u001b[1;32m    193\u001b[0m     a replacement string to be used.\"\"\"\n\u001b[0;32m--> 194\u001b[0;31m     \u001b[0;32mreturn\u001b[0m \u001b[0m_compile\u001b[0m\u001b[0;34m(\u001b[0m\u001b[0mpattern\u001b[0m\u001b[0;34m,\u001b[0m \u001b[0mflags\u001b[0m\u001b[0;34m)\u001b[0m\u001b[0;34m.\u001b[0m\u001b[0msub\u001b[0m\u001b[0;34m(\u001b[0m\u001b[0mrepl\u001b[0m\u001b[0;34m,\u001b[0m \u001b[0mstring\u001b[0m\u001b[0;34m,\u001b[0m \u001b[0mcount\u001b[0m\u001b[0;34m)\u001b[0m\u001b[0;34m\u001b[0m\u001b[0;34m\u001b[0m\u001b[0m\n\u001b[0m\u001b[1;32m    195\u001b[0m \u001b[0;34m\u001b[0m\u001b[0m\n\u001b[1;32m    196\u001b[0m \u001b[0;32mdef\u001b[0m \u001b[0msubn\u001b[0m\u001b[0;34m(\u001b[0m\u001b[0mpattern\u001b[0m\u001b[0;34m,\u001b[0m \u001b[0mrepl\u001b[0m\u001b[0;34m,\u001b[0m \u001b[0mstring\u001b[0m\u001b[0;34m,\u001b[0m \u001b[0mcount\u001b[0m\u001b[0;34m=\u001b[0m\u001b[0;36m0\u001b[0m\u001b[0;34m,\u001b[0m \u001b[0mflags\u001b[0m\u001b[0;34m=\u001b[0m\u001b[0;36m0\u001b[0m\u001b[0;34m)\u001b[0m\u001b[0;34m:\u001b[0m\u001b[0;34m\u001b[0m\u001b[0;34m\u001b[0m\u001b[0m\n",
            "\u001b[0;31mTypeError\u001b[0m: expected string or bytes-like object"
          ]
        }
      ]
    },
    {
      "cell_type": "code",
      "source": [
        "df['text']"
      ],
      "metadata": {
        "colab": {
          "base_uri": "https://localhost:8080/"
        },
        "id": "Pj8ODpi9d-F8",
        "outputId": "ab870d6f-3b1f-4cf0-d59b-70205c552d61"
      },
      "execution_count": null,
      "outputs": [
        {
          "output_type": "execute_result",
          "data": {
            "text/plain": [
              "0                      I`d have responded, if I were going\n",
              "1            Sooo SAD I will miss you here in San Diego!!!\n",
              "2                                my boss is bullying me...\n",
              "3                           what interview! leave me alone\n",
              "4         Sons of ****, why couldn`t they put them on t...\n",
              "                               ...                        \n",
              "27476     wish we could come see u on Denver  husband l...\n",
              "27477     I`ve wondered about rake to.  The client has ...\n",
              "27478     Yay good for both of you. Enjoy the break - y...\n",
              "27479                           But it was worth it  ****.\n",
              "27480       All this flirting going on - The ATG smiles...\n",
              "Name: text, Length: 27481, dtype: object"
            ]
          },
          "metadata": {},
          "execution_count": 26
        }
      ]
    }
  ]
}