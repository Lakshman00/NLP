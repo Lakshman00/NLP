{
  "nbformat": 4,
  "nbformat_minor": 0,
  "metadata": {
    "colab": {
      "name": "NLP Embedding.ipynb",
      "provenance": [],
      "collapsed_sections": []
    },
    "kernelspec": {
      "name": "python3",
      "display_name": "Python 3"
    },
    "language_info": {
      "name": "python"
    }
  },
  "cells": [
    {
      "cell_type": "code",
      "execution_count": null,
      "metadata": {
        "id": "pbNi_ktVS5bs"
      },
      "outputs": [],
      "source": [
        "import pandas as pd"
      ]
    },
    {
      "cell_type": "code",
      "source": [
        ""
      ],
      "metadata": {
        "id": "R8CDWuRWbQNQ"
      },
      "execution_count": null,
      "outputs": []
    },
    {
      "cell_type": "code",
      "source": [
        "data=pd.read_csv(\"/content/train.csv\")\n",
        "test=pd.read_csv(\"/content/test_actual.csv\")\n",
        "submissions=pd.read_csv(\"/content/sample_submission.csv\")"
      ],
      "metadata": {
        "id": "qUhfGP16S7yO"
      },
      "execution_count": null,
      "outputs": []
    },
    {
      "cell_type": "code",
      "source": [
        "x=data[\"product_name\"]+data[\"review_title\"]+data[\"review_text\"]\n",
        "y=data[\"review_rating\"].values"
      ],
      "metadata": {
        "id": "OvhM7YTzTD5s"
      },
      "execution_count": null,
      "outputs": []
    },
    {
      "cell_type": "code",
      "source": [
        "df=pd.DataFrame(list(zip(x, y)),columns=['text','labels'])"
      ],
      "metadata": {
        "id": "GsbiNbiITPIY"
      },
      "execution_count": null,
      "outputs": []
    },
    {
      "cell_type": "code",
      "source": [
        "df.drop_duplicates(inplace=True)"
      ],
      "metadata": {
        "id": "tnutgIhNTRaa"
      },
      "execution_count": null,
      "outputs": []
    },
    {
      "cell_type": "code",
      "source": [
        "df.dropna(inplace=True)"
      ],
      "metadata": {
        "id": "Ry8rMaPSTS_r"
      },
      "execution_count": null,
      "outputs": []
    },
    {
      "cell_type": "code",
      "source": [
        "test_data=test[\"product_name\"]+test[\"review_title\"]+test[\"review_text\"]\n",
        "test_data"
      ],
      "metadata": {
        "colab": {
          "base_uri": "https://localhost:8080/"
        },
        "id": "MD4abrU0TUJQ",
        "outputId": "aff7d03f-1b62-4da6-db3d-949a3e43b37e"
      },
      "execution_count": null,
      "outputs": [
        {
          "output_type": "execute_result",
          "data": {
            "text/plain": [
              "0      FRYE Women's Maya Canvas Low Lace Sneaker, Blu...\n",
              "1      Merrell Men's Jungle Moc Leather Waterproof Ic...\n",
              "2      adidas Kids&#39; Fortarun Ac Running ShoeVery ...\n",
              "3      PEARL IZUMI Women's W Elite Road v5 Cycling Sh...\n",
              "4              CLARKS Men&#39;s Un Globe Lace👍👍 liked it\n",
              "                             ...                        \n",
              "995    Clarks - Mens Un Larvik Top2 Boots, 10 UK, Gre...\n",
              "996    Lethato Men’s Modern Classic Calfskin Leather ...\n",
              "997    adidas NEMEZIZ 19.1 AG, Men's Soccer Shoe, Sig...\n",
              "998    PUMA Women's Prowl Slip ON Walking Shoe, Black...\n",
              "999    New Balance Girl's 515v1 Sneaker, Phantom/Neo ...\n",
              "Length: 1000, dtype: object"
            ]
          },
          "metadata": {},
          "execution_count": 7
        }
      ]
    },
    {
      "cell_type": "code",
      "source": [
        "def preprocess(text):\n",
        "  import re\n",
        "  text=re.sub(r'[^a-zA-Z]',' ',text)\n",
        "  text=re.sub(r'#\\w+',\" \",text)\n",
        "  text=re.sub(r'@\\w+',\" \",text)\n",
        "  return(text)"
      ],
      "metadata": {
        "id": "XqFFvT3BTWAx"
      },
      "execution_count": null,
      "outputs": []
    },
    {
      "cell_type": "code",
      "source": [
        "preprocess(\"Lfin in3n5 56n6n6 -002 \")"
      ],
      "metadata": {
        "colab": {
          "base_uri": "https://localhost:8080/",
          "height": 35
        },
        "id": "4ehMAHFdTX56",
        "outputId": "083fd53e-5306-4008-a3b2-d619b20c3474"
      },
      "execution_count": null,
      "outputs": [
        {
          "output_type": "execute_result",
          "data": {
            "text/plain": [
              "'Lfin in n    n n       '"
            ],
            "application/vnd.google.colaboratory.intrinsic+json": {
              "type": "string"
            }
          },
          "metadata": {},
          "execution_count": 9
        }
      ]
    },
    {
      "cell_type": "code",
      "source": [
        "df['text']=df['text'].apply(preprocess)"
      ],
      "metadata": {
        "id": "KOOFdT2ZTZXh"
      },
      "execution_count": null,
      "outputs": []
    },
    {
      "cell_type": "code",
      "source": [
        "import nltk\n",
        "from nltk.stem import WordNetLemmatizer\n",
        "from nltk.corpus import stopwords\n",
        "nltk.download('stopwords')\n",
        "nltk.download('wordnet')\n",
        "import sys"
      ],
      "metadata": {
        "colab": {
          "base_uri": "https://localhost:8080/"
        },
        "id": "97h8mbqRTa09",
        "outputId": "21959d39-bab7-496f-b02c-d91740f9d6d5"
      },
      "execution_count": null,
      "outputs": [
        {
          "output_type": "stream",
          "name": "stdout",
          "text": [
            "[nltk_data] Downloading package stopwords to /root/nltk_data...\n",
            "[nltk_data]   Package stopwords is already up-to-date!\n",
            "[nltk_data] Downloading package wordnet to /root/nltk_data...\n",
            "[nltk_data]   Package wordnet is already up-to-date!\n"
          ]
        }
      ]
    },
    {
      "cell_type": "code",
      "source": [
        "df"
      ],
      "metadata": {
        "colab": {
          "base_uri": "https://localhost:8080/",
          "height": 424
        },
        "id": "If2uX2QPTcq4",
        "outputId": "9a327323-f945-4c6d-8d07-f3c1ccb6f5eb"
      },
      "execution_count": null,
      "outputs": [
        {
          "output_type": "execute_result",
          "data": {
            "text/plain": [
              "                                                   text  labels\n",
              "0     Klasified Women s Transparent Clear Sneaker Sh...     5.0\n",
              "1     Klasified Women s Transparent Clear Sneaker Sh...     5.0\n",
              "2     Klasified Women s Transparent Clear Sneaker Sh...     5.0\n",
              "3     GUESS Women s Bradly Gymnastics Shoe  White   ...     1.0\n",
              "4     GUESS Women s Bradly Gymnastics Shoe  White   ...     5.0\n",
              "...                                                 ...     ...\n",
              "3502  Kids Mesh Clogs Breathable Garden Shoes Toddle...     5.0\n",
              "3503  Kids Mesh Clogs Breathable Garden Shoes Toddle...     5.0\n",
              "3504  Kids Mesh Clogs Breathable Garden Shoes Toddle...     1.0\n",
              "3505  Kids Mesh Clogs Breathable Garden Shoes Toddle...     4.0\n",
              "3506  Kids Mesh Clogs Breathable Garden Shoes Toddle...     4.0\n",
              "\n",
              "[3500 rows x 2 columns]"
            ],
            "text/html": [
              "\n",
              "  <div id=\"df-8e08ad28-a880-4d43-9b1f-420733bddd91\">\n",
              "    <div class=\"colab-df-container\">\n",
              "      <div>\n",
              "<style scoped>\n",
              "    .dataframe tbody tr th:only-of-type {\n",
              "        vertical-align: middle;\n",
              "    }\n",
              "\n",
              "    .dataframe tbody tr th {\n",
              "        vertical-align: top;\n",
              "    }\n",
              "\n",
              "    .dataframe thead th {\n",
              "        text-align: right;\n",
              "    }\n",
              "</style>\n",
              "<table border=\"1\" class=\"dataframe\">\n",
              "  <thead>\n",
              "    <tr style=\"text-align: right;\">\n",
              "      <th></th>\n",
              "      <th>text</th>\n",
              "      <th>labels</th>\n",
              "    </tr>\n",
              "  </thead>\n",
              "  <tbody>\n",
              "    <tr>\n",
              "      <th>0</th>\n",
              "      <td>Klasified Women s Transparent Clear Sneaker Sh...</td>\n",
              "      <td>5.0</td>\n",
              "    </tr>\n",
              "    <tr>\n",
              "      <th>1</th>\n",
              "      <td>Klasified Women s Transparent Clear Sneaker Sh...</td>\n",
              "      <td>5.0</td>\n",
              "    </tr>\n",
              "    <tr>\n",
              "      <th>2</th>\n",
              "      <td>Klasified Women s Transparent Clear Sneaker Sh...</td>\n",
              "      <td>5.0</td>\n",
              "    </tr>\n",
              "    <tr>\n",
              "      <th>3</th>\n",
              "      <td>GUESS Women s Bradly Gymnastics Shoe  White   ...</td>\n",
              "      <td>1.0</td>\n",
              "    </tr>\n",
              "    <tr>\n",
              "      <th>4</th>\n",
              "      <td>GUESS Women s Bradly Gymnastics Shoe  White   ...</td>\n",
              "      <td>5.0</td>\n",
              "    </tr>\n",
              "    <tr>\n",
              "      <th>...</th>\n",
              "      <td>...</td>\n",
              "      <td>...</td>\n",
              "    </tr>\n",
              "    <tr>\n",
              "      <th>3502</th>\n",
              "      <td>Kids Mesh Clogs Breathable Garden Shoes Toddle...</td>\n",
              "      <td>5.0</td>\n",
              "    </tr>\n",
              "    <tr>\n",
              "      <th>3503</th>\n",
              "      <td>Kids Mesh Clogs Breathable Garden Shoes Toddle...</td>\n",
              "      <td>5.0</td>\n",
              "    </tr>\n",
              "    <tr>\n",
              "      <th>3504</th>\n",
              "      <td>Kids Mesh Clogs Breathable Garden Shoes Toddle...</td>\n",
              "      <td>1.0</td>\n",
              "    </tr>\n",
              "    <tr>\n",
              "      <th>3505</th>\n",
              "      <td>Kids Mesh Clogs Breathable Garden Shoes Toddle...</td>\n",
              "      <td>4.0</td>\n",
              "    </tr>\n",
              "    <tr>\n",
              "      <th>3506</th>\n",
              "      <td>Kids Mesh Clogs Breathable Garden Shoes Toddle...</td>\n",
              "      <td>4.0</td>\n",
              "    </tr>\n",
              "  </tbody>\n",
              "</table>\n",
              "<p>3500 rows × 2 columns</p>\n",
              "</div>\n",
              "      <button class=\"colab-df-convert\" onclick=\"convertToInteractive('df-8e08ad28-a880-4d43-9b1f-420733bddd91')\"\n",
              "              title=\"Convert this dataframe to an interactive table.\"\n",
              "              style=\"display:none;\">\n",
              "        \n",
              "  <svg xmlns=\"http://www.w3.org/2000/svg\" height=\"24px\"viewBox=\"0 0 24 24\"\n",
              "       width=\"24px\">\n",
              "    <path d=\"M0 0h24v24H0V0z\" fill=\"none\"/>\n",
              "    <path d=\"M18.56 5.44l.94 2.06.94-2.06 2.06-.94-2.06-.94-.94-2.06-.94 2.06-2.06.94zm-11 1L8.5 8.5l.94-2.06 2.06-.94-2.06-.94L8.5 2.5l-.94 2.06-2.06.94zm10 10l.94 2.06.94-2.06 2.06-.94-2.06-.94-.94-2.06-.94 2.06-2.06.94z\"/><path d=\"M17.41 7.96l-1.37-1.37c-.4-.4-.92-.59-1.43-.59-.52 0-1.04.2-1.43.59L10.3 9.45l-7.72 7.72c-.78.78-.78 2.05 0 2.83L4 21.41c.39.39.9.59 1.41.59.51 0 1.02-.2 1.41-.59l7.78-7.78 2.81-2.81c.8-.78.8-2.07 0-2.86zM5.41 20L4 18.59l7.72-7.72 1.47 1.35L5.41 20z\"/>\n",
              "  </svg>\n",
              "      </button>\n",
              "      \n",
              "  <style>\n",
              "    .colab-df-container {\n",
              "      display:flex;\n",
              "      flex-wrap:wrap;\n",
              "      gap: 12px;\n",
              "    }\n",
              "\n",
              "    .colab-df-convert {\n",
              "      background-color: #E8F0FE;\n",
              "      border: none;\n",
              "      border-radius: 50%;\n",
              "      cursor: pointer;\n",
              "      display: none;\n",
              "      fill: #1967D2;\n",
              "      height: 32px;\n",
              "      padding: 0 0 0 0;\n",
              "      width: 32px;\n",
              "    }\n",
              "\n",
              "    .colab-df-convert:hover {\n",
              "      background-color: #E2EBFA;\n",
              "      box-shadow: 0px 1px 2px rgba(60, 64, 67, 0.3), 0px 1px 3px 1px rgba(60, 64, 67, 0.15);\n",
              "      fill: #174EA6;\n",
              "    }\n",
              "\n",
              "    [theme=dark] .colab-df-convert {\n",
              "      background-color: #3B4455;\n",
              "      fill: #D2E3FC;\n",
              "    }\n",
              "\n",
              "    [theme=dark] .colab-df-convert:hover {\n",
              "      background-color: #434B5C;\n",
              "      box-shadow: 0px 1px 3px 1px rgba(0, 0, 0, 0.15);\n",
              "      filter: drop-shadow(0px 1px 2px rgba(0, 0, 0, 0.3));\n",
              "      fill: #FFFFFF;\n",
              "    }\n",
              "  </style>\n",
              "\n",
              "      <script>\n",
              "        const buttonEl =\n",
              "          document.querySelector('#df-8e08ad28-a880-4d43-9b1f-420733bddd91 button.colab-df-convert');\n",
              "        buttonEl.style.display =\n",
              "          google.colab.kernel.accessAllowed ? 'block' : 'none';\n",
              "\n",
              "        async function convertToInteractive(key) {\n",
              "          const element = document.querySelector('#df-8e08ad28-a880-4d43-9b1f-420733bddd91');\n",
              "          const dataTable =\n",
              "            await google.colab.kernel.invokeFunction('convertToInteractive',\n",
              "                                                     [key], {});\n",
              "          if (!dataTable) return;\n",
              "\n",
              "          const docLinkHtml = 'Like what you see? Visit the ' +\n",
              "            '<a target=\"_blank\" href=https://colab.research.google.com/notebooks/data_table.ipynb>data table notebook</a>'\n",
              "            + ' to learn more about interactive tables.';\n",
              "          element.innerHTML = '';\n",
              "          dataTable['output_type'] = 'display_data';\n",
              "          await google.colab.output.renderOutput(dataTable, element);\n",
              "          const docLink = document.createElement('div');\n",
              "          docLink.innerHTML = docLinkHtml;\n",
              "          element.appendChild(docLink);\n",
              "        }\n",
              "      </script>\n",
              "    </div>\n",
              "  </div>\n",
              "  "
            ]
          },
          "metadata": {},
          "execution_count": 15
        }
      ]
    },
    {
      "cell_type": "code",
      "source": [
        "from keras.preprocessing.sequence import pad_sequences\n",
        "from keras.preprocessing.text import Tokenizer\n",
        "\n",
        "tokenizer = Tokenizer(num_words=500, split=' ') \n",
        "tokenizer.fit_on_texts(df['text'].values)\n",
        "X = tokenizer.texts_to_sequences(df['text'].values)\n",
        "X = pad_sequences(X)"
      ],
      "metadata": {
        "id": "Fe4exafjThbA"
      },
      "execution_count": null,
      "outputs": []
    },
    {
      "cell_type": "code",
      "source": [
        "from keras.models import Sequential\n",
        "from keras.preprocessing.text import Tokenizer\n",
        "from keras.preprocessing.sequence import pad_sequences\n",
        "from keras.layers import Dense, Embedding, LSTM, SpatialDropout1D\n",
        "from sklearn.model_selection import train_test_split \n",
        "import matplotlib.pyplot as plt"
      ],
      "metadata": {
        "id": "RVMmIarVTmqG"
      },
      "execution_count": null,
      "outputs": []
    },
    {
      "cell_type": "code",
      "source": [
        "model = Sequential()\n",
        "model.add(Embedding(500, 120, input_length = X.shape[1]))\n",
        "model.add(SpatialDropout1D(0.4))\n",
        "model.add(LSTM(176, dropout=0.2, recurrent_dropout=0.2))\n",
        "model.add(Dense(5,activation='softmax'))\n",
        "model.compile(loss = 'categorical_crossentropy', optimizer='adam', metrics = ['accuracy'])\n",
        "print(model.summary())"
      ],
      "metadata": {
        "colab": {
          "base_uri": "https://localhost:8080/"
        },
        "id": "IN5dix_JTo8b",
        "outputId": "1fa7bc73-3dbc-4a36-9a9d-4c9e96f30b81"
      },
      "execution_count": null,
      "outputs": [
        {
          "output_type": "stream",
          "name": "stdout",
          "text": [
            "Model: \"sequential\"\n",
            "_________________________________________________________________\n",
            " Layer (type)                Output Shape              Param #   \n",
            "=================================================================\n",
            " embedding (Embedding)       (None, 386, 120)          60000     \n",
            "                                                                 \n",
            " spatial_dropout1d (SpatialD  (None, 386, 120)         0         \n",
            " ropout1D)                                                       \n",
            "                                                                 \n",
            " lstm (LSTM)                 (None, 176)               209088    \n",
            "                                                                 \n",
            " dense (Dense)               (None, 5)                 885       \n",
            "                                                                 \n",
            "=================================================================\n",
            "Total params: 269,973\n",
            "Trainable params: 269,973\n",
            "Non-trainable params: 0\n",
            "_________________________________________________________________\n",
            "None\n"
          ]
        }
      ]
    },
    {
      "cell_type": "code",
      "source": [
        "y=pd.get_dummies(df['labels'])\n",
        "X_train, X_test, y_train, y_test = train_test_split(X,y, test_size = 0.3, random_state = 42)"
      ],
      "metadata": {
        "id": "mfM_cGbSTqQa"
      },
      "execution_count": null,
      "outputs": []
    },
    {
      "cell_type": "code",
      "source": [
        "batch_size=32\n",
        "history=model.fit(X_train, y_train, epochs = 3, batch_size=batch_size, verbose = 'auto')"
      ],
      "metadata": {
        "colab": {
          "base_uri": "https://localhost:8080/"
        },
        "id": "pygurVlwUADW",
        "outputId": "412bd0cf-607a-4c35-ca4e-45c97126fd57"
      },
      "execution_count": null,
      "outputs": [
        {
          "output_type": "stream",
          "name": "stdout",
          "text": [
            "Epoch 1/3\n",
            " 2/77 [..............................] - ETA: 4:40 - loss: 1.6026 - accuracy: 0.4531"
          ]
        }
      ]
    },
    {
      "cell_type": "code",
      "source": [
        "test=pd.DataFrame(test_data,columns=['text'])"
      ],
      "metadata": {
        "id": "Wv30DxJNUCU_"
      },
      "execution_count": null,
      "outputs": []
    },
    {
      "cell_type": "code",
      "source": [
        "df.shape"
      ],
      "metadata": {
        "id": "c3ltdmUgqhuN"
      },
      "execution_count": null,
      "outputs": []
    },
    {
      "cell_type": "code",
      "source": [
        ""
      ],
      "metadata": {
        "id": "NbMg9OoUqh4Y"
      },
      "execution_count": null,
      "outputs": []
    },
    {
      "cell_type": "code",
      "source": [
        "df['text']=df['text'].apply(preprocess).apply(preprocess)"
      ],
      "metadata": {
        "id": "ssvI1G2YWyGj"
      },
      "execution_count": null,
      "outputs": []
    },
    {
      "cell_type": "code",
      "source": [
        "test_data=tokenizer.texts_to_sequences(df['text'])\n",
        "test_data_padded=pad_sequences(test_data,padding='post',maxlen=386)"
      ],
      "metadata": {
        "id": "jr0jWnxVW4vJ"
      },
      "execution_count": null,
      "outputs": []
    },
    {
      "cell_type": "code",
      "source": [
        "test_data_padded"
      ],
      "metadata": {
        "colab": {
          "base_uri": "https://localhost:8080/"
        },
        "id": "GoOdMZEfXA9j",
        "outputId": "db6212e7-885f-4887-edd4-58e6e6cea348"
      },
      "execution_count": null,
      "outputs": [
        {
          "output_type": "execute_result",
          "data": {
            "text/plain": [
              "array([[ 13,   4,  23, ...,   0,   0,   0],\n",
              "       [ 13,   4,  23, ...,   0,   0,   0],\n",
              "       [ 13,   4,  23, ...,   0,   0,   0],\n",
              "       ...,\n",
              "       [107, 404, 334, ...,   0,   0,   0],\n",
              "       [107, 404, 334, ...,   0,   0,   0],\n",
              "       [107, 404, 334, ...,   0,   0,   0]], dtype=int32)"
            ]
          },
          "metadata": {},
          "execution_count": 28
        }
      ]
    },
    {
      "cell_type": "code",
      "source": [
        "y_pred=model.predict(test_data_padded)"
      ],
      "metadata": {
        "id": "t8dJtijwW6S0"
      },
      "execution_count": null,
      "outputs": []
    },
    {
      "cell_type": "code",
      "source": [
        "len(y_pred),len(test)"
      ],
      "metadata": {
        "colab": {
          "base_uri": "https://localhost:8080/"
        },
        "id": "haqXd1rnW-dY",
        "outputId": "00990978-089a-4bf3-c2b9-4a3d8890df63"
      },
      "execution_count": null,
      "outputs": [
        {
          "output_type": "execute_result",
          "data": {
            "text/plain": [
              "3500"
            ]
          },
          "metadata": {},
          "execution_count": 35
        }
      ]
    },
    {
      "cell_type": "code",
      "source": [
        "submissions['label'] = y_pred\n",
        "submissions.to_csv('/content/submission.csv', index=False)"
      ],
      "metadata": {
        "colab": {
          "base_uri": "https://localhost:8080/"
        },
        "id": "H2WGRImvXXQN",
        "outputId": "8f5d08e2-8e08-4438-de35-21d5d102aaf5"
      },
      "execution_count": null,
      "outputs": [
        {
          "output_type": "execute_result",
          "data": {
            "text/plain": [
              "array([[0.01542152, 0.00869817, 0.01612915, 0.06618759, 0.8935636 ],\n",
              "       [0.01542153, 0.00869817, 0.01612915, 0.06618759, 0.8935636 ],\n",
              "       [0.01542152, 0.00869817, 0.01612916, 0.06618759, 0.8935636 ],\n",
              "       ...,\n",
              "       [0.01542152, 0.00869817, 0.01612915, 0.06618759, 0.8935636 ],\n",
              "       [0.01542152, 0.00869817, 0.01612915, 0.06618759, 0.8935636 ],\n",
              "       [0.01542152, 0.00869817, 0.01612915, 0.06618759, 0.8935636 ]],\n",
              "      dtype=float32)"
            ]
          },
          "metadata": {},
          "execution_count": 37
        }
      ]
    }
  ]
}