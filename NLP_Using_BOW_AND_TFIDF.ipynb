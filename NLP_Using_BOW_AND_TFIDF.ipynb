{
  "nbformat": 4,
  "nbformat_minor": 0,
  "metadata": {
    "colab": {
      "name": "NLP Using BOW AND TFIDF.ipynb",
      "provenance": [],
      "collapsed_sections": [
        "-8PNx10ldTag"
      ]
    },
    "kernelspec": {
      "name": "python3",
      "display_name": "Python 3"
    },
    "language_info": {
      "name": "python"
    }
  },
  "cells": [
    {
      "cell_type": "code",
      "execution_count": null,
      "metadata": {
        "colab": {
          "base_uri": "https://localhost:8080/"
        },
        "id": "3kJXR2guB0Ab",
        "outputId": "acd44452-f7ee-409c-e035-5f4eede2addd"
      },
      "outputs": [
        {
          "output_type": "stream",
          "name": "stdout",
          "text": [
            "[nltk_data] Downloading package stopwords to /root/nltk_data...\n",
            "[nltk_data]   Package stopwords is already up-to-date!\n",
            "[nltk_data] Downloading package wordnet to /root/nltk_data...\n",
            "[nltk_data]   Package wordnet is already up-to-date!\n"
          ]
        }
      ],
      "source": [
        "import pandas as pd\n",
        "import numpy as np\n",
        "import re \n",
        "\n",
        "import nltk\n",
        "from nltk.corpus import stopwords\n",
        "nltk.download('stopwords')\n",
        "nltk.download('wordnet')\n",
        "\n",
        "from nltk.stem import WordNetLemmatizer\n",
        "from nltk.stem.porter import PorterStemmer"
      ]
    },
    {
      "cell_type": "code",
      "source": [
        "df=pd.read_csv(\"/content/products_description.csv\")"
      ],
      "metadata": {
        "id": "7CXr1l-JC5Lk"
      },
      "execution_count": null,
      "outputs": []
    },
    {
      "cell_type": "code",
      "source": [
        "df.head()"
      ],
      "metadata": {
        "colab": {
          "base_uri": "https://localhost:8080/",
          "height": 206
        },
        "id": "IX_cAqFSC7Iu",
        "outputId": "feb60a4d-78c2-4c72-d27e-56547438f92d"
      },
      "execution_count": null,
      "outputs": [
        {
          "output_type": "execute_result",
          "data": {
            "text/plain": [
              "   Unnamed: 0 product_type                                        description\n",
              "0           0    lip_liner  Lippie Pencil A long-wearing and high-intensit...\n",
              "1           1     lipstick  Blotted Lip Sheer matte lipstick that creates ...\n",
              "2           2     lipstick  Lippie Stix Formula contains Vitamin E, Mango,...\n",
              "3           3   foundation  Developed for the Selfie Age, our buildable fu...\n",
              "4           4     lipstick  All of our products are free from lead and hea..."
            ],
            "text/html": [
              "\n",
              "  <div id=\"df-57e2f36a-3e1e-4e13-a412-d7642bbf873e\">\n",
              "    <div class=\"colab-df-container\">\n",
              "      <div>\n",
              "<style scoped>\n",
              "    .dataframe tbody tr th:only-of-type {\n",
              "        vertical-align: middle;\n",
              "    }\n",
              "\n",
              "    .dataframe tbody tr th {\n",
              "        vertical-align: top;\n",
              "    }\n",
              "\n",
              "    .dataframe thead th {\n",
              "        text-align: right;\n",
              "    }\n",
              "</style>\n",
              "<table border=\"1\" class=\"dataframe\">\n",
              "  <thead>\n",
              "    <tr style=\"text-align: right;\">\n",
              "      <th></th>\n",
              "      <th>Unnamed: 0</th>\n",
              "      <th>product_type</th>\n",
              "      <th>description</th>\n",
              "    </tr>\n",
              "  </thead>\n",
              "  <tbody>\n",
              "    <tr>\n",
              "      <th>0</th>\n",
              "      <td>0</td>\n",
              "      <td>lip_liner</td>\n",
              "      <td>Lippie Pencil A long-wearing and high-intensit...</td>\n",
              "    </tr>\n",
              "    <tr>\n",
              "      <th>1</th>\n",
              "      <td>1</td>\n",
              "      <td>lipstick</td>\n",
              "      <td>Blotted Lip Sheer matte lipstick that creates ...</td>\n",
              "    </tr>\n",
              "    <tr>\n",
              "      <th>2</th>\n",
              "      <td>2</td>\n",
              "      <td>lipstick</td>\n",
              "      <td>Lippie Stix Formula contains Vitamin E, Mango,...</td>\n",
              "    </tr>\n",
              "    <tr>\n",
              "      <th>3</th>\n",
              "      <td>3</td>\n",
              "      <td>foundation</td>\n",
              "      <td>Developed for the Selfie Age, our buildable fu...</td>\n",
              "    </tr>\n",
              "    <tr>\n",
              "      <th>4</th>\n",
              "      <td>4</td>\n",
              "      <td>lipstick</td>\n",
              "      <td>All of our products are free from lead and hea...</td>\n",
              "    </tr>\n",
              "  </tbody>\n",
              "</table>\n",
              "</div>\n",
              "      <button class=\"colab-df-convert\" onclick=\"convertToInteractive('df-57e2f36a-3e1e-4e13-a412-d7642bbf873e')\"\n",
              "              title=\"Convert this dataframe to an interactive table.\"\n",
              "              style=\"display:none;\">\n",
              "        \n",
              "  <svg xmlns=\"http://www.w3.org/2000/svg\" height=\"24px\"viewBox=\"0 0 24 24\"\n",
              "       width=\"24px\">\n",
              "    <path d=\"M0 0h24v24H0V0z\" fill=\"none\"/>\n",
              "    <path d=\"M18.56 5.44l.94 2.06.94-2.06 2.06-.94-2.06-.94-.94-2.06-.94 2.06-2.06.94zm-11 1L8.5 8.5l.94-2.06 2.06-.94-2.06-.94L8.5 2.5l-.94 2.06-2.06.94zm10 10l.94 2.06.94-2.06 2.06-.94-2.06-.94-.94-2.06-.94 2.06-2.06.94z\"/><path d=\"M17.41 7.96l-1.37-1.37c-.4-.4-.92-.59-1.43-.59-.52 0-1.04.2-1.43.59L10.3 9.45l-7.72 7.72c-.78.78-.78 2.05 0 2.83L4 21.41c.39.39.9.59 1.41.59.51 0 1.02-.2 1.41-.59l7.78-7.78 2.81-2.81c.8-.78.8-2.07 0-2.86zM5.41 20L4 18.59l7.72-7.72 1.47 1.35L5.41 20z\"/>\n",
              "  </svg>\n",
              "      </button>\n",
              "      \n",
              "  <style>\n",
              "    .colab-df-container {\n",
              "      display:flex;\n",
              "      flex-wrap:wrap;\n",
              "      gap: 12px;\n",
              "    }\n",
              "\n",
              "    .colab-df-convert {\n",
              "      background-color: #E8F0FE;\n",
              "      border: none;\n",
              "      border-radius: 50%;\n",
              "      cursor: pointer;\n",
              "      display: none;\n",
              "      fill: #1967D2;\n",
              "      height: 32px;\n",
              "      padding: 0 0 0 0;\n",
              "      width: 32px;\n",
              "    }\n",
              "\n",
              "    .colab-df-convert:hover {\n",
              "      background-color: #E2EBFA;\n",
              "      box-shadow: 0px 1px 2px rgba(60, 64, 67, 0.3), 0px 1px 3px 1px rgba(60, 64, 67, 0.15);\n",
              "      fill: #174EA6;\n",
              "    }\n",
              "\n",
              "    [theme=dark] .colab-df-convert {\n",
              "      background-color: #3B4455;\n",
              "      fill: #D2E3FC;\n",
              "    }\n",
              "\n",
              "    [theme=dark] .colab-df-convert:hover {\n",
              "      background-color: #434B5C;\n",
              "      box-shadow: 0px 1px 3px 1px rgba(0, 0, 0, 0.15);\n",
              "      filter: drop-shadow(0px 1px 2px rgba(0, 0, 0, 0.3));\n",
              "      fill: #FFFFFF;\n",
              "    }\n",
              "  </style>\n",
              "\n",
              "      <script>\n",
              "        const buttonEl =\n",
              "          document.querySelector('#df-57e2f36a-3e1e-4e13-a412-d7642bbf873e button.colab-df-convert');\n",
              "        buttonEl.style.display =\n",
              "          google.colab.kernel.accessAllowed ? 'block' : 'none';\n",
              "\n",
              "        async function convertToInteractive(key) {\n",
              "          const element = document.querySelector('#df-57e2f36a-3e1e-4e13-a412-d7642bbf873e');\n",
              "          const dataTable =\n",
              "            await google.colab.kernel.invokeFunction('convertToInteractive',\n",
              "                                                     [key], {});\n",
              "          if (!dataTable) return;\n",
              "\n",
              "          const docLinkHtml = 'Like what you see? Visit the ' +\n",
              "            '<a target=\"_blank\" href=https://colab.research.google.com/notebooks/data_table.ipynb>data table notebook</a>'\n",
              "            + ' to learn more about interactive tables.';\n",
              "          element.innerHTML = '';\n",
              "          dataTable['output_type'] = 'display_data';\n",
              "          await google.colab.output.renderOutput(dataTable, element);\n",
              "          const docLink = document.createElement('div');\n",
              "          docLink.innerHTML = docLinkHtml;\n",
              "          element.appendChild(docLink);\n",
              "        }\n",
              "      </script>\n",
              "    </div>\n",
              "  </div>\n",
              "  "
            ]
          },
          "metadata": {},
          "execution_count": 3
        }
      ]
    },
    {
      "cell_type": "code",
      "source": [
        "df.columns"
      ],
      "metadata": {
        "colab": {
          "base_uri": "https://localhost:8080/"
        },
        "id": "FWJupDNuDl4v",
        "outputId": "271c7ffd-58a0-4fc2-c076-b71216882e9e"
      },
      "execution_count": null,
      "outputs": [
        {
          "output_type": "execute_result",
          "data": {
            "text/plain": [
              "Index(['Unnamed: 0', 'product_type', 'description'], dtype='object')"
            ]
          },
          "metadata": {},
          "execution_count": 4
        }
      ]
    },
    {
      "cell_type": "code",
      "source": [
        "df.shape"
      ],
      "metadata": {
        "colab": {
          "base_uri": "https://localhost:8080/"
        },
        "id": "2-HTOYoaDmtb",
        "outputId": "9cc50e32-fecb-4ad7-ec42-82772a8a1af4"
      },
      "execution_count": null,
      "outputs": [
        {
          "output_type": "execute_result",
          "data": {
            "text/plain": [
              "(906, 3)"
            ]
          },
          "metadata": {},
          "execution_count": 5
        }
      ]
    },
    {
      "cell_type": "code",
      "source": [
        "df['product_type'].value_counts()"
      ],
      "metadata": {
        "colab": {
          "base_uri": "https://localhost:8080/"
        },
        "id": "c4Lg_MmDD4mV",
        "outputId": "f02e1369-7887-4388-d8ad-6a14187c8101"
      },
      "execution_count": null,
      "outputs": [
        {
          "output_type": "execute_result",
          "data": {
            "text/plain": [
              "foundation     159\n",
              "lipstick       148\n",
              "eyeliner       145\n",
              "mascara         91\n",
              "eyeshadow       86\n",
              "blush           75\n",
              "bronzer         69\n",
              "nail_polish     60\n",
              "eyebrow         45\n",
              "lip_liner       28\n",
              "Name: product_type, dtype: int64"
            ]
          },
          "metadata": {},
          "execution_count": 6
        }
      ]
    },
    {
      "cell_type": "markdown",
      "source": [
        "# **`Preprocessing`**\n",
        "\n",
        "\n"
      ],
      "metadata": {
        "id": "lBubzJEvMCde"
      }
    },
    {
      "cell_type": "code",
      "source": [
        "X=df['description']\n",
        "y=df['product_type']"
      ],
      "metadata": {
        "id": "RovNoct0EMYP"
      },
      "execution_count": null,
      "outputs": []
    },
    {
      "cell_type": "code",
      "source": [
        "X[902]"
      ],
      "metadata": {
        "colab": {
          "base_uri": "https://localhost:8080/",
          "height": 145
        },
        "id": "lMyERT8eEfpd",
        "outputId": "7e14c977-e48d-4d1b-b822-56335921b045"
      },
      "execution_count": null,
      "outputs": [
        {
          "output_type": "execute_result",
          "data": {
            "text/plain": [
              "'Physicians Formula Organic Wear FakeOut Mascara is the 1st EVER mascara with 100% natural origin lash extension fibers for the full-on fringe of false lashes without irritation.The innovative formula amplifies lash volume, length & curl. Plus the oversized brush creates a fabulously false lash effect instantly!Features:  100% of the Total Ingredients are from Natural Origin  70% of the Total Ingredients are from Organic FarmingDirections: Sweep mascara brush from lash base to tips. Apply multiple coats for added volume.Ingredients: Citrus Aurantium Dulcis (Orange) Fruit Water*, Glycerin*, Glyceryl \\r\\r\\nStearate SE, Beeswax*, Microcrystalline Cellulose, Copernicia Cerifera \\r\\r\\n(Carnauba) Wax*, Tapioca Starch*, Hydrolyzed Corn Starch, Stearic Acid, \\r\\r\\nJojoba Esters, Oryza Sativa (Rice) Powder*, Oryza Sativa (Rice) \\r\\r\\nExtract*, Ceiba Pentandra Fiber Powder, Cellulose, Nylon-10/10, Aloe \\r\\r\\nBarbadensis Leaf Extract*, Cucumis Sativus (Cucumber) Fruit Extract*, \\r\\r\\nGlycine Soja (Soybean) Oil*, Olea Europaea (Olive) Leaf Extract*, \\r\\r\\nGlycerin, Magnesium Aluminum Silicate, Water, Glyceryl Caprylate, \\r\\r\\nLeuconostoc / Radish Root Ferment Filtrate May Contain: Iron Oxides, \\r\\r\\nTitanium Dioxide* Ingredients from Organic FarmingHypoallergenic.  Fragrance Free. Safe for Sensitive Eyes and Contact Lens Wearers.  Ophthalmologist Approved.'"
            ],
            "application/vnd.google.colaboratory.intrinsic+json": {
              "type": "string"
            }
          },
          "metadata": {},
          "execution_count": 8
        }
      ]
    },
    {
      "cell_type": "code",
      "source": [
        "def preprocess(text):\n",
        "  text=re.sub(r'<.*?>',\" \",text)#html\n",
        "  text=re.sub(r'https\\S+',\" \",text)\n",
        "  text=re.sub(r'Link',\" \",text)\n",
        "  text=re.sub(r'[^A-Za-z]',\" \",text) \n",
        "  return text"
      ],
      "metadata": {
        "id": "lQWKjk4EEsoa"
      },
      "execution_count": null,
      "outputs": []
    },
    {
      "cell_type": "code",
      "source": [
        "preprocess(X[902])"
      ],
      "metadata": {
        "colab": {
          "base_uri": "https://localhost:8080/",
          "height": 146
        },
        "id": "VKy5NobOFCUo",
        "outputId": "a45947c5-7baa-4469-d5c8-c1d56d0ef476"
      },
      "execution_count": null,
      "outputs": [
        {
          "output_type": "execute_result",
          "data": {
            "text/plain": [
              "'Physicians Formula Organic Wear FakeOut Mascara is the  st EVER mascara with      natural origin lash extension fibers for the full on fringe of false lashes without irritation The innovative formula amplifies lash volume  length   curl  Plus the oversized brush creates a fabulously false lash effect instantly Features        of the Total Ingredients are from Natural Origin      of the Total Ingredients are from Organic FarmingDirections  Sweep mascara brush from lash base to tips  Apply multiple coats for added volume Ingredients  Citrus Aurantium Dulcis  Orange  Fruit Water   Glycerin   Glyceryl    Stearate SE  Beeswax   Microcrystalline Cellulose  Copernicia Cerifera     Carnauba  Wax   Tapioca Starch   Hydrolyzed Corn Starch  Stearic Acid     Jojoba Esters  Oryza Sativa  Rice  Powder   Oryza Sativa  Rice     Extract   Ceiba Pentandra Fiber Powder  Cellulose  Nylon        Aloe    Barbadensis Leaf Extract   Cucumis Sativus  Cucumber  Fruit Extract      Glycine Soja  Soybean  Oil   Olea Europaea  Olive  Leaf Extract      Glycerin  Magnesium Aluminum Silicate  Water  Glyceryl Caprylate     Leuconostoc   Radish Root Ferment Filtrate May Contain  Iron Oxides     Titanium Dioxide  Ingredients from Organic FarmingHypoallergenic   Fragrance Free  Safe for Sensitive Eyes and Contact Lens Wearers   Ophthalmologist Approved '"
            ],
            "application/vnd.google.colaboratory.intrinsic+json": {
              "type": "string"
            }
          },
          "metadata": {},
          "execution_count": 10
        }
      ]
    },
    {
      "cell_type": "code",
      "source": [
        "X=X.apply(preprocess)"
      ],
      "metadata": {
        "id": "TQrURM_DFFjB"
      },
      "execution_count": null,
      "outputs": []
    },
    {
      "cell_type": "code",
      "source": [
        "X"
      ],
      "metadata": {
        "colab": {
          "base_uri": "https://localhost:8080/"
        },
        "id": "dQhwHOTnGSn1",
        "outputId": "f6608eb2-5a05-4217-8ead-0aa45b622737"
      },
      "execution_count": null,
      "outputs": [
        {
          "output_type": "execute_result",
          "data": {
            "text/plain": [
              "0      Lippie Pencil A long wearing and high intensit...\n",
              "1      Blotted Lip Sheer matte lipstick that creates ...\n",
              "2      Lippie Stix Formula contains Vitamin E  Mango ...\n",
              "3      Developed for the Selfie Age  our buildable fu...\n",
              "4      All of our products are free from lead and hea...\n",
              "                             ...                        \n",
              "901    You will fall in love with Pacifica s long las...\n",
              "902    Physicians Formula Organic Wear FakeOut Mascar...\n",
              "903    Physicians Formula Organic Wear Lash Boosting ...\n",
              "904    Voluminous   Volume Building Waterproof Mascar...\n",
              "905    Finally  a natural mascara you can feel good a...\n",
              "Name: description, Length: 906, dtype: object"
            ]
          },
          "metadata": {},
          "execution_count": 12
        }
      ]
    },
    {
      "cell_type": "code",
      "source": [
        "def nlp_preprocess(text):\n",
        "  text=text.lower()\n",
        "  text=text.split()\n",
        "  lemma=WordNetLemmatizer()\n",
        "  text=[lemma.lemmatize(word) for word in text if word not in set(stopwords.words('english'))]\n",
        "  text=' '.join(text)\n",
        "  \n",
        "  return text"
      ],
      "metadata": {
        "id": "LLwXBNXgJulx"
      },
      "execution_count": null,
      "outputs": []
    },
    {
      "cell_type": "code",
      "source": [
        "nlp_preprocess(X[902])"
      ],
      "metadata": {
        "colab": {
          "base_uri": "https://localhost:8080/",
          "height": 146
        },
        "id": "9uWuG7o1LSsU",
        "outputId": "5e8559a2-d3bf-4bc3-8103-aa4e1397fbba"
      },
      "execution_count": null,
      "outputs": [
        {
          "output_type": "execute_result",
          "data": {
            "text/plain": [
              "'physician formula organic wear fakeout mascara st ever mascara natural origin lash extension fiber full fringe false lash without irritation innovative formula amplifies lash volume length curl plus oversized brush creates fabulously false lash effect instantly feature total ingredient natural origin total ingredient organic farmingdirections sweep mascara brush lash base tip apply multiple coat added volume ingredient citrus aurantium dulcis orange fruit water glycerin glyceryl stearate se beeswax microcrystalline cellulose copernicia cerifera carnauba wax tapioca starch hydrolyzed corn starch stearic acid jojoba ester oryza sativa rice powder oryza sativa rice extract ceiba pentandra fiber powder cellulose nylon aloe barbadensis leaf extract cucumis sativus cucumber fruit extract glycine soja soybean oil olea europaea olive leaf extract glycerin magnesium aluminum silicate water glyceryl caprylate leuconostoc radish root ferment filtrate may contain iron oxide titanium dioxide ingredient organic farminghypoallergenic fragrance free safe sensitive eye contact lens wearer ophthalmologist approved'"
            ],
            "application/vnd.google.colaboratory.intrinsic+json": {
              "type": "string"
            }
          },
          "metadata": {},
          "execution_count": 14
        }
      ]
    },
    {
      "cell_type": "code",
      "source": [
        "X=X.apply(nlp_preprocess)"
      ],
      "metadata": {
        "id": "O_xz5QLaLVZ-"
      },
      "execution_count": null,
      "outputs": []
    },
    {
      "cell_type": "code",
      "source": [
        "X[902]"
      ],
      "metadata": {
        "colab": {
          "base_uri": "https://localhost:8080/",
          "height": 146
        },
        "id": "w_4PhxJtLx7I",
        "outputId": "eac9c3e0-77c9-4e62-c134-35cc9af81ec6"
      },
      "execution_count": null,
      "outputs": [
        {
          "output_type": "execute_result",
          "data": {
            "text/plain": [
              "'physician formula organic wear fakeout mascara st ever mascara natural origin lash extension fiber full fringe false lash without irritation innovative formula amplifies lash volume length curl plus oversized brush creates fabulously false lash effect instantly feature total ingredient natural origin total ingredient organic farmingdirections sweep mascara brush lash base tip apply multiple coat added volume ingredient citrus aurantium dulcis orange fruit water glycerin glyceryl stearate se beeswax microcrystalline cellulose copernicia cerifera carnauba wax tapioca starch hydrolyzed corn starch stearic acid jojoba ester oryza sativa rice powder oryza sativa rice extract ceiba pentandra fiber powder cellulose nylon aloe barbadensis leaf extract cucumis sativus cucumber fruit extract glycine soja soybean oil olea europaea olive leaf extract glycerin magnesium aluminum silicate water glyceryl caprylate leuconostoc radish root ferment filtrate may contain iron oxide titanium dioxide ingredient organic farminghypoallergenic fragrance free safe sensitive eye contact lens wearer ophthalmologist approved'"
            ],
            "application/vnd.google.colaboratory.intrinsic+json": {
              "type": "string"
            }
          },
          "metadata": {},
          "execution_count": 16
        }
      ]
    },
    {
      "cell_type": "code",
      "source": [
        "from sklearn.preprocessing import LabelEncoder\n",
        "encorder=LabelEncoder()\n",
        "y=encorder.fit_transform(y)\n",
        "y"
      ],
      "metadata": {
        "colab": {
          "base_uri": "https://localhost:8080/"
        },
        "id": "YvsrWrSwO729",
        "outputId": "e92f0d5d-288e-4969-bef8-c7295b687d40"
      },
      "execution_count": null,
      "outputs": [
        {
          "output_type": "execute_result",
          "data": {
            "text/plain": [
              "array([6, 7, 7, 5, 7, 5, 5, 3, 4, 5, 4, 7, 4, 0, 4, 5, 1, 1, 7, 7, 5, 4,\n",
              "       0, 8, 4, 7, 7, 3, 3, 8, 0, 4, 4, 4, 4, 4, 8, 7, 7, 8, 6, 3, 4, 5,\n",
              "       0, 5, 5, 5, 7, 8, 8, 8, 8, 8, 8, 8, 8, 8, 8, 2, 2, 2, 2, 2, 2, 2,\n",
              "       2, 2, 2, 2, 2, 2, 2, 2, 3, 3, 3, 3, 3, 3, 3, 3, 3, 3, 3, 3, 3, 3,\n",
              "       3, 3, 3, 3, 3, 3, 3, 3, 3, 3, 3, 3, 3, 5, 5, 5, 5, 5, 5, 5, 5, 5,\n",
              "       5, 1, 1, 1, 0, 0, 1, 0, 1, 0, 1, 0, 0, 0, 1, 5, 5, 3, 5, 5, 5, 5,\n",
              "       5, 5, 5, 5, 5, 5, 5, 5, 5, 5, 5, 6, 6, 6, 6, 6, 7, 7, 7, 7, 7, 7,\n",
              "       7, 0, 7, 7, 7, 7, 7, 7, 7, 7, 7, 7, 7, 7, 7, 7, 7, 7, 7, 7, 7, 7,\n",
              "       7, 7, 7, 7, 7, 7, 7, 3, 7, 5, 5, 5, 5, 5, 5, 5, 5, 5, 5, 5, 5, 5,\n",
              "       5, 5, 5, 5, 5, 5, 5, 5, 5, 5, 5, 5, 5, 5, 5, 4, 4, 4, 4, 4, 4, 4,\n",
              "       4, 4, 4, 4, 4, 3, 3, 3, 3, 3, 3, 3, 3, 3, 2, 2, 2, 2, 2, 2, 5, 5,\n",
              "       1, 1, 1, 1, 1, 5, 0, 0, 0, 0, 0, 0, 7, 6, 6, 7, 7, 7, 7, 7, 7, 7,\n",
              "       7, 7, 7, 7, 7, 7, 9, 9, 9, 9, 9, 9, 9, 9, 9, 9, 9, 9, 9, 9, 2, 2,\n",
              "       2, 2, 2, 3, 3, 3, 3, 3, 3, 8, 8, 8, 8, 8, 8, 8, 8, 4, 4, 4, 4, 4,\n",
              "       4, 4, 4, 4, 4, 4, 0, 0, 0, 0, 1, 5, 5, 5, 5, 5, 5, 5, 5, 5, 7, 7,\n",
              "       0, 7, 7, 7, 7, 7, 7, 7, 7, 7, 7, 7, 7, 7, 5, 5, 5, 0, 5, 4, 8, 8,\n",
              "       8, 2, 3, 7, 4, 5, 5, 1, 1, 1, 1, 1, 1, 2, 2, 2, 2, 2, 2, 2, 2, 2,\n",
              "       2, 2, 7, 7, 7, 7, 7, 7, 7, 7, 7, 7, 7, 7, 7, 8, 8, 8, 8, 8, 8, 3,\n",
              "       3, 3, 1, 0, 1, 0, 2, 2, 2, 2, 2, 5, 5, 5, 5, 5, 5, 5, 5, 5, 8, 8,\n",
              "       8, 8, 8, 8, 3, 3, 3, 3, 3, 3, 4, 2, 4, 4, 4, 2, 4, 4, 4, 7, 0, 7,\n",
              "       7, 7, 7, 7, 1, 1, 1, 1, 1, 1, 1, 1, 1, 1, 1, 1, 1, 1, 1, 1, 1, 1,\n",
              "       1, 1, 1, 1, 1, 1, 1, 1, 1, 1, 1, 1, 1, 1, 1, 1, 0, 0, 0, 0, 1, 1,\n",
              "       0, 0, 0, 0, 0, 0, 1, 1, 0, 0, 0, 0, 0, 0, 0, 0, 0, 0, 1, 0, 0, 0,\n",
              "       0, 0, 0, 0, 0, 0, 0, 0, 1, 0, 0, 0, 0, 1, 1, 1, 1, 0, 0, 0, 0, 0,\n",
              "       0, 0, 0, 0, 0, 0, 7, 7, 7, 7, 6, 6, 6, 6, 6, 6, 6, 6, 6, 6, 6, 6,\n",
              "       6, 6, 6, 6, 6, 6, 5, 5, 5, 5, 5, 5, 5, 5, 5, 5, 5, 5, 5, 5, 5, 5,\n",
              "       5, 5, 5, 5, 5, 0, 5, 5, 5, 5, 5, 5, 5, 5, 5, 5, 5, 5, 5, 5, 5, 5,\n",
              "       5, 5, 5, 5, 5, 5, 5, 5, 5, 5, 5, 5, 5, 5, 5, 5, 5, 5, 5, 5, 5, 5,\n",
              "       5, 5, 5, 5, 5, 5, 5, 5, 4, 4, 4, 4, 4, 4, 4, 4, 4, 4, 4, 4, 4, 4,\n",
              "       4, 4, 4, 4, 1, 4, 4, 4, 4, 4, 4, 4, 4, 4, 4, 4, 4, 4, 4, 4, 4, 4,\n",
              "       0, 4, 4, 4, 1, 4, 3, 3, 3, 3, 3, 3, 3, 3, 3, 3, 3, 3, 3, 4, 3, 6,\n",
              "       3, 3, 3, 3, 3, 3, 3, 3, 3, 3, 3, 3, 3, 3, 3, 3, 3, 3, 3, 3, 3, 3,\n",
              "       3, 3, 3, 3, 3, 3, 3, 3, 3, 3, 3, 3, 3, 3, 3, 3, 3, 3, 3, 3, 3, 3,\n",
              "       3, 3, 3, 3, 3, 3, 3, 3, 3, 3, 3, 4, 3, 3, 3, 3, 3, 4, 3, 3, 3, 3,\n",
              "       3, 3, 3, 3, 3, 3, 3, 3, 3, 9, 9, 9, 9, 9, 9, 9, 9, 9, 9, 9, 9, 9,\n",
              "       9, 9, 9, 9, 9, 9, 9, 9, 9, 9, 9, 9, 9, 9, 9, 9, 9, 9, 9, 9, 9, 9,\n",
              "       9, 9, 9, 9, 9, 9, 9, 9, 9, 9, 9, 7, 7, 7, 7, 7, 7, 7, 7, 7, 7, 7,\n",
              "       7, 7, 7, 7, 7, 7, 7, 7, 7, 7, 7, 7, 7, 7, 7, 7, 7, 7, 7, 7, 7, 7,\n",
              "       7, 7, 7, 7, 7, 7, 7, 7, 7, 7, 7, 7, 7, 7, 7, 7, 8, 8, 8, 8, 8, 8,\n",
              "       8, 8, 8, 8, 8, 8, 8, 8, 8, 8, 8, 8, 8, 8, 8, 8, 8, 8, 8, 8, 8, 8,\n",
              "       8, 8, 8, 8, 8, 8, 8, 8, 8, 8, 8, 8, 8, 8, 8, 8, 8, 8, 8, 8, 8, 8,\n",
              "       8, 8, 8, 8])"
            ]
          },
          "metadata": {},
          "execution_count": 17
        }
      ]
    },
    {
      "cell_type": "code",
      "source": [
        "from sklearn.model_selection import train_test_split\n",
        "x_train,x_test,y_train,y_test=train_test_split(X,y,train_size=0.8,random_state=0)"
      ],
      "metadata": {
        "id": "IX28ftNzOph-"
      },
      "execution_count": null,
      "outputs": []
    },
    {
      "cell_type": "code",
      "source": [
        "x_train.shape,y_train.shape"
      ],
      "metadata": {
        "colab": {
          "base_uri": "https://localhost:8080/"
        },
        "id": "HJV8kQKVPSMI",
        "outputId": "353ae4c8-b7ae-4b81-d389-3f112590f82c"
      },
      "execution_count": null,
      "outputs": [
        {
          "output_type": "execute_result",
          "data": {
            "text/plain": [
              "((724,), (724,))"
            ]
          },
          "metadata": {},
          "execution_count": 19
        }
      ]
    },
    {
      "cell_type": "markdown",
      "source": [
        "# **`Converting string to numbers`**"
      ],
      "metadata": {
        "id": "y1-h1bS3L9Ho"
      }
    },
    {
      "cell_type": "code",
      "source": [
        "from sklearn.feature_extraction.text import CountVectorizer\n",
        "from sklearn.feature_extraction.text import TfidfVectorizer\n",
        "from sklearn import metrics"
      ],
      "metadata": {
        "id": "5oKfiTkdL5SD"
      },
      "execution_count": null,
      "outputs": []
    },
    {
      "cell_type": "code",
      "source": [
        "bog=CountVectorizer()"
      ],
      "metadata": {
        "id": "BZoMLr9mNANn"
      },
      "execution_count": null,
      "outputs": []
    },
    {
      "cell_type": "code",
      "source": [
        "x_bog=bog.fit_transform(x_train).toarray()"
      ],
      "metadata": {
        "id": "13q3Br21NreA"
      },
      "execution_count": null,
      "outputs": []
    },
    {
      "cell_type": "code",
      "source": [
        "x_bog.shape"
      ],
      "metadata": {
        "colab": {
          "base_uri": "https://localhost:8080/"
        },
        "id": "jy5MRx3eN05E",
        "outputId": "169681cd-eaab-435f-f843-246543d55167"
      },
      "execution_count": null,
      "outputs": [
        {
          "output_type": "execute_result",
          "data": {
            "text/plain": [
              "(724, 4566)"
            ]
          },
          "metadata": {},
          "execution_count": 23
        }
      ]
    },
    {
      "cell_type": "code",
      "source": [
        "x_bog_test=bog.transform(x_test).toarray()"
      ],
      "metadata": {
        "id": "15_-3S0_Y79z"
      },
      "execution_count": null,
      "outputs": []
    },
    {
      "cell_type": "code",
      "source": [
        "x_bog_test.shape"
      ],
      "metadata": {
        "colab": {
          "base_uri": "https://localhost:8080/"
        },
        "id": "K1uFn9doaqB2",
        "outputId": "24a65730-7206-4c5a-c168-823f7a274555"
      },
      "execution_count": null,
      "outputs": [
        {
          "output_type": "execute_result",
          "data": {
            "text/plain": [
              "(182, 4566)"
            ]
          },
          "metadata": {},
          "execution_count": 25
        }
      ]
    },
    {
      "cell_type": "markdown",
      "source": [
        "# **`TFidf`**"
      ],
      "metadata": {
        "id": "2cgXYOscZ084"
      }
    },
    {
      "cell_type": "code",
      "source": [
        "tfidf=TfidfVectorizer(max_features=1000)\n",
        "x_tfidf=tfidf.fit_transform(x_train).toarray()"
      ],
      "metadata": {
        "id": "M15Pi2AqOEZO"
      },
      "execution_count": null,
      "outputs": []
    },
    {
      "cell_type": "code",
      "source": [
        "x_tfidf"
      ],
      "metadata": {
        "colab": {
          "base_uri": "https://localhost:8080/"
        },
        "id": "YEkTvNKHP4Oe",
        "outputId": "401d43a4-33c1-452f-a793-01c2c46ae279"
      },
      "execution_count": null,
      "outputs": [
        {
          "output_type": "execute_result",
          "data": {
            "text/plain": [
              "array([[0.        , 0.        , 0.        , ..., 0.        , 0.        ,\n",
              "        0.        ],\n",
              "       [0.        , 0.        , 0.        , ..., 0.        , 0.        ,\n",
              "        0.        ],\n",
              "       [0.        , 0.        , 0.        , ..., 0.11504023, 0.        ,\n",
              "        0.        ],\n",
              "       ...,\n",
              "       [0.        , 0.        , 0.        , ..., 0.        , 0.        ,\n",
              "        0.        ],\n",
              "       [0.        , 0.07748246, 0.        , ..., 0.        , 0.        ,\n",
              "        0.        ],\n",
              "       [0.        , 0.        , 0.        , ..., 0.        , 0.        ,\n",
              "        0.        ]])"
            ]
          },
          "metadata": {},
          "execution_count": 27
        }
      ]
    },
    {
      "cell_type": "code",
      "source": [
        "x_tfidf_test=tfidf.transform(x_test).toarray()"
      ],
      "metadata": {
        "id": "uRMPypWqZBeh"
      },
      "execution_count": null,
      "outputs": []
    },
    {
      "cell_type": "markdown",
      "source": [
        "# **`Model`**"
      ],
      "metadata": {
        "id": "KuPzHnfNZ3s5"
      }
    },
    {
      "cell_type": "code",
      "source": [
        "from sklearn.linear_model import LogisticRegression"
      ],
      "metadata": {
        "id": "fi2ccXT-QK6l"
      },
      "execution_count": null,
      "outputs": []
    },
    {
      "cell_type": "code",
      "source": [
        "regressor=LogisticRegression()"
      ],
      "metadata": {
        "id": "c2ctyAtEYNxi"
      },
      "execution_count": null,
      "outputs": []
    },
    {
      "cell_type": "code",
      "source": [
        "regressor.fit(x_bog,y_train)"
      ],
      "metadata": {
        "colab": {
          "base_uri": "https://localhost:8080/"
        },
        "id": "0PByhIdMYRxi",
        "outputId": "b794f4cc-5227-44da-ac92-6aa06861e9b4"
      },
      "execution_count": null,
      "outputs": [
        {
          "output_type": "execute_result",
          "data": {
            "text/plain": [
              "LogisticRegression()"
            ]
          },
          "metadata": {},
          "execution_count": 31
        }
      ]
    },
    {
      "cell_type": "code",
      "source": [
        "y_pred=regressor.predict(x_bog_test)"
      ],
      "metadata": {
        "id": "fSx3ic_FYbO1"
      },
      "execution_count": null,
      "outputs": []
    },
    {
      "cell_type": "code",
      "source": [
        "regressor.score(x_bog_test,y_test)"
      ],
      "metadata": {
        "colab": {
          "base_uri": "https://localhost:8080/"
        },
        "id": "z06co-oGZHD4",
        "outputId": "6e418695-8ded-4c09-95d6-bf5189ed36db"
      },
      "execution_count": null,
      "outputs": [
        {
          "output_type": "execute_result",
          "data": {
            "text/plain": [
              "0.8571428571428571"
            ]
          },
          "metadata": {},
          "execution_count": 33
        }
      ]
    },
    {
      "cell_type": "code",
      "source": [
        "score=metrics.accuracy_score(y_test,y_pred)\n",
        "score"
      ],
      "metadata": {
        "colab": {
          "base_uri": "https://localhost:8080/"
        },
        "id": "pWrNcA0lZWTX",
        "outputId": "a7eb3da7-9f95-44d5-8d54-bb4cacf7110a"
      },
      "execution_count": null,
      "outputs": [
        {
          "output_type": "execute_result",
          "data": {
            "text/plain": [
              "0.8571428571428571"
            ]
          },
          "metadata": {},
          "execution_count": 34
        }
      ]
    },
    {
      "cell_type": "code",
      "source": [
        "#tfidf"
      ],
      "metadata": {
        "id": "AzNSp1Kca2si"
      },
      "execution_count": null,
      "outputs": []
    },
    {
      "cell_type": "code",
      "source": [
        "reg=LogisticRegression()\n",
        "reg.fit(x_tfidf,y_train)"
      ],
      "metadata": {
        "colab": {
          "base_uri": "https://localhost:8080/"
        },
        "id": "X9rrX7cKa6HV",
        "outputId": "8405c3b5-0f2e-406b-cd0e-e7936458fe10"
      },
      "execution_count": null,
      "outputs": [
        {
          "output_type": "execute_result",
          "data": {
            "text/plain": [
              "LogisticRegression()"
            ]
          },
          "metadata": {},
          "execution_count": 36
        }
      ]
    },
    {
      "cell_type": "code",
      "source": [
        "y_pred=reg.predict(x_tfidf_test)"
      ],
      "metadata": {
        "id": "AS-0E_vTbFjs"
      },
      "execution_count": null,
      "outputs": []
    },
    {
      "cell_type": "code",
      "source": [
        "reg.score(x_tfidf_test,y_test)"
      ],
      "metadata": {
        "colab": {
          "base_uri": "https://localhost:8080/"
        },
        "id": "bqnRB7FPbLZN",
        "outputId": "ec3b9dfe-0749-4ca2-9201-baa372f0fa2e"
      },
      "execution_count": null,
      "outputs": [
        {
          "output_type": "execute_result",
          "data": {
            "text/plain": [
              "0.8241758241758241"
            ]
          },
          "metadata": {},
          "execution_count": 38
        }
      ]
    },
    {
      "cell_type": "markdown",
      "source": [
        "svm"
      ],
      "metadata": {
        "id": "P6i-hx-CbpXv"
      }
    },
    {
      "cell_type": "code",
      "source": [
        "from sklearn.svm import SVC "
      ],
      "metadata": {
        "id": "j0L3PtvMbp7w"
      },
      "execution_count": null,
      "outputs": []
    },
    {
      "cell_type": "code",
      "source": [
        "Svm=SVC()\n",
        "Svm.fit(x_tfidf,y_train)"
      ],
      "metadata": {
        "colab": {
          "base_uri": "https://localhost:8080/"
        },
        "id": "lFxvwMPPby89",
        "outputId": "47952c2f-6f1d-4ce5-f078-6661f4f9a52f"
      },
      "execution_count": null,
      "outputs": [
        {
          "output_type": "execute_result",
          "data": {
            "text/plain": [
              "SVC()"
            ]
          },
          "metadata": {},
          "execution_count": 40
        }
      ]
    },
    {
      "cell_type": "code",
      "source": [
        "Svm.score(x_tfidf_test,y_test)"
      ],
      "metadata": {
        "colab": {
          "base_uri": "https://localhost:8080/"
        },
        "id": "q2cPLX0occ36",
        "outputId": "ed4f73c5-e763-4ec9-dcdf-f2649dbf62cd"
      },
      "execution_count": null,
      "outputs": [
        {
          "output_type": "execute_result",
          "data": {
            "text/plain": [
              "0.8351648351648352"
            ]
          },
          "metadata": {},
          "execution_count": 41
        }
      ]
    },
    {
      "cell_type": "code",
      "source": [
        "s=SVC()\n",
        "s.fit(x_bog,y_train)"
      ],
      "metadata": {
        "colab": {
          "base_uri": "https://localhost:8080/"
        },
        "id": "A4lA2NyecpYB",
        "outputId": "bf35b757-ec51-4afd-8e1e-75bb50958ee5"
      },
      "execution_count": null,
      "outputs": [
        {
          "output_type": "execute_result",
          "data": {
            "text/plain": [
              "SVC()"
            ]
          },
          "metadata": {},
          "execution_count": 42
        }
      ]
    },
    {
      "cell_type": "code",
      "source": [
        "s.score(x_bog_test,y_test)"
      ],
      "metadata": {
        "colab": {
          "base_uri": "https://localhost:8080/"
        },
        "id": "gUNf_P-Hc3Wl",
        "outputId": "ccaff811-44ce-4128-b67a-da4f9690ad1e"
      },
      "execution_count": null,
      "outputs": [
        {
          "output_type": "execute_result",
          "data": {
            "text/plain": [
              "0.6648351648351648"
            ]
          },
          "metadata": {},
          "execution_count": 43
        }
      ]
    },
    {
      "cell_type": "markdown",
      "source": [
        "# **`Embedding`**"
      ],
      "metadata": {
        "id": "-8PNx10ldTag"
      }
    },
    {
      "cell_type": "code",
      "source": [
        "from sklearn.preprocessing import OneHotEncoder\n",
        "onehot_encoder=OneHotEncoder()\n",
        "y1=onehot_encoder.fit_transform(df['product_type'].values.reshape(-1,1)).toarray()\n",
        "y1"
      ],
      "metadata": {
        "colab": {
          "base_uri": "https://localhost:8080/"
        },
        "id": "50kpMBNpoWjT",
        "outputId": "c8584c8b-c6b6-4993-f180-526713c90e15"
      },
      "execution_count": null,
      "outputs": [
        {
          "output_type": "execute_result",
          "data": {
            "text/plain": [
              "array([[0., 0., 0., ..., 0., 0., 0.],\n",
              "       [0., 0., 0., ..., 1., 0., 0.],\n",
              "       [0., 0., 0., ..., 1., 0., 0.],\n",
              "       ...,\n",
              "       [0., 0., 0., ..., 0., 1., 0.],\n",
              "       [0., 0., 0., ..., 0., 1., 0.],\n",
              "       [0., 0., 0., ..., 0., 1., 0.]])"
            ]
          },
          "metadata": {},
          "execution_count": 44
        }
      ]
    },
    {
      "cell_type": "code",
      "source": [
        "X"
      ],
      "metadata": {
        "colab": {
          "base_uri": "https://localhost:8080/"
        },
        "id": "n8NLIBO4ossy",
        "outputId": "c7321ffb-7d99-4060-c987-a066bcafb122"
      },
      "execution_count": null,
      "outputs": [
        {
          "output_type": "execute_result",
          "data": {
            "text/plain": [
              "0      lippie pencil long wearing high intensity lip ...\n",
              "1      blotted lip sheer matte lipstick creates perfe...\n",
              "2      lippie stix formula contains vitamin e mango a...\n",
              "3      developed selfie age buildable full coverage n...\n",
              "4      product free lead heavy metal parabens phthala...\n",
              "                             ...                        \n",
              "901    fall love pacifica long lasting nourishing nat...\n",
              "902    physician formula organic wear fakeout mascara...\n",
              "903    physician formula organic wear lash boosting m...\n",
              "904    voluminous volume building waterproof mascara ...\n",
              "905    finally natural mascara feel good putting lash...\n",
              "Name: description, Length: 906, dtype: object"
            ]
          },
          "metadata": {},
          "execution_count": 45
        }
      ]
    },
    {
      "cell_type": "code",
      "source": [
        "x_cnn_train,x_cnn_test,y_cnn_train,y_cnn_test=train_test_split(X,y1,test_size=0.2,random_state=2)"
      ],
      "metadata": {
        "id": "TMKf_az-oaPx"
      },
      "execution_count": null,
      "outputs": []
    },
    {
      "cell_type": "code",
      "source": [
        "from keras.preprocessing.text import Tokenizer"
      ],
      "metadata": {
        "id": "7RTCBViHewBX"
      },
      "execution_count": null,
      "outputs": []
    },
    {
      "cell_type": "code",
      "source": [
        "tokenizer=Tokenizer(num_words=5000)\n",
        "tokenizer.fit_on_texts(x_cnn_train)"
      ],
      "metadata": {
        "id": "82RpUJtJikfo"
      },
      "execution_count": null,
      "outputs": []
    },
    {
      "cell_type": "code",
      "source": [
        "len(tokenizer.word_index)+1"
      ],
      "metadata": {
        "colab": {
          "base_uri": "https://localhost:8080/"
        },
        "id": "_4vZ2p2zoxJP",
        "outputId": "c6f38a5b-8ec4-41d7-dda7-a7daf53d54cb"
      },
      "execution_count": null,
      "outputs": [
        {
          "output_type": "execute_result",
          "data": {
            "text/plain": [
              "4588"
            ]
          },
          "metadata": {},
          "execution_count": 49
        }
      ]
    },
    {
      "cell_type": "code",
      "source": [
        "x_train_emb=tokenizer.texts_to_sequences(x_cnn_train)\n",
        "x_test_emb=tokenizer.texts_to_sequences(x_cnn_test)"
      ],
      "metadata": {
        "id": "CWM_E-3sfvET"
      },
      "execution_count": null,
      "outputs": []
    },
    {
      "cell_type": "code",
      "source": [
        ""
      ],
      "metadata": {
        "id": "h5O22pqIjBxd"
      },
      "execution_count": null,
      "outputs": []
    },
    {
      "cell_type": "code",
      "source": [
        "print(x_train[12])\n",
        "print(x_train_emb[12])"
      ],
      "metadata": {
        "colab": {
          "base_uri": "https://localhost:8080/"
        },
        "id": "bsArXDYyfvGp",
        "outputId": "544aca85-c294-425e-9baf-026c999c4e81"
      },
      "execution_count": null,
      "outputs": [
        {
          "output_type": "stream",
          "name": "stdout",
          "text": [
            "multi purpose pressed powder may used blush eye shadow blended antioxidant certified organic fruit berry amp botanical made without gluten containing ingredient mica free pink parfait papaya offer natural ultra sheer semi matte finish petal beautiful crushed red rose found pink parfait valued natural color delightful aroma provide acai berry offer natural ultra sheer satin finish mica added vegan image one pink parfait image two papaya image three acai berry model image four wearing papaya model image five wearing acai berry see demonstration papaya click video fast forward enjoy product ewg verified x rated clean think dirty app bpa phthalate free packaging plastic part compact recyclable tiny fleck fruit botanical particle may visible powder pink parfait papaya titanium dioxide mica free net weight gm\n",
            "[114, 411, 1788, 39, 220, 1088, 118, 485, 18, 96, 149, 11, 1204, 784, 120, 1531, 2115, 18, 785, 96, 55, 53, 1205, 4, 39, 31, 120, 18, 39, 26, 29, 441, 4, 39, 203, 786, 11, 837, 71, 38, 576, 838, 118, 308, 1532, 2116, 149, 11, 1533, 83, 577, 92, 88, 4, 39, 221, 246, 1533, 2117, 192, 1534, 252, 838, 129, 118, 81, 576, 117, 297, 129, 2118, 4, 51, 39, 26, 39, 29, 353, 190, 186, 26, 268, 551, 51, 39, 18, 576, 915, 2119, 31, 1206, 576, 915, 203, 88, 39, 4, 221, 114, 411, 1788, 39, 220, 1088, 118, 485, 18, 96, 149, 11, 1204, 784, 120, 1531, 2115, 18, 785, 96, 55, 53, 1205, 4, 39, 31, 120, 18, 39, 26, 29, 441, 4, 39, 203, 786, 11, 837, 71, 38, 576, 838, 118, 308, 1532, 2116, 149, 11, 1533, 83, 577, 92, 88, 4, 39, 221, 246, 1533, 2117, 192, 1534, 252, 838, 129, 118, 81, 576, 117, 297, 129, 2118, 4, 51, 39, 26, 39, 29, 353, 190, 186, 26, 268, 551, 51, 39, 18, 576, 915, 2119, 31, 1206, 576, 915, 203, 88, 39, 4, 221]\n"
          ]
        }
      ]
    },
    {
      "cell_type": "code",
      "source": [
        "from keras.preprocessing.sequence import pad_sequences"
      ],
      "metadata": {
        "id": "RDRHfGO0ewGJ"
      },
      "execution_count": null,
      "outputs": []
    },
    {
      "cell_type": "code",
      "source": [
        "maxlen=600\n",
        "x_train_pad=pad_sequences(x_train_emb,padding='post',maxlen=maxlen)\n",
        "x_test_pad=pad_sequences(x_test_emb,padding='post',maxlen=maxlen)"
      ],
      "metadata": {
        "id": "7D6LW86kfPS9"
      },
      "execution_count": null,
      "outputs": []
    },
    {
      "cell_type": "code",
      "source": [
        "import tensorflow as tf\n",
        "import keras "
      ],
      "metadata": {
        "id": "lycABqLadUQZ"
      },
      "execution_count": null,
      "outputs": []
    },
    {
      "cell_type": "code",
      "source": [
        "from keras.models import Sequential"
      ],
      "metadata": {
        "id": "-i45SlDGden0"
      },
      "execution_count": null,
      "outputs": []
    },
    {
      "cell_type": "code",
      "source": [
        "vocab_size=len(tokenizer.word_index)+1\n",
        "input_dim=100\n",
        "lens=maxlen\n",
        "\n",
        "model=Sequential()\n",
        "model.add(tf.keras.layers.Embedding(vocab_size,input_dim,input_length=lens))\n",
        "model.add(tf.keras.layers.Conv1D(128,3,activation='relu'))\n",
        "model.add(tf.keras.layers.GlobalMaxPooling1D())\n",
        "model.add(tf.keras.layers.Flatten())\n",
        "model.add(tf.keras.layers.Dense(128,activation='relu'))\n",
        "model.add(tf.keras.layers.Dense(10,activation='softmax'))"
      ],
      "metadata": {
        "id": "V9zOkw4Xdldg"
      },
      "execution_count": null,
      "outputs": []
    },
    {
      "cell_type": "code",
      "source": [
        "model.summary()"
      ],
      "metadata": {
        "colab": {
          "base_uri": "https://localhost:8080/"
        },
        "id": "SYlq71bPhObk",
        "outputId": "afd9d3a3-1533-4368-c734-f4e98220de7d"
      },
      "execution_count": null,
      "outputs": [
        {
          "output_type": "stream",
          "name": "stdout",
          "text": [
            "Model: \"sequential_1\"\n",
            "_________________________________________________________________\n",
            " Layer (type)                Output Shape              Param #   \n",
            "=================================================================\n",
            " embedding_1 (Embedding)     (None, 600, 100)          458800    \n",
            "                                                                 \n",
            " conv1d (Conv1D)             (None, 598, 128)          38528     \n",
            "                                                                 \n",
            " global_max_pooling1d (Globa  (None, 128)              0         \n",
            " lMaxPooling1D)                                                  \n",
            "                                                                 \n",
            " flatten (Flatten)           (None, 128)               0         \n",
            "                                                                 \n",
            " dense (Dense)               (None, 128)               16512     \n",
            "                                                                 \n",
            " dense_1 (Dense)             (None, 10)                1290      \n",
            "                                                                 \n",
            "=================================================================\n",
            "Total params: 515,130\n",
            "Trainable params: 515,130\n",
            "Non-trainable params: 0\n",
            "_________________________________________________________________\n"
          ]
        }
      ]
    },
    {
      "cell_type": "code",
      "source": [
        "model.compile(optimizer='adam',loss='categorical_crossentropy',metrics=['accuracy'])"
      ],
      "metadata": {
        "id": "NUb5HhfKjq21"
      },
      "execution_count": null,
      "outputs": []
    },
    {
      "cell_type": "code",
      "source": [
        ""
      ],
      "metadata": {
        "id": "eIlSq5gdkaEk"
      },
      "execution_count": null,
      "outputs": []
    },
    {
      "cell_type": "code",
      "source": [
        ""
      ],
      "metadata": {
        "id": "SuIdoqR0lfc0"
      },
      "execution_count": null,
      "outputs": []
    },
    {
      "cell_type": "code",
      "source": [
        "model.fit(x_train_pad,y_cnn_train,epochs=5,verbose=2,validation_data=(x_test_pad,y_cnn_test))"
      ],
      "metadata": {
        "colab": {
          "base_uri": "https://localhost:8080/"
        },
        "id": "C_Sjg2IVhU5x",
        "outputId": "76528ae3-02f1-4844-f09d-dd5d724ca5f0"
      },
      "execution_count": null,
      "outputs": [
        {
          "output_type": "stream",
          "name": "stdout",
          "text": [
            "Epoch 1/5\n",
            "23/23 - 4s - loss: 2.2316 - accuracy: 0.1989 - val_loss: 2.1424 - val_accuracy: 0.3022 - 4s/epoch - 153ms/step\n",
            "Epoch 2/5\n",
            "23/23 - 3s - loss: 2.0490 - accuracy: 0.4157 - val_loss: 1.9377 - val_accuracy: 0.5055 - 3s/epoch - 111ms/step\n",
            "Epoch 3/5\n",
            "23/23 - 3s - loss: 1.6588 - accuracy: 0.5801 - val_loss: 1.4038 - val_accuracy: 0.5934 - 3s/epoch - 110ms/step\n",
            "Epoch 4/5\n",
            "23/23 - 3s - loss: 0.9917 - accuracy: 0.7762 - val_loss: 0.8735 - val_accuracy: 0.7418 - 3s/epoch - 111ms/step\n",
            "Epoch 5/5\n",
            "23/23 - 3s - loss: 0.5201 - accuracy: 0.8923 - val_loss: 0.6199 - val_accuracy: 0.8132 - 3s/epoch - 110ms/step\n"
          ]
        },
        {
          "output_type": "execute_result",
          "data": {
            "text/plain": [
              "<keras.callbacks.History at 0x7f6b49a0f690>"
            ]
          },
          "metadata": {},
          "execution_count": 63
        }
      ]
    },
    {
      "cell_type": "code",
      "source": [
        "model.evaluate(x_test_pad,y_cnn_test)"
      ],
      "metadata": {
        "id": "Ai9H5s2DqgZn",
        "outputId": "c56ef447-7bd9-429d-c003-7dc9876e6f82",
        "colab": {
          "base_uri": "https://localhost:8080/"
        }
      },
      "execution_count": null,
      "outputs": [
        {
          "output_type": "stream",
          "name": "stdout",
          "text": [
            "6/6 [==============================] - 0s 29ms/step - loss: 0.6199 - accuracy: 0.8132\n"
          ]
        },
        {
          "output_type": "execute_result",
          "data": {
            "text/plain": [
              "[0.6199009418487549, 0.8131868243217468]"
            ]
          },
          "metadata": {},
          "execution_count": 64
        }
      ]
    },
    {
      "cell_type": "markdown",
      "source": [
        "# BBC"
      ],
      "metadata": {
        "id": "G5l2ChayoAg-"
      }
    },
    {
      "cell_type": "code",
      "source": [
        "import pandas as pd\n",
        "import numpy as np\n",
        "import re \n",
        "\n",
        "import nltk\n",
        "from nltk.corpus import stopwords\n",
        "nltk.download('stopwords')\n",
        "nltk.download('wordnet')\n",
        "\n",
        "from nltk.stem import WordNetLemmatizer\n",
        "from nltk.stem.porter import PorterStemmer"
      ],
      "metadata": {
        "id": "V5Bl2CDkqkN3",
        "colab": {
          "base_uri": "https://localhost:8080/"
        },
        "outputId": "585be1c4-b62f-4efa-9d52-f1a4640546df"
      },
      "execution_count": null,
      "outputs": [
        {
          "output_type": "stream",
          "name": "stdout",
          "text": [
            "[nltk_data] Downloading package stopwords to /root/nltk_data...\n",
            "[nltk_data]   Unzipping corpora/stopwords.zip.\n",
            "[nltk_data] Downloading package wordnet to /root/nltk_data...\n",
            "[nltk_data]   Unzipping corpora/wordnet.zip.\n"
          ]
        }
      ]
    },
    {
      "cell_type": "code",
      "source": [
        "!unzip \"/content/bbc-text.csv.zip\" -d \"/content/\""
      ],
      "metadata": {
        "colab": {
          "base_uri": "https://localhost:8080/"
        },
        "id": "Pe0srmFuoEbi",
        "outputId": "7e54739b-1f68-4618-bd94-9e1560037d23"
      },
      "execution_count": null,
      "outputs": [
        {
          "output_type": "stream",
          "name": "stdout",
          "text": [
            "Archive:  /content/bbc-text.csv.zip\n",
            "  inflating: /content/bbc-text.csv   \n"
          ]
        }
      ]
    },
    {
      "cell_type": "code",
      "source": [
        "data = pd.read_csv(\"/content/bbc-text.csv\")\n",
        "data.head()"
      ],
      "metadata": {
        "colab": {
          "base_uri": "https://localhost:8080/",
          "height": 206
        },
        "id": "4Rm3ic5toaQw",
        "outputId": "0b9c33cb-c64d-4e15-8dc9-0014e5948b71"
      },
      "execution_count": null,
      "outputs": [
        {
          "output_type": "execute_result",
          "data": {
            "text/plain": [
              "        category                                               text\n",
              "0           tech  tv future in the hands of viewers with home th...\n",
              "1       business  worldcom boss  left books alone  former worldc...\n",
              "2          sport  tigers wary of farrell  gamble  leicester say ...\n",
              "3          sport  yeading face newcastle in fa cup premiership s...\n",
              "4  entertainment  ocean s twelve raids box office ocean s twelve..."
            ],
            "text/html": [
              "\n",
              "  <div id=\"df-97274554-255b-4f58-a16c-aa80728316b3\">\n",
              "    <div class=\"colab-df-container\">\n",
              "      <div>\n",
              "<style scoped>\n",
              "    .dataframe tbody tr th:only-of-type {\n",
              "        vertical-align: middle;\n",
              "    }\n",
              "\n",
              "    .dataframe tbody tr th {\n",
              "        vertical-align: top;\n",
              "    }\n",
              "\n",
              "    .dataframe thead th {\n",
              "        text-align: right;\n",
              "    }\n",
              "</style>\n",
              "<table border=\"1\" class=\"dataframe\">\n",
              "  <thead>\n",
              "    <tr style=\"text-align: right;\">\n",
              "      <th></th>\n",
              "      <th>category</th>\n",
              "      <th>text</th>\n",
              "    </tr>\n",
              "  </thead>\n",
              "  <tbody>\n",
              "    <tr>\n",
              "      <th>0</th>\n",
              "      <td>tech</td>\n",
              "      <td>tv future in the hands of viewers with home th...</td>\n",
              "    </tr>\n",
              "    <tr>\n",
              "      <th>1</th>\n",
              "      <td>business</td>\n",
              "      <td>worldcom boss  left books alone  former worldc...</td>\n",
              "    </tr>\n",
              "    <tr>\n",
              "      <th>2</th>\n",
              "      <td>sport</td>\n",
              "      <td>tigers wary of farrell  gamble  leicester say ...</td>\n",
              "    </tr>\n",
              "    <tr>\n",
              "      <th>3</th>\n",
              "      <td>sport</td>\n",
              "      <td>yeading face newcastle in fa cup premiership s...</td>\n",
              "    </tr>\n",
              "    <tr>\n",
              "      <th>4</th>\n",
              "      <td>entertainment</td>\n",
              "      <td>ocean s twelve raids box office ocean s twelve...</td>\n",
              "    </tr>\n",
              "  </tbody>\n",
              "</table>\n",
              "</div>\n",
              "      <button class=\"colab-df-convert\" onclick=\"convertToInteractive('df-97274554-255b-4f58-a16c-aa80728316b3')\"\n",
              "              title=\"Convert this dataframe to an interactive table.\"\n",
              "              style=\"display:none;\">\n",
              "        \n",
              "  <svg xmlns=\"http://www.w3.org/2000/svg\" height=\"24px\"viewBox=\"0 0 24 24\"\n",
              "       width=\"24px\">\n",
              "    <path d=\"M0 0h24v24H0V0z\" fill=\"none\"/>\n",
              "    <path d=\"M18.56 5.44l.94 2.06.94-2.06 2.06-.94-2.06-.94-.94-2.06-.94 2.06-2.06.94zm-11 1L8.5 8.5l.94-2.06 2.06-.94-2.06-.94L8.5 2.5l-.94 2.06-2.06.94zm10 10l.94 2.06.94-2.06 2.06-.94-2.06-.94-.94-2.06-.94 2.06-2.06.94z\"/><path d=\"M17.41 7.96l-1.37-1.37c-.4-.4-.92-.59-1.43-.59-.52 0-1.04.2-1.43.59L10.3 9.45l-7.72 7.72c-.78.78-.78 2.05 0 2.83L4 21.41c.39.39.9.59 1.41.59.51 0 1.02-.2 1.41-.59l7.78-7.78 2.81-2.81c.8-.78.8-2.07 0-2.86zM5.41 20L4 18.59l7.72-7.72 1.47 1.35L5.41 20z\"/>\n",
              "  </svg>\n",
              "      </button>\n",
              "      \n",
              "  <style>\n",
              "    .colab-df-container {\n",
              "      display:flex;\n",
              "      flex-wrap:wrap;\n",
              "      gap: 12px;\n",
              "    }\n",
              "\n",
              "    .colab-df-convert {\n",
              "      background-color: #E8F0FE;\n",
              "      border: none;\n",
              "      border-radius: 50%;\n",
              "      cursor: pointer;\n",
              "      display: none;\n",
              "      fill: #1967D2;\n",
              "      height: 32px;\n",
              "      padding: 0 0 0 0;\n",
              "      width: 32px;\n",
              "    }\n",
              "\n",
              "    .colab-df-convert:hover {\n",
              "      background-color: #E2EBFA;\n",
              "      box-shadow: 0px 1px 2px rgba(60, 64, 67, 0.3), 0px 1px 3px 1px rgba(60, 64, 67, 0.15);\n",
              "      fill: #174EA6;\n",
              "    }\n",
              "\n",
              "    [theme=dark] .colab-df-convert {\n",
              "      background-color: #3B4455;\n",
              "      fill: #D2E3FC;\n",
              "    }\n",
              "\n",
              "    [theme=dark] .colab-df-convert:hover {\n",
              "      background-color: #434B5C;\n",
              "      box-shadow: 0px 1px 3px 1px rgba(0, 0, 0, 0.15);\n",
              "      filter: drop-shadow(0px 1px 2px rgba(0, 0, 0, 0.3));\n",
              "      fill: #FFFFFF;\n",
              "    }\n",
              "  </style>\n",
              "\n",
              "      <script>\n",
              "        const buttonEl =\n",
              "          document.querySelector('#df-97274554-255b-4f58-a16c-aa80728316b3 button.colab-df-convert');\n",
              "        buttonEl.style.display =\n",
              "          google.colab.kernel.accessAllowed ? 'block' : 'none';\n",
              "\n",
              "        async function convertToInteractive(key) {\n",
              "          const element = document.querySelector('#df-97274554-255b-4f58-a16c-aa80728316b3');\n",
              "          const dataTable =\n",
              "            await google.colab.kernel.invokeFunction('convertToInteractive',\n",
              "                                                     [key], {});\n",
              "          if (!dataTable) return;\n",
              "\n",
              "          const docLinkHtml = 'Like what you see? Visit the ' +\n",
              "            '<a target=\"_blank\" href=https://colab.research.google.com/notebooks/data_table.ipynb>data table notebook</a>'\n",
              "            + ' to learn more about interactive tables.';\n",
              "          element.innerHTML = '';\n",
              "          dataTable['output_type'] = 'display_data';\n",
              "          await google.colab.output.renderOutput(dataTable, element);\n",
              "          const docLink = document.createElement('div');\n",
              "          docLink.innerHTML = docLinkHtml;\n",
              "          element.appendChild(docLink);\n",
              "        }\n",
              "      </script>\n",
              "    </div>\n",
              "  </div>\n",
              "  "
            ]
          },
          "metadata": {},
          "execution_count": 3
        }
      ]
    },
    {
      "cell_type": "code",
      "source": [
        "def preprocess(text):\n",
        "  text=re.sub(r'<.*?>',\" \",text)#html\n",
        "  text=re.sub(r'https\\S+',\" \",text)\n",
        "  text=re.sub(r'Link',\" \",text)\n",
        "  text=re.sub(r'[^A-Za-z]',\" \",text) \n",
        "  return text\n",
        "\n",
        "\n",
        "def nlp_preprocess(text):\n",
        "  text=text.lower()\n",
        "  text=text.split()\n",
        "  lemma=WordNetLemmatizer()\n",
        "  text=[lemma.lemmatize(word) for word in text if word not in set(stopwords.words('english'))]\n",
        "  text=' '.join(text)\n",
        "  \n",
        "  return text\n",
        "\n",
        "  \n",
        "data.text = data.text.apply(preprocess)\n",
        "data.text = data.text.apply(nlp_preprocess)"
      ],
      "metadata": {
        "id": "PDuuyhsCol3N"
      },
      "execution_count": null,
      "outputs": []
    },
    {
      "cell_type": "code",
      "source": [
        "X = data.text\n",
        "y = data.category\n",
        "from sklearn.preprocessing import LabelEncoder\n",
        "encorder=LabelEncoder()\n",
        "y=encorder.fit_transform(y)\n",
        "y"
      ],
      "metadata": {
        "colab": {
          "base_uri": "https://localhost:8080/"
        },
        "id": "3VgG2Sk2pC6C",
        "outputId": "0d8adcea-fd41-4735-db59-4361de68f643"
      },
      "execution_count": null,
      "outputs": [
        {
          "output_type": "execute_result",
          "data": {
            "text/plain": [
              "array([4, 0, 3, ..., 1, 2, 3])"
            ]
          },
          "metadata": {},
          "execution_count": 6
        }
      ]
    },
    {
      "cell_type": "markdown",
      "source": [
        "# **`Converting string to numbers`**"
      ],
      "metadata": {
        "id": "gV4pKqy_pKCL"
      }
    },
    {
      "cell_type": "code",
      "source": [
        "from sklearn.feature_extraction.text import CountVectorizer\n",
        "from sklearn.feature_extraction.text import TfidfVectorizer\n",
        "from sklearn import metrics"
      ],
      "metadata": {
        "id": "SjikdFv7pKCR"
      },
      "execution_count": null,
      "outputs": []
    },
    {
      "cell_type": "code",
      "source": [
        "from sklearn.model_selection import train_test_split\n",
        "x_train,x_test,y_train,y_test=train_test_split(X,y,train_size=0.8,random_state=0)"
      ],
      "metadata": {
        "id": "lHatUGfppyMf"
      },
      "execution_count": null,
      "outputs": []
    },
    {
      "cell_type": "code",
      "source": [
        "bog=CountVectorizer()"
      ],
      "metadata": {
        "id": "cijEunYjpKCX"
      },
      "execution_count": null,
      "outputs": []
    },
    {
      "cell_type": "code",
      "source": [
        "x_bog=bog.fit_transform(x_train).toarray()"
      ],
      "metadata": {
        "id": "HY40CshTpKCa"
      },
      "execution_count": null,
      "outputs": []
    },
    {
      "cell_type": "code",
      "source": [
        "x_bog.shape"
      ],
      "metadata": {
        "colab": {
          "base_uri": "https://localhost:8080/"
        },
        "outputId": "415b16cf-2136-4d0c-fcc0-09d30f0ab7f5",
        "id": "UhuVlTpvpKCe"
      },
      "execution_count": null,
      "outputs": [
        {
          "output_type": "execute_result",
          "data": {
            "text/plain": [
              "(1780, 22686)"
            ]
          },
          "metadata": {},
          "execution_count": 12
        }
      ]
    },
    {
      "cell_type": "code",
      "source": [
        "x_bog_test=bog.transform(x_test).toarray()"
      ],
      "metadata": {
        "id": "sAiglclXpKCm"
      },
      "execution_count": null,
      "outputs": []
    },
    {
      "cell_type": "code",
      "source": [
        "x_bog_test.shape"
      ],
      "metadata": {
        "colab": {
          "base_uri": "https://localhost:8080/"
        },
        "outputId": "badfca38-57e2-4890-d449-207e2f1f5764",
        "id": "bVShWf_spKCp"
      },
      "execution_count": null,
      "outputs": [
        {
          "output_type": "execute_result",
          "data": {
            "text/plain": [
              "(445, 22686)"
            ]
          },
          "metadata": {},
          "execution_count": 14
        }
      ]
    },
    {
      "cell_type": "code",
      "source": [
        ""
      ],
      "metadata": {
        "id": "jU5To7IQpXkR"
      },
      "execution_count": null,
      "outputs": []
    },
    {
      "cell_type": "markdown",
      "source": [
        "# **`TFidf`**"
      ],
      "metadata": {
        "id": "dlW0OOuApX3a"
      }
    },
    {
      "cell_type": "code",
      "source": [
        "tfidf=TfidfVectorizer(max_features=1000)\n",
        "x_tfidf=tfidf.fit_transform(x_train).toarray()"
      ],
      "metadata": {
        "id": "fQ17jswPpX3d"
      },
      "execution_count": null,
      "outputs": []
    },
    {
      "cell_type": "code",
      "source": [
        "x_tfidf"
      ],
      "metadata": {
        "colab": {
          "base_uri": "https://localhost:8080/"
        },
        "outputId": "79c8217c-0bb0-4f84-a6cc-3a146132c774",
        "id": "4tM_tW49pX3g"
      },
      "execution_count": null,
      "outputs": [
        {
          "output_type": "execute_result",
          "data": {
            "text/plain": [
              "array([[0.        , 0.        , 0.        , ..., 0.        , 0.        ,\n",
              "        0.        ],\n",
              "       [0.        , 0.        , 0.        , ..., 0.        , 0.        ,\n",
              "        0.        ],\n",
              "       [0.        , 0.        , 0.        , ..., 0.        , 0.        ,\n",
              "        0.        ],\n",
              "       ...,\n",
              "       [0.        , 0.        , 0.        , ..., 0.        , 0.        ,\n",
              "        0.        ],\n",
              "       [0.        , 0.        , 0.        , ..., 0.        , 0.        ,\n",
              "        0.        ],\n",
              "       [0.034394  , 0.02594329, 0.        , ..., 0.        , 0.        ,\n",
              "        0.        ]])"
            ]
          },
          "metadata": {},
          "execution_count": 16
        }
      ]
    },
    {
      "cell_type": "code",
      "source": [
        "x_tfidf_test=tfidf.transform(x_test).toarray()"
      ],
      "metadata": {
        "id": "CSKcE93CpX3i"
      },
      "execution_count": null,
      "outputs": []
    },
    {
      "cell_type": "code",
      "source": [
        ""
      ],
      "metadata": {
        "id": "x6bYr_Vcpcby"
      },
      "execution_count": null,
      "outputs": []
    },
    {
      "cell_type": "markdown",
      "source": [
        "# **`Model`**"
      ],
      "metadata": {
        "id": "2vt8U13lpcpN"
      }
    },
    {
      "cell_type": "code",
      "source": [
        "from sklearn.linear_model import LogisticRegression"
      ],
      "metadata": {
        "id": "-iTBr7wmpcpT"
      },
      "execution_count": null,
      "outputs": []
    },
    {
      "cell_type": "code",
      "source": [
        "regressor=LogisticRegression()"
      ],
      "metadata": {
        "id": "ehVa0Lt1pcpX"
      },
      "execution_count": null,
      "outputs": []
    },
    {
      "cell_type": "code",
      "source": [
        "regressor.fit(x_bog,y_train)"
      ],
      "metadata": {
        "colab": {
          "base_uri": "https://localhost:8080/"
        },
        "outputId": "8cb6b4d8-f6b7-43f7-8ee5-9a782b109ffe",
        "id": "0-9sLCtIpcpa"
      },
      "execution_count": null,
      "outputs": [
        {
          "output_type": "execute_result",
          "data": {
            "text/plain": [
              "LogisticRegression()"
            ]
          },
          "metadata": {},
          "execution_count": 20
        }
      ]
    },
    {
      "cell_type": "code",
      "source": [
        "y_pred=regressor.predict(x_bog_test)"
      ],
      "metadata": {
        "id": "7gOXB_rdpcpe"
      },
      "execution_count": null,
      "outputs": []
    },
    {
      "cell_type": "code",
      "source": [
        "regressor.score(x_bog_test,y_test)"
      ],
      "metadata": {
        "colab": {
          "base_uri": "https://localhost:8080/"
        },
        "outputId": "8a613f43-135d-46e0-d9de-d3d4813899de",
        "id": "oauV35Qapcpl"
      },
      "execution_count": null,
      "outputs": [
        {
          "output_type": "execute_result",
          "data": {
            "text/plain": [
              "0.9842696629213483"
            ]
          },
          "metadata": {},
          "execution_count": 22
        }
      ]
    },
    {
      "cell_type": "code",
      "source": [
        "score=metrics.accuracy_score(y_test,y_pred)\n",
        "score"
      ],
      "metadata": {
        "colab": {
          "base_uri": "https://localhost:8080/"
        },
        "outputId": "a62d8667-1041-4d10-8035-cb372c7cd55f",
        "id": "-EU8S-Ompcpn"
      },
      "execution_count": null,
      "outputs": [
        {
          "output_type": "execute_result",
          "data": {
            "text/plain": [
              "0.9842696629213483"
            ]
          },
          "metadata": {},
          "execution_count": 23
        }
      ]
    },
    {
      "cell_type": "code",
      "source": [
        "#tfidf"
      ],
      "metadata": {
        "id": "kLqMzXQhpcpq"
      },
      "execution_count": null,
      "outputs": []
    },
    {
      "cell_type": "code",
      "source": [
        "reg=LogisticRegression()\n",
        "reg.fit(x_tfidf,y_train)"
      ],
      "metadata": {
        "colab": {
          "base_uri": "https://localhost:8080/"
        },
        "outputId": "fdd2a9d5-6d74-4ca6-cfde-0cd5f828550d",
        "id": "BqTuVFOppcps"
      },
      "execution_count": null,
      "outputs": [
        {
          "output_type": "execute_result",
          "data": {
            "text/plain": [
              "LogisticRegression()"
            ]
          },
          "metadata": {},
          "execution_count": 25
        }
      ]
    },
    {
      "cell_type": "code",
      "source": [
        "y_pred=reg.predict(x_tfidf_test)"
      ],
      "metadata": {
        "id": "YrRS1tElpcpv"
      },
      "execution_count": null,
      "outputs": []
    },
    {
      "cell_type": "code",
      "source": [
        "reg.score(x_tfidf_test,y_test)"
      ],
      "metadata": {
        "colab": {
          "base_uri": "https://localhost:8080/"
        },
        "outputId": "6220b735-1de3-442b-f038-2a037e51c35f",
        "id": "6WVLXWtmpcpx"
      },
      "execution_count": null,
      "outputs": [
        {
          "output_type": "execute_result",
          "data": {
            "text/plain": [
              "0.9842696629213483"
            ]
          },
          "metadata": {},
          "execution_count": 27
        }
      ]
    },
    {
      "cell_type": "markdown",
      "source": [
        "svm"
      ],
      "metadata": {
        "id": "b1awD80Kpcpz"
      }
    },
    {
      "cell_type": "code",
      "source": [
        "from sklearn.svm import SVC "
      ],
      "metadata": {
        "id": "6c9ok-XIpcp1"
      },
      "execution_count": null,
      "outputs": []
    },
    {
      "cell_type": "code",
      "source": [
        "Svm=SVC()\n",
        "Svm.fit(x_tfidf,y_train)"
      ],
      "metadata": {
        "colab": {
          "base_uri": "https://localhost:8080/"
        },
        "outputId": "40bceb15-9703-40f1-8f22-064608399443",
        "id": "825nQTqDpcp3"
      },
      "execution_count": null,
      "outputs": [
        {
          "output_type": "execute_result",
          "data": {
            "text/plain": [
              "SVC()"
            ]
          },
          "metadata": {},
          "execution_count": 29
        }
      ]
    },
    {
      "cell_type": "code",
      "source": [
        "Svm.score(x_tfidf_test,y_test)"
      ],
      "metadata": {
        "colab": {
          "base_uri": "https://localhost:8080/"
        },
        "outputId": "5a685c57-b541-4940-89b1-4ea67f207323",
        "id": "_S86FETupcp5"
      },
      "execution_count": null,
      "outputs": [
        {
          "output_type": "execute_result",
          "data": {
            "text/plain": [
              "0.9842696629213483"
            ]
          },
          "metadata": {},
          "execution_count": 30
        }
      ]
    },
    {
      "cell_type": "code",
      "source": [
        "s=SVC()\n",
        "s.fit(x_bog,y_train)"
      ],
      "metadata": {
        "colab": {
          "base_uri": "https://localhost:8080/"
        },
        "outputId": "e3e8c74d-404e-4303-8359-d3b43a1cdf8d",
        "id": "DlzXwpmOpcp7"
      },
      "execution_count": null,
      "outputs": [
        {
          "output_type": "execute_result",
          "data": {
            "text/plain": [
              "SVC()"
            ]
          },
          "metadata": {},
          "execution_count": 31
        }
      ]
    },
    {
      "cell_type": "code",
      "source": [
        "s.score(x_bog_test,y_test)"
      ],
      "metadata": {
        "colab": {
          "base_uri": "https://localhost:8080/"
        },
        "outputId": "bbdf4767-0e90-418e-c205-983ceb7ca8f9",
        "id": "FByJFE7lpcp9"
      },
      "execution_count": null,
      "outputs": [
        {
          "output_type": "execute_result",
          "data": {
            "text/plain": [
              "0.9752808988764045"
            ]
          },
          "metadata": {},
          "execution_count": 32
        }
      ]
    },
    {
      "cell_type": "code",
      "source": [
        ""
      ],
      "metadata": {
        "id": "RtFXo7jGpg1j"
      },
      "execution_count": null,
      "outputs": []
    },
    {
      "cell_type": "markdown",
      "source": [
        "# **`Embedding`**"
      ],
      "metadata": {
        "id": "A1WRuA__phEw"
      }
    },
    {
      "cell_type": "code",
      "source": [
        "from sklearn.preprocessing import OneHotEncoder\n",
        "onehot_encoder=OneHotEncoder()\n",
        "y1=onehot_encoder.fit_transform(data.category.values.reshape(-1,1)).toarray()\n",
        "y1"
      ],
      "metadata": {
        "colab": {
          "base_uri": "https://localhost:8080/"
        },
        "outputId": "6abe14b4-3b8f-4d5c-eb33-e2ce6c91948f",
        "id": "morYaFscphE0"
      },
      "execution_count": null,
      "outputs": [
        {
          "output_type": "execute_result",
          "data": {
            "text/plain": [
              "array([[0., 0., 0., 0., 1.],\n",
              "       [1., 0., 0., 0., 0.],\n",
              "       [0., 0., 0., 1., 0.],\n",
              "       ...,\n",
              "       [0., 1., 0., 0., 0.],\n",
              "       [0., 0., 1., 0., 0.],\n",
              "       [0., 0., 0., 1., 0.]])"
            ]
          },
          "metadata": {},
          "execution_count": 33
        }
      ]
    },
    {
      "cell_type": "code",
      "source": [
        "x_cnn_train,x_cnn_test,y_cnn_train,y_cnn_test=train_test_split(X,y1,test_size=0.2,random_state=2)"
      ],
      "metadata": {
        "id": "v8_-0ysPphE8"
      },
      "execution_count": null,
      "outputs": []
    },
    {
      "cell_type": "code",
      "source": [
        "from keras.preprocessing.text import Tokenizer"
      ],
      "metadata": {
        "id": "f5CP9OzHphE-"
      },
      "execution_count": null,
      "outputs": []
    },
    {
      "cell_type": "code",
      "source": [
        "tokenizer=Tokenizer(num_words=5000)\n",
        "tokenizer.fit_on_texts(x_cnn_train)"
      ],
      "metadata": {
        "id": "OTHghbEtphFC"
      },
      "execution_count": null,
      "outputs": []
    },
    {
      "cell_type": "code",
      "source": [
        "len(tokenizer.word_index)+1"
      ],
      "metadata": {
        "colab": {
          "base_uri": "https://localhost:8080/"
        },
        "outputId": "baf22e01-a7e0-4787-e663-778b4a5bc6b8",
        "id": "aSLSBwB5phFE"
      },
      "execution_count": null,
      "outputs": [
        {
          "output_type": "execute_result",
          "data": {
            "text/plain": [
              "22688"
            ]
          },
          "metadata": {},
          "execution_count": 38
        }
      ]
    },
    {
      "cell_type": "code",
      "source": [
        "x_train_emb=tokenizer.texts_to_sequences(x_cnn_train)\n",
        "x_test_emb=tokenizer.texts_to_sequences(x_cnn_test)"
      ],
      "metadata": {
        "id": "7h6M1YpPphFH"
      },
      "execution_count": null,
      "outputs": []
    },
    {
      "cell_type": "code",
      "source": [
        "print(x_train[12])\n",
        "print(x_train_emb[12])"
      ],
      "metadata": {
        "colab": {
          "base_uri": "https://localhost:8080/"
        },
        "outputId": "5e686433-8aa4-4eb2-a69f-b8aeb350a746",
        "id": "2ugXzMJ2phFM"
      },
      "execution_count": null,
      "outputs": [
        {
          "output_type": "stream",
          "name": "stdout",
          "text": [
            "crude oil price back cold weather across part united state much europe pushed u crude oil price barrel first time almost three month freezing temperature heavy snowfall increased demand heating fuel u stock low fresh fall value dollar helped carry price mark first time since november barrel u crude oil closed new york tuesday opec member said tuesday saw reason cut output although last year peak barrel reached october price well average brent crude also rose london trading adding close much western europe north east america shivering unseasonably low temperature recent day decline u dollar five week low euro also served inflate price dollar moved sharply overnight oil following said chris furness senior market strategist cast dollar continues weaken oil obviously higher several opec member said cut production unlikely citing rising price strong demand oil asia agree need cut supply price much fathi bin shatwan libya oil minister told reuters think need cut unless price falling barrel added opec closely watch global stock ensure excessive supply market arrival spring northern hemisphere focus attention stockpile u crude gasoline higher time last year heavy stockpile could help force price lower demand eas\n",
            "[38, 756, 56, 2634, 75, 94, 661, 403, 75, 2465, 38, 1182, 719, 715, 50, 172, 48, 440, 3593, 39, 166, 756, 3932, 1133, 746, 4580, 1965, 596, 3, 75, 1374, 349, 454, 4875, 929, 1184, 39, 391, 38, 48, 120, 834, 1248, 578, 39, 502, 2634, 201, 45, 1206, 874, 2552, 48, 203, 38, 366, 200, 94, 542, 387, 2635, 991, 1, 38, 56, 551, 3, 75, 1035, 2049, 2465, 10, 86, 6, 329, 18, 521, 34, 56, 647, 32, 4114, 180, 1134, 746, 665, 416, 529, 214, 2634, 172, 48, 848, 99, 50, 63, 39, 3933, 203, 2466, 3, 1248, 1, 117, 4, 33, 362, 558, 38, 203, 4, 48, 14, 539, 3, 1248, 1, 38, 4882, 4, 103, 318, 354, 94, 203, 1, 3, 1248, 4, 276, 276, 239, 309, 276, 159, 112, 6, 1019, 797, 844, 546, 197, 540, 1, 3, 1248, 2467, 529, 296, 1053, 849, 271, 1540, 48, 1207, 797, 83, 2246, 235, 117, 2006, 2186, 1, 3, 113, 2134, 38, 2466, 484, 672, 3, 1248, 252, 236, 10, 440, 308, 38, 415, 1133, 98, 665, 108, 756, 3932, 1320, 203, 718, 1, 484, 48, 39, 166, 756, 3932, 239, 639, 555, 207, 1357, 3460, 203, 339, 169, 32, 3, 1248, 1, 38, 211, 547, 10, 4, 773, 309, 639, 1492, 270, 309, 207, 905, 235, 248, 1079, 201, 45, 3, 1248, 1, 4, 5, 1274, 547, 46, 180, 180, 271, 45, 3596, 129, 1338, 498, 211, 120, 2881, 826, 5, 2342, 38, 211, 1207, 1866, 3, 1248, 1, 147, 408, 401, 265, 324, 814, 4, 4115, 236, 48, 504, 531, 120, 177, 123, 867, 38, 4116, 98, 665, 108, 476, 276, 2465, 101, 471, 403, 75, 1300, 4117, 38, 3763, 984, 1, 2187, 513, 720, 622, 504, 531, 203, 60, 412, 32]\n"
          ]
        }
      ]
    },
    {
      "cell_type": "code",
      "source": [
        "from keras.preprocessing.sequence import pad_sequences"
      ],
      "metadata": {
        "id": "lTjcBhFmphFS"
      },
      "execution_count": null,
      "outputs": []
    },
    {
      "cell_type": "code",
      "source": [
        "maxlen=600\n",
        "x_train_pad=pad_sequences(x_train_emb,padding='post',maxlen=maxlen)\n",
        "x_test_pad=pad_sequences(x_test_emb,padding='post',maxlen=maxlen)"
      ],
      "metadata": {
        "id": "stifBVuMphFU"
      },
      "execution_count": null,
      "outputs": []
    },
    {
      "cell_type": "code",
      "source": [
        "import tensorflow as tf\n",
        "import keras "
      ],
      "metadata": {
        "id": "dQ5TneYSphFX"
      },
      "execution_count": null,
      "outputs": []
    },
    {
      "cell_type": "code",
      "source": [
        "from keras.models import Sequential"
      ],
      "metadata": {
        "id": "9ZzThgV-phFY"
      },
      "execution_count": null,
      "outputs": []
    },
    {
      "cell_type": "code",
      "source": [
        "vocab_size=len(tokenizer.word_index)+1\n",
        "input_dim=100\n",
        "lens=maxlen\n",
        "\n",
        "model=Sequential()\n",
        "model.add(tf.keras.layers.Embedding(vocab_size,input_dim,input_length=lens))\n",
        "model.add(tf.keras.layers.Conv1D(128,3,activation='relu'))\n",
        "model.add(tf.keras.layers.GlobalMaxPooling1D())\n",
        "model.add(tf.keras.layers.Flatten())\n",
        "model.add(tf.keras.layers.Dense(128,activation='relu'))\n",
        "model.add(tf.keras.layers.Dense(5,activation='softmax'))"
      ],
      "metadata": {
        "id": "ppvkmLHPphFa"
      },
      "execution_count": null,
      "outputs": []
    },
    {
      "cell_type": "code",
      "source": [
        "model.summary()"
      ],
      "metadata": {
        "colab": {
          "base_uri": "https://localhost:8080/"
        },
        "outputId": "ec239b48-1ccc-4d82-d84f-6f796452dfd3",
        "id": "lQkwfwv3phFc"
      },
      "execution_count": null,
      "outputs": [
        {
          "output_type": "stream",
          "name": "stdout",
          "text": [
            "Model: \"sequential_1\"\n",
            "_________________________________________________________________\n",
            " Layer (type)                Output Shape              Param #   \n",
            "=================================================================\n",
            " embedding_1 (Embedding)     (None, 600, 100)          2268800   \n",
            "                                                                 \n",
            " conv1d_1 (Conv1D)           (None, 598, 128)          38528     \n",
            "                                                                 \n",
            " global_max_pooling1d_1 (Glo  (None, 128)              0         \n",
            " balMaxPooling1D)                                                \n",
            "                                                                 \n",
            " flatten_1 (Flatten)         (None, 128)               0         \n",
            "                                                                 \n",
            " dense_2 (Dense)             (None, 128)               16512     \n",
            "                                                                 \n",
            " dense_3 (Dense)             (None, 5)                 645       \n",
            "                                                                 \n",
            "=================================================================\n",
            "Total params: 2,324,485\n",
            "Trainable params: 2,324,485\n",
            "Non-trainable params: 0\n",
            "_________________________________________________________________\n"
          ]
        }
      ]
    },
    {
      "cell_type": "code",
      "source": [
        "model.compile(optimizer='adam',loss='categorical_crossentropy',metrics=['accuracy'])"
      ],
      "metadata": {
        "id": "J1RwFkwQphFf"
      },
      "execution_count": null,
      "outputs": []
    },
    {
      "cell_type": "code",
      "source": [
        "model.fit(x_train_pad,y_cnn_train,epochs=5,verbose=2,validation_data=(x_test_pad,y_cnn_test))"
      ],
      "metadata": {
        "colab": {
          "base_uri": "https://localhost:8080/"
        },
        "outputId": "3f5a2549-136f-4d2b-a477-6c9ae16739e1",
        "id": "q5gTKK-sphFj"
      },
      "execution_count": null,
      "outputs": [
        {
          "output_type": "stream",
          "name": "stdout",
          "text": [
            "Epoch 1/5\n",
            "56/56 - 8s - loss: 1.4817 - accuracy: 0.4567 - val_loss: 1.1302 - val_accuracy: 0.7708 - 8s/epoch - 146ms/step\n",
            "Epoch 2/5\n",
            "56/56 - 11s - loss: 0.4590 - accuracy: 0.9298 - val_loss: 0.1824 - val_accuracy: 0.9506 - 11s/epoch - 191ms/step\n",
            "Epoch 3/5\n",
            "56/56 - 10s - loss: 0.0695 - accuracy: 0.9854 - val_loss: 0.1285 - val_accuracy: 0.9573 - 10s/epoch - 174ms/step\n",
            "Epoch 4/5\n",
            "56/56 - 8s - loss: 0.0162 - accuracy: 0.9989 - val_loss: 0.1080 - val_accuracy: 0.9618 - 8s/epoch - 144ms/step\n",
            "Epoch 5/5\n",
            "56/56 - 7s - loss: 0.0063 - accuracy: 1.0000 - val_loss: 0.1060 - val_accuracy: 0.9640 - 7s/epoch - 129ms/step\n"
          ]
        },
        {
          "output_type": "execute_result",
          "data": {
            "text/plain": [
              "<keras.callbacks.History at 0x7febb3144cd0>"
            ]
          },
          "metadata": {},
          "execution_count": 52
        }
      ]
    },
    {
      "cell_type": "code",
      "source": [
        "model.evaluate(x_test_pad,y_cnn_test)"
      ],
      "metadata": {
        "outputId": "00ceb125-c6e9-4fd5-bb8d-33a0d728ed37",
        "colab": {
          "base_uri": "https://localhost:8080/"
        },
        "id": "-ZT_NWiXphFl"
      },
      "execution_count": null,
      "outputs": [
        {
          "output_type": "stream",
          "name": "stdout",
          "text": [
            "14/14 [==============================] - 0s 30ms/step - loss: 0.1060 - accuracy: 0.9640\n"
          ]
        },
        {
          "output_type": "execute_result",
          "data": {
            "text/plain": [
              "[0.10603150725364685, 0.9640449285507202]"
            ]
          },
          "metadata": {},
          "execution_count": 53
        }
      ]
    }
  ]
}